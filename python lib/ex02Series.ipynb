{
 "cells": [
  {
   "cell_type": "markdown",
   "id": "eeb162a5-95dd-411c-924c-4d400d24a4cc",
   "metadata": {},
   "source": [
    "### pandas\n",
    "- 데이터 분석에 많이 사용되는 라이브러리\n",
    "- Series, DataFrame 두 자료구조를 제공\n",
    "\n",
    "\n",
    "### Series\n",
    "- 1차원 형태의 배열\n",
    "- 인덱스(index) + 값(value)"
   ]
  },
  {
   "cell_type": "code",
   "execution_count": 1,
   "id": "c85acd2d-c930-46dc-a65b-f61fa8159daa",
   "metadata": {},
   "outputs": [],
   "source": [
    "# 판다스 라이브러리 불러오기.\n",
    "import pandas as pd"
   ]
  },
  {
   "cell_type": "code",
   "execution_count": 2,
   "id": "24dceb59-7523-42eb-bb59-3c1acb130eb8",
   "metadata": {},
   "outputs": [
    {
     "name": "stdout",
     "output_type": "stream",
     "text": [
      "0    1\n",
      "1    2\n",
      "2    3\n",
      "3    4\n",
      "dtype: int64\n"
     ]
    }
   ],
   "source": [
    "# Series 생성\n",
    "print(pd.Series([1, 2, 3, 4]))"
   ]
  },
  {
   "cell_type": "code",
   "execution_count": 3,
   "id": "64a235b6-41f6-4364-92e3-17b6f80551d2",
   "metadata": {},
   "outputs": [
    {
     "name": "stdout",
     "output_type": "stream",
     "text": [
      "0    9904312\n",
      "1    3448737\n",
      "2    2890451\n",
      "3    2466052\n",
      "dtype: int64\n"
     ]
    }
   ],
   "source": [
    "print(pd.Series([9904312, 3448737, 2890451, 2466052]))\n",
    "# 도시 별 인구 수 데이터"
   ]
  },
  {
   "cell_type": "code",
   "execution_count": 4,
   "id": "f2663755-cfda-462c-85a8-b53d5f8a9f9c",
   "metadata": {},
   "outputs": [],
   "source": [
    "# 어떤 도시인지 인덱스로 표기\n",
    "population = pd.Series([9904312, 3448737, 2890451, 2466052], index = ['서울', '부산', '인천', '대구'])"
   ]
  },
  {
   "cell_type": "markdown",
   "id": "3c1b2dde-fabd-4f04-a3e7-e559dfd1afd5",
   "metadata": {},
   "source": [
    "### Series 안에 있는 자료들 확인\n",
    "1. 값(value)\n",
    "2. 인덱스(index)\n",
    "3. 데이터 타입(dtype) : 시리즈도 안에 동일한 자료형만을 넣을 수 있음"
   ]
  },
  {
   "cell_type": "code",
   "execution_count": 5,
   "id": "82f73dcc-bfb0-4c33-8989-d9fa28726c93",
   "metadata": {},
   "outputs": [
    {
     "name": "stdout",
     "output_type": "stream",
     "text": [
      "[9904312 3448737 2890451 2466052]\n",
      "Index(['서울', '부산', '인천', '대구'], dtype='object')\n",
      "int64\n"
     ]
    }
   ],
   "source": [
    "print(population.values)\n",
    "print(population.index)\n",
    "# pandas서 제공하는 index 위한 자료구조(배열이랑 유사)\n",
    "print(population.dtype)"
   ]
  },
  {
   "cell_type": "markdown",
   "id": "a7003857-d734-4fa8-9b59-0e2457f5579c",
   "metadata": {},
   "source": [
    "### Series 이름 지정\n",
    "- 시리즈 자체 이름\n",
    "- 시리즈의 인덱스 이름"
   ]
  },
  {
   "cell_type": "code",
   "execution_count": 6,
   "id": "8c4a3f36-8205-46ee-8fb0-20089c157bef",
   "metadata": {},
   "outputs": [
    {
     "name": "stdout",
     "output_type": "stream",
     "text": [
      "서울    9904312\n",
      "부산    3448737\n",
      "인천    2890451\n",
      "대구    2466052\n",
      "Name: 도시별 인구, dtype: int64\n"
     ]
    }
   ],
   "source": [
    "# 1. 시리즈의 이름\n",
    "# 시리즈의 이름 속성(attribute)에 접근해서 값을 넣어줌\n",
    "population.name = '도시별 인구'\n",
    "print(population)"
   ]
  },
  {
   "cell_type": "code",
   "execution_count": 7,
   "id": "6087a98a-801c-498f-ae5d-a9ee98a9037e",
   "metadata": {},
   "outputs": [
    {
     "name": "stdout",
     "output_type": "stream",
     "text": [
      "도시\n",
      "서울    9904312\n",
      "부산    3448737\n",
      "인천    2890451\n",
      "대구    2466052\n",
      "Name: 도시별 인구, dtype: int64\n"
     ]
    }
   ],
   "source": [
    "# 2. 시리즈의 인덱스 이름 설정\n",
    "# 시리즈 인덱스 속성 접근 → 이름 속성 접근해서 값을 넣어줌\n",
    "population.index.name = '도시'\n",
    "print(population)"
   ]
  },
  {
   "cell_type": "markdown",
   "id": "c0732be2-8931-4bda-bd61-23ae025efb75",
   "metadata": {},
   "source": [
    "### 시리즈 연산"
   ]
  },
  {
   "cell_type": "code",
   "execution_count": 8,
   "id": "c81a8e9c-33a5-4bcd-ac53-30f5b7baefe3",
   "metadata": {},
   "outputs": [
    {
     "name": "stdout",
     "output_type": "stream",
     "text": [
      "0    1\n",
      "1    2\n",
      "2    3\n",
      "3    4\n",
      "dtype: int64\n",
      "0    3\n",
      "1    4\n",
      "2    5\n",
      "3    6\n",
      "dtype: int64\n"
     ]
    }
   ],
   "source": [
    "# 배열이랑 똑같음.\n",
    "# 배열 - 배열 연산 : 같은 위치에 있는 요소들끼리 연산한 결과를 배열로 묶어서 전달\n",
    "# 연산에 사용할 시리즈 2개 생성\n",
    "# s1 시리즈 : [1, 2, 3, 4]\n",
    "s1 = pd.Series([1, 2, 3, 4])\n",
    "\n",
    "# s2 시리즈 : [3, 4, 5, 6]\n",
    "s2 = pd.Series([3, 4, 5, 6])\n",
    "print(s1)\n",
    "print(s2)"
   ]
  },
  {
   "cell_type": "code",
   "execution_count": 9,
   "id": "b114e03a-61e2-4cfb-89f5-bc58df0dba4b",
   "metadata": {},
   "outputs": [
    {
     "name": "stdout",
     "output_type": "stream",
     "text": [
      "0    2\n",
      "1    2\n",
      "2    2\n",
      "3    2\n",
      "dtype: int64\n"
     ]
    }
   ],
   "source": [
    "# s1과 s2연산\n",
    "print(s2 - s1)\n",
    "# 시리즈도 같은 위치에 있는 요소들끼리 연산한 결과를 시리즈로 묶어서 전달"
   ]
  },
  {
   "cell_type": "code",
   "execution_count": 10,
   "id": "60d53498-241c-4687-9f48-2c1227a0516d",
   "metadata": {},
   "outputs": [
    {
     "name": "stdout",
     "output_type": "stream",
     "text": [
      "0     6\n",
      "1     8\n",
      "2    10\n",
      "3    12\n",
      "dtype: int64\n"
     ]
    }
   ],
   "source": [
    "# 스칼라 값(숫자 하나)과 연산\n",
    "print(s2 * 2)\n",
    "# 각 요소 별로 연산한 결과를 시리즈로 묶어서 전달"
   ]
  },
  {
   "cell_type": "markdown",
   "id": "b920a0f5-e0bb-41e1-9887-70e4756d64b7",
   "metadata": {},
   "source": [
    "### 시리즈의 인덱싱과 슬라이싱\n",
    "- 인덱스 번호 존재 → 인덱싱과 슬라이싱 가능\n",
    "- boolean index도 가능"
   ]
  },
  {
   "cell_type": "code",
   "execution_count": 11,
   "id": "1e129f05-d315-46ac-aa3c-3afe4f78b0fa",
   "metadata": {},
   "outputs": [
    {
     "name": "stdout",
     "output_type": "stream",
     "text": [
      "9904312\n",
      "9904312\n"
     ]
    },
    {
     "name": "stderr",
     "output_type": "stream",
     "text": [
      "C:\\Users\\notye\\AppData\\Local\\Temp\\ipykernel_34224\\1229394050.py:2: FutureWarning: Series.__getitem__ treating keys as positions is deprecated. In a future version, integer keys will always be treated as labels (consistent with DataFrame behavior). To access a value by position, use `ser.iloc[pos]`\n",
      "  print(population[0])\n"
     ]
    }
   ],
   "source": [
    "# 서울의 인구 가져오기\n",
    "print(population[0])\n",
    "print(population['서울'])"
   ]
  },
  {
   "cell_type": "code",
   "execution_count": 12,
   "id": "22244496-a866-41c5-8774-2bc904fa4b8a",
   "metadata": {},
   "outputs": [
    {
     "name": "stdout",
     "output_type": "stream",
     "text": [
      "도시\n",
      "서울    9904312\n",
      "인천    2890451\n",
      "대구    2466052\n",
      "Name: 도시별 인구, dtype: int64\n"
     ]
    }
   ],
   "source": [
    "# 한번에 여러 값 인덱싱하기\n",
    "# 인덱싱하고 싶은 값들의 인덱스를 리스트로 묶어서 전달\n",
    "print(population[['서울', '인천', '대구']])"
   ]
  },
  {
   "cell_type": "code",
   "execution_count": 13,
   "id": "f68fb4e0-8c8b-40f8-96f2-32c06846690c",
   "metadata": {},
   "outputs": [
    {
     "name": "stdout",
     "output_type": "stream",
     "text": [
      "도시\n",
      "서울    9904312\n",
      "부산    3448737\n",
      "인천    2890451\n",
      "Name: 도시별 인구, dtype: int64\n",
      "도시\n",
      "서울    9904312\n",
      "부산    3448737\n",
      "인천    2890451\n",
      "Name: 도시별 인구, dtype: int64\n"
     ]
    }
   ],
   "source": [
    "# 슬라이싱에도 인덱스번호, 사용자가 지정한 인덱스 둘 다 사용 가능\n",
    "# 시리즈이름[시작:끝+1]\n",
    "# 시리즈이름[시작:끝]\n",
    "\n",
    "# 서울~인천\n",
    "print(population[0:3])\n",
    "print(population['서울':'인천'])"
   ]
  },
  {
   "cell_type": "code",
   "execution_count": 19,
   "id": "2ff8368f-aeaf-4186-9d61-d7b5bcc9f6e3",
   "metadata": {},
   "outputs": [
    {
     "name": "stdout",
     "output_type": "stream",
     "text": [
      "도시\n",
      "서울     True\n",
      "부산     True\n",
      "인천    False\n",
      "대구    False\n",
      "Name: 도시별 인구, dtype: bool\n",
      "도시\n",
      "서울    9904312\n",
      "부산    3448737\n",
      "Name: 도시별 인구, dtype: int64\n"
     ]
    }
   ],
   "source": [
    "# 불리언 인덱싱 : 원하는 데이터를 필터링하는 방법\n",
    "# population 중에서 인구가 300만 이상인 도시만 확인.\n",
    "\n",
    "# 시리즈 + 비교연산자(부등호) : 각 요소별로 비교를 해서 결과(True/False)를 시리즈로 묶어서 반환\n",
    "print(population >= 3000000)\n",
    "# 이 조건을 활용해서 불리언 인덱싱 가능\n",
    "print(population[population >= 3000000])"
   ]
  },
  {
   "cell_type": "code",
   "execution_count": 27,
   "id": "be0d59cf-57bc-46f3-86fd-9d3b854378fd",
   "metadata": {},
   "outputs": [
    {
     "name": "stdout",
     "output_type": "stream",
     "text": [
      "도시\n",
      "서울    9904312\n",
      "부산    3448737\n",
      "인천    2890451\n",
      "Name: 도시별 인구, dtype: int64\n",
      "도시\n",
      "인천    2890451\n",
      "Name: 도시별 인구, dtype: int64\n"
     ]
    }
   ],
   "source": [
    "# 1. 도시 인구가 250만 초과인 도시 필터링\n",
    "print(population[population > 2500000])\n",
    "\n",
    "# 2. 도시 인구가 300만 미만이고 250만 이상인 도시 필터링\n",
    "# 논리 연산자 (and, or, not) : 두 조건을 동시에 만족하는 걸 찾아야 되기 때문에 and로 연결.\n",
    "# population < 3000000 and population >= 2500000\n",
    "\n",
    "# 논리 연산자(and, or) 한 개의 조건(Boolean) 값을 연결하는 것 밖에 못함\n",
    "# 조건 - 조건, boolean - boolean\n",
    "# 시리즈 - 시리즈 연결은 and 연산자가 할 수 없는 일\n",
    "# & (비트연산자를 오버로딩)\n",
    "#population < 3000000 & population >= 2500000\n",
    "\n",
    "# 2번째 발생한 에러\n",
    "# 연산자의 우선 순위\n",
    "# 사용자가 직접 연산자의 우선순위를 알려줘야함. -> 소괄호로 묶기.\n",
    "print(population[(population < 3000000) & (population >= 2500000)])"
   ]
  },
  {
   "cell_type": "code",
   "execution_count": 28,
   "id": "a3e67887-af73-49e7-bc2b-c0c32f26cb88",
   "metadata": {},
   "outputs": [],
   "source": [
    "# 딕셔너리\n",
    "# {key : value, } 쌍을 이루는 자료형\n",
    "dict1 = {'서울':9631482,\n",
    "        '부산':3393191,\n",
    "        '인천':2632035,\n",
    "        '대전':1490158}"
   ]
  },
  {
   "cell_type": "code",
   "execution_count": 30,
   "id": "a64d99f3-5a7e-4490-b413-16d1701bb453",
   "metadata": {},
   "outputs": [
    {
     "name": "stdout",
     "output_type": "stream",
     "text": [
      "서울    9631482\n",
      "부산    3393191\n",
      "인천    2632035\n",
      "대전    1490158\n",
      "dtype: int64\n"
     ]
    }
   ],
   "source": [
    "print(pd.Series(dict1))\n",
    "# 딕셔너리를 기반으로 시리즈를 생성하면\n",
    "# 딕셔너리의 key값이 index로, value 값이 value로 설정"
   ]
  },
  {
   "cell_type": "code",
   "execution_count": 33,
   "id": "600e55b3-fdd4-44f0-a849-266ae63ce217",
   "metadata": {},
   "outputs": [
    {
     "name": "stdout",
     "output_type": "stream",
     "text": [
      "음식\n",
      "치킨      840\n",
      "닭갈비     585\n",
      "삼겹살     661\n",
      "공기밥     310\n",
      "닭가슴살    120\n",
      "아보카도    320\n",
      "우유      122\n",
      "Name: 음식 별 칼로리, dtype: int64\n"
     ]
    }
   ],
   "source": [
    "food_name = ['치킨', '닭갈비', '삼겹살', '공기밥', '닭가슴살', '아보카도', '우유']\n",
    "food_kcal = [840, 585, 661, 310, 120, 320, 122]\n",
    "\n",
    "# food_data라는 시리즈 생성\n",
    "# index는 food_name\n",
    "# value는 food_kcal\n",
    "\n",
    "# 시리즈 자체의 이름 : 음식 별 칼로리\n",
    "# 시리즈의 인덱스 이름 : 음식\n",
    "food_data = pd.Series(food_kcal, index = food_name)\n",
    "food_data.name = \"음식 별 칼로리\"\n",
    "food_data.index.name = \"음식\"\n",
    "print(food_data)"
   ]
  },
  {
   "cell_type": "code",
   "execution_count": 35,
   "id": "c582bc24-2fee-45e8-a551-dfd71039f790",
   "metadata": {},
   "outputs": [
    {
     "name": "stdout",
     "output_type": "stream",
     "text": [
      "661\n",
      "음식\n",
      "삼겹살    661\n",
      "공기밥    310\n",
      "치킨     840\n",
      "Name: 음식 별 칼로리, dtype: int64\n",
      "음식\n",
      "공기밥     310\n",
      "닭가슴살    120\n",
      "아보카도    320\n",
      "우유      122\n",
      "Name: 음식 별 칼로리, dtype: int64\n",
      "음식\n",
      "닭갈비     585\n",
      "삼겹살     661\n",
      "공기밥     310\n",
      "닭가슴살    120\n",
      "아보카도    320\n",
      "Name: 음식 별 칼로리, dtype: int64\n",
      "음식\n",
      "아보카도    320\n",
      "닭가슴살    120\n",
      "공기밥     310\n",
      "삼겹살     661\n",
      "닭갈비     585\n",
      "치킨      840\n",
      "Name: 음식 별 칼로리, dtype: int64\n",
      "음식\n",
      "치킨     840\n",
      "닭갈비    585\n",
      "삼겹살    661\n",
      "Name: 음식 별 칼로리, dtype: int64\n",
      "음식\n",
      "닭가슴살    120\n",
      "우유      122\n",
      "Name: 음식 별 칼로리, dtype: int64\n",
      "음식\n",
      "공기밥     310\n",
      "아보카도    320\n",
      "Name: 음식 별 칼로리, dtype: int64\n"
     ]
    }
   ],
   "source": [
    "# 1. 삼겹살 칼로리\n",
    "print(food_data['삼겹살'])\n",
    "\n",
    "# 2. 삼겹살, 공기밥, 치킨 칼로리\n",
    "print(food_data[['삼겹살', '공기밥', '치킨']])\n",
    "\n",
    "# 3. 공기밥~우유\n",
    "print(food_data['공기밥':'우유'])\n",
    "\n",
    "# 4. 닭갈비~ 아보카도\n",
    "print(food_data['닭갈비':'아보카도'])\n",
    "\n",
    "# 5. 아보카도~치킨(역방향 -> 증감량 조절)\n",
    "print(food_data['아보카도':'치킨':-1])\n",
    "\n",
    "# 6. 칼로리가 500 초과인 음식\n",
    "print(food_data[food_data > 500])\n",
    "\n",
    "# 7. 칼로리가 150 미만인 음식\n",
    "print(food_data[food_data < 150])\n",
    "\n",
    "# 8. 칼로리가 150 이상 500 이하인 음식\n",
    "print(food_data[(food_data <= 500) & (food_data >= 150)])"
   ]
  },
  {
   "cell_type": "code",
   "execution_count": 36,
   "id": "d50e8c67-4412-4eb5-8167-e5cdb070525d",
   "metadata": {},
   "outputs": [
    {
     "name": "stdout",
     "output_type": "stream",
     "text": [
      "음식\n",
      "치킨         840\n",
      "닭갈비        585\n",
      "삼겹살        661\n",
      "공기밥        310\n",
      "닭가슴살       120\n",
      "아보카도       320\n",
      "우유         122\n",
      "계란말이    500칼로리\n",
      "Name: 음식 별 칼로리, dtype: object\n"
     ]
    }
   ],
   "source": [
    "# 새로운 데이터 추가\n",
    "# 시리즈이름['새로운 인덱스'] = 값\n",
    "food_data['계란말이'] = '500칼로리'\n",
    "print(food_data)\n",
    "# 시리즈에는 동일한 자료형들만 조재할 수 있기 때문에\n",
    "# object로 형 변환을 해서 모든 데이터를 포함할 수 있도록 함"
   ]
  },
  {
   "cell_type": "code",
   "execution_count": 38,
   "id": "6ca40916-1f5c-4607-93c2-164a9843b2e1",
   "metadata": {},
   "outputs": [
    {
     "name": "stdout",
     "output_type": "stream",
     "text": [
      "음식\n",
      "치킨         840\n",
      "닭갈비        590\n",
      "삼겹살        661\n",
      "공기밥        310\n",
      "닭가슴살       120\n",
      "아보카도       320\n",
      "우유         122\n",
      "계란말이    500칼로리\n",
      "Name: 음식 별 칼로리, dtype: object\n"
     ]
    }
   ],
   "source": [
    "# 값 수정\n",
    "# 닭갈비에 소금을 너무 많이 넣었음 그랬더니 칼로리가 올랐어.\n",
    "# 시리즈이름[인덱스] = 새로운 값\n",
    "food_data['닭갈비'] = 590\n",
    "print(food_data)"
   ]
  },
  {
   "cell_type": "code",
   "execution_count": 39,
   "id": "4f29e221-817d-4607-9329-f645a0d41bd7",
   "metadata": {},
   "outputs": [
    {
     "name": "stdout",
     "output_type": "stream",
     "text": [
      "음식\n",
      "치킨      840\n",
      "닭갈비     590\n",
      "삼겹살     661\n",
      "공기밥     310\n",
      "닭가슴살    120\n",
      "아보카도    320\n",
      "우유      122\n",
      "Name: 음식 별 칼로리, dtype: object\n"
     ]
    }
   ],
   "source": [
    "# 계란말이 삭제\n",
    "# 1. del 키워드 사용\n",
    "# del 인덱싱으로 삭제 요소 접근\n",
    "del food_data['계란말이']\n",
    "print(food_data)\n",
    "\n",
    "# 삭제하는 작업은 한 번만. 하기\n",
    "# 계란말이를 삭제하면 이제 계란말이는 food_data에 존재하지 않음\n",
    "# 존재하지 않는데 계란말이 삭제?"
   ]
  },
  {
   "cell_type": "code",
   "execution_count": 40,
   "id": "2742351e-8ddf-4ca6-8ed4-c903f7de6027",
   "metadata": {},
   "outputs": [
    {
     "data": {
      "text/plain": [
       "음식\n",
       "치킨      840\n",
       "닭갈비     590\n",
       "삼겹살     661\n",
       "공기밥     310\n",
       "닭가슴살    120\n",
       "아보카도    320\n",
       "Name: 음식 별 칼로리, dtype: object"
      ]
     },
     "execution_count": 40,
     "metadata": {},
     "output_type": "execute_result"
    }
   ],
   "source": [
    "# 우유 삭제\n",
    "# drop 함수\n",
    "# (삭제할데이터가있는)시리즈이름.drop(인덱스)\n",
    "print(food_data.drop('우유'))\n",
    "# 원본 데이터 변경 안 함\n",
    "# 삭제하면 시리즈가 이렇게 나와. 보여만줌\n",
    "# 원본 데이터에 반영하려면\n",
    "# 1. inplace 속성 True로 주기.\n",
    "# print(food_data.drop('우유', inplace = True))\n",
    "# 2. 변경된 데이터로 덮어 씌워주기\n",
    "# food_data = food_data.drop('우유')"
   ]
  },
  {
   "cell_type": "code",
   "execution_count": 41,
   "id": "37cca560-a2ba-4845-a4a2-711875942c3e",
   "metadata": {},
   "outputs": [
    {
     "name": "stdout",
     "output_type": "stream",
     "text": [
      "음식\n",
      "치킨       540\n",
      "닭갈비      290\n",
      "삼겹살      361\n",
      "공기밥       10\n",
      "닭가슴살    -180\n",
      "아보카도      20\n",
      "우유      -178\n",
      "Name: 음식 별 칼로리, dtype: object\n"
     ]
    }
   ],
   "source": [
    "# 모든 음식의 칼로리가 -300감소\n",
    "print(food_data - 300)"
   ]
  },
  {
   "attachments": {
    "94b01cde-894d-43db-8893-8d039c9d3e2a.png": {
     "image/png": "[encoded data removed]"
    }
   },
   "cell_type": "markdown",
   "id": "587b6c26-d9c6-4ab6-b200-6d953d75439b",
   "metadata": {},
   "source": [
    "![image.png](attachment:94b01cde-894d-43db-8893-8d039c9d3e2a.png)"
   ]
  },
  {
   "cell_type": "code",
   "execution_count": 51,
   "id": "af410315-df5f-4402-b90f-31e9639e18e3",
   "metadata": {},
   "outputs": [
    {
     "name": "stdout",
     "output_type": "stream",
     "text": [
      "상품명\n",
      "콜라        1500\n",
      "삼각깁밥      2500\n",
      "컵라면       2000\n",
      "바나나 우유    1300\n",
      "샌드위치      3000\n",
      "도시락       4500\n",
      "치킨        5000\n",
      "초코바       1200\n",
      "껌         1000\n",
      "햄버거       3200\n",
      "Name: 상품별 가격, dtype: int64 \n",
      "\n",
      "상품명\n",
      "콜라        1350.0\n",
      "삼각깁밥      2250.0\n",
      "컵라면       1800.0\n",
      "바나나 우유    1170.0\n",
      "샌드위치      2700.0\n",
      "도시락       4050.0\n",
      "치킨        4500.0\n",
      "초코바       1080.0\n",
      "껌          900.0\n",
      "햄버거       2880.0\n",
      "Name: 상품별 가격, dtype: float64 \n",
      "\n",
      "5400.0 \n",
      "\n",
      "1080.0 \n",
      "\n",
      "상품명\n",
      "도시락    4050.0\n",
      "치킨     4500.0\n",
      "Name: 상품별 가격, dtype: float64 \n",
      "\n",
      "상품명\n",
      "콜라        1350.0\n",
      "삼각깁밥      2250.0\n",
      "컵라면       1800.0\n",
      "바나나 우유    1170.0\n",
      "샌드위치      2700.0\n",
      "도시락       4050.0\n",
      "치킨        4500.0\n",
      "초코바       1080.0\n",
      "껌          850.0\n",
      "햄버거       2880.0\n",
      "Name: 상품별 가격, dtype: float64 \n",
      "\n",
      "상품명\n",
      "콜라        1350.0\n",
      "삼각깁밥      2250.0\n",
      "컵라면       1800.0\n",
      "바나나 우유    1170.0\n",
      "도시락       4050.0\n",
      "초코바       1080.0\n",
      "껌          850.0\n",
      "햄버거       2880.0\n",
      "Name: 상품별 가격, dtype: float64\n"
     ]
    }
   ],
   "source": [
    "# 상품 이름(index)과 상품 가격(value)이 들어있는 시리즈 products\n",
    "# 시리즈 이름 : 상품별 가격\n",
    "# 시리즈의 인덱스 이름 : 상품명\n",
    "products = pd.Series([1500, 2500, 2000, 1300, 3000, 4500, 5000, 1200, 1000, 3200],\n",
    "                     index = ['콜라', '삼각깁밥', '컵라면', '바나나 우유', '샌드위치', '도시락', '치킨', '초코바', '껌', '햄버거'])\n",
    "products.name = \"상품별 가격\"\n",
    "products.index.name = \"상품명\"\n",
    "print(products, \"\\n\")\n",
    "\n",
    "# 전품목 10% 세일\n",
    "# sale_product에 세일가를 저장(시리즈 연산)\n",
    "sale_produc = products * 0.9\n",
    "print(sale_produc, \"\\n\")\n",
    "\n",
    "# ------세일가 기준-------\n",
    "# 1. 컵라면, 삼각깁밥, 콜라 모든 가격 더해서 출력\n",
    "print(sale_produc['컵라면'] + sale_produc['삼각깁밥'] + sale_produc['콜라'], \"\\n\")\n",
    "\n",
    "# 2. 초코바 가격 출력\n",
    "print(sale_produc['초코바'], \"\\n\")\n",
    "\n",
    "# 3. 세일가 3000원 이하인 상품들만 출력\n",
    "print(sale_produc[sale_produc >= 3000], \"\\n\")\n",
    "\n",
    "# 4. 껌은 10%가 아니라 15% 세일가로 수정\n",
    "sale_produc['껌'] = sale_produc['껌'] / 0.9 * 0.85\n",
    "print(sale_produc, \"\\n\")\n",
    "\n",
    "# 5. 치킨, 샌드위치는 할인에서 제외, sale_product에서 삭제\n",
    "del sale_produc['치킨']\n",
    "del sale_produc['샌드위치']\n",
    "print(sale_produc)"
   ]
  }
 ],
 "metadata": {
  "kernelspec": {
   "display_name": "Python 3 (ipykernel)",
   "language": "python",
   "name": "python3"
  },
  "language_info": {
   "codemirror_mode": {
    "name": "ipython",
    "version": 3
   },
   "file_extension": ".py",
   "mimetype": "text/x-python",
   "name": "python",
   "nbconvert_exporter": "python",
   "pygments_lexer": "ipython3",
   "version": "3.13.5"
  }
 },
 "nbformat": 4,
 "nbformat_minor": 5
}
