{
 "cells": [
  {
   "cell_type": "code",
   "execution_count": 2,
   "id": "f7fcbc6d-e2ad-40b7-8e02-ac2ed864d94d",
   "metadata": {},
   "outputs": [
    {
     "name": "stdout",
     "output_type": "stream",
     "text": [
      "3\n",
      "3\n",
      "6\n",
      "1.3333333333333333\n"
     ]
    }
   ],
   "source": [
    "import my_module"
   ]
  },
  {
   "cell_type": "code",
   "execution_count": 3,
   "id": "9ae1aa52-3e00-4e4c-bf5e-fde9c2d7abae",
   "metadata": {},
   "outputs": [
    {
     "name": "stdout",
     "output_type": "stream",
     "text": [
      "20\n"
     ]
    }
   ],
   "source": [
    "print(my_module.multi(4, 5))"
   ]
  },
  {
   "cell_type": "markdown",
   "id": "b5bbe8d0-0f52-4380-91ba-f73a1ec21269",
   "metadata": {},
   "source": [
    "### Numpy 라이브러리\n",
    "- 고성능, 대용량 산술연산을 위해서 사용하는 라이브러리\n",
    "- ndarray(array, 배열) : list와 비슷한 형태의 자료구조\n",
    "- 배열은 list보다 빠르고 메모리 효율이 좋음\n",
    "- 반복문 없이도 배열 전체에 연산 적용 가능"
   ]
  },
  {
   "cell_type": "code",
   "execution_count": 4,
   "id": "e6c610c6-611b-4f47-ae96-d3c741f664c0",
   "metadata": {},
   "outputs": [],
   "source": [
    "# 라이브러리 사용을 하기 위해서는\n",
    "# 라이브러리 불러오는 과정을 거쳐야함\n",
    "# import : 수입하다, (외부에 있는 것을) 불러오다\n",
    "import numpy as np\n",
    "# as : alias 별칭을 붙일 때 사용하는 키워드\n",
    "# numpy를 불러와서 쓸 건데 사용할 때 np라고 짧게 부를게."
   ]
  },
  {
   "cell_type": "code",
   "execution_count": 5,
   "id": "f7887633-5155-4b7f-88d1-3b403a0451fa",
   "metadata": {},
   "outputs": [],
   "source": [
    "# np.array()\n",
    "# array() : ndarray를 생성하는 함수\n",
    "# . : dot 연산자, 하위에 있는 것에 접근하려고 할 때 사용하는 연산자\n",
    "# numpy 아래에 있는 array 생성 함수를 호출함"
   ]
  },
  {
   "cell_type": "code",
   "execution_count": 6,
   "id": "340eaa91-5ea4-42fc-938e-f5786f35fb2f",
   "metadata": {},
   "outputs": [
    {
     "name": "stdout",
     "output_type": "stream",
     "text": [
      "[1, 2, 3, 4, 5]\n"
     ]
    }
   ],
   "source": [
    "# 배열 생성\n",
    "# 리스트를 기반으로 배열 생성\n",
    "# list1\n",
    "# 1, 2, 3, 4, 5\n",
    "list1 = [1, 2, 3, 4, 5]\n",
    "print(list1)"
   ]
  },
  {
   "cell_type": "code",
   "execution_count": 7,
   "id": "51d8e564-98be-4d90-b9bf-efb50ca0b8fc",
   "metadata": {},
   "outputs": [
    {
     "name": "stdout",
     "output_type": "stream",
     "text": [
      "[1 2 3 4 5]\n"
     ]
    }
   ],
   "source": [
    "arr1 = np.array(list1)\n",
    "print(arr1)"
   ]
  },
  {
   "cell_type": "code",
   "execution_count": 8,
   "id": "9852cf03-fe41-482d-8117-b46aed72d243",
   "metadata": {},
   "outputs": [
    {
     "name": "stdout",
     "output_type": "stream",
     "text": [
      "[[1, 2, 3], [4, 5, 6]]\n"
     ]
    }
   ],
   "source": [
    "# 다차원 배열 선언\n",
    "# 2차원 배열 생성\n",
    "list2 = [[1, 2, 3],\n",
    "        [4, 5, 6]]\n",
    "print(list2)\n",
    "\n",
    "arr2 = np.array(list2)"
   ]
  },
  {
   "cell_type": "code",
   "execution_count": 9,
   "id": "282fea36-d4ab-47bb-b22c-2241efd16de6",
   "metadata": {},
   "outputs": [
    {
     "name": "stdout",
     "output_type": "stream",
     "text": [
      "1\n",
      "2\n",
      "int64\n",
      "int64\n"
     ]
    }
   ],
   "source": [
    "# 배열의 정보 확인하기\n",
    "# 1. 배열의 모양 : shape\n",
    "arr1.shape # (5,)\n",
    "arr2.shape # (2, 3)\n",
    "# 배열의 모양을 튜플의 형태로 알려줌\n",
    "# .함수()\n",
    "# shape : 함수가 아니고 attribute\n",
    "\n",
    "# 2. 배열의 차원 확인(몇차원인지)\n",
    "print(arr1.ndim)\n",
    "print(arr2.ndim)\n",
    "\n",
    "# 3. 배열에 들어있는 자료들의 자료형\n",
    "print(arr1.dtype)\n",
    "print(arr1.dtype)"
   ]
  },
  {
   "cell_type": "code",
   "execution_count": 10,
   "id": "55ded8ea-c706-4cb7-95f7-da0f70cd2833",
   "metadata": {},
   "outputs": [
    {
     "name": "stdout",
     "output_type": "stream",
     "text": [
      "5\n",
      "6\n"
     ]
    }
   ],
   "source": [
    "# 4. 배열에 들어있는 모든 원소의 개수 : size\n",
    "print(arr1.size)\n",
    "print(arr2.size)"
   ]
  },
  {
   "cell_type": "code",
   "execution_count": 11,
   "id": "f7205247-87b0-48d4-8f72-b2996ad95703",
   "metadata": {},
   "outputs": [
    {
     "name": "stdout",
     "output_type": "stream",
     "text": [
      "(4,) 1 float64 4\n",
      "(2, 3) 2 <U1 6\n"
     ]
    }
   ],
   "source": [
    "# 1. arr3 생성 -> [1.2, 2.1, 5.9, 6.0]\n",
    "# 2. arr3의 모양, 차원, 자료형, 모든 요소 개수\n",
    "arr3 = np.array([1.2, 2.1, 5.9, 6.0])\n",
    "print(arr3.shape, arr3.ndim, arr3.dtype, arr3.size)\n",
    "\n",
    "# 3. arr4 생성 -> [['a', 'b', 'c'], ['d', 'e', 'f']]\n",
    "# 4. arr4의 모양, 차원, 자료형, 모든 요소 개수\n",
    "arr4 = np.array([['a', 'b', 'c'], ['d', 'e', 'f']])\n",
    "print(arr4.shape, arr4.ndim, arr4.dtype, arr4.size)\n",
    "# <U1 : (유니코드로 표현된) 글자 1개"
   ]
  },
  {
   "cell_type": "code",
   "execution_count": 12,
   "id": "68c2c80f-966b-4de5-bec1-8d35d13a0f57",
   "metadata": {},
   "outputs": [
    {
     "name": "stdout",
     "output_type": "stream",
     "text": [
      "[ 1  2  3  4  5  6  7  8  9 10 11 12 13 14 15 16 17 18 19 20 21 22 23 24\n",
      " 25 26 27 28 29 30 31 32 33 34 35 36 37 38 39 40 41 42 43 44 45 46 47 48\n",
      " 49 50]\n"
     ]
    }
   ],
   "source": [
    "# 반복문\n",
    "# [1, 2, 3, 4, ...., 50]\n",
    "# 1~50까지 들어있는 배열 생성\n",
    "\n",
    "# 1. 빈 리스트(list5) 생성\n",
    "list5 = []\n",
    "\n",
    "# 2. 반복문 빈 리스트 안에 1~50까지 넣어주세요\n",
    "i = 1\n",
    "while i <= 50:\n",
    "    list5.append(i)\n",
    "    i += 1\n",
    "\n",
    "# 3. 생성된 리스트로 배열(arr5) 생성\n",
    "arr5 = np.array(list5)\n",
    "print(arr5)"
   ]
  },
  {
   "cell_type": "code",
   "execution_count": 13,
   "id": "b6d3d3dc-b2e4-4945-80cb-a8a2729c0003",
   "metadata": {},
   "outputs": [
    {
     "name": "stdout",
     "output_type": "stream",
     "text": [
      "[ 1  2  3  4  5  6  7  8  9 10 11 12 13 14 15 16 17 18 19 20 21 22 23 24\n",
      " 25 26 27 28 29 30 31 32 33 34 35 36 37 38 39 40 41 42 43 44 45 46 47 48\n",
      " 49 50]\n"
     ]
    }
   ],
   "source": [
    "# arange : array range\n",
    "# 원하는 범위만큼의 배열을 생성해줌\n",
    "# arange(시작값, 끝값, 증감량) : 끝값은 포함되지 않음.\n",
    "print(np.arange(1, 51, 1))"
   ]
  },
  {
   "cell_type": "code",
   "execution_count": 14,
   "id": "8c23fa4b-2fb6-4147-bdc7-c3e935403bf3",
   "metadata": {},
   "outputs": [
    {
     "name": "stdout",
     "output_type": "stream",
     "text": [
      "float64\n"
     ]
    }
   ],
   "source": [
    "# 배열은 같은 자료형만 포함할 수 있음\n",
    "# 배열 생성 시 자료형을 지정 가능\n",
    "# int를 담고 있는 list로 배열 생성을 해도 float으로 생성하겠다라고 말할 수 있음\n",
    "arr6 = np.array([1, 2, 3], dtype = 'float')\n",
    "print(arr6.dtype)"
   ]
  },
  {
   "cell_type": "code",
   "execution_count": 15,
   "id": "61a7efeb-8fd1-49c1-aa47-359ec804714f",
   "metadata": {},
   "outputs": [
    {
     "name": "stdout",
     "output_type": "stream",
     "text": [
      "int32\n"
     ]
    }
   ],
   "source": [
    "# 타입 변환\n",
    "# float -> int\n",
    "arr6 = arr6.astype('int32') # 원본 데이터 변경 안 함.\n",
    "print(arr6.dtype)"
   ]
  },
  {
   "cell_type": "markdown",
   "id": "f0d9b653-817d-4418-84ff-5edef7520f02",
   "metadata": {},
   "source": [
    "### 배열 관련 연산"
   ]
  },
  {
   "cell_type": "code",
   "execution_count": 16,
   "id": "8ee3ac70-5308-4cc2-8dd3-e84f5fb01dee",
   "metadata": {},
   "outputs": [
    {
     "name": "stdout",
     "output_type": "stream",
     "text": [
      "[1, 2, 3, 4, 5, 6]\n"
     ]
    }
   ],
   "source": [
    "# 파이썬 list 연산\n",
    "list1 = [1, 2, 3]\n",
    "list2 = [4, 5, 6]\n",
    "\n",
    "print(list1 + list2)\n",
    "# 리스트 더하기 연산 -> 리스트를 이어 붙여줌"
   ]
  },
  {
   "cell_type": "code",
   "execution_count": 17,
   "id": "24717f09-6675-4d16-972c-8e86edab61d1",
   "metadata": {},
   "outputs": [
    {
     "name": "stdout",
     "output_type": "stream",
     "text": [
      "[1 2 3] [4 5 6]\n",
      "[5 7 9]\n",
      "[-3 -3 -3]\n",
      "[ 4 10 18]\n",
      "[0.25 0.4  0.5 ]\n"
     ]
    }
   ],
   "source": [
    "arr1 = np.array(list1)\n",
    "arr2 = np.array(list2)\n",
    "\n",
    "print(arr1, arr2)\n",
    "\n",
    "# 배열 더하기 연산\n",
    "print(arr1 + arr2)\n",
    "# 같은 위치에 있는 요소들끼리 연산\n",
    "# 그 연산 결과를 array 묶어서 전달\n",
    "print(arr1 - arr2)\n",
    "print(arr1 * arr2)\n",
    "print(arr1 / arr2)"
   ]
  },
  {
   "cell_type": "code",
   "execution_count": 18,
   "id": "6463ce20-9182-43b5-a45e-f91dc9527a2f",
   "metadata": {},
   "outputs": [
    {
     "name": "stdout",
     "output_type": "stream",
     "text": [
      "[ 8  9 10]\n"
     ]
    }
   ],
   "source": [
    "# 배열과 숫자 한 개(스칼라값) 연산\n",
    "print(arr1 + 7)\n",
    "# 각 요소 별로 연산을 해서 그 결과를 array 묶어서 전달"
   ]
  },
  {
   "cell_type": "code",
   "execution_count": 19,
   "id": "34359c62-d21d-4442-a019-f6906df49d09",
   "metadata": {},
   "outputs": [
    {
     "name": "stdout",
     "output_type": "stream",
     "text": [
      "False\n",
      "[False False False]\n"
     ]
    }
   ],
   "source": [
    "# 비교연산자 : 부등호\n",
    "print(list1 == list2)\n",
    "print(arr1 == arr2)\n",
    "# 각 요소 별로 비교를 해서 그 결과를 array 묶어서 전달"
   ]
  },
  {
   "cell_type": "markdown",
   "id": "dbfc7a42-9c2d-494d-892e-fc6be011ae15",
   "metadata": {},
   "source": [
    "### 배열의 인덱싱, 슬라이싱"
   ]
  },
  {
   "cell_type": "code",
   "execution_count": 20,
   "id": "dd6cdb6b-72de-4ade-9dc9-2787e8651fd9",
   "metadata": {},
   "outputs": [
    {
     "name": "stdout",
     "output_type": "stream",
     "text": [
      "[1 2 3 4]\n"
     ]
    }
   ],
   "source": [
    "arr6 = np.array([1, 2, 3, 4])\n",
    "print(arr6)"
   ]
  },
  {
   "cell_type": "code",
   "execution_count": 21,
   "id": "d59eff65-4126-42ab-9e16-e75d55fff072",
   "metadata": {},
   "outputs": [
    {
     "name": "stdout",
     "output_type": "stream",
     "text": [
      "2\n",
      "4\n",
      "2\n",
      "4\n"
     ]
    }
   ],
   "source": [
    "# 배열이름[번호]\n",
    "# 2\n",
    "print(arr6[1])\n",
    "\n",
    "# 4\n",
    "print(arr6[3])\n",
    "\n",
    "# 2 역순\n",
    "print(arr6[-3])\n",
    "\n",
    "# 4 역순\n",
    "print(arr6[-1])"
   ]
  },
  {
   "cell_type": "code",
   "execution_count": 22,
   "id": "5a6a5eb6-eb16-4ede-8242-94bcc8d4f2e0",
   "metadata": {},
   "outputs": [
    {
     "name": "stdout",
     "output_type": "stream",
     "text": [
      "[[1 2 3]\n",
      " [4 5 6]]\n"
     ]
    }
   ],
   "source": [
    "# 2차원 배열 인덱싱\n",
    "arr7 = np.array([[1, 2, 3], [4, 5, 6]])\n",
    "print(arr7)"
   ]
  },
  {
   "cell_type": "code",
   "execution_count": 23,
   "id": "1864d8af-460a-4377-a26f-5f601c3336f9",
   "metadata": {},
   "outputs": [
    {
     "name": "stdout",
     "output_type": "stream",
     "text": [
      "2\n",
      "2\n"
     ]
    }
   ],
   "source": [
    "# 이차원 배열 인덱싱\n",
    "# 차례로 차근차근\n",
    "# [1, 2, 3]에 접근\n",
    "print(arr7[0][1])\n",
    "\n",
    "print(arr7[0, 1])"
   ]
  },
  {
   "cell_type": "code",
   "execution_count": 24,
   "id": "837ef020-0aaf-4a7b-a4ed-52ef978b1ea6",
   "metadata": {},
   "outputs": [
    {
     "name": "stdout",
     "output_type": "stream",
     "text": [
      "[2 3]\n",
      "[1 2 3 4]\n"
     ]
    }
   ],
   "source": [
    "# 2, 3\n",
    "print(arr6[1:3])\n",
    "# 1, 2, 3\n",
    "print(arr6[:])"
   ]
  },
  {
   "cell_type": "code",
   "execution_count": 25,
   "id": "d73adcf8-e43c-400f-9c5f-7a7cafbbecfb",
   "metadata": {},
   "outputs": [
    {
     "name": "stdout",
     "output_type": "stream",
     "text": [
      "[ 1  2  3  4  5  6  7  8  9 10 11 12 13 14 15 16 17 18 19 20 21 22 23 24\n",
      " 25 26 27 28 29 30 31 32 33 34 35 36 37 38 39 40 41 42 43 44 45 46 47 48\n",
      " 49 50]\n",
      "26\n",
      "47\n",
      "[38 39 40 41 42 43 44 45 46 47 48 49]\n",
      "[45 46 47 48 49 50]\n",
      "[ 5  7  9 11 13 15 17 19 21 23 25 27 29 31 33 35 37 39 41 43 45]\n"
     ]
    }
   ],
   "source": [
    "print(arr5)\n",
    "# 1. 26\n",
    "print(arr5[25])\n",
    "\n",
    "# 2. 47\n",
    "print(arr5[46])\n",
    "\n",
    "# 3. 38~49\n",
    "print(arr5[37:49])\n",
    "\n",
    "# 4. 45~50\n",
    "print(arr5[44:])\n",
    "\n",
    "# 5. 5~46까지 2씩 증가하게 가져오기\n",
    "print(arr5[4:46:2])"
   ]
  },
  {
   "cell_type": "markdown",
   "id": "9ccb18d5-8b09-4833-a7f4-b9805d776720",
   "metadata": {},
   "source": [
    "### Boolean Indexing\n",
    "- 지금까지 인덱싱을 할 때는 인덱스(번호)를 사용해서 요소를 가져왔음\n",
    "- Boolean(True/False)를 활용해서 인덱싱을 해보자."
   ]
  },
  {
   "cell_type": "code",
   "execution_count": 26,
   "id": "49be177c-3b3b-4cf0-a348-94334256296e",
   "metadata": {},
   "outputs": [
    {
     "name": "stdout",
     "output_type": "stream",
     "text": [
      "[30 40 70 65 85]\n",
      "[70 65 85]\n"
     ]
    }
   ],
   "source": [
    "# 배열 안에서 조건에 맞는 데이터만 가져오는 방법\n",
    "# 외부에서 데이터를 불러와서 사용할 때 원하는 자료만 필터링할 수 있음\n",
    "ey_score = np.array([30, 40, 70, 65, 85])\n",
    "print(ey_score)\n",
    "\n",
    "# 60점 이하인 데이터는 안 가져오고 싶음\n",
    "# 60점 이상인 데이터만 필터링.\n",
    "\n",
    "# [] 안에 조건식 작성해서 각각 요소들이 해당 조건을 만족하는지 전달\n",
    "print(ey_score[ey_score >= 60])\n",
    "# 해당 조건식을 만족하는(True)인 요소만 필터링."
   ]
  },
  {
   "cell_type": "code",
   "execution_count": 27,
   "id": "37088757-1834-4195-919b-d76ed3a089e9",
   "metadata": {},
   "outputs": [
    {
     "name": "stdout",
     "output_type": "stream",
     "text": [
      "[  5   8  11  30  44 101]\n",
      "[ 8 30 44]\n"
     ]
    }
   ],
   "source": [
    "# 불리언 인덱싱 연습\n",
    "list3 = [5, 8, 11, 30, 44, 101]\n",
    "arr3 = np.array(list3)\n",
    "print(arr3)\n",
    "\n",
    "# 짝수 데이터만 필터링.\n",
    "# 짝수의 특징 : 2로 나눴을 때 나머지가 0\n",
    "print(arr3[arr3 % 2 == 0])"
   ]
  },
  {
   "cell_type": "code",
   "execution_count": 28,
   "id": "786614c5-9eda-4c6c-bb4e-d370dffd258a",
   "metadata": {},
   "outputs": [
    {
     "name": "stdout",
     "output_type": "stream",
     "text": [
      "[ 1  2  3  4  5  6  7  8  9 10 11 12 13 14 15 16 17 18 19 20 21 22 23 24\n",
      " 25 26 27 28 29 30 31 32 33 34 35 36 37 38 39 40 41 42 43 44 45 46 47 48\n",
      " 49 50]\n",
      "[ 3  6  9 12 15 18 21 24 27 30 33 36 39 42 45 48]\n",
      "[ 3  6  9 12 15 18 21 24 27 30 33 36 39 42 45 48]\n"
     ]
    }
   ],
   "source": [
    "# \n",
    "print(arr5)\n",
    "# 1~50 3의 배수 출력\n",
    "# 1. 슬라이싱(증감량 조절)\n",
    "print(arr5[2::3])\n",
    "\n",
    "# 2. 불리언 인덱싱\n",
    "print(arr5[arr5 % 3 == 0])"
   ]
  },
  {
   "cell_type": "markdown",
   "id": "c153c5c9-9c3b-49d3-8989-54a6ae81f58d",
   "metadata": {},
   "source": [
    "### 외부 파일 불러와서 연산 실습"
   ]
  },
  {
   "cell_type": "code",
   "execution_count": 29,
   "id": "f3162705-7cb8-4488-9ef4-ad1cdfd2c913",
   "metadata": {},
   "outputs": [
    {
     "name": "stdout",
     "output_type": "stream",
     "text": [
      "(2, 10) 2 float64 20\n"
     ]
    }
   ],
   "source": [
    "# BMI 계산 실습\n",
    "# 실습에 필요한 키, 몸무게가 들어있는 txt파일을 불러와서 배열로 저장\n",
    "\n",
    "data = np.loadtxt('./data/height_weight.txt', delimiter = ',') # ./ : 지금 우리가 작업하고 있는 위치\n",
    "\n",
    "# data라는 배열의 정보 확인\n",
    "# 모양, 차원, 데이터 타입, 모든 요소 개수\n",
    "print(data.shape, data.ndim, data.dtype, data.size)"
   ]
  },
  {
   "cell_type": "code",
   "execution_count": 30,
   "id": "74f19d05-1b2b-44a7-9b28-b4f113a2ba10",
   "metadata": {},
   "outputs": [],
   "source": [
    "# 인덱싱해서 행 별로 따로 저장\n",
    "height = data[0]\n",
    "weight = data[1]"
   ]
  },
  {
   "cell_type": "code",
   "execution_count": 31,
   "id": "ad3a9da8-749f-4852-8049-02dd06045005",
   "metadata": {},
   "outputs": [
    {
     "name": "stdout",
     "output_type": "stream",
     "text": [
      "[21.37153104 27.07018468 25.86122449 24.20652885 16.03543423 20.14486193\n",
      " 23.14392095 21.69720651 23.62028791 25.59220998]\n"
     ]
    }
   ],
   "source": [
    "# bmi 계산 공식 : 몸무게(kg) / (키(m) * 키(m))\n",
    "# cm / 100 -> m\n",
    "height_m = height / 100\n",
    "\n",
    "bmi = weight / (height_m * height_m)\n",
    "print(bmi)"
   ]
  },
  {
   "cell_type": "markdown",
   "id": "b5d1bdd8-9a78-4bb8-8586-2debad2dbbd9",
   "metadata": {},
   "source": [
    "### numpy 내장함수"
   ]
  },
  {
   "cell_type": "code",
   "execution_count": 32,
   "id": "fe2006ce-23d9-469c-b624-dc5b5bf2f0a1",
   "metadata": {},
   "outputs": [
    {
     "name": "stdout",
     "output_type": "stream",
     "text": [
      "50\n",
      "10.0\n",
      "[3.16227766        nan 5.47722558        nan 7.07106781]\n",
      "[4. 5. 6. 5. 8.]\n"
     ]
    },
    {
     "name": "stderr",
     "output_type": "stream",
     "text": [
      "C:\\Users\\notye\\AppData\\Local\\Temp\\ipykernel_3276\\3867921287.py:11: RuntimeWarning: invalid value encountered in sqrt\n",
      "  print(np.sqrt(arr9)) # 제곱근 -> 음수의 제곱근은 실존하지 않기 때문에 경고 발생\n"
     ]
    }
   ],
   "source": [
    "# 자주 사용하는 함수\n",
    "# sum\n",
    "# mean\n",
    "# sqrt\n",
    "# abs\n",
    "# ceil\n",
    "arr9 = np.array([10, -20, 30, -20, 50])\n",
    "# arr9의 모든 요소의 합\n",
    "print(np.sum(arr9))\n",
    "print(np.mean(arr9))\n",
    "print(np.sqrt(arr9)) # 제곱근 -> 음수의 제곱근은 실존하지 않기 때문에 경고 발생\n",
    "# nan : not a number(비어있음)\n",
    "arr9 = np.abs(arr9)\n",
    "arr10 = np.sqrt(arr9)\n",
    "print(np.ceil(arr10))"
   ]
  },
  {
   "cell_type": "code",
   "execution_count": 1,
   "id": "81170e79-a78a-4454-ac43-2921819d0d0c",
   "metadata": {},
   "outputs": [],
   "source": [
    "import numpy as np"
   ]
  },
  {
   "cell_type": "code",
   "execution_count": 2,
   "id": "0ee88d6a-683e-4457-aee0-9e6138bf5270",
   "metadata": {},
   "outputs": [],
   "source": [
    "# numpy 최종 실습 : 영화 평점 데이터 분석\n",
    "# 목적 : 사용자별로 평점을 짜게주는 후하게 주는지 분석\n",
    "# 전체 사용자의 평균 평점 < 사용자의 평점 : 후하게 주는 사람\n",
    "# 전체 사용자의 평균 평점 > 사용자의 평점 : 짜게 주는 사람\n",
    "\n",
    "# 실습 데이터 불러오기.\n",
    "# genfromtxt : loadtxt 함수와 비슷하지만 결측치 처리가 가능한 함수\n",
    "rating_data = np.genfromtxt('./data/ratings.txt', delimiter = ',', dtype = 'int')\n",
    "# 9.78300760e+08 -> 지수 표기법 : 긴 자료를 축양해서 표현하는 방법\n",
    "# 9.78300760 * 10^8 -> 소수점을 8칸 오른쪽으로 이동하겠다\n",
    "# 1.19300000e+03 = 1.193 * 10^3 = 1193\n",
    "# 1.19300000e-03 -> 소수점을 왼쪽으로 3칸 이동\n",
    "# 1.19300000e-03 = 1.193 * 10^-3 = 0.001193"
   ]
  },
  {
   "cell_type": "code",
   "execution_count": 3,
   "id": "393af293-370c-476d-8aec-be480cb23615",
   "metadata": {},
   "outputs": [
    {
     "name": "stdout",
     "output_type": "stream",
     "text": [
      "(1000209, 4) 2 int64 4000836\n"
     ]
    }
   ],
   "source": [
    "# 외부 데이터 불러오면 먼저 데이터 확인하는 습관 기르기.\n",
    "# 모양, 차원, 데이터 타입, 모든 요소 개수\n",
    "print(rating_data.shape, rating_data.ndim, rating_data.dtype, rating_data.size)"
   ]
  },
  {
   "cell_type": "code",
   "execution_count": 4,
   "id": "a2749854-e85f-4121-bca5-a12c29c30765",
   "metadata": {},
   "outputs": [
    {
     "name": "stdout",
     "output_type": "stream",
     "text": [
      "3.58\n"
     ]
    }
   ],
   "source": [
    "# 전체 사용자의 평균 평점\n",
    "data_avg = np.mean(rating_data[:, 2])\n",
    "print(round(data_avg, 2))"
   ]
  },
  {
   "cell_type": "code",
   "execution_count": 5,
   "id": "f28b0fa3-bb9a-435a-8feb-f0b91278719d",
   "metadata": {},
   "outputs": [
    {
     "name": "stdout",
     "output_type": "stream",
     "text": [
      "4.188679245283019\n"
     ]
    }
   ],
   "source": [
    "# 사용자 별 평균 평점\n",
    "# 전체 사용자 별 평균 평점을 구하기 전에, id가 1인 사람의 평균 평점을 구해보자.\n",
    "# 불리언 인덱싱을 활용해서 사용자 id 부분이 1인 데이터를 필터링\n",
    "\n",
    "# 1. 사용자 id 부분 가져오기\n",
    "# 2. id가 1과 일치하는지 확인\n",
    "# 3. rating_data 불리언 인덱싱 하기.\n",
    "id_one = rating_data[rating_data[:, 0] == 1]\n",
    "\n",
    "# 4. id가 1인 사람이 남긴 평점들의 평균 구하기\n",
    "id_mean = id_one[:, 2].mean()\n",
    "print(id_mean)"
   ]
  },
  {
   "cell_type": "code",
   "execution_count": 6,
   "id": "6129b153-6f9f-4bd2-906e-be466e6b66a7",
   "metadata": {},
   "outputs": [
    {
     "name": "stdout",
     "output_type": "stream",
     "text": [
      "3947번 사용자는 평점을 후하게 줍니다\n"
     ]
    }
   ],
   "source": [
    "# 3947번 id 사용자 평균 평점\n",
    "\n",
    "# 그 사람의 평균 평점이 전체 평균보다 낮으면\n",
    "# _번 사용자는 평점을 짜게 줍니다\n",
    "# 그 사람의 평균 평점이 평균보다 높으면\n",
    "# _번 사용자는 평점을 후하게 줍니다\n",
    "\n",
    "if data_avg > rating_data[rating_data[:, 0] == 3947][:, 2].mean():\n",
    "    print(\"3947번 사용자는 평점을 짜게 줍니다\")\n",
    "else:\n",
    "    print(\"3947번 사용자는 평점을 후하게 줍니다\")"
   ]
  },
  {
   "cell_type": "code",
   "execution_count": 14,
   "id": "be820c2a-c650-4572-8f2f-dcc6abb00683",
   "metadata": {},
   "outputs": [
    {
     "name": "stdout",
     "output_type": "stream",
     "text": [
      "==================== CPU 최적화 ====================\n",
      "빠른 실행, 높은 메모리 사용\n",
      "\n",
      "전체 영화 평점보다 사용자 평균 평점이 높은 데이터 필터링\n",
      " [[1.000e+00 4.190e+00]\n",
      " [2.000e+00 3.710e+00]\n",
      " [3.000e+00 3.900e+00]\n",
      " ...\n",
      " [6.037e+03 3.720e+00]\n",
      " [6.038e+03 3.800e+00]\n",
      " [6.039e+03 3.880e+00]]\n",
      "\n",
      "\n",
      "\n",
      "\n",
      "==================== 메모리 최적화 ====================\n",
      "적은 메모리 사용, 느린 실행\n",
      "\n",
      "전체 영화 평점보다 사용자 평균 평점이 높은 데이터 필터링\n",
      " [[1.000e+00 4.190e+00]\n",
      " [2.000e+00 3.710e+00]\n",
      " [3.000e+00 3.900e+00]\n",
      " ...\n",
      " [6.037e+03 3.720e+00]\n",
      " [6.038e+03 3.800e+00]\n",
      " [6.039e+03 3.880e+00]]\n"
     ]
    }
   ],
   "source": [
    "# 모든 아이디 별로 평균 평점 구하기\n",
    "# 데이터 안에 있는 모든 id를 알아보기\n",
    "# 1~6040번 사용자들 중에 여러번 평점을 남긴 사람들도 있겠지\n",
    "# id의 고유한 값 가져오기. -> unique : 고유값을 확인하는 함수\n",
    "user_id = np.unique(rating_data[:, 0])\n",
    "\n",
    "# 1. 사용자 아이디와 평균 평점 담을 빈 리스트 생성\n",
    "# user_id_mean\n",
    "user_id_mean = []\n",
    "\n",
    "# 2. user_id 배열 반복문을 통해 순회\n",
    "# 2-1. id가 i인 사람 필터링\n",
    "# 2-2. 2-1 필터링한 결과의 평균 평점\n",
    "# 2-3. [i, 2-2결과]를 user_id_mean 추가\n",
    "\n",
    "# 빠른 실행, 높은 메모리 사용\n",
    "print(\"==================== CPU 최적화 ====================\\n빠른 실행, 높은 메모리 사용\\n\")\n",
    "maxId = max(user_id)\n",
    "length = rating_data.shape[0]\n",
    "temp = [[0.0, 0] for i in range(maxId)]\n",
    "\n",
    "# 1번째 순회, 평점 총 합과 평점 개수\n",
    "i = 0\n",
    "while i < length:\n",
    "    curId = rating_data[i, 0] - 1\n",
    "    temp[curId] = [temp[curId][0] + rating_data[i][2], temp[curId][1] + 1]\n",
    "    i += 1\n",
    "\n",
    "# 2번째 순회, 평균 구한 후 user_id_mean에 추가\n",
    "i = 0\n",
    "while i < maxId:\n",
    "    if 0 != temp[i][1]:\n",
    "        user_id_mean.append([i + 1, temp[i][0] / temp[i][1]])\n",
    "    i += 1\n",
    "\n",
    "# 불필요한 메모리 해제\n",
    "del temp\n",
    "\n",
    "# 3. user_id_mean 사용해 배열 생성\n",
    "# arr_mean\n",
    "arr_mean = np.round(np.array(user_id_mean), 2)\n",
    "\n",
    "# 4. 전체 영화 평점보다 사용자 평균 평점이 높은 데이터 필터링(불리언 인덱싱)\n",
    "print(\"전체 영화 평점보다 사용자 평균 평점이 높은 데이터 필터링\\n\", arr_mean[arr_mean[:, 1] > data_avg])\n",
    "\n",
    "\n",
    "\n",
    "print(\"\\n\\n\\n\")\n",
    "\n",
    "\n",
    "\n",
    "# 1. 사용자 아이디와 평균 평점 담을 빈 리스트 생성\n",
    "# user_id_mean\n",
    "user_id_mean = []\n",
    "\n",
    "# 2. user_id 배열 반복문을 통해 순회\n",
    "# 2-1. id가 i인 사람 필터링\n",
    "# 2-2. 2-1 필터링한 결과의 평균 평점\n",
    "# 2-3. [i, 2-2결과]를 user_id_mean 추가\n",
    "\n",
    "# 적은 메모리 사용, 느린 실행\n",
    "print(\"==================== 메모리 최적화 ====================\\n적은 메모리 사용, 느린 실행\\n\")\n",
    "# 순회 횟수 (user_id 길이 * rating_data 길이)\n",
    "for i in user_id:\n",
    "    user_id_mean.append([i, rating_data[rating_data[:, 0] == i][:, 2].mean()])\n",
    "\n",
    "# 3. user_id_mean 사용해 배열 생성\n",
    "# arr_mean\n",
    "arr_mean = np.round(np.array(user_id_mean), 2)\n",
    "\n",
    "# 4. 전체 영화 평점보다 사용자 평균 평점이 높은 데이터 필터링(불리언 인덱싱)\n",
    "result1 = arr_mean[arr_mean[:, 1] > data_avg]\n",
    "print(\"전체 영화 평점보다 사용자 평균 평점이 높은 데이터 필터링\\n\", result1)"
   ]
  },
  {
   "cell_type": "code",
   "execution_count": 12,
   "id": "648a7f53-c031-495e-a27b-a89e2b3ac363",
   "metadata": {},
   "outputs": [
    {
     "name": "stdout",
     "output_type": "stream",
     "text": [
      "6040 2172\n"
     ]
    }
   ],
   "source": [
    "# 5. 전체 영화 평점 평균보다 사용자 평균 평점이 낮거나 같은 데이터 필터링\n",
    "# 6. 결과 result2 저장\n",
    "result2 = arr_mean[arr_mean[:, 1] <= data_avg]\n",
    "\n",
    "# 7. arr_mean(전체 데이터), result2(필터링한 결과) 길이 출력\n",
    "print(len(arr_mean), len(result2))"
   ]
  },
  {
   "cell_type": "code",
   "execution_count": 15,
   "id": "e3a7cd4d-9d7e-45f0-884f-45d44bceb903",
   "metadata": {},
   "outputs": [],
   "source": [
    "# 필터링한 테이터들 파일로 저장\n",
    "np.savetxt('./data/rank_data1.txt', result1, delimiter = ',', fmt = '%.2f')"
   ]
  },
  {
   "cell_type": "code",
   "execution_count": 16,
   "id": "cfbf9172-36ca-4f44-9047-d089be9592ec",
   "metadata": {},
   "outputs": [],
   "source": [
    "# result2 저장\n",
    "# rank_data2.txt\n",
    "# delimiter = ',', fmt = '%.2f'\n",
    "np.savetxt('./data/rank_data2.txt', result2, delimiter = ',', fmt = '%.2f')"
   ]
  },
  {
   "cell_type": "code",
   "execution_count": null,
   "id": "b4289cdd-caa9-466a-9651-1eeadef9e718",
   "metadata": {},
   "outputs": [],
   "source": [
    "# 주피터 노트북을 다시 껐다가 키면\n",
    "# 내가 작업했던 모든 것들이 사라진다.\n",
    "# 1. Kernel > Restart Kernel and Run all cells\n",
    "# - 위에 에러가 나는 셀이 있으면 모든 셀이 다 실행되지 않음.\n",
    "# 2. 변수 선언하는 코드만 다시 실행"
   ]
  }
 ],
 "metadata": {
  "kernelspec": {
   "display_name": "Python 3 (ipykernel)",
   "language": "python",
   "name": "python3"
  },
  "language_info": {
   "codemirror_mode": {
    "name": "ipython",
    "version": 3
   },
   "file_extension": ".py",
   "mimetype": "text/x-python",
   "name": "python",
   "nbconvert_exporter": "python",
   "pygments_lexer": "ipython3",
   "version": "3.13.5"
  }
 },
 "nbformat": 4,
 "nbformat_minor": 5
}
