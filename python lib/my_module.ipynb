{
 "cells": [
  {
   "cell_type": "code",
   "execution_count": 2,
   "id": "76083cbf-a116-4f56-b897-eed73c1be59a",
   "metadata": {},
   "outputs": [],
   "source": [
    "# 함수 배운 내용 점검하기.\n",
    "# 1. 더하기 -> plus\n",
    "def plus(a, b):\n",
    "    result = a + b\n",
    "    return result\n",
    "# 2. 빼기 minus\n",
    "def minus(a, b):\n",
    "    return a - b\n",
    "# 3. 곱하기 multi\n",
    "def multi(a, b):\n",
    "    return a * b\n",
    "# 4. 나누기 divide\n",
    "def divide(a, b):\n",
    "    return a / b"
   ]
  },
  {
   "cell_type": "code",
   "execution_count": 4,
   "id": "30733311-01f3-4288-a78d-1e994040bce8",
   "metadata": {},
   "outputs": [
    {
     "name": "stdout",
     "output_type": "stream",
     "text": [
      "3\n",
      "3\n",
      "6\n",
      "1.3333333333333333\n"
     ]
    }
   ],
   "source": [
    "print(plus(1, 2))\n",
    "print(minus(3, 0))\n",
    "print(multi(2, 3))\n",
    "print(divide(4, 3))"
   ]
  },
  {
   "cell_type": "code",
   "execution_count": null,
   "id": "d0e80ae1-4ce0-43f6-a466-2f3f6e5da34d",
   "metadata": {},
   "outputs": [],
   "source": []
  }
 ],
 "metadata": {
  "kernelspec": {
   "display_name": "Python 3 (ipykernel)",
   "language": "python",
   "name": "python3"
  },
  "language_info": {
   "codemirror_mode": {
    "name": "ipython",
    "version": 3
   },
   "file_extension": ".py",
   "mimetype": "text/x-python",
   "name": "python",
   "nbconvert_exporter": "python",
   "pygments_lexer": "ipython3",
   "version": "3.13.5"
  }
 },
 "nbformat": 4,
 "nbformat_minor": 5
}
