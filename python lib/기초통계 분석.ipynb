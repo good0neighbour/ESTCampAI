{
 "cells": [
  {
   "cell_type": "markdown",
   "id": "4f1f362d-512f-4bb0-bc33-1cf02640b52c",
   "metadata": {},
   "source": [
    "### 학습목표\n",
    "- 데이터 탐색을 위한 기술통계 분석을 실습해보자."
   ]
  },
  {
   "cell_type": "markdown",
   "id": "ddeeb033-7c81-421c-8c67-effd7f11eaa3",
   "metadata": {},
   "source": [
    "### 1. 기술통계 확인하기\n",
    "데이터 로딩"
   ]
  },
  {
   "cell_type": "code",
   "execution_count": 1,
   "id": "23c0d4a0-5932-49a0-83c2-c82d946fe56e",
   "metadata": {},
   "outputs": [],
   "source": [
    "import pandas as pd\n",
    "import os # operating system"
   ]
  },
  {
   "cell_type": "code",
   "execution_count": 2,
   "id": "8bb04d2c-6840-4ea1-8d3c-eba3fea49d55",
   "metadata": {},
   "outputs": [
    {
     "data": {
      "text/plain": [
       "'C:\\\\Users\\\\notye\\\\ESTCampAI\\\\python lib'"
      ]
     },
     "execution_count": 2,
     "metadata": {},
     "output_type": "execute_result"
    }
   ],
   "source": [
    "# 현재 작업하고 있는 경로 확인\n",
    "os.getcwd() # cwd == current working directory"
   ]
  },
  {
   "cell_type": "code",
   "execution_count": 3,
   "id": "2e1980b1-2246-4da0-8f33-22c9d47e38a0",
   "metadata": {},
   "outputs": [
    {
     "data": {
      "text/plain": [
       "['.ipynb_checkpoints',\n",
       " 'data',\n",
       " 'ex01numpy.ipynb',\n",
       " 'ex02Series.ipynb',\n",
       " 'ex03DataFrame.ipynb',\n",
       " 'ex04matplotlib.ipynb',\n",
       " 'my_module.ipynb',\n",
       " 'my_module.py',\n",
       " '__pycache__',\n",
       " '기초통계 분석.ipynb']"
      ]
     },
     "execution_count": 3,
     "metadata": {},
     "output_type": "execute_result"
    }
   ],
   "source": [
    "# 현재 작업하고 있는 경로 내 어떤 폴더, 파일들이 있는지 확인\n",
    "os.listdir(os.getcwd())"
   ]
  },
  {
   "cell_type": "code",
   "execution_count": 4,
   "id": "0eb6cec9-69a0-4406-8f71-bc1a58b5a5cc",
   "metadata": {},
   "outputs": [
    {
     "name": "stdout",
     "output_type": "stream",
     "text": [
      "C:\\Users\\notye\\ESTCampAI\n"
     ]
    }
   ],
   "source": [
    "#  경로 변경('../' -> 뒤로가기)\n",
    "os.chdir('../') # change directory\n",
    "print(os.getcwd())"
   ]
  },
  {
   "cell_type": "code",
   "execution_count": 5,
   "id": "7fe45b5d-338e-472f-8066-ca4aaf5eb2b8",
   "metadata": {},
   "outputs": [
    {
     "name": "stdout",
     "output_type": "stream",
     "text": [
      "C:\\Users\\notye\\ESTCampAI\\python lib\n"
     ]
    }
   ],
   "source": [
    "os.chdir('python lib')\n",
    "print(os.getcwd())"
   ]
  },
  {
   "cell_type": "code",
   "execution_count": 6,
   "id": "81cc671b-8bde-4a18-97a2-430bdba8ac2e",
   "metadata": {},
   "outputs": [
    {
     "data": {
      "text/html": [
       "<div>\n",
       "<style scoped>\n",
       "    .dataframe tbody tr th:only-of-type {\n",
       "        vertical-align: middle;\n",
       "    }\n",
       "\n",
       "    .dataframe tbody tr th {\n",
       "        vertical-align: top;\n",
       "    }\n",
       "\n",
       "    .dataframe thead th {\n",
       "        text-align: right;\n",
       "    }\n",
       "</style>\n",
       "<table border=\"1\" class=\"dataframe\">\n",
       "  <thead>\n",
       "    <tr style=\"text-align: right;\">\n",
       "      <th></th>\n",
       "      <th>도시</th>\n",
       "      <th>지역</th>\n",
       "      <th>2020</th>\n",
       "      <th>2015</th>\n",
       "      <th>2010</th>\n",
       "      <th>2005</th>\n",
       "    </tr>\n",
       "  </thead>\n",
       "  <tbody>\n",
       "    <tr>\n",
       "      <th>0</th>\n",
       "      <td>서울</td>\n",
       "      <td>수도권</td>\n",
       "      <td>9668465</td>\n",
       "      <td>10022181.0</td>\n",
       "      <td>10312545.0</td>\n",
       "      <td>10167344</td>\n",
       "    </tr>\n",
       "    <tr>\n",
       "      <th>1</th>\n",
       "      <td>부산</td>\n",
       "      <td>경상권</td>\n",
       "      <td>3391946</td>\n",
       "      <td>NaN</td>\n",
       "      <td>NaN</td>\n",
       "      <td>3628293</td>\n",
       "    </tr>\n",
       "    <tr>\n",
       "      <th>2</th>\n",
       "      <td>인천</td>\n",
       "      <td>수도권</td>\n",
       "      <td>2942828</td>\n",
       "      <td>2925815.0</td>\n",
       "      <td>NaN</td>\n",
       "      <td>2600495</td>\n",
       "    </tr>\n",
       "    <tr>\n",
       "      <th>3</th>\n",
       "      <td>광주</td>\n",
       "      <td>전라권</td>\n",
       "      <td>1450062</td>\n",
       "      <td>1474636.0</td>\n",
       "      <td>1454636.0</td>\n",
       "      <td>1401745</td>\n",
       "    </tr>\n",
       "    <tr>\n",
       "      <th>4</th>\n",
       "      <td>대구</td>\n",
       "      <td>경상권</td>\n",
       "      <td>2418436</td>\n",
       "      <td>2466052.0</td>\n",
       "      <td>2431774.0</td>\n",
       "      <td>2456016</td>\n",
       "    </tr>\n",
       "  </tbody>\n",
       "</table>\n",
       "</div>"
      ],
      "text/plain": [
       "   도시   지역     2020        2015        2010      2005\n",
       "0  서울  수도권  9668465  10022181.0  10312545.0  10167344\n",
       "1  부산  경상권  3391946         NaN         NaN   3628293\n",
       "2  인천  수도권  2942828   2925815.0         NaN   2600495\n",
       "3  광주  전라권  1450062   1474636.0   1454636.0   1401745\n",
       "4  대구  경상권  2418436   2466052.0   2431774.0   2456016"
      ]
     },
     "execution_count": 6,
     "metadata": {},
     "output_type": "execute_result"
    }
   ],
   "source": [
    "pd.read_csv('data/population.csv')"
   ]
  },
  {
   "cell_type": "code",
   "execution_count": 7,
   "id": "9168085d-11fc-4e6e-9f2c-c7f619338126",
   "metadata": {},
   "outputs": [
    {
     "data": {
      "text/plain": [
       "{'encoding': 'EUC-KR', 'confidence': 0.99, 'language': 'Korean'}"
      ]
     },
     "execution_count": 7,
     "metadata": {},
     "output_type": "execute_result"
    }
   ],
   "source": [
    "# 인코딩 방식 추론하기\n",
    "import chardet # chardet == character + detection\n",
    "with open(\"data/hr-info.csv\", 'rb') as f: # read binary : 컴퓨터 언어로 와라\n",
    "    data = f.read()\n",
    "chardet.detect(data)"
   ]
  },
  {
   "cell_type": "code",
   "execution_count": 8,
   "id": "0e70e965-fe26-4419-8af3-8cf9d7d2a621",
   "metadata": {},
   "outputs": [
    {
     "data": {
      "text/html": [
       "<div>\n",
       "<style scoped>\n",
       "    .dataframe tbody tr th:only-of-type {\n",
       "        vertical-align: middle;\n",
       "    }\n",
       "\n",
       "    .dataframe tbody tr th {\n",
       "        vertical-align: top;\n",
       "    }\n",
       "\n",
       "    .dataframe thead th {\n",
       "        text-align: right;\n",
       "    }\n",
       "</style>\n",
       "<table border=\"1\" class=\"dataframe\">\n",
       "  <thead>\n",
       "    <tr style=\"text-align: right;\">\n",
       "      <th></th>\n",
       "      <th>EID</th>\n",
       "      <th>ENAME</th>\n",
       "      <th>GENDER</th>\n",
       "      <th>ORG_CD</th>\n",
       "      <th>POS_CD</th>\n",
       "      <th>AGE</th>\n",
       "      <th>SERVICE_YEAR</th>\n",
       "      <th>EDU_LEVEL</th>\n",
       "      <th>PERFORMANCE_SCORE</th>\n",
       "      <th>SALARY</th>\n",
       "      <th>LAST_PROMO_DT</th>\n",
       "      <th>TRAINING_HOURS</th>\n",
       "      <th>SKILLS</th>\n",
       "      <th>ACTIVE_STATE</th>\n",
       "      <th>HIRE_DATE</th>\n",
       "      <th>RETIRE_DATE</th>\n",
       "      <th>RETIRE_REASON</th>\n",
       "      <th>REHIRE_YN</th>\n",
       "      <th>NATION</th>\n",
       "      <th>ROUNDING_DEDUCTION</th>\n",
       "    </tr>\n",
       "  </thead>\n",
       "  <tbody>\n",
       "    <tr>\n",
       "      <th>0</th>\n",
       "      <td>E00206</td>\n",
       "      <td>시이오</td>\n",
       "      <td>M</td>\n",
       "      <td>NaN</td>\n",
       "      <td>P001</td>\n",
       "      <td>49</td>\n",
       "      <td>25</td>\n",
       "      <td>박사 학위</td>\n",
       "      <td>4.5</td>\n",
       "      <td>10200</td>\n",
       "      <td>2024-03-01</td>\n",
       "      <td>240</td>\n",
       "      <td>Marketing, Salesforce</td>\n",
       "      <td>Y</td>\n",
       "      <td>1999-03-01</td>\n",
       "      <td>NaN</td>\n",
       "      <td>NaN</td>\n",
       "      <td>NaN</td>\n",
       "      <td>KOREA</td>\n",
       "      <td>Y</td>\n",
       "    </tr>\n",
       "    <tr>\n",
       "      <th>1</th>\n",
       "      <td>E00181</td>\n",
       "      <td>나사장</td>\n",
       "      <td>F</td>\n",
       "      <td>NaN</td>\n",
       "      <td>P002</td>\n",
       "      <td>49</td>\n",
       "      <td>24</td>\n",
       "      <td>박사 학위</td>\n",
       "      <td>4.6</td>\n",
       "      <td>9500</td>\n",
       "      <td>2024-03-01</td>\n",
       "      <td>236</td>\n",
       "      <td>Project Management, Marketing</td>\n",
       "      <td>Y</td>\n",
       "      <td>2000-03-01</td>\n",
       "      <td>NaN</td>\n",
       "      <td>NaN</td>\n",
       "      <td>NaN</td>\n",
       "      <td>KOREA</td>\n",
       "      <td>Y</td>\n",
       "    </tr>\n",
       "    <tr>\n",
       "      <th>2</th>\n",
       "      <td>E00164</td>\n",
       "      <td>난부사장</td>\n",
       "      <td>M</td>\n",
       "      <td>NaN</td>\n",
       "      <td>P003</td>\n",
       "      <td>48</td>\n",
       "      <td>22</td>\n",
       "      <td>박사 학위</td>\n",
       "      <td>4.6</td>\n",
       "      <td>9100</td>\n",
       "      <td>2024-03-01</td>\n",
       "      <td>240</td>\n",
       "      <td>Salesforce, Data Analysis, Java</td>\n",
       "      <td>Y</td>\n",
       "      <td>2002-03-01</td>\n",
       "      <td>NaN</td>\n",
       "      <td>NaN</td>\n",
       "      <td>NaN</td>\n",
       "      <td>KOREA</td>\n",
       "      <td>Y</td>\n",
       "    </tr>\n",
       "  </tbody>\n",
       "</table>\n",
       "</div>"
      ],
      "text/plain": [
       "      EID ENAME GENDER ORG_CD POS_CD  AGE  SERVICE_YEAR EDU_LEVEL  \\\n",
       "0  E00206   시이오      M    NaN   P001   49            25     박사 학위   \n",
       "1  E00181   나사장      F    NaN   P002   49            24     박사 학위   \n",
       "2  E00164  난부사장      M    NaN   P003   48            22     박사 학위   \n",
       "\n",
       "   PERFORMANCE_SCORE  SALARY LAST_PROMO_DT  TRAINING_HOURS  \\\n",
       "0                4.5   10200    2024-03-01             240   \n",
       "1                4.6    9500    2024-03-01             236   \n",
       "2                4.6    9100    2024-03-01             240   \n",
       "\n",
       "                            SKILLS ACTIVE_STATE   HIRE_DATE RETIRE_DATE  \\\n",
       "0            Marketing, Salesforce            Y  1999-03-01         NaN   \n",
       "1    Project Management, Marketing            Y  2000-03-01         NaN   \n",
       "2  Salesforce, Data Analysis, Java            Y  2002-03-01         NaN   \n",
       "\n",
       "  RETIRE_REASON REHIRE_YN NATION ROUNDING_DEDUCTION  \n",
       "0           NaN       NaN  KOREA                  Y  \n",
       "1           NaN       NaN  KOREA                  Y  \n",
       "2           NaN       NaN  KOREA                  Y  "
      ]
     },
     "execution_count": 8,
     "metadata": {},
     "output_type": "execute_result"
    }
   ],
   "source": [
    "hr_info = pd.read_csv('data/hr-info.csv', encoding = \"euc-kr\")\n",
    "hr_info.head(3)"
   ]
  },
  {
   "cell_type": "code",
   "execution_count": 9,
   "id": "57aa5259-9cf3-4e8e-abe3-bcc9a9c9550b",
   "metadata": {},
   "outputs": [
    {
     "name": "stdout",
     "output_type": "stream",
     "text": [
      "<class 'pandas.core.frame.DataFrame'>\n",
      "RangeIndex: 200 entries, 0 to 199\n",
      "Data columns (total 20 columns):\n",
      " #   Column              Non-Null Count  Dtype  \n",
      "---  ------              --------------  -----  \n",
      " 0   EID                 200 non-null    object \n",
      " 1   ENAME               200 non-null    object \n",
      " 2   GENDER              200 non-null    object \n",
      " 3   ORG_CD              197 non-null    object \n",
      " 4   POS_CD              200 non-null    object \n",
      " 5   AGE                 200 non-null    int64  \n",
      " 6   SERVICE_YEAR        200 non-null    int64  \n",
      " 7   EDU_LEVEL           200 non-null    object \n",
      " 8   PERFORMANCE_SCORE   200 non-null    float64\n",
      " 9   SALARY              200 non-null    int64  \n",
      " 10  LAST_PROMO_DT       182 non-null    object \n",
      " 11  TRAINING_HOURS      200 non-null    int64  \n",
      " 12  SKILLS              200 non-null    object \n",
      " 13  ACTIVE_STATE        200 non-null    object \n",
      " 14  HIRE_DATE           200 non-null    object \n",
      " 15  RETIRE_DATE         49 non-null     object \n",
      " 16  RETIRE_REASON       49 non-null     object \n",
      " 17  REHIRE_YN           49 non-null     object \n",
      " 18  NATION              200 non-null    object \n",
      " 19  ROUNDING_DEDUCTION  200 non-null    object \n",
      "dtypes: float64(1), int64(4), object(15)\n",
      "memory usage: 31.4+ KB\n"
     ]
    }
   ],
   "source": [
    "# 데이터 정보 파악하기\n",
    "hr_info.info()"
   ]
  },
  {
   "cell_type": "code",
   "execution_count": 10,
   "id": "df5f55e5-3ccf-44b2-b1f9-b3b1be5956f8",
   "metadata": {},
   "outputs": [
    {
     "data": {
      "text/html": [
       "<div>\n",
       "<style scoped>\n",
       "    .dataframe tbody tr th:only-of-type {\n",
       "        vertical-align: middle;\n",
       "    }\n",
       "\n",
       "    .dataframe tbody tr th {\n",
       "        vertical-align: top;\n",
       "    }\n",
       "\n",
       "    .dataframe thead th {\n",
       "        text-align: right;\n",
       "    }\n",
       "</style>\n",
       "<table border=\"1\" class=\"dataframe\">\n",
       "  <thead>\n",
       "    <tr style=\"text-align: right;\">\n",
       "      <th></th>\n",
       "      <th>AGE</th>\n",
       "      <th>SERVICE_YEAR</th>\n",
       "      <th>PERFORMANCE_SCORE</th>\n",
       "      <th>SALARY</th>\n",
       "      <th>TRAINING_HOURS</th>\n",
       "    </tr>\n",
       "  </thead>\n",
       "  <tbody>\n",
       "    <tr>\n",
       "      <th>count</th>\n",
       "      <td>200.000000</td>\n",
       "      <td>200.000000</td>\n",
       "      <td>200.000000</td>\n",
       "      <td>200.000000</td>\n",
       "      <td>200.000000</td>\n",
       "    </tr>\n",
       "    <tr>\n",
       "      <th>mean</th>\n",
       "      <td>31.930000</td>\n",
       "      <td>4.660000</td>\n",
       "      <td>1.919900</td>\n",
       "      <td>5987.000000</td>\n",
       "      <td>34.745000</td>\n",
       "    </tr>\n",
       "    <tr>\n",
       "      <th>std</th>\n",
       "      <td>7.111114</td>\n",
       "      <td>6.183492</td>\n",
       "      <td>1.748062</td>\n",
       "      <td>1182.676889</td>\n",
       "      <td>40.470971</td>\n",
       "    </tr>\n",
       "    <tr>\n",
       "      <th>min</th>\n",
       "      <td>22.000000</td>\n",
       "      <td>0.000000</td>\n",
       "      <td>0.000000</td>\n",
       "      <td>4500.000000</td>\n",
       "      <td>0.000000</td>\n",
       "    </tr>\n",
       "    <tr>\n",
       "      <th>25%</th>\n",
       "      <td>27.000000</td>\n",
       "      <td>0.000000</td>\n",
       "      <td>0.000000</td>\n",
       "      <td>5000.000000</td>\n",
       "      <td>4.000000</td>\n",
       "    </tr>\n",
       "    <tr>\n",
       "      <th>50%</th>\n",
       "      <td>30.000000</td>\n",
       "      <td>1.000000</td>\n",
       "      <td>1.795000</td>\n",
       "      <td>5600.000000</td>\n",
       "      <td>21.000000</td>\n",
       "    </tr>\n",
       "    <tr>\n",
       "      <th>75%</th>\n",
       "      <td>37.000000</td>\n",
       "      <td>8.000000</td>\n",
       "      <td>3.412500</td>\n",
       "      <td>6825.000000</td>\n",
       "      <td>56.750000</td>\n",
       "    </tr>\n",
       "    <tr>\n",
       "      <th>max</th>\n",
       "      <td>49.000000</td>\n",
       "      <td>25.000000</td>\n",
       "      <td>4.960000</td>\n",
       "      <td>10200.000000</td>\n",
       "      <td>240.000000</td>\n",
       "    </tr>\n",
       "  </tbody>\n",
       "</table>\n",
       "</div>"
      ],
      "text/plain": [
       "              AGE  SERVICE_YEAR  PERFORMANCE_SCORE        SALARY  \\\n",
       "count  200.000000    200.000000         200.000000    200.000000   \n",
       "mean    31.930000      4.660000           1.919900   5987.000000   \n",
       "std      7.111114      6.183492           1.748062   1182.676889   \n",
       "min     22.000000      0.000000           0.000000   4500.000000   \n",
       "25%     27.000000      0.000000           0.000000   5000.000000   \n",
       "50%     30.000000      1.000000           1.795000   5600.000000   \n",
       "75%     37.000000      8.000000           3.412500   6825.000000   \n",
       "max     49.000000     25.000000           4.960000  10200.000000   \n",
       "\n",
       "       TRAINING_HOURS  \n",
       "count      200.000000  \n",
       "mean        34.745000  \n",
       "std         40.470971  \n",
       "min          0.000000  \n",
       "25%          4.000000  \n",
       "50%         21.000000  \n",
       "75%         56.750000  \n",
       "max        240.000000  "
      ]
     },
     "execution_count": 10,
     "metadata": {},
     "output_type": "execute_result"
    }
   ],
   "source": [
    "# 기술통계확인 함수 -> 기본값이 수치데이터\n",
    "# count: 열에 몇 개가 있는지, mean: 평균값, std: 표준편차, min: 최소값, 25%: 하위 25% 값, max: 최대값\n",
    "hr_info.describe()"
   ]
  },
  {
   "cell_type": "code",
   "execution_count": 11,
   "id": "13b43c73-efa1-4492-8c84-abb590bac0da",
   "metadata": {},
   "outputs": [
    {
     "data": {
      "text/html": [
       "<div>\n",
       "<style scoped>\n",
       "    .dataframe tbody tr th:only-of-type {\n",
       "        vertical-align: middle;\n",
       "    }\n",
       "\n",
       "    .dataframe tbody tr th {\n",
       "        vertical-align: top;\n",
       "    }\n",
       "\n",
       "    .dataframe thead th {\n",
       "        text-align: right;\n",
       "    }\n",
       "</style>\n",
       "<table border=\"1\" class=\"dataframe\">\n",
       "  <thead>\n",
       "    <tr style=\"text-align: right;\">\n",
       "      <th></th>\n",
       "      <th>EID</th>\n",
       "      <th>ENAME</th>\n",
       "      <th>GENDER</th>\n",
       "      <th>ORG_CD</th>\n",
       "      <th>POS_CD</th>\n",
       "      <th>EDU_LEVEL</th>\n",
       "      <th>LAST_PROMO_DT</th>\n",
       "      <th>SKILLS</th>\n",
       "      <th>ACTIVE_STATE</th>\n",
       "      <th>HIRE_DATE</th>\n",
       "      <th>RETIRE_DATE</th>\n",
       "      <th>RETIRE_REASON</th>\n",
       "      <th>REHIRE_YN</th>\n",
       "      <th>NATION</th>\n",
       "      <th>ROUNDING_DEDUCTION</th>\n",
       "    </tr>\n",
       "  </thead>\n",
       "  <tbody>\n",
       "    <tr>\n",
       "      <th>count</th>\n",
       "      <td>200</td>\n",
       "      <td>200</td>\n",
       "      <td>200</td>\n",
       "      <td>197</td>\n",
       "      <td>200</td>\n",
       "      <td>200</td>\n",
       "      <td>182</td>\n",
       "      <td>200</td>\n",
       "      <td>200</td>\n",
       "      <td>200</td>\n",
       "      <td>49</td>\n",
       "      <td>49</td>\n",
       "      <td>49</td>\n",
       "      <td>200</td>\n",
       "      <td>200</td>\n",
       "    </tr>\n",
       "    <tr>\n",
       "      <th>unique</th>\n",
       "      <td>200</td>\n",
       "      <td>200</td>\n",
       "      <td>2</td>\n",
       "      <td>30</td>\n",
       "      <td>9</td>\n",
       "      <td>5</td>\n",
       "      <td>4</td>\n",
       "      <td>91</td>\n",
       "      <td>2</td>\n",
       "      <td>16</td>\n",
       "      <td>8</td>\n",
       "      <td>6</td>\n",
       "      <td>2</td>\n",
       "      <td>6</td>\n",
       "      <td>2</td>\n",
       "    </tr>\n",
       "    <tr>\n",
       "      <th>top</th>\n",
       "      <td>E00206</td>\n",
       "      <td>시이오</td>\n",
       "      <td>M</td>\n",
       "      <td>ORG023</td>\n",
       "      <td>P008</td>\n",
       "      <td>학사 학위</td>\n",
       "      <td>2024-03-01</td>\n",
       "      <td>Salesforce</td>\n",
       "      <td>Y</td>\n",
       "      <td>2024-03-01</td>\n",
       "      <td>2024-03-01</td>\n",
       "      <td>이직</td>\n",
       "      <td>N</td>\n",
       "      <td>KOREA</td>\n",
       "      <td>Y</td>\n",
       "    </tr>\n",
       "    <tr>\n",
       "      <th>freq</th>\n",
       "      <td>1</td>\n",
       "      <td>1</td>\n",
       "      <td>117</td>\n",
       "      <td>12</td>\n",
       "      <td>55</td>\n",
       "      <td>159</td>\n",
       "      <td>111</td>\n",
       "      <td>24</td>\n",
       "      <td>151</td>\n",
       "      <td>64</td>\n",
       "      <td>19</td>\n",
       "      <td>28</td>\n",
       "      <td>45</td>\n",
       "      <td>102</td>\n",
       "      <td>150</td>\n",
       "    </tr>\n",
       "  </tbody>\n",
       "</table>\n",
       "</div>"
      ],
      "text/plain": [
       "           EID ENAME GENDER  ORG_CD POS_CD EDU_LEVEL LAST_PROMO_DT  \\\n",
       "count      200   200    200     197    200       200           182   \n",
       "unique     200   200      2      30      9         5             4   \n",
       "top     E00206   시이오      M  ORG023   P008     학사 학위    2024-03-01   \n",
       "freq         1     1    117      12     55       159           111   \n",
       "\n",
       "            SKILLS ACTIVE_STATE   HIRE_DATE RETIRE_DATE RETIRE_REASON  \\\n",
       "count          200          200         200          49            49   \n",
       "unique          91            2          16           8             6   \n",
       "top     Salesforce            Y  2024-03-01  2024-03-01            이직   \n",
       "freq            24          151          64          19            28   \n",
       "\n",
       "       REHIRE_YN NATION ROUNDING_DEDUCTION  \n",
       "count         49    200                200  \n",
       "unique         2      6                  2  \n",
       "top            N  KOREA                  Y  \n",
       "freq          45    102                150  "
      ]
     },
     "execution_count": 11,
     "metadata": {},
     "output_type": "execute_result"
    }
   ],
   "source": [
    "# 기술통계확인 함수 -> include = [\"boject\"] -> dtype == object\n",
    "# count: 열에 몇 개가 있는지, unique: 고유한 값의 개수, top: 가장 자주 등장한 값(최빈값), freq: 최빈값의 빈도수\n",
    "hr_info.describe(include = [\"object\"])"
   ]
  },
  {
   "cell_type": "markdown",
   "id": "e7c1b9fd-e8a1-4cb9-9ea2-fc7aab59c293",
   "metadata": {},
   "source": [
    "#### 2. 통계 값 개별로 확인하기"
   ]
  },
  {
   "cell_type": "markdown",
   "id": "475dbc15-aad4-4b99-8e6f-5b479b6862b0",
   "metadata": {},
   "source": [
    "##### sum : 총합"
   ]
  },
  {
   "cell_type": "code",
   "execution_count": 12,
   "id": "04a81622-fd7a-4793-9af4-d28281661c9f",
   "metadata": {},
   "outputs": [
    {
     "data": {
      "text/plain": [
       "np.int64(1197400)"
      ]
     },
     "execution_count": 12,
     "metadata": {},
     "output_type": "execute_result"
    }
   ],
   "source": [
    "# 전체 총 지출 인건비를 확인하자.\n",
    "hr_info[\"SALARY\"].sum()"
   ]
  },
  {
   "cell_type": "code",
   "execution_count": 13,
   "id": "86b969f3-c9db-4ae2-bfde-5e17361b6316",
   "metadata": {},
   "outputs": [
    {
     "data": {
      "text/plain": [
       "np.int64(910600)"
      ]
     },
     "execution_count": 13,
     "metadata": {},
     "output_type": "execute_result"
    }
   ],
   "source": [
    "# 학위가 학사인 사람들의 총 인건비를 확인하자.\n",
    "hr_info[hr_info[\"EDU_LEVEL\"].str.contains(\"학사\")][\"SALARY\"].sum()"
   ]
  },
  {
   "cell_type": "code",
   "execution_count": 14,
   "id": "a3114c02-f8d6-4f5b-8dc3-3ce4f3a320de",
   "metadata": {},
   "outputs": [
    {
     "data": {
      "text/plain": [
       "np.int64(910600)"
      ]
     },
     "execution_count": 14,
     "metadata": {},
     "output_type": "execute_result"
    }
   ],
   "source": [
    "hr_info.loc[hr_info[\"EDU_LEVEL\"].str.contains(\"학사\"), \"SALARY\"].sum()"
   ]
  },
  {
   "cell_type": "markdown",
   "id": "9e332206-5f5d-419d-97cd-9555e1bdee34",
   "metadata": {},
   "source": [
    "##### mean : 평균\n",
    "- 전체의 데이터의 값을 데이터 개수로 나눈 값\n",
    "- 극단치가 들어올 경우 영향을 많이 받을 수 있다."
   ]
  },
  {
   "cell_type": "code",
   "execution_count": 15,
   "id": "5252bc37-a7bd-4e81-b5d7-8953131ca7f1",
   "metadata": {},
   "outputs": [
    {
     "name": "stdout",
     "output_type": "stream",
     "text": [
      "5987.0\n"
     ]
    }
   ],
   "source": [
    "# 전체 편균연봉 확인\n",
    "print(hr_info[\"SALARY\"].mean())"
   ]
  },
  {
   "cell_type": "markdown",
   "id": "9dee64dc-31f3-4a43-99ef-e04ef0328155",
   "metadata": {},
   "source": [
    "##### median : 중앙값\n",
    "- 전체 데이터를 정렬해둔 상태로 50% 지점에 있는 값"
   ]
  },
  {
   "cell_type": "code",
   "execution_count": 16,
   "id": "60bb64d4-5213-4bfc-a045-d6e01ae714c5",
   "metadata": {},
   "outputs": [
    {
     "name": "stdout",
     "output_type": "stream",
     "text": [
      "5600.0\n"
     ]
    }
   ],
   "source": [
    "# 전체 연봉의 중앙값 확인\n",
    "print(hr_info[\"SALARY\"].median())"
   ]
  },
  {
   "cell_type": "markdown",
   "id": "576f1084-66dc-41ad-bb06-d54715d348b9",
   "metadata": {},
   "source": [
    "##### max : 최대값 / min : 최소값"
   ]
  },
  {
   "cell_type": "code",
   "execution_count": 17,
   "id": "57b820bc-4d65-47c6-9671-6725ba3b94b1",
   "metadata": {},
   "outputs": [
    {
     "name": "stdout",
     "output_type": "stream",
     "text": [
      "25\n",
      "0\n"
     ]
    }
   ],
   "source": [
    "# 최대, 최소 근속연구를 확인해보자.\n",
    "print(hr_info['SERVICE_YEAR'].max())\n",
    "print(hr_info['SERVICE_YEAR'].min())"
   ]
  },
  {
   "cell_type": "markdown",
   "id": "ca860f6e-71f9-40af-89a5-638deac7e1f9",
   "metadata": {},
   "source": [
    "##### unique : 고유값"
   ]
  },
  {
   "cell_type": "code",
   "execution_count": 18,
   "id": "a7ff9dd5-3fe5-4459-8b0b-c9e20ce21f30",
   "metadata": {},
   "outputs": [
    {
     "data": {
      "text/plain": [
       "array(['KOREA', 'Japan', 'USA', 'India', 'China', 'UK'], dtype=object)"
      ]
     },
     "execution_count": 18,
     "metadata": {},
     "output_type": "execute_result"
    }
   ],
   "source": [
    "# 직원들의 국적 종류를 파악해보자\n",
    "hr_info['NATION'].unique()"
   ]
  },
  {
   "cell_type": "markdown",
   "id": "6586d0c0-f4d1-4112-98ab-023adf685b59",
   "metadata": {},
   "source": [
    "##### count : 빈도"
   ]
  },
  {
   "cell_type": "code",
   "execution_count": 19,
   "id": "201b40dd-732c-4c46-9b43-e69454ba729a",
   "metadata": {},
   "outputs": [
    {
     "data": {
      "text/plain": [
       "np.int64(21)"
      ]
     },
     "execution_count": 19,
     "metadata": {},
     "output_type": "execute_result"
    }
   ],
   "source": [
    "# 일본 국적의 직원 수를 확인해보자.\n",
    "hr_info.loc[hr_info['NATION'] == \"Japan\", \"ENAME\"].count()"
   ]
  },
  {
   "cell_type": "markdown",
   "id": "7f43e6ea-9426-4614-bd52-5d8e5139832a",
   "metadata": {},
   "source": [
    "##### value_counts : 고유값별 빈도수 확인하기"
   ]
  },
  {
   "cell_type": "code",
   "execution_count": 20,
   "id": "ca2715b1-2742-4265-9fff-f73da3293ad2",
   "metadata": {},
   "outputs": [
    {
     "data": {
      "text/plain": [
       "NATION\n",
       "KOREA    102\n",
       "USA       22\n",
       "India     22\n",
       "Japan     21\n",
       "UK        18\n",
       "China     15\n",
       "Name: count, dtype: int64"
      ]
     },
     "execution_count": 20,
     "metadata": {},
     "output_type": "execute_result"
    }
   ],
   "source": [
    "# 국적별로 인원수를 확인해보자.\n",
    "hr_info[\"NATION\"].value_counts()"
   ]
  },
  {
   "cell_type": "markdown",
   "id": "9e3b0894-b82e-4183-882a-6e6844b35c72",
   "metadata": {},
   "source": [
    "#### 연습문제\n",
    "- 교육수준에 따른 평균 연봉을 통계내서 확인해보자."
   ]
  },
  {
   "cell_type": "code",
   "execution_count": 21,
   "id": "34d51020-6b7b-440b-9ed9-cc424fa777da",
   "metadata": {},
   "outputs": [
    {
     "name": "stdout",
     "output_type": "stream",
     "text": [
      "박사 학위 8166.666666666667\n",
      "학사 학위 5727.044025157233\n",
      "석사 학위 6900.0\n",
      "고등학교 졸업 6140.0\n",
      "전문대 학위 5050.0\n"
     ]
    }
   ],
   "source": [
    "# \"EDU_LEVEL\" 컬럼의 고유값 파악하기\n",
    "edLv = hr_info[\"EDU_LEVEL\"].unique()\n",
    "\n",
    "for lv in edLv:\n",
    "    print(lv, hr_info.loc[hr_info[\"EDU_LEVEL\"] == lv, \"SALARY\"].mean())"
   ]
  },
  {
   "cell_type": "markdown",
   "id": "1e2fdb4e-8f3c-4286-8d3f-719f630e11a3",
   "metadata": {},
   "source": [
    "#### 3. 데이터 그룹화를 이용해서 통계분석해보자."
   ]
  },
  {
   "cell_type": "markdown",
   "id": "4a559d95-850d-4b58-8a36-7fb861ad95ec",
   "metadata": {},
   "source": [
    "groupby 사용 기본"
   ]
  },
  {
   "cell_type": "code",
   "execution_count": 22,
   "id": "0c433e79-c6c3-4476-ba65-31c0f3b66e4b",
   "metadata": {},
   "outputs": [
    {
     "data": {
      "text/html": [
       "<div>\n",
       "<style scoped>\n",
       "    .dataframe tbody tr th:only-of-type {\n",
       "        vertical-align: middle;\n",
       "    }\n",
       "\n",
       "    .dataframe tbody tr th {\n",
       "        vertical-align: top;\n",
       "    }\n",
       "\n",
       "    .dataframe thead th {\n",
       "        text-align: right;\n",
       "    }\n",
       "</style>\n",
       "<table border=\"1\" class=\"dataframe\">\n",
       "  <thead>\n",
       "    <tr style=\"text-align: right;\">\n",
       "      <th></th>\n",
       "      <th>EDU_LEVEL</th>\n",
       "      <th>SALARY</th>\n",
       "    </tr>\n",
       "  </thead>\n",
       "  <tbody>\n",
       "    <tr>\n",
       "      <th>0</th>\n",
       "      <td>박사 학위</td>\n",
       "      <td>10200</td>\n",
       "    </tr>\n",
       "    <tr>\n",
       "      <th>1</th>\n",
       "      <td>박사 학위</td>\n",
       "      <td>9500</td>\n",
       "    </tr>\n",
       "    <tr>\n",
       "      <th>2</th>\n",
       "      <td>박사 학위</td>\n",
       "      <td>9100</td>\n",
       "    </tr>\n",
       "    <tr>\n",
       "      <th>3</th>\n",
       "      <td>박사 학위</td>\n",
       "      <td>8500</td>\n",
       "    </tr>\n",
       "    <tr>\n",
       "      <th>4</th>\n",
       "      <td>박사 학위</td>\n",
       "      <td>8600</td>\n",
       "    </tr>\n",
       "    <tr>\n",
       "      <th>10</th>\n",
       "      <td>박사 학위</td>\n",
       "      <td>8600</td>\n",
       "    </tr>\n",
       "    <tr>\n",
       "      <th>13</th>\n",
       "      <td>박사 학위</td>\n",
       "      <td>8500</td>\n",
       "    </tr>\n",
       "    <tr>\n",
       "      <th>17</th>\n",
       "      <td>박사 학위</td>\n",
       "      <td>7600</td>\n",
       "    </tr>\n",
       "    <tr>\n",
       "      <th>19</th>\n",
       "      <td>박사 학위</td>\n",
       "      <td>7500</td>\n",
       "    </tr>\n",
       "    <tr>\n",
       "      <th>51</th>\n",
       "      <td>박사 학위</td>\n",
       "      <td>7100</td>\n",
       "    </tr>\n",
       "    <tr>\n",
       "      <th>56</th>\n",
       "      <td>박사 학위</td>\n",
       "      <td>7000</td>\n",
       "    </tr>\n",
       "    <tr>\n",
       "      <th>105</th>\n",
       "      <td>박사 학위</td>\n",
       "      <td>5800</td>\n",
       "    </tr>\n",
       "  </tbody>\n",
       "</table>\n",
       "</div>"
      ],
      "text/plain": [
       "    EDU_LEVEL  SALARY\n",
       "0       박사 학위   10200\n",
       "1       박사 학위    9500\n",
       "2       박사 학위    9100\n",
       "3       박사 학위    8500\n",
       "4       박사 학위    8600\n",
       "10      박사 학위    8600\n",
       "13      박사 학위    8500\n",
       "17      박사 학위    7600\n",
       "19      박사 학위    7500\n",
       "51      박사 학위    7100\n",
       "56      박사 학위    7000\n",
       "105     박사 학위    5800"
      ]
     },
     "execution_count": 22,
     "metadata": {},
     "output_type": "execute_result"
    }
   ],
   "source": [
    "hr_info[[\"EDU_LEVEL\", \"SALARY\"]].groupby(by = \"EDU_LEVEL\").get_group(\"박사 학위\")"
   ]
  },
  {
   "cell_type": "code",
   "execution_count": 23,
   "id": "4c39e9a1-ac07-4601-8709-29a751265ba7",
   "metadata": {},
   "outputs": [
    {
     "data": {
      "text/html": [
       "<div>\n",
       "<style scoped>\n",
       "    .dataframe tbody tr th:only-of-type {\n",
       "        vertical-align: middle;\n",
       "    }\n",
       "\n",
       "    .dataframe tbody tr th {\n",
       "        vertical-align: top;\n",
       "    }\n",
       "\n",
       "    .dataframe thead th {\n",
       "        text-align: right;\n",
       "    }\n",
       "</style>\n",
       "<table border=\"1\" class=\"dataframe\">\n",
       "  <thead>\n",
       "    <tr style=\"text-align: right;\">\n",
       "      <th></th>\n",
       "      <th>SALARY</th>\n",
       "    </tr>\n",
       "    <tr>\n",
       "      <th>EDU_LEVEL</th>\n",
       "      <th></th>\n",
       "    </tr>\n",
       "  </thead>\n",
       "  <tbody>\n",
       "    <tr>\n",
       "      <th>고등학교 졸업</th>\n",
       "      <td>6140.000000</td>\n",
       "    </tr>\n",
       "    <tr>\n",
       "      <th>박사 학위</th>\n",
       "      <td>8166.666667</td>\n",
       "    </tr>\n",
       "    <tr>\n",
       "      <th>석사 학위</th>\n",
       "      <td>6900.000000</td>\n",
       "    </tr>\n",
       "    <tr>\n",
       "      <th>전문대 학위</th>\n",
       "      <td>5050.000000</td>\n",
       "    </tr>\n",
       "    <tr>\n",
       "      <th>학사 학위</th>\n",
       "      <td>5727.044025</td>\n",
       "    </tr>\n",
       "  </tbody>\n",
       "</table>\n",
       "</div>"
      ],
      "text/plain": [
       "                SALARY\n",
       "EDU_LEVEL             \n",
       "고등학교 졸업    6140.000000\n",
       "박사 학위      8166.666667\n",
       "석사 학위      6900.000000\n",
       "전문대 학위     5050.000000\n",
       "학사 학위      5727.044025"
      ]
     },
     "execution_count": 23,
     "metadata": {},
     "output_type": "execute_result"
    }
   ],
   "source": [
    "# 실제 groupby 사용 방법\n",
    "hr_info[[\"EDU_LEVEL\", \"SALARY\"]].groupby(by = \"EDU_LEVEL\").mean()"
   ]
  },
  {
   "cell_type": "markdown",
   "id": "de5eeb7a-7c5d-4302-b613-4e61b952224c",
   "metadata": {},
   "source": [
    "#### 쉬운 예제"
   ]
  },
  {
   "cell_type": "code",
   "execution_count": 24,
   "id": "288c93c9-709f-4063-989c-750a8c2baefb",
   "metadata": {},
   "outputs": [
    {
     "data": {
      "text/html": [
       "<div>\n",
       "<style scoped>\n",
       "    .dataframe tbody tr th:only-of-type {\n",
       "        vertical-align: middle;\n",
       "    }\n",
       "\n",
       "    .dataframe tbody tr th {\n",
       "        vertical-align: top;\n",
       "    }\n",
       "\n",
       "    .dataframe thead th {\n",
       "        text-align: right;\n",
       "    }\n",
       "</style>\n",
       "<table border=\"1\" class=\"dataframe\">\n",
       "  <thead>\n",
       "    <tr style=\"text-align: right;\">\n",
       "      <th></th>\n",
       "      <th>과일</th>\n",
       "      <th>가격</th>\n",
       "    </tr>\n",
       "  </thead>\n",
       "  <tbody>\n",
       "    <tr>\n",
       "      <th>0</th>\n",
       "      <td>사과</td>\n",
       "      <td>1000</td>\n",
       "    </tr>\n",
       "    <tr>\n",
       "      <th>1</th>\n",
       "      <td>바나나</td>\n",
       "      <td>2000</td>\n",
       "    </tr>\n",
       "    <tr>\n",
       "      <th>2</th>\n",
       "      <td>사과</td>\n",
       "      <td>1500</td>\n",
       "    </tr>\n",
       "    <tr>\n",
       "      <th>3</th>\n",
       "      <td>바나나</td>\n",
       "      <td>2200</td>\n",
       "    </tr>\n",
       "    <tr>\n",
       "      <th>4</th>\n",
       "      <td>사과</td>\n",
       "      <td>1300</td>\n",
       "    </tr>\n",
       "  </tbody>\n",
       "</table>\n",
       "</div>"
      ],
      "text/plain": [
       "    과일    가격\n",
       "0   사과  1000\n",
       "1  바나나  2000\n",
       "2   사과  1500\n",
       "3  바나나  2200\n",
       "4   사과  1300"
      ]
     },
     "execution_count": 24,
     "metadata": {},
     "output_type": "execute_result"
    }
   ],
   "source": [
    "import pandas as pd\n",
    "f_data = pd.DataFrame({'과일': ['사과', '바나나', '사과', '바나나', '사과'],\n",
    "                       '가격': [1000, 2000, 1500, 2200, 1300]})\n",
    "f_data"
   ]
  },
  {
   "cell_type": "code",
   "execution_count": 25,
   "id": "097735fe-6ebe-4ec5-9e1d-44af45c387ba",
   "metadata": {},
   "outputs": [
    {
     "data": {
      "text/html": [
       "<div>\n",
       "<style scoped>\n",
       "    .dataframe tbody tr th:only-of-type {\n",
       "        vertical-align: middle;\n",
       "    }\n",
       "\n",
       "    .dataframe tbody tr th {\n",
       "        vertical-align: top;\n",
       "    }\n",
       "\n",
       "    .dataframe thead th {\n",
       "        text-align: right;\n",
       "    }\n",
       "</style>\n",
       "<table border=\"1\" class=\"dataframe\">\n",
       "  <thead>\n",
       "    <tr style=\"text-align: right;\">\n",
       "      <th></th>\n",
       "      <th>가격</th>\n",
       "    </tr>\n",
       "    <tr>\n",
       "      <th>과일</th>\n",
       "      <th></th>\n",
       "    </tr>\n",
       "  </thead>\n",
       "  <tbody>\n",
       "    <tr>\n",
       "      <th>바나나</th>\n",
       "      <td>2100</td>\n",
       "    </tr>\n",
       "    <tr>\n",
       "      <th>사과</th>\n",
       "      <td>1266</td>\n",
       "    </tr>\n",
       "  </tbody>\n",
       "</table>\n",
       "</div>"
      ],
      "text/plain": [
       "       가격\n",
       "과일       \n",
       "바나나  2100\n",
       "사과   1266"
      ]
     },
     "execution_count": 25,
     "metadata": {},
     "output_type": "execute_result"
    }
   ],
   "source": [
    "f_data.groupby(by = \"과일\").mean().astype(int)"
   ]
  },
  {
   "cell_type": "markdown",
   "id": "a1b5286a-a442-47d0-81b1-c2a46fef0cb2",
   "metadata": {},
   "source": [
    "두 개 이상의 기준으로 그룹화"
   ]
  },
  {
   "cell_type": "code",
   "execution_count": 26,
   "id": "ea63f665-863e-4bf5-a358-703f010e1b52",
   "metadata": {},
   "outputs": [],
   "source": [
    "# 교육 수준과 성별에 따른 평균연봉을 구해보자."
   ]
  },
  {
   "cell_type": "code",
   "execution_count": 27,
   "id": "952006b1-d9f2-40af-8725-af9cf589db90",
   "metadata": {},
   "outputs": [
    {
     "data": {
      "text/html": [
       "<div>\n",
       "<style scoped>\n",
       "    .dataframe tbody tr th:only-of-type {\n",
       "        vertical-align: middle;\n",
       "    }\n",
       "\n",
       "    .dataframe tbody tr th {\n",
       "        vertical-align: top;\n",
       "    }\n",
       "\n",
       "    .dataframe thead th {\n",
       "        text-align: right;\n",
       "    }\n",
       "</style>\n",
       "<table border=\"1\" class=\"dataframe\">\n",
       "  <thead>\n",
       "    <tr style=\"text-align: right;\">\n",
       "      <th></th>\n",
       "      <th></th>\n",
       "      <th>SALARY</th>\n",
       "    </tr>\n",
       "    <tr>\n",
       "      <th>EDU_LEVEL</th>\n",
       "      <th>GENDER</th>\n",
       "      <th></th>\n",
       "    </tr>\n",
       "  </thead>\n",
       "  <tbody>\n",
       "    <tr>\n",
       "      <th rowspan=\"2\" valign=\"top\">고등학교 졸업</th>\n",
       "      <th>F</th>\n",
       "      <td>6200.000000</td>\n",
       "    </tr>\n",
       "    <tr>\n",
       "      <th>M</th>\n",
       "      <td>6100.000000</td>\n",
       "    </tr>\n",
       "    <tr>\n",
       "      <th rowspan=\"2\" valign=\"top\">박사 학위</th>\n",
       "      <th>F</th>\n",
       "      <td>8425.000000</td>\n",
       "    </tr>\n",
       "    <tr>\n",
       "      <th>M</th>\n",
       "      <td>8037.500000</td>\n",
       "    </tr>\n",
       "    <tr>\n",
       "      <th rowspan=\"2\" valign=\"top\">석사 학위</th>\n",
       "      <th>F</th>\n",
       "      <td>7233.333333</td>\n",
       "    </tr>\n",
       "    <tr>\n",
       "      <th>M</th>\n",
       "      <td>6525.000000</td>\n",
       "    </tr>\n",
       "    <tr>\n",
       "      <th rowspan=\"2\" valign=\"top\">전문대 학위</th>\n",
       "      <th>F</th>\n",
       "      <td>5600.000000</td>\n",
       "    </tr>\n",
       "    <tr>\n",
       "      <th>M</th>\n",
       "      <td>4500.000000</td>\n",
       "    </tr>\n",
       "    <tr>\n",
       "      <th rowspan=\"2\" valign=\"top\">학사 학위</th>\n",
       "      <th>F</th>\n",
       "      <td>5643.076923</td>\n",
       "    </tr>\n",
       "    <tr>\n",
       "      <th>M</th>\n",
       "      <td>5785.106383</td>\n",
       "    </tr>\n",
       "  </tbody>\n",
       "</table>\n",
       "</div>"
      ],
      "text/plain": [
       "                       SALARY\n",
       "EDU_LEVEL GENDER             \n",
       "고등학교 졸업   F       6200.000000\n",
       "          M       6100.000000\n",
       "박사 학위     F       8425.000000\n",
       "          M       8037.500000\n",
       "석사 학위     F       7233.333333\n",
       "          M       6525.000000\n",
       "전문대 학위    F       5600.000000\n",
       "          M       4500.000000\n",
       "학사 학위     F       5643.076923\n",
       "          M       5785.106383"
      ]
     },
     "execution_count": 27,
     "metadata": {},
     "output_type": "execute_result"
    }
   ],
   "source": [
    "hr_info[[\"EDU_LEVEL\", \"GENDER\", \"SALARY\"]].groupby(by = [\"EDU_LEVEL\", \"GENDER\"]).mean()"
   ]
  },
  {
   "cell_type": "code",
   "execution_count": 28,
   "id": "8b1e2af9-46fb-4403-93f0-d0a87cb68495",
   "metadata": {},
   "outputs": [
    {
     "data": {
      "text/html": [
       "<div>\n",
       "<style scoped>\n",
       "    .dataframe tbody tr th:only-of-type {\n",
       "        vertical-align: middle;\n",
       "    }\n",
       "\n",
       "    .dataframe tbody tr th {\n",
       "        vertical-align: top;\n",
       "    }\n",
       "\n",
       "    .dataframe thead tr th {\n",
       "        text-align: left;\n",
       "    }\n",
       "\n",
       "    .dataframe thead tr:last-of-type th {\n",
       "        text-align: right;\n",
       "    }\n",
       "</style>\n",
       "<table border=\"1\" class=\"dataframe\">\n",
       "  <thead>\n",
       "    <tr>\n",
       "      <th></th>\n",
       "      <th></th>\n",
       "      <th colspan=\"4\" halign=\"left\">SALARY</th>\n",
       "    </tr>\n",
       "    <tr>\n",
       "      <th></th>\n",
       "      <th></th>\n",
       "      <th>mean</th>\n",
       "      <th>max</th>\n",
       "      <th>min</th>\n",
       "      <th>median</th>\n",
       "    </tr>\n",
       "    <tr>\n",
       "      <th>EDU_LEVEL</th>\n",
       "      <th>GENDER</th>\n",
       "      <th></th>\n",
       "      <th></th>\n",
       "      <th></th>\n",
       "      <th></th>\n",
       "    </tr>\n",
       "  </thead>\n",
       "  <tbody>\n",
       "    <tr>\n",
       "      <th rowspan=\"2\" valign=\"top\">고등학교 졸업</th>\n",
       "      <th>F</th>\n",
       "      <td>6200.000000</td>\n",
       "      <td>8500</td>\n",
       "      <td>4500</td>\n",
       "      <td>5900.0</td>\n",
       "    </tr>\n",
       "    <tr>\n",
       "      <th>M</th>\n",
       "      <td>6100.000000</td>\n",
       "      <td>7100</td>\n",
       "      <td>4500</td>\n",
       "      <td>6250.0</td>\n",
       "    </tr>\n",
       "    <tr>\n",
       "      <th rowspan=\"2\" valign=\"top\">박사 학위</th>\n",
       "      <th>F</th>\n",
       "      <td>8425.000000</td>\n",
       "      <td>9500</td>\n",
       "      <td>7100</td>\n",
       "      <td>8550.0</td>\n",
       "    </tr>\n",
       "    <tr>\n",
       "      <th>M</th>\n",
       "      <td>8037.500000</td>\n",
       "      <td>10200</td>\n",
       "      <td>5800</td>\n",
       "      <td>8050.0</td>\n",
       "    </tr>\n",
       "    <tr>\n",
       "      <th rowspan=\"2\" valign=\"top\">석사 학위</th>\n",
       "      <th>F</th>\n",
       "      <td>7233.333333</td>\n",
       "      <td>8600</td>\n",
       "      <td>5700</td>\n",
       "      <td>7000.0</td>\n",
       "    </tr>\n",
       "    <tr>\n",
       "      <th>M</th>\n",
       "      <td>6525.000000</td>\n",
       "      <td>7500</td>\n",
       "      <td>5100</td>\n",
       "      <td>6850.0</td>\n",
       "    </tr>\n",
       "    <tr>\n",
       "      <th rowspan=\"2\" valign=\"top\">전문대 학위</th>\n",
       "      <th>F</th>\n",
       "      <td>5600.000000</td>\n",
       "      <td>5600</td>\n",
       "      <td>5600</td>\n",
       "      <td>5600.0</td>\n",
       "    </tr>\n",
       "    <tr>\n",
       "      <th>M</th>\n",
       "      <td>4500.000000</td>\n",
       "      <td>4500</td>\n",
       "      <td>4500</td>\n",
       "      <td>4500.0</td>\n",
       "    </tr>\n",
       "    <tr>\n",
       "      <th rowspan=\"2\" valign=\"top\">학사 학위</th>\n",
       "      <th>F</th>\n",
       "      <td>5643.076923</td>\n",
       "      <td>7400</td>\n",
       "      <td>4500</td>\n",
       "      <td>5600.0</td>\n",
       "    </tr>\n",
       "    <tr>\n",
       "      <th>M</th>\n",
       "      <td>5785.106383</td>\n",
       "      <td>8500</td>\n",
       "      <td>4500</td>\n",
       "      <td>5600.0</td>\n",
       "    </tr>\n",
       "  </tbody>\n",
       "</table>\n",
       "</div>"
      ],
      "text/plain": [
       "                       SALARY                     \n",
       "                         mean    max   min  median\n",
       "EDU_LEVEL GENDER                                  \n",
       "고등학교 졸업   F       6200.000000   8500  4500  5900.0\n",
       "          M       6100.000000   7100  4500  6250.0\n",
       "박사 학위     F       8425.000000   9500  7100  8550.0\n",
       "          M       8037.500000  10200  5800  8050.0\n",
       "석사 학위     F       7233.333333   8600  5700  7000.0\n",
       "          M       6525.000000   7500  5100  6850.0\n",
       "전문대 학위    F       5600.000000   5600  5600  5600.0\n",
       "          M       4500.000000   4500  4500  4500.0\n",
       "학사 학위     F       5643.076923   7400  4500  5600.0\n",
       "          M       5785.106383   8500  4500  5600.0"
      ]
     },
     "execution_count": 28,
     "metadata": {},
     "output_type": "execute_result"
    }
   ],
   "source": [
    "hr_info[[\"EDU_LEVEL\", \"GENDER\", \"SALARY\"]].groupby(by = [\"EDU_LEVEL\", \"GENDER\"]).agg(['mean', 'max', 'min', 'median'])\n",
    "# aggregate : 집계하다"
   ]
  },
  {
   "cell_type": "markdown",
   "id": "f002eceb-75de-4c1e-9959-cf2470f75fd3",
   "metadata": {},
   "source": [
    "그룹화 후 컬럼별로 다른 연산 적용하기"
   ]
  },
  {
   "cell_type": "code",
   "execution_count": 29,
   "id": "8518a3d7-4940-498c-ad3e-00007b732cf5",
   "metadata": {},
   "outputs": [
    {
     "data": {
      "text/html": [
       "<div>\n",
       "<style scoped>\n",
       "    .dataframe tbody tr th:only-of-type {\n",
       "        vertical-align: middle;\n",
       "    }\n",
       "\n",
       "    .dataframe tbody tr th {\n",
       "        vertical-align: top;\n",
       "    }\n",
       "\n",
       "    .dataframe thead th {\n",
       "        text-align: right;\n",
       "    }\n",
       "</style>\n",
       "<table border=\"1\" class=\"dataframe\">\n",
       "  <thead>\n",
       "    <tr style=\"text-align: right;\">\n",
       "      <th></th>\n",
       "      <th>PERFORMANCE_SCORE</th>\n",
       "      <th>SALARY</th>\n",
       "    </tr>\n",
       "    <tr>\n",
       "      <th>NATION</th>\n",
       "      <th></th>\n",
       "      <th></th>\n",
       "    </tr>\n",
       "  </thead>\n",
       "  <tbody>\n",
       "    <tr>\n",
       "      <th>China</th>\n",
       "      <td>2.550000</td>\n",
       "      <td>7400</td>\n",
       "    </tr>\n",
       "    <tr>\n",
       "      <th>India</th>\n",
       "      <td>1.854545</td>\n",
       "      <td>8300</td>\n",
       "    </tr>\n",
       "    <tr>\n",
       "      <th>Japan</th>\n",
       "      <td>2.672381</td>\n",
       "      <td>8600</td>\n",
       "    </tr>\n",
       "    <tr>\n",
       "      <th>KOREA</th>\n",
       "      <td>1.461765</td>\n",
       "      <td>10200</td>\n",
       "    </tr>\n",
       "    <tr>\n",
       "      <th>UK</th>\n",
       "      <td>2.692778</td>\n",
       "      <td>7300</td>\n",
       "    </tr>\n",
       "    <tr>\n",
       "      <th>USA</th>\n",
       "      <td>2.329091</td>\n",
       "      <td>8500</td>\n",
       "    </tr>\n",
       "  </tbody>\n",
       "</table>\n",
       "</div>"
      ],
      "text/plain": [
       "        PERFORMANCE_SCORE  SALARY\n",
       "NATION                           \n",
       "China            2.550000    7400\n",
       "India            1.854545    8300\n",
       "Japan            2.672381    8600\n",
       "KOREA            1.461765   10200\n",
       "UK               2.692778    7300\n",
       "USA              2.329091    8500"
      ]
     },
     "execution_count": 29,
     "metadata": {},
     "output_type": "execute_result"
    }
   ],
   "source": [
    "# 국적에 따른 평균 성과평가점수, 최대 연봉 확인하기\n",
    "hr_info.groupby(by = \"NATION\").agg({\"PERFORMANCE_SCORE\":\"mean\", \"SALARY\":\"max\"})"
   ]
  },
  {
   "cell_type": "markdown",
   "id": "a0e6361e-83cd-4b43-880a-290c1d3fc4bb",
   "metadata": {},
   "source": [
    "#### 연습문제\n",
    "- 조직코드별로 평균성과평가 점수와 평균연봉을 확인해보자.\n",
    "- \"ORG_CD\" -> 조직코드 \"PERFORMANCE_SCORE\" -> 성과평가 점수 \"SALARY\" -> 연봉\n",
    "- 성과평가 점수와 연봉의 상관관계를 파악해보자."
   ]
  },
  {
   "cell_type": "code",
   "execution_count": 30,
   "id": "dbc84375-0b31-4601-ad69-7d781ee5dbf2",
   "metadata": {},
   "outputs": [
    {
     "data": {
      "text/html": [
       "<div>\n",
       "<style scoped>\n",
       "    .dataframe tbody tr th:only-of-type {\n",
       "        vertical-align: middle;\n",
       "    }\n",
       "\n",
       "    .dataframe tbody tr th {\n",
       "        vertical-align: top;\n",
       "    }\n",
       "\n",
       "    .dataframe thead th {\n",
       "        text-align: right;\n",
       "    }\n",
       "</style>\n",
       "<table border=\"1\" class=\"dataframe\">\n",
       "  <thead>\n",
       "    <tr style=\"text-align: right;\">\n",
       "      <th></th>\n",
       "      <th>PERFORMANCE_SCORE</th>\n",
       "      <th>SALARY</th>\n",
       "    </tr>\n",
       "    <tr>\n",
       "      <th>ORG_CD</th>\n",
       "      <th></th>\n",
       "      <th></th>\n",
       "    </tr>\n",
       "  </thead>\n",
       "  <tbody>\n",
       "    <tr>\n",
       "      <th>ORG001</th>\n",
       "      <td>0.655000</td>\n",
       "      <td>5033.333333</td>\n",
       "    </tr>\n",
       "    <tr>\n",
       "      <th>ORG002</th>\n",
       "      <td>1.742500</td>\n",
       "      <td>6550.000000</td>\n",
       "    </tr>\n",
       "    <tr>\n",
       "      <th>ORG003</th>\n",
       "      <td>2.500000</td>\n",
       "      <td>6480.000000</td>\n",
       "    </tr>\n",
       "    <tr>\n",
       "      <th>ORG004</th>\n",
       "      <td>2.872727</td>\n",
       "      <td>6445.454545</td>\n",
       "    </tr>\n",
       "    <tr>\n",
       "      <th>ORG005</th>\n",
       "      <td>1.076250</td>\n",
       "      <td>5525.000000</td>\n",
       "    </tr>\n",
       "    <tr>\n",
       "      <th>ORG006</th>\n",
       "      <td>1.708333</td>\n",
       "      <td>5966.666667</td>\n",
       "    </tr>\n",
       "    <tr>\n",
       "      <th>ORG007</th>\n",
       "      <td>2.817143</td>\n",
       "      <td>6728.571429</td>\n",
       "    </tr>\n",
       "    <tr>\n",
       "      <th>ORG008</th>\n",
       "      <td>1.322000</td>\n",
       "      <td>6020.000000</td>\n",
       "    </tr>\n",
       "    <tr>\n",
       "      <th>ORG009</th>\n",
       "      <td>1.870000</td>\n",
       "      <td>5520.000000</td>\n",
       "    </tr>\n",
       "    <tr>\n",
       "      <th>ORG010</th>\n",
       "      <td>2.230000</td>\n",
       "      <td>6300.000000</td>\n",
       "    </tr>\n",
       "    <tr>\n",
       "      <th>ORG011</th>\n",
       "      <td>2.064000</td>\n",
       "      <td>6660.000000</td>\n",
       "    </tr>\n",
       "    <tr>\n",
       "      <th>ORG012</th>\n",
       "      <td>3.036000</td>\n",
       "      <td>5680.000000</td>\n",
       "    </tr>\n",
       "    <tr>\n",
       "      <th>ORG013</th>\n",
       "      <td>1.840000</td>\n",
       "      <td>5950.000000</td>\n",
       "    </tr>\n",
       "    <tr>\n",
       "      <th>ORG014</th>\n",
       "      <td>1.427500</td>\n",
       "      <td>6025.000000</td>\n",
       "    </tr>\n",
       "    <tr>\n",
       "      <th>ORG015</th>\n",
       "      <td>0.000000</td>\n",
       "      <td>5000.000000</td>\n",
       "    </tr>\n",
       "    <tr>\n",
       "      <th>ORG016</th>\n",
       "      <td>1.948750</td>\n",
       "      <td>6500.000000</td>\n",
       "    </tr>\n",
       "    <tr>\n",
       "      <th>ORG017</th>\n",
       "      <td>1.919000</td>\n",
       "      <td>5520.000000</td>\n",
       "    </tr>\n",
       "    <tr>\n",
       "      <th>ORG018</th>\n",
       "      <td>0.966667</td>\n",
       "      <td>5716.666667</td>\n",
       "    </tr>\n",
       "    <tr>\n",
       "      <th>ORG019</th>\n",
       "      <td>1.464000</td>\n",
       "      <td>5440.000000</td>\n",
       "    </tr>\n",
       "    <tr>\n",
       "      <th>ORG020</th>\n",
       "      <td>0.830000</td>\n",
       "      <td>5066.666667</td>\n",
       "    </tr>\n",
       "    <tr>\n",
       "      <th>ORG021</th>\n",
       "      <td>2.257500</td>\n",
       "      <td>6400.000000</td>\n",
       "    </tr>\n",
       "    <tr>\n",
       "      <th>ORG022</th>\n",
       "      <td>3.680000</td>\n",
       "      <td>6025.000000</td>\n",
       "    </tr>\n",
       "    <tr>\n",
       "      <th>ORG023</th>\n",
       "      <td>1.645000</td>\n",
       "      <td>5658.333333</td>\n",
       "    </tr>\n",
       "    <tr>\n",
       "      <th>ORG024</th>\n",
       "      <td>1.544000</td>\n",
       "      <td>5740.000000</td>\n",
       "    </tr>\n",
       "    <tr>\n",
       "      <th>ORG025</th>\n",
       "      <td>2.202500</td>\n",
       "      <td>6200.000000</td>\n",
       "    </tr>\n",
       "    <tr>\n",
       "      <th>ORG026</th>\n",
       "      <td>1.006000</td>\n",
       "      <td>5140.000000</td>\n",
       "    </tr>\n",
       "    <tr>\n",
       "      <th>ORG027</th>\n",
       "      <td>1.774286</td>\n",
       "      <td>6228.571429</td>\n",
       "    </tr>\n",
       "    <tr>\n",
       "      <th>ORG028</th>\n",
       "      <td>2.735000</td>\n",
       "      <td>6150.000000</td>\n",
       "    </tr>\n",
       "    <tr>\n",
       "      <th>ORG029</th>\n",
       "      <td>2.912500</td>\n",
       "      <td>6275.000000</td>\n",
       "    </tr>\n",
       "    <tr>\n",
       "      <th>ORG030</th>\n",
       "      <td>1.777000</td>\n",
       "      <td>5550.000000</td>\n",
       "    </tr>\n",
       "  </tbody>\n",
       "</table>\n",
       "</div>"
      ],
      "text/plain": [
       "        PERFORMANCE_SCORE       SALARY\n",
       "ORG_CD                                \n",
       "ORG001           0.655000  5033.333333\n",
       "ORG002           1.742500  6550.000000\n",
       "ORG003           2.500000  6480.000000\n",
       "ORG004           2.872727  6445.454545\n",
       "ORG005           1.076250  5525.000000\n",
       "ORG006           1.708333  5966.666667\n",
       "ORG007           2.817143  6728.571429\n",
       "ORG008           1.322000  6020.000000\n",
       "ORG009           1.870000  5520.000000\n",
       "ORG010           2.230000  6300.000000\n",
       "ORG011           2.064000  6660.000000\n",
       "ORG012           3.036000  5680.000000\n",
       "ORG013           1.840000  5950.000000\n",
       "ORG014           1.427500  6025.000000\n",
       "ORG015           0.000000  5000.000000\n",
       "ORG016           1.948750  6500.000000\n",
       "ORG017           1.919000  5520.000000\n",
       "ORG018           0.966667  5716.666667\n",
       "ORG019           1.464000  5440.000000\n",
       "ORG020           0.830000  5066.666667\n",
       "ORG021           2.257500  6400.000000\n",
       "ORG022           3.680000  6025.000000\n",
       "ORG023           1.645000  5658.333333\n",
       "ORG024           1.544000  5740.000000\n",
       "ORG025           2.202500  6200.000000\n",
       "ORG026           1.006000  5140.000000\n",
       "ORG027           1.774286  6228.571429\n",
       "ORG028           2.735000  6150.000000\n",
       "ORG029           2.912500  6275.000000\n",
       "ORG030           1.777000  5550.000000"
      ]
     },
     "execution_count": 30,
     "metadata": {},
     "output_type": "execute_result"
    }
   ],
   "source": [
    "hr_info[[\"ORG_CD\", \"PERFORMANCE_SCORE\", \"SALARY\"]].groupby(by = \"ORG_CD\").mean()"
   ]
  },
  {
   "cell_type": "markdown",
   "id": "06603873-70ed-498a-b4f3-4de336ddceea",
   "metadata": {},
   "source": [
    "### 4. 상관계수 분석\n",
    "- 두 변수 사이의 관계를 수치화해서 분석해보자."
   ]
  },
  {
   "attachments": {
    "20198851-f037-4fda-b736-ed07c3231ef9.png": {
     "image/png": "[encoded data removed]"
    },
    "defcbebe-e59d-46cb-a322-6b3229955fba.png": {
     "image/png": "[encoded data removed]"
    },
    "eba8d897-5ee3-4ed1-ad90-ae49c8efe0e2.png": {
     "image/png": "[encoded data removed]"
    }
   },
   "cell_type": "markdown",
   "id": "75eb2bfe-ac25-4966-9f48-77469be9b74c",
   "metadata": {},
   "source": [
    "### 공분산, 표준편차, 상관계수\n",
    "- 상관계수 : 두 변수 간 상관관계의 강도를 나타낸다(수치로 확인 가능) -> -1 ~ 1\n",
    "  - 1 : 비례\n",
    "  - -1 : 반비례\n",
    "  - 0 : 관계X\n",
    "![image.png](attachment:defcbebe-e59d-46cb-a322-6b3229955fba.png)\n",
    "---\n",
    "- 표준편차 : 데이터 값이 평균값을 기준으로 얼마나 흩어져있는지 알 수 있는 값\n",
    "- 작은 표준편차: 데이터가 평균값 근처에 밀집되어있다.\n",
    "- 큰 표준편차 : 데이터가 평균값에서 많이 퍼져있다.\n",
    "![image.png](attachment:20198851-f037-4fda-b736-ed07c3231ef9.png)\n",
    "---\n",
    "- 공분산 : 두 특성 간의 선형관계를 수치화하여 나타낸 값\n",
    "  - 양의 공분산 : 비례\n",
    "  - 음의 공분산 : 반비례\n",
    "  - 0에 가까운 공분산 : 관계X\n",
    "![image.png](attachment:eba8d897-5ee3-4ed1-ad90-ae49c8efe0e2.png)"
   ]
  },
  {
   "attachments": {
    "c78e0311-22d7-45cb-8f9a-d579030c8633.png": {
     "image/png": "[encoded data removed]"
    }
   },
   "cell_type": "markdown",
   "id": "b9f3e8b9-267b-4a70-a785-3768f90f7c58",
   "metadata": {},
   "source": [
    "![image.png](attachment:c78e0311-22d7-45cb-8f9a-d579030c8633.png)"
   ]
  },
  {
   "cell_type": "code",
   "execution_count": 31,
   "id": "adf2410c-d704-4e9b-a9cc-5993b8651b08",
   "metadata": {},
   "outputs": [
    {
     "data": {
      "text/html": [
       "<div>\n",
       "<style scoped>\n",
       "    .dataframe tbody tr th:only-of-type {\n",
       "        vertical-align: middle;\n",
       "    }\n",
       "\n",
       "    .dataframe tbody tr th {\n",
       "        vertical-align: top;\n",
       "    }\n",
       "\n",
       "    .dataframe thead th {\n",
       "        text-align: right;\n",
       "    }\n",
       "</style>\n",
       "<table border=\"1\" class=\"dataframe\">\n",
       "  <thead>\n",
       "    <tr style=\"text-align: right;\">\n",
       "      <th></th>\n",
       "      <th>공부한시간</th>\n",
       "      <th>시험점수</th>\n",
       "    </tr>\n",
       "  </thead>\n",
       "  <tbody>\n",
       "    <tr>\n",
       "      <th>0</th>\n",
       "      <td>2</td>\n",
       "      <td>60</td>\n",
       "    </tr>\n",
       "    <tr>\n",
       "      <th>1</th>\n",
       "      <td>4</td>\n",
       "      <td>70</td>\n",
       "    </tr>\n",
       "    <tr>\n",
       "      <th>2</th>\n",
       "      <td>6</td>\n",
       "      <td>80</td>\n",
       "    </tr>\n",
       "    <tr>\n",
       "      <th>3</th>\n",
       "      <td>8</td>\n",
       "      <td>90</td>\n",
       "    </tr>\n",
       "  </tbody>\n",
       "</table>\n",
       "</div>"
      ],
      "text/plain": [
       "   공부한시간  시험점수\n",
       "0      2    60\n",
       "1      4    70\n",
       "2      6    80\n",
       "3      8    90"
      ]
     },
     "execution_count": 31,
     "metadata": {},
     "output_type": "execute_result"
    }
   ],
   "source": [
    "import pandas as pd\n",
    "\n",
    "# 데이터\n",
    "X = [2, 4, 6, 8]        # 공부한 시간\n",
    "Y = [60, 70, 80, 90]    # 시험 점수\n",
    "\n",
    "# DataFrame 생성\n",
    "df = pd.DataFrame({\n",
    "    '공부한시간': X,\n",
    "    '시험점수': Y\n",
    "})\n",
    "df"
   ]
  },
  {
   "cell_type": "code",
   "execution_count": 32,
   "id": "34ab51ad-1fba-45be-9aae-e1a7ca574596",
   "metadata": {},
   "outputs": [
    {
     "data": {
      "text/html": [
       "<div>\n",
       "<style scoped>\n",
       "    .dataframe tbody tr th:only-of-type {\n",
       "        vertical-align: middle;\n",
       "    }\n",
       "\n",
       "    .dataframe tbody tr th {\n",
       "        vertical-align: top;\n",
       "    }\n",
       "\n",
       "    .dataframe thead th {\n",
       "        text-align: right;\n",
       "    }\n",
       "</style>\n",
       "<table border=\"1\" class=\"dataframe\">\n",
       "  <thead>\n",
       "    <tr style=\"text-align: right;\">\n",
       "      <th></th>\n",
       "      <th>공부한시간</th>\n",
       "      <th>시험점수</th>\n",
       "    </tr>\n",
       "  </thead>\n",
       "  <tbody>\n",
       "    <tr>\n",
       "      <th>공부한시간</th>\n",
       "      <td>1.0</td>\n",
       "      <td>1.0</td>\n",
       "    </tr>\n",
       "    <tr>\n",
       "      <th>시험점수</th>\n",
       "      <td>1.0</td>\n",
       "      <td>1.0</td>\n",
       "    </tr>\n",
       "  </tbody>\n",
       "</table>\n",
       "</div>"
      ],
      "text/plain": [
       "       공부한시간  시험점수\n",
       "공부한시간    1.0   1.0\n",
       "시험점수     1.0   1.0"
      ]
     },
     "execution_count": 32,
     "metadata": {},
     "output_type": "execute_result"
    }
   ],
   "source": [
    "df.corr() # correlation"
   ]
  },
  {
   "cell_type": "code",
   "execution_count": 33,
   "id": "bd9d7176-8301-4a04-b04c-03f52d0812a3",
   "metadata": {},
   "outputs": [
    {
     "data": {
      "text/html": [
       "<div>\n",
       "<style scoped>\n",
       "    .dataframe tbody tr th:only-of-type {\n",
       "        vertical-align: middle;\n",
       "    }\n",
       "\n",
       "    .dataframe tbody tr th {\n",
       "        vertical-align: top;\n",
       "    }\n",
       "\n",
       "    .dataframe thead th {\n",
       "        text-align: right;\n",
       "    }\n",
       "</style>\n",
       "<table border=\"1\" class=\"dataframe\">\n",
       "  <thead>\n",
       "    <tr style=\"text-align: right;\">\n",
       "      <th></th>\n",
       "      <th>PERFORMANCE_SCORE</th>\n",
       "      <th>SALARY</th>\n",
       "    </tr>\n",
       "  </thead>\n",
       "  <tbody>\n",
       "    <tr>\n",
       "      <th>PERFORMANCE_SCORE</th>\n",
       "      <td>1.000000</td>\n",
       "      <td>0.665089</td>\n",
       "    </tr>\n",
       "    <tr>\n",
       "      <th>SALARY</th>\n",
       "      <td>0.665089</td>\n",
       "      <td>1.000000</td>\n",
       "    </tr>\n",
       "  </tbody>\n",
       "</table>\n",
       "</div>"
      ],
      "text/plain": [
       "                   PERFORMANCE_SCORE    SALARY\n",
       "PERFORMANCE_SCORE           1.000000  0.665089\n",
       "SALARY                      0.665089  1.000000"
      ]
     },
     "execution_count": 33,
     "metadata": {},
     "output_type": "execute_result"
    }
   ],
   "source": [
    "result = hr_info[[\"ORG_CD\", \"PERFORMANCE_SCORE\", \"SALARY\"]].groupby(by = \"ORG_CD\").mean()\n",
    "result.corr()"
   ]
  },
  {
   "cell_type": "code",
   "execution_count": 34,
   "id": "001b5a00-5321-4110-8162-d25635002933",
   "metadata": {},
   "outputs": [
    {
     "data": {
      "text/html": [
       "<div>\n",
       "<style scoped>\n",
       "    .dataframe tbody tr th:only-of-type {\n",
       "        vertical-align: middle;\n",
       "    }\n",
       "\n",
       "    .dataframe tbody tr th {\n",
       "        vertical-align: top;\n",
       "    }\n",
       "\n",
       "    .dataframe thead th {\n",
       "        text-align: right;\n",
       "    }\n",
       "</style>\n",
       "<table border=\"1\" class=\"dataframe\">\n",
       "  <thead>\n",
       "    <tr style=\"text-align: right;\">\n",
       "      <th></th>\n",
       "      <th>PERFORMANCE_SCORE</th>\n",
       "      <th>SALARY</th>\n",
       "      <th>TRAINING_HOURS</th>\n",
       "      <th>AGE</th>\n",
       "      <th>SERVICE_YEAR</th>\n",
       "    </tr>\n",
       "  </thead>\n",
       "  <tbody>\n",
       "    <tr>\n",
       "      <th>PERFORMANCE_SCORE</th>\n",
       "      <td>1.000000</td>\n",
       "      <td>0.609152</td>\n",
       "      <td>0.551200</td>\n",
       "      <td>0.582203</td>\n",
       "      <td>0.492801</td>\n",
       "    </tr>\n",
       "    <tr>\n",
       "      <th>SALARY</th>\n",
       "      <td>0.609152</td>\n",
       "      <td>1.000000</td>\n",
       "      <td>0.628931</td>\n",
       "      <td>0.961699</td>\n",
       "      <td>0.970875</td>\n",
       "    </tr>\n",
       "    <tr>\n",
       "      <th>TRAINING_HOURS</th>\n",
       "      <td>0.551200</td>\n",
       "      <td>0.628931</td>\n",
       "      <td>1.000000</td>\n",
       "      <td>0.575867</td>\n",
       "      <td>0.559911</td>\n",
       "    </tr>\n",
       "    <tr>\n",
       "      <th>AGE</th>\n",
       "      <td>0.582203</td>\n",
       "      <td>0.961699</td>\n",
       "      <td>0.575867</td>\n",
       "      <td>1.000000</td>\n",
       "      <td>0.932563</td>\n",
       "    </tr>\n",
       "    <tr>\n",
       "      <th>SERVICE_YEAR</th>\n",
       "      <td>0.492801</td>\n",
       "      <td>0.970875</td>\n",
       "      <td>0.559911</td>\n",
       "      <td>0.932563</td>\n",
       "      <td>1.000000</td>\n",
       "    </tr>\n",
       "  </tbody>\n",
       "</table>\n",
       "</div>"
      ],
      "text/plain": [
       "                   PERFORMANCE_SCORE    SALARY  TRAINING_HOURS       AGE  \\\n",
       "PERFORMANCE_SCORE           1.000000  0.609152        0.551200  0.582203   \n",
       "SALARY                      0.609152  1.000000        0.628931  0.961699   \n",
       "TRAINING_HOURS              0.551200  0.628931        1.000000  0.575867   \n",
       "AGE                         0.582203  0.961699        0.575867  1.000000   \n",
       "SERVICE_YEAR                0.492801  0.970875        0.559911  0.932563   \n",
       "\n",
       "                   SERVICE_YEAR  \n",
       "PERFORMANCE_SCORE      0.492801  \n",
       "SALARY                 0.970875  \n",
       "TRAINING_HOURS         0.559911  \n",
       "AGE                    0.932563  \n",
       "SERVICE_YEAR           1.000000  "
      ]
     },
     "execution_count": 34,
     "metadata": {},
     "output_type": "execute_result"
    }
   ],
   "source": [
    "# 수치데이터 전체 상관계수 파악\n",
    "hr_info[[\"PERFORMANCE_SCORE\", \"SALARY\", \"TRAINING_HOURS\", \"AGE\", \"SERVICE_YEAR\"]].corr()"
   ]
  }
 ],
 "metadata": {
  "kernelspec": {
   "display_name": "Python 3 (ipykernel)",
   "language": "python",
   "name": "python3"
  },
  "language_info": {
   "codemirror_mode": {
    "name": "ipython",
    "version": 3
   },
   "file_extension": ".py",
   "mimetype": "text/x-python",
   "name": "python",
   "nbconvert_exporter": "python",
   "pygments_lexer": "ipython3",
   "version": "3.13.5"
  }
 },
 "nbformat": 4,
 "nbformat_minor": 5
}
