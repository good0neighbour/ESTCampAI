{
 "cells": [
  {
   "cell_type": "markdown",
   "id": "c486dcca-ca81-4318-8f48-516566b058d4",
   "metadata": {},
   "source": [
    "구내식당 관리자 A씨는 요즘 음식 재고로 인해 스트레스를 받고 있음\n",
    "구내식당에 오는 사람을 감으로 예측을 하고 있었는데 어떤 날은 적게, 어떤 날은 많게 오는 경우가 허다해서 재고 관리 측면에서 손실을 크게 보고 있음\n",
    "\n",
    "메뉴 정보 + 식수 근무자 정보 데이터를 활용해 식수를 예측하고 재고 관리를 효율적으로 하고자함."
   ]
  },
  {
   "cell_type": "markdown",
   "id": "3022709d-174f-4480-9b18-34fe3c26434f",
   "metadata": {},
   "source": [
    "## 문제정의\n",
    "- BX : 매장의 음식 재고를 효율적으로 관리하여 손실을 최소화하고 운영 효율성을 높이자\n",
    "- CX : 적정한 식수 예측 → 식사 시간대에 음식이 부족하거나 남지 않도록 하여 고객의 불만을 줄이고 만족도를 높여보자\n",
    "- DX : 식수 예측과 관련된 정보를 지속적으로 확인하고 개선\n",
    "    - 본사정원수, 본사휴가자수, 본사출장자수, 본사시간외근무명령서승인건수, 중식계, 석식계, 요일, 메뉴 정보\n",
    "- Trigger : 최근 매장의 음식 재고 관리 문제로 인한 손실 발생 증가\n",
    "- Accelerator : 메뉴 정보, 근무자의 정보, 중식 및 석식 식수 데이터 등\n",
    "- Tracker : 식수 예측 정확도와 재고 손실 변화 추이 확인 및 분석\n",
    "\n",
    "BX : 회사 입장에서 정리한 문제\n",
    "CX : 고객 입장에서 정리한 문제\n",
    "DX : 디지털 경험에서 정리한 문제"
   ]
  },
  {
   "cell_type": "code",
   "execution_count": 29,
   "id": "eca9d4f7-2af9-4218-a589-b5094c24cfbf",
   "metadata": {},
   "outputs": [],
   "source": [
    "# 라이브러리 불러오기\n",
    "import pandas as pd\n",
    "import numpy as np\n",
    "import matplotlib.pyplot as plt\n",
    "\n",
    "# matplotlib 관련 모듈을 추가로 import\n",
    "import matplotlib.font_manager as fm\n",
    "import matplotlib as mpl"
   ]
  },
  {
   "cell_type": "code",
   "execution_count": 30,
   "id": "c7a82b0b-c39d-4b96-ba0e-a35d0f80b0b1",
   "metadata": {},
   "outputs": [],
   "source": [
    "# 한글 폰트 설정\n",
    "# plt.rcParams['']\n",
    "plt.rc('font', family = 'Gulim')\n",
    "# plt.rcParams['font.family'] = 'Gulim'\n",
    "\n",
    "# 한글이 표기가 안 될 때 ㅁㅁㅁㅁ xxxxxx\n",
    "# 이렇게 표시 안 되도록 설정(한글 깨지는 것 방지)\n",
    "plt.rcParams['axes.unicode_minus'] = False"
   ]
  },
  {
   "cell_type": "code",
   "execution_count": 31,
   "id": "f81137d4-1257-4e03-bd2b-298d32774d37",
   "metadata": {},
   "outputs": [],
   "source": [
    "# 데이터 불러오기.\n",
    "# encoding = 'cp949'\n",
    "# cafeteria.csv 파일 불러와서 df에 저장\n",
    "df = pd.read_csv(\"./data/Cafeteria.csv\", encoding = \"cp949\")\n",
    "# 한글 인코딩 : utf-8, euc-kr, cp949"
   ]
  },
  {
   "cell_type": "markdown",
   "id": "5c87664d-f7b1-4755-8332-83ac22d461a7",
   "metadata": {},
   "source": [
    "- 데이터 정보\n",
    "\n",
    "| 컬럼명                    | 설명                                     |\n",
    "|--------------------------|----------------------------------------|\n",
    "| 일자                     | 데이터가 수집된 날짜                    |\n",
    "| 요일                     | 해당 날짜의 요일                        |\n",
    "| 본사정원수               | 본사에 근무하는 전체 직원 수             |\n",
    "| 본사휴가자수             | 본사에 휴가 중인 직원 수                |\n",
    "| 본사출장자수             | 본사에 출장 중인 직원 수                |\n",
    "| 본사시간외근무명령서승인건수 | 본사에서 승인된 시간 외 근무 명령서 건수  |\n",
    "| 현본사소속재택근무자수   | 본사 소속 중 재택 근무 중인 직원 수     |\n",
    "| 조식메뉴                 | 해당 날짜의 조식 메뉴                   |\n",
    "| 중식메뉴                 | 해당 날짜의 중식 메뉴                   |\n",
    "| 석식메뉴                 | 해당 날짜의 석식 메뉴                   |\n",
    "| 중식계                   | 해당 날짜에 중식을 이용한 직원 수       |\n",
    "| 석식계                   | 해당 날짜에 석식을 이용한 직원 수       |"
   ]
  },
  {
   "cell_type": "code",
   "execution_count": 32,
   "id": "644ac220-494f-4f5c-99bb-3b1df30c9b96",
   "metadata": {},
   "outputs": [
    {
     "name": "stdout",
     "output_type": "stream",
     "text": [
      "<class 'pandas.core.frame.DataFrame'>\n",
      "RangeIndex: 1205 entries, 0 to 1204\n",
      "Data columns (total 12 columns):\n",
      " #   Column          Non-Null Count  Dtype  \n",
      "---  ------          --------------  -----  \n",
      " 0   일자              1205 non-null   object \n",
      " 1   요일              1205 non-null   object \n",
      " 2   본사정원수           1205 non-null   int64  \n",
      " 3   본사휴가자수          1205 non-null   int64  \n",
      " 4   본사출장자수          1205 non-null   int64  \n",
      " 5   본사시간외근무명령서승인건수  1205 non-null   int64  \n",
      " 6   현본사소속재택근무자수     1205 non-null   float64\n",
      " 7   조식메뉴            1205 non-null   object \n",
      " 8   중식메뉴            1205 non-null   object \n",
      " 9   석식메뉴            1205 non-null   object \n",
      " 10  중식계             1205 non-null   float64\n",
      " 11  석식계             1205 non-null   float64\n",
      "dtypes: float64(3), int64(4), object(5)\n",
      "memory usage: 113.1+ KB\n"
     ]
    }
   ],
   "source": [
    "# 데이터 정보 확인\n",
    "df.info()\n",
    "# 1205개의 행, 12개의 컬럼 (1205, 12)\n",
    "# 결측치는 없음\n",
    "# 일자, 요일, 메뉴 정보는 문자열 나머지는 수치형"
   ]
  },
  {
   "cell_type": "code",
   "execution_count": 33,
   "id": "54f7bbd4-cd8f-4440-aa33-eb22439bf607",
   "metadata": {},
   "outputs": [
    {
     "data": {
      "text/html": [
       "<div>\n",
       "<style scoped>\n",
       "    .dataframe tbody tr th:only-of-type {\n",
       "        vertical-align: middle;\n",
       "    }\n",
       "\n",
       "    .dataframe tbody tr th {\n",
       "        vertical-align: top;\n",
       "    }\n",
       "\n",
       "    .dataframe thead th {\n",
       "        text-align: right;\n",
       "    }\n",
       "</style>\n",
       "<table border=\"1\" class=\"dataframe\">\n",
       "  <thead>\n",
       "    <tr style=\"text-align: right;\">\n",
       "      <th></th>\n",
       "      <th>일자</th>\n",
       "      <th>요일</th>\n",
       "      <th>본사정원수</th>\n",
       "      <th>본사휴가자수</th>\n",
       "      <th>본사출장자수</th>\n",
       "      <th>본사시간외근무명령서승인건수</th>\n",
       "      <th>현본사소속재택근무자수</th>\n",
       "      <th>조식메뉴</th>\n",
       "      <th>중식메뉴</th>\n",
       "      <th>석식메뉴</th>\n",
       "      <th>중식계</th>\n",
       "      <th>석식계</th>\n",
       "    </tr>\n",
       "  </thead>\n",
       "  <tbody>\n",
       "    <tr>\n",
       "      <th>0</th>\n",
       "      <td>2016-02-01</td>\n",
       "      <td>월</td>\n",
       "      <td>2601</td>\n",
       "      <td>50</td>\n",
       "      <td>150</td>\n",
       "      <td>238</td>\n",
       "      <td>0.0</td>\n",
       "      <td>모닝롤/찐빵  우유/두유/주스 계란후라이  호두죽/쌀밥 (쌀:국내산) 된장찌개  쥐...</td>\n",
       "      <td>쌀밥/잡곡밥 (쌀,현미흑미:국내산) 오징어찌개  쇠불고기 (쇠고기:호주산) 계란찜 ...</td>\n",
       "      <td>쌀밥/잡곡밥 (쌀,현미흑미:국내산) 육개장  자반고등어구이  두부조림  건파래무침 ...</td>\n",
       "      <td>1039.0</td>\n",
       "      <td>331.0</td>\n",
       "    </tr>\n",
       "    <tr>\n",
       "      <th>1</th>\n",
       "      <td>2016-02-02</td>\n",
       "      <td>화</td>\n",
       "      <td>2601</td>\n",
       "      <td>50</td>\n",
       "      <td>173</td>\n",
       "      <td>319</td>\n",
       "      <td>0.0</td>\n",
       "      <td>모닝롤/단호박샌드  우유/두유/주스 계란후라이  팥죽/쌀밥 (쌀:국내산) 호박젓국찌...</td>\n",
       "      <td>쌀밥/잡곡밥 (쌀,현미흑미:국내산) 김치찌개  가자미튀김  모둠소세지구이  마늘쫑무...</td>\n",
       "      <td>콩나물밥*양념장 (쌀,현미흑미:국내산) 어묵국  유산슬 (쇠고기:호주산) 아삭고추무...</td>\n",
       "      <td>867.0</td>\n",
       "      <td>560.0</td>\n",
       "    </tr>\n",
       "    <tr>\n",
       "      <th>2</th>\n",
       "      <td>2016-02-03</td>\n",
       "      <td>수</td>\n",
       "      <td>2601</td>\n",
       "      <td>56</td>\n",
       "      <td>180</td>\n",
       "      <td>111</td>\n",
       "      <td>0.0</td>\n",
       "      <td>모닝롤/베이글  우유/두유/주스 계란후라이  표고버섯죽/쌀밥 (쌀:국내산) 콩나물국...</td>\n",
       "      <td>카레덮밥 (쌀,현미흑미:국내산) 팽이장국  치킨핑거 (닭고기:국내산) 쫄면야채무침 ...</td>\n",
       "      <td>쌀밥/잡곡밥 (쌀,현미흑미:국내산) 청국장찌개  황태양념구이 (황태:러시아산) 고기...</td>\n",
       "      <td>1017.0</td>\n",
       "      <td>573.0</td>\n",
       "    </tr>\n",
       "  </tbody>\n",
       "</table>\n",
       "</div>"
      ],
      "text/plain": [
       "           일자 요일  본사정원수  본사휴가자수  본사출장자수  본사시간외근무명령서승인건수  현본사소속재택근무자수  \\\n",
       "0  2016-02-01  월   2601      50     150             238          0.0   \n",
       "1  2016-02-02  화   2601      50     173             319          0.0   \n",
       "2  2016-02-03  수   2601      56     180             111          0.0   \n",
       "\n",
       "                                                조식메뉴  \\\n",
       "0  모닝롤/찐빵  우유/두유/주스 계란후라이  호두죽/쌀밥 (쌀:국내산) 된장찌개  쥐...   \n",
       "1  모닝롤/단호박샌드  우유/두유/주스 계란후라이  팥죽/쌀밥 (쌀:국내산) 호박젓국찌...   \n",
       "2  모닝롤/베이글  우유/두유/주스 계란후라이  표고버섯죽/쌀밥 (쌀:국내산) 콩나물국...   \n",
       "\n",
       "                                                중식메뉴  \\\n",
       "0  쌀밥/잡곡밥 (쌀,현미흑미:국내산) 오징어찌개  쇠불고기 (쇠고기:호주산) 계란찜 ...   \n",
       "1  쌀밥/잡곡밥 (쌀,현미흑미:국내산) 김치찌개  가자미튀김  모둠소세지구이  마늘쫑무...   \n",
       "2  카레덮밥 (쌀,현미흑미:국내산) 팽이장국  치킨핑거 (닭고기:국내산) 쫄면야채무침 ...   \n",
       "\n",
       "                                                석식메뉴     중식계    석식계  \n",
       "0  쌀밥/잡곡밥 (쌀,현미흑미:국내산) 육개장  자반고등어구이  두부조림  건파래무침 ...  1039.0  331.0  \n",
       "1  콩나물밥*양념장 (쌀,현미흑미:국내산) 어묵국  유산슬 (쇠고기:호주산) 아삭고추무...   867.0  560.0  \n",
       "2  쌀밥/잡곡밥 (쌀,현미흑미:국내산) 청국장찌개  황태양념구이 (황태:러시아산) 고기...  1017.0  573.0  "
      ]
     },
     "execution_count": 33,
     "metadata": {},
     "output_type": "execute_result"
    }
   ],
   "source": [
    "# 데이터 생플링\n",
    "df.head(3)\n",
    "# 일자는 년-월-일로 구성된 데이터(영어, 한글 아님)\n",
    "# python에서 제공하는 날짜 자료형을 활용해 일자 컬럼을 처리해보자."
   ]
  },
  {
   "cell_type": "code",
   "execution_count": 34,
   "id": "51be1587-e1a1-4e08-96c8-8fe919f1483f",
   "metadata": {},
   "outputs": [],
   "source": [
    "import datetime\n",
    "# 날짜(시간) 관련된 연산, 비교같은 기능을 제공하는 모듈"
   ]
  },
  {
   "cell_type": "code",
   "execution_count": 35,
   "id": "4c0690a1-d6e5-44e2-a96f-75362a255d9f",
   "metadata": {},
   "outputs": [],
   "source": [
    "# 1. 문자열 데이터를 날짜 자료형으로 변환\n",
    "df['일자'] = pd.to_datetime(df['일자'])\n",
    "# 2. 기존 데이터에 덮어씌우기"
   ]
  },
  {
   "cell_type": "code",
   "execution_count": 36,
   "id": "d87b2836-aa97-44ca-8e61-ff82bfa8ad73",
   "metadata": {},
   "outputs": [
    {
     "data": {
      "text/plain": [
       "(Timestamp('2016-02-01 00:00:00'), Timestamp('2021-01-26 00:00:00'))"
      ]
     },
     "execution_count": 36,
     "metadata": {},
     "output_type": "execute_result"
    }
   ],
   "source": [
    "# 1. 주어진 데이터가 언제부터 언제까지 데이터인지 확인.\n",
    "df['일자'].min(), df['일자'].max()\n",
    "# 2016-02-01 ~ 2021-01-26"
   ]
  },
  {
   "cell_type": "code",
   "execution_count": 37,
   "id": "57eeb5f8-37c1-46aa-928a-0a40a8c3b2fa",
   "metadata": {},
   "outputs": [],
   "source": [
    "# 요일별 식수 차이를 시각화해서 확인.\n",
    "# 요일별로 그룹화해서 평균 식수계 확인.\n",
    "df_day = df.groupby('요일')[['중식계', '석식계']].mean()\n",
    "# df[['요일', '중식계', '석식계']].groupby('요일').mean()"
   ]
  },
  {
   "cell_type": "code",
   "execution_count": 38,
   "id": "843938dc-09e2-4757-bd3b-54456cbedddc",
   "metadata": {},
   "outputs": [
    {
     "data": {
      "text/html": [
       "<div>\n",
       "<style scoped>\n",
       "    .dataframe tbody tr th:only-of-type {\n",
       "        vertical-align: middle;\n",
       "    }\n",
       "\n",
       "    .dataframe tbody tr th {\n",
       "        vertical-align: top;\n",
       "    }\n",
       "\n",
       "    .dataframe thead th {\n",
       "        text-align: right;\n",
       "    }\n",
       "</style>\n",
       "<table border=\"1\" class=\"dataframe\">\n",
       "  <thead>\n",
       "    <tr style=\"text-align: right;\">\n",
       "      <th></th>\n",
       "      <th>중식계</th>\n",
       "      <th>석식계</th>\n",
       "    </tr>\n",
       "  </thead>\n",
       "  <tbody>\n",
       "    <tr>\n",
       "      <th>월</th>\n",
       "      <td>1144.331950</td>\n",
       "      <td>538.933610</td>\n",
       "    </tr>\n",
       "    <tr>\n",
       "      <th>화</th>\n",
       "      <td>925.620833</td>\n",
       "      <td>520.129167</td>\n",
       "    </tr>\n",
       "    <tr>\n",
       "      <th>수</th>\n",
       "      <td>905.213389</td>\n",
       "      <td>363.615063</td>\n",
       "    </tr>\n",
       "    <tr>\n",
       "      <th>목</th>\n",
       "      <td>823.991803</td>\n",
       "      <td>480.401639</td>\n",
       "    </tr>\n",
       "    <tr>\n",
       "      <th>금</th>\n",
       "      <td>653.609959</td>\n",
       "      <td>404.979253</td>\n",
       "    </tr>\n",
       "  </tbody>\n",
       "</table>\n",
       "</div>"
      ],
      "text/plain": [
       "           중식계         석식계\n",
       "월  1144.331950  538.933610\n",
       "화   925.620833  520.129167\n",
       "수   905.213389  363.615063\n",
       "목   823.991803  480.401639\n",
       "금   653.609959  404.979253"
      ]
     },
     "execution_count": 38,
     "metadata": {},
     "output_type": "execute_result"
    }
   ],
   "source": [
    "# 인덱스를 월, 화, 수, 목, 금, 순으로 바꾸기.\n",
    "\n",
    "df_day = pd.DataFrame(df_day, index=['월', '화', '수', '목', '금'])\n",
    "df_day"
   ]
  },
  {
   "cell_type": "code",
   "execution_count": 39,
   "id": "396190d3-c9f6-4dcc-8336-e97eccdef724",
   "metadata": {},
   "outputs": [],
   "source": [
    "# 차트 배경 어둡게(다크 모드)\n",
    "plt.style.use(['dark_background'])"
   ]
  },
  {
   "cell_type": "code",
   "execution_count": 40,
   "id": "16ea5a53-1b9e-4d18-9bf1-7b27fb52f350",
   "metadata": {},
   "outputs": [
    {
     "data": {
      "image/png": "[encoded data removed]",
      "text/plain": [
       "<Figure size 640x480 with 1 Axes>"
      ]
     },
     "metadata": {},
     "output_type": "display_data"
    }
   ],
   "source": [
    "# df_day 활용해서 그래프 그리기\n",
    "# 1. 월-금별 중식계 시각화 그래프\n",
    "df_day.plot(kind = 'bar', y = '중식계')\n",
    "plt.title('요일 평균 중식계')\n",
    "plt.show()"
   ]
  },
  {
   "cell_type": "code",
   "execution_count": 41,
   "id": "5d26aab8-d91d-4d22-a4b9-d85b60d1be82",
   "metadata": {},
   "outputs": [
    {
     "data": {
      "image/png": "[encoded data removed]",
      "text/plain": [
       "<Figure size 640x480 with 1 Axes>"
      ]
     },
     "metadata": {},
     "output_type": "display_data"
    }
   ],
   "source": [
    "# 2. 월-금별 석식계 시각화 그래프\n",
    "df_day.plot(kind = 'bar', y = '석식계', color = 'green')\n",
    "plt.title('요일 평균 석식계')\n",
    "plt.show()"
   ]
  },
  {
   "cell_type": "code",
   "execution_count": 42,
   "id": "860e1013-cb49-4caa-aa27-16180be8db88",
   "metadata": {},
   "outputs": [
    {
     "data": {
      "image/png": "[encoded data removed]",
      "text/plain": [
       "<Figure size 1200x450 with 2 Axes>"
      ]
     },
     "metadata": {},
     "output_type": "display_data"
    }
   ],
   "source": [
    "# 그래프를 한 개의 도화지 안에 나눠그리기.\n",
    "plt.figure(figsize = (12, 4.5))\n",
    "\n",
    "plt.subplot(1, 2, 1)\n",
    "plt.bar(x = df_day.index, height = df_day['중식계'])\n",
    "plt.title('요일 평균 중식계')\n",
    "\n",
    "# 월요일이 중식계에 대한 식수가 가장 많음\n",
    "# 주 초반에 직원들이 회사에 많이 출근하고 점심을 먹는 경향이 있음을 나타냄\n",
    "# 주 후반으로 갈수록 식수는 감소하며, 금요일이 가장 낮은 중식계 시수를 보임\n",
    "\n",
    "plt.subplot(1, 2, 2)\n",
    "plt.bar(x = df_day.index, height = df_day['석식계'], color = 'green')\n",
    "plt.title('요일 평균 석식계')\n",
    "\n",
    "# 석식계 또한 월요일이 가장 많음을 확인\n",
    "# → 월요일에 늦게까지 일하는 직원들이 많음을 의미\n",
    "\n",
    "# 수요일에 식수가 감소함\n",
    "# → 주중 중반의 수요일이라, 많은 직원들이 피로를 느낄 수 있음\n",
    "# → 또는 정기적인 외부 미팅이나 회의가 잡혀있는 경우,\n",
    "#    외부에서의 식사를 고려할 수 있음\n",
    "\n",
    "# 목요일의 석식계 식수 증가\n",
    "# 주 후반에 접어들며, 업무 마감을 준비하는 시기로 원인을 유추해볼 수 있음\n",
    "\n",
    "# 금요일의 석식계 식수 감소\n",
    "# 많은 직원들이 주말을 앞두고 조기 퇴근하거나,\n",
    "# 사회적 약속이 많은 시기이므로 외부에서 식사하는 경우가 있는 듯 함\n",
    "\n",
    "plt.show()"
   ]
  },
  {
   "cell_type": "code",
   "execution_count": 43,
   "id": "1a710110-0c5f-40ea-9b18-163e25e65fcf",
   "metadata": {},
   "outputs": [],
   "source": [
    "# 월별로 통계 확인\n",
    "# datetime 자료형 활용\n",
    "df['month'] = df['일자'].dt.month # 날짜별로 월만 추출\n",
    "# 새로운 month 컬럼 추가"
   ]
  },
  {
   "cell_type": "code",
   "execution_count": 44,
   "id": "24315b81-c1f0-449c-a6e7-3563ea5139fd",
   "metadata": {},
   "outputs": [
    {
     "name": "stdout",
     "output_type": "stream",
     "text": [
      "<class 'pandas.core.frame.DataFrame'>\n",
      "RangeIndex: 1205 entries, 0 to 1204\n",
      "Data columns (total 13 columns):\n",
      " #   Column          Non-Null Count  Dtype         \n",
      "---  ------          --------------  -----         \n",
      " 0   일자              1205 non-null   datetime64[ns]\n",
      " 1   요일              1205 non-null   object        \n",
      " 2   본사정원수           1205 non-null   int64         \n",
      " 3   본사휴가자수          1205 non-null   int64         \n",
      " 4   본사출장자수          1205 non-null   int64         \n",
      " 5   본사시간외근무명령서승인건수  1205 non-null   int64         \n",
      " 6   현본사소속재택근무자수     1205 non-null   float64       \n",
      " 7   조식메뉴            1205 non-null   object        \n",
      " 8   중식메뉴            1205 non-null   object        \n",
      " 9   석식메뉴            1205 non-null   object        \n",
      " 10  중식계             1205 non-null   float64       \n",
      " 11  석식계             1205 non-null   float64       \n",
      " 12  month           1205 non-null   int32         \n",
      "dtypes: datetime64[ns](1), float64(3), int32(1), int64(4), object(4)\n",
      "memory usage: 117.8+ KB\n"
     ]
    }
   ],
   "source": [
    "df.info()"
   ]
  },
  {
   "cell_type": "code",
   "execution_count": 45,
   "id": "74b9c8bb-6e82-4a0d-8840-0f7e45ea8f19",
   "metadata": {},
   "outputs": [
    {
     "data": {
      "image/png": "[encoded data removed]",
      "text/plain": [
       "<Figure size 1200x450 with 2 Axes>"
      ]
     },
     "metadata": {},
     "output_type": "display_data"
    }
   ],
   "source": [
    "# 월별 중식계, 석식계 평균\n",
    "\n",
    "# 1. df_month 변수에 월별 평균 중식계, 석식계 저장\n",
    "df_month = df[['month', '중식계', '석식계']].groupby('month').mean()\n",
    "\n",
    "# 2. 시각화(subplot 활용)\n",
    "# 월별 평균 중식계, 석식계 그래프 그려보기\n",
    "plt.figure(figsize = (12, 4.5))\n",
    "\n",
    "plt.subplot(1, 2, 1)\n",
    "plt.title('월별 평균 중식계')\n",
    "plt.xticks(df_month.index) # 모든 x축 출력하기\n",
    "plt.bar(x = df_month.index, height = df_month['중식계'])\n",
    "\n",
    "plt.subplot(1, 2, 2)\n",
    "plt.title('월별 평균 석식계')\n",
    "plt.xticks(df_month.index) # 모든 x축 출력하기\n",
    "plt.bar(x = df_month.index, height = df_month['석식계'], color = 'green')\n",
    "\n",
    "plt.show()\n",
    "# 2, 3월 식수가 높음 → 신입 사원 채용으로 먹는 사람의 인원 자체가 증가할 가능성이 있음\n",
    "# 4~8월 휴가를 가는 사람들이 슬슬 생겨나서 인원이 감소\n",
    "\n",
    "# 전체적으로 봤을 때는 차이가 거의 나보이지는 않음"
   ]
  },
  {
   "cell_type": "code",
   "execution_count": 46,
   "id": "7540ecf3-3bb2-4510-985a-647762fda004",
   "metadata": {},
   "outputs": [
    {
     "data": {
      "text/html": [
       "<div>\n",
       "<style scoped>\n",
       "    .dataframe tbody tr th:only-of-type {\n",
       "        vertical-align: middle;\n",
       "    }\n",
       "\n",
       "    .dataframe tbody tr th {\n",
       "        vertical-align: top;\n",
       "    }\n",
       "\n",
       "    .dataframe thead th {\n",
       "        text-align: right;\n",
       "    }\n",
       "</style>\n",
       "<table border=\"1\" class=\"dataframe\">\n",
       "  <thead>\n",
       "    <tr style=\"text-align: right;\">\n",
       "      <th></th>\n",
       "      <th>일자</th>\n",
       "      <th>요일</th>\n",
       "      <th>본사정원수</th>\n",
       "      <th>본사휴가자수</th>\n",
       "      <th>본사출장자수</th>\n",
       "      <th>본사시간외근무명령서승인건수</th>\n",
       "      <th>현본사소속재택근무자수</th>\n",
       "      <th>조식메뉴</th>\n",
       "      <th>중식메뉴</th>\n",
       "      <th>석식메뉴</th>\n",
       "      <th>중식계</th>\n",
       "      <th>석식계</th>\n",
       "      <th>month</th>\n",
       "    </tr>\n",
       "  </thead>\n",
       "  <tbody>\n",
       "    <tr>\n",
       "      <th>0</th>\n",
       "      <td>2016-02-01</td>\n",
       "      <td>월</td>\n",
       "      <td>2601</td>\n",
       "      <td>50</td>\n",
       "      <td>150</td>\n",
       "      <td>238</td>\n",
       "      <td>0.0</td>\n",
       "      <td>모닝롤/찐빵  우유/두유/주스 계란후라이  호두죽/쌀밥 (쌀:국내산) 된장찌개  쥐...</td>\n",
       "      <td>쌀밥/잡곡밥 (쌀,현미흑미:국내산) 오징어찌개  쇠불고기 (쇠고기:호주산) 계란찜 ...</td>\n",
       "      <td>쌀밥/잡곡밥 (쌀,현미흑미:국내산) 육개장  자반고등어구이  두부조림  건파래무침 ...</td>\n",
       "      <td>1039.0</td>\n",
       "      <td>331.0</td>\n",
       "      <td>2</td>\n",
       "    </tr>\n",
       "    <tr>\n",
       "      <th>1</th>\n",
       "      <td>2016-02-02</td>\n",
       "      <td>화</td>\n",
       "      <td>2601</td>\n",
       "      <td>50</td>\n",
       "      <td>173</td>\n",
       "      <td>319</td>\n",
       "      <td>0.0</td>\n",
       "      <td>모닝롤/단호박샌드  우유/두유/주스 계란후라이  팥죽/쌀밥 (쌀:국내산) 호박젓국찌...</td>\n",
       "      <td>쌀밥/잡곡밥 (쌀,현미흑미:국내산) 김치찌개  가자미튀김  모둠소세지구이  마늘쫑무...</td>\n",
       "      <td>콩나물밥*양념장 (쌀,현미흑미:국내산) 어묵국  유산슬 (쇠고기:호주산) 아삭고추무...</td>\n",
       "      <td>867.0</td>\n",
       "      <td>560.0</td>\n",
       "      <td>2</td>\n",
       "    </tr>\n",
       "    <tr>\n",
       "      <th>2</th>\n",
       "      <td>2016-02-03</td>\n",
       "      <td>수</td>\n",
       "      <td>2601</td>\n",
       "      <td>56</td>\n",
       "      <td>180</td>\n",
       "      <td>111</td>\n",
       "      <td>0.0</td>\n",
       "      <td>모닝롤/베이글  우유/두유/주스 계란후라이  표고버섯죽/쌀밥 (쌀:국내산) 콩나물국...</td>\n",
       "      <td>카레덮밥 (쌀,현미흑미:국내산) 팽이장국  치킨핑거 (닭고기:국내산) 쫄면야채무침 ...</td>\n",
       "      <td>쌀밥/잡곡밥 (쌀,현미흑미:국내산) 청국장찌개  황태양념구이 (황태:러시아산) 고기...</td>\n",
       "      <td>1017.0</td>\n",
       "      <td>573.0</td>\n",
       "      <td>2</td>\n",
       "    </tr>\n",
       "  </tbody>\n",
       "</table>\n",
       "</div>"
      ],
      "text/plain": [
       "          일자 요일  본사정원수  본사휴가자수  본사출장자수  본사시간외근무명령서승인건수  현본사소속재택근무자수  \\\n",
       "0 2016-02-01  월   2601      50     150             238          0.0   \n",
       "1 2016-02-02  화   2601      50     173             319          0.0   \n",
       "2 2016-02-03  수   2601      56     180             111          0.0   \n",
       "\n",
       "                                                조식메뉴  \\\n",
       "0  모닝롤/찐빵  우유/두유/주스 계란후라이  호두죽/쌀밥 (쌀:국내산) 된장찌개  쥐...   \n",
       "1  모닝롤/단호박샌드  우유/두유/주스 계란후라이  팥죽/쌀밥 (쌀:국내산) 호박젓국찌...   \n",
       "2  모닝롤/베이글  우유/두유/주스 계란후라이  표고버섯죽/쌀밥 (쌀:국내산) 콩나물국...   \n",
       "\n",
       "                                                중식메뉴  \\\n",
       "0  쌀밥/잡곡밥 (쌀,현미흑미:국내산) 오징어찌개  쇠불고기 (쇠고기:호주산) 계란찜 ...   \n",
       "1  쌀밥/잡곡밥 (쌀,현미흑미:국내산) 김치찌개  가자미튀김  모둠소세지구이  마늘쫑무...   \n",
       "2  카레덮밥 (쌀,현미흑미:국내산) 팽이장국  치킨핑거 (닭고기:국내산) 쫄면야채무침 ...   \n",
       "\n",
       "                                                석식메뉴     중식계    석식계  month  \n",
       "0  쌀밥/잡곡밥 (쌀,현미흑미:국내산) 육개장  자반고등어구이  두부조림  건파래무침 ...  1039.0  331.0      2  \n",
       "1  콩나물밥*양념장 (쌀,현미흑미:국내산) 어묵국  유산슬 (쇠고기:호주산) 아삭고추무...   867.0  560.0      2  \n",
       "2  쌀밥/잡곡밥 (쌀,현미흑미:국내산) 청국장찌개  황태양념구이 (황태:러시아산) 고기...  1017.0  573.0      2  "
      ]
     },
     "execution_count": 46,
     "metadata": {},
     "output_type": "execute_result"
    }
   ],
   "source": [
    "df.head(3)\n",
    "# 식수에 영향을 미치는 '메뉴'를 분석해보고 싶음\n",
    "# 메뉴를 보고 구내식당에서 먹을지 외식을 할 건지 결정\n",
    "# 메뉴 분석 전 전처리 과정이 필요함"
   ]
  },
  {
   "cell_type": "markdown",
   "id": "589f952a-690c-42c1-b24b-9e32ea63ba65",
   "metadata": {},
   "source": [
    "### 메뉴 전처리."
   ]
  },
  {
   "cell_type": "code",
   "execution_count": 47,
   "id": "be877567-9247-4bcd-a580-0e8f2fab5124",
   "metadata": {},
   "outputs": [
    {
     "data": {
      "text/plain": [
       "'모닝롤/찐빵  우유/두유/주스 계란후라이  호두죽/쌀밥 (쌀:국내산) 된장찌개  쥐어채무침  포기김치 (배추,고추가루:국내산) '"
      ]
     },
     "execution_count": 47,
     "metadata": {},
     "output_type": "execute_result"
    }
   ],
   "source": [
    "df['조식메뉴'][0]\n",
    "# 메뉴가 공백(띄어쓰기)으로 구분되어있기는 하나 들쑥날쑥하게 구분이 되어있음\n",
    "# ' ' → 로 바꿔서 확인."
   ]
  },
  {
   "cell_type": "code",
   "execution_count": 48,
   "id": "e23100b1-efff-4528-ba5b-cde1282057f8",
   "metadata": {},
   "outputs": [
    {
     "data": {
      "text/plain": [
       "'모닝롤/찐빵**우유/두유/주스*계란후라이**호두죽/쌀밥*(쌀:국내산)*된장찌개**쥐어채무침**포기김치*(배추,고추가루:국내산)*'"
      ]
     },
     "execution_count": 48,
     "metadata": {},
     "output_type": "execute_result"
    }
   ],
   "source": [
    "df['조식메뉴'][0].replace(' ', '*')\n",
    "# 공백으로 나눠져 있지만 균일하지 않게 한 개, 두 개로 엉망진창 구분이 돼있음"
   ]
  },
  {
   "cell_type": "code",
   "execution_count": 49,
   "id": "d0eaf72a-1922-4d1d-b662-b85f165371a8",
   "metadata": {},
   "outputs": [],
   "source": [
    "# 띄어쓰기 3 → 2, 띄어쓰기 2 → 1\n",
    "df['조식메뉴'] = df['조식메뉴'].str.replace(\"   \", \"  \")\n",
    "df['중식메뉴'] = df['중식메뉴'].str.replace(\"   \", \"  \")\n",
    "df['석식메뉴'] = df['석식메뉴'].str.replace(\"   \", \"  \")\n",
    "\n",
    "df['조식메뉴'] = df['조식메뉴'].str.replace(\"  \", \" \")\n",
    "df['중식메뉴'] = df['중식메뉴'].str.replace(\"  \", \" \")\n",
    "df['석식메뉴'] = df['석식메뉴'].str.replace(\"  \", \" \")\n",
    "\n",
    "# 띄어쓰기 1개를 기준으로 문자열 분리"
   ]
  },
  {
   "cell_type": "code",
   "execution_count": 50,
   "id": "64d89422-6777-4915-b63e-11d18284467d",
   "metadata": {},
   "outputs": [
    {
     "data": {
      "text/plain": [
       "'모닝롤/찐빵 우유/두유/주스 계란후라이 호두죽/쌀밥 (쌀:국내산) 된장찌개 쥐어채무침 포기김치 (배추,고추가루:국내산) '"
      ]
     },
     "execution_count": 50,
     "metadata": {},
     "output_type": "execute_result"
    }
   ],
   "source": [
    "df['조식메뉴'][0]"
   ]
  },
  {
   "cell_type": "code",
   "execution_count": 51,
   "id": "1c259dd4-aac2-405f-a55d-cc5627d91fca",
   "metadata": {},
   "outputs": [
    {
     "data": {
      "text/plain": [
       "'모닝롤/찐빵*우유/두유/주스*계란후라이*호두죽/쌀밥*(쌀:국내산)*된장찌개*쥐어채무침*포기김치*(배추,고추가루:국내산)*'"
      ]
     },
     "execution_count": 51,
     "metadata": {},
     "output_type": "execute_result"
    }
   ],
   "source": [
    "df['조식메뉴'][0].replace(' ', '*')"
   ]
  },
  {
   "cell_type": "code",
   "execution_count": 52,
   "id": "10db270c-61ab-4553-9ed3-261984f761c2",
   "metadata": {},
   "outputs": [],
   "source": [
    "# 띄어쓰기를 기준으로 문자열 분리\n",
    "df['조식메뉴'] = df['조식메뉴'].str.split(' ')\n",
    "# 여러번 실행시키지 말기."
   ]
  },
  {
   "cell_type": "code",
   "execution_count": 53,
   "id": "7c384922-a6ec-421a-9c4e-0d1d7b446d7c",
   "metadata": {},
   "outputs": [
    {
     "data": {
      "text/plain": [
       "0       [모닝롤/찐빵, 우유/두유/주스, 계란후라이, 호두죽/쌀밥, (쌀:국내산), 된장찌...\n",
       "1       [모닝롤/단호박샌드, 우유/두유/주스, 계란후라이, 팥죽/쌀밥, (쌀:국내산), 호...\n",
       "2       [모닝롤/베이글, 우유/두유/주스, 계란후라이, 표고버섯죽/쌀밥, (쌀:국내산), ...\n",
       "3       [모닝롤/토마토샌드, 우유/두유/주스, 계란후라이, 닭죽/쌀밥, (쌀,닭:국내산),...\n",
       "4       [모닝롤/와플, 우유/두유/주스, 계란후라이, 쇠고기죽/쌀밥, (쌀:국내산), 재첩...\n",
       "                              ...                        \n",
       "1200    [모닝롤/페퍼로니피자, 우유/주스, 계란후라이/찐계란, 크루통크림스프/흑미밥, 아귀...\n",
       "1201    [모닝롤/생크림단팥빵, 우유/주스, 계란후라이/찐계란, 누룽지탕/흑미밥, 떡국, 해...\n",
       "1202    [모닝롤/BLT샌드위치, 우유/주스, 계란후라이/찐계란, 흑임자죽/흑미밥, 바지락살...\n",
       "1203    [모닝롤/호박고구마오븐구이, 우유/주스, 계란후라이/찐계란, 누룽지탕/흑미밥, 감자...\n",
       "1204    [모닝롤/야채샌드, 우유/주스, 계란후라이/찐계란, 참치죽/흑미밥, 홍합탕, 애호박...\n",
       "Name: 조식메뉴, Length: 1205, dtype: object"
      ]
     },
     "execution_count": 53,
     "metadata": {},
     "output_type": "execute_result"
    }
   ],
   "source": [
    "df['조식메뉴']"
   ]
  },
  {
   "cell_type": "code",
   "execution_count": 54,
   "id": "6b49251c-8e18-400b-a6bd-8c00acf724ec",
   "metadata": {},
   "outputs": [],
   "source": [
    "df['중식메뉴'] = df['중식메뉴'].str.split(' ')\n",
    "df['석식메뉴'] = df['석식메뉴'].str.split(' ')"
   ]
  },
  {
   "cell_type": "code",
   "execution_count": 55,
   "id": "766b938f-f363-4887-a824-aaaf5a0056dd",
   "metadata": {},
   "outputs": [
    {
     "name": "stdout",
     "output_type": "stream",
     "text": [
      "['쌀밥/잡곡밥', '(쌀,현미흑미:국내산)', '오징어찌개', '쇠불고기', '(쇠고기:호주산)', '계란찜', '청포묵무침', '요구르트', '포기김치', '(배추,고추가루:국내산)', '']\n",
      "['쌀밥/잡곡밥', '(쌀,현미흑미:국내산)', '육개장', '자반고등어구이', '두부조림', '건파래무침', '포기김치', '(김치:국내산)', '']\n"
     ]
    }
   ],
   "source": [
    "print(df['중식메뉴'][0])\n",
    "print(df['석식메뉴'][0])"
   ]
  },
  {
   "cell_type": "code",
   "execution_count": 62,
   "id": "8fa4e36c-2473-42c7-a817-8749d1561c82",
   "metadata": {},
   "outputs": [],
   "source": [
    "# TF-IDF를 활용해 중요한 메뉴를 선정해보자.\n",
    "# 공백을 기준으로 메뉴를 살펴보았을 때, 방문 혼잡도에 가장 영향을 미치는 요소는 메인 메뉴라고 판단됨\n",
    "# 메뉴 선정에 불필요한 정보인 원산지 삭제\n",
    "import re\n",
    "from sklearn.feature_extraction.text import TfidfVectorizer\n",
    "# TF-IDF(Term Frequency - Inverse Document Frequency)\n",
    "# 문서 내 단어의 빈도와 전체 문서에서의 희귀성을 반영한 가중치를 계산한 점수"
   ]
  },
  {
   "cell_type": "code",
   "execution_count": 58,
   "id": "2d24d99a-a175-46d6-be6e-8059c3bba227",
   "metadata": {},
   "outputs": [],
   "source": [
    "# TF-IDF를 위해 리스트를 문자열로 변환하여 저장\n",
    "df['조식메뉴'] = df['조식메뉴'].apply(lambda x : ' '.join(x))\n",
    "df['중식메뉴'] = df['중식메뉴'].apply(lambda x : ' '.join(x))\n",
    "df['석식메뉴'] = df['석식메뉴'].apply(lambda x : ' '.join(x))\n",
    "# lambda(익명 함수) : 주로 간단한 함수(재사용이 필요없는)가 필요할 때 사용"
   ]
  },
  {
   "cell_type": "code",
   "execution_count": 59,
   "id": "81110df7-cb91-4630-8e80-e8cbf7b24abe",
   "metadata": {},
   "outputs": [
    {
     "data": {
      "text/plain": [
       "0    모닝롤/찐빵 우유/두유/주스 계란후라이 호두죽/쌀밥 (쌀:국내산) 된장찌개 쥐어채무...\n",
       "Name: 조식메뉴, dtype: object"
      ]
     },
     "execution_count": 59,
     "metadata": {},
     "output_type": "execute_result"
    }
   ],
   "source": [
    "df['조식메뉴'].head(1)"
   ]
  },
  {
   "cell_type": "code",
   "execution_count": 60,
   "id": "7bcf0661-ba76-4656-b0f2-5d98624136a9",
   "metadata": {},
   "outputs": [],
   "source": [
    "# 불필요한 정보(원산지 정보) 제거 함수 정의\n",
    "def remove_pattern(text):\n",
    "    return re.sub(r'\\([^)]*\\)', '', text)\n",
    "# \\( : 여는 괄호 (의미\n",
    "# [^)]* : )를 제외한 모든 문자를 *(0번 이상 반복) 의미\n",
    "# \\) : 닫는 괄호 )의미"
   ]
  },
  {
   "cell_type": "code",
   "execution_count": 63,
   "id": "7bbcb023-19f9-4f1b-b1dc-739bf4f97779",
   "metadata": {},
   "outputs": [
    {
     "data": {
      "text/plain": [
       "'모닝롤/찐빵 우유/두유/주스 계란후라이 호두죽/쌀밥  된장찌개 쥐어채무침 포기김치  '"
      ]
     },
     "execution_count": 63,
     "metadata": {},
     "output_type": "execute_result"
    }
   ],
   "source": [
    "remove_pattern(df['조식메뉴'][0])"
   ]
  },
  {
   "cell_type": "markdown",
   "id": "92002121-ad15-4bee-8af7-39a62b01da88",
   "metadata": {},
   "source": [
    "### TF-IDF 활용하여 단어의 중요도 계산해주고, 상위 1ea 메뉴만 선정"
   ]
  },
  {
   "cell_type": "code",
   "execution_count": 64,
   "id": "6e7207e2-b265-4d7b-ae3b-ec668eb12913",
   "metadata": {},
   "outputs": [],
   "source": [
    "vectorizer = TfidfVectorizer() # TF-IDF 객체 초기화"
   ]
  },
  {
   "cell_type": "code",
   "execution_count": 65,
   "id": "8ac01d65-ee7c-49e6-9984-8c11ac2cae7f",
   "metadata": {},
   "outputs": [],
   "source": [
    "# 조식, 중식, 석식 메뉴별 TF-IDF 점수 변환\n",
    "X = vectorizer.fit_transform(df['중식메뉴'])"
   ]
  },
  {
   "cell_type": "code",
   "execution_count": 66,
   "id": "63831f56-180b-44de-a87f-7fd8221f07de",
   "metadata": {},
   "outputs": [
    {
     "data": {
      "text/plain": [
       "array(['d오리엔탈d', 'la갈비구이', 'new', ..., '흑임자드레싱', '흑임자연근샐러드', '히레카츠'],\n",
       "      dtype=object)"
      ]
     },
     "execution_count": 66,
     "metadata": {},
     "output_type": "execute_result"
    }
   ],
   "source": [
    "vectorizer.get_feature_names_out()"
   ]
  },
  {
   "cell_type": "code",
   "execution_count": 67,
   "id": "5d73bc25-9f23-4d7f-823b-6c250a577a99",
   "metadata": {},
   "outputs": [
    {
     "data": {
      "text/html": [
       "<div>\n",
       "<style scoped>\n",
       "    .dataframe tbody tr th:only-of-type {\n",
       "        vertical-align: middle;\n",
       "    }\n",
       "\n",
       "    .dataframe tbody tr th {\n",
       "        vertical-align: top;\n",
       "    }\n",
       "\n",
       "    .dataframe thead th {\n",
       "        text-align: right;\n",
       "    }\n",
       "</style>\n",
       "<table border=\"1\" class=\"dataframe\">\n",
       "  <thead>\n",
       "    <tr style=\"text-align: right;\">\n",
       "      <th></th>\n",
       "      <th>d오리엔탈d</th>\n",
       "      <th>la갈비구이</th>\n",
       "      <th>new</th>\n",
       "      <th>가래떡구이</th>\n",
       "      <th>가래떡돼지갈비찜</th>\n",
       "      <th>가래떡츄러스</th>\n",
       "      <th>가자미무조림</th>\n",
       "      <th>가자미양념찜</th>\n",
       "      <th>가자미엿장구이</th>\n",
       "      <th>가자미엿장조림</th>\n",
       "      <th>...</th>\n",
       "      <th>훈제오리냉채</th>\n",
       "      <th>훈제오리단호박볶음</th>\n",
       "      <th>훈제오리마늘볶음</th>\n",
       "      <th>훈제오리볶음</th>\n",
       "      <th>흑미</th>\n",
       "      <th>흑미밥</th>\n",
       "      <th>흑임자d</th>\n",
       "      <th>흑임자드레싱</th>\n",
       "      <th>흑임자연근샐러드</th>\n",
       "      <th>히레카츠</th>\n",
       "    </tr>\n",
       "  </thead>\n",
       "  <tbody>\n",
       "    <tr>\n",
       "      <th>0</th>\n",
       "      <td>0.0</td>\n",
       "      <td>0.0</td>\n",
       "      <td>0.0</td>\n",
       "      <td>0.0</td>\n",
       "      <td>0.0</td>\n",
       "      <td>0.0</td>\n",
       "      <td>0.0</td>\n",
       "      <td>0.0</td>\n",
       "      <td>0.0</td>\n",
       "      <td>0.0</td>\n",
       "      <td>...</td>\n",
       "      <td>0.0</td>\n",
       "      <td>0.0</td>\n",
       "      <td>0.0</td>\n",
       "      <td>0.0</td>\n",
       "      <td>0.0</td>\n",
       "      <td>0.0</td>\n",
       "      <td>0.0</td>\n",
       "      <td>0.0</td>\n",
       "      <td>0.0</td>\n",
       "      <td>0.0</td>\n",
       "    </tr>\n",
       "    <tr>\n",
       "      <th>1</th>\n",
       "      <td>0.0</td>\n",
       "      <td>0.0</td>\n",
       "      <td>0.0</td>\n",
       "      <td>0.0</td>\n",
       "      <td>0.0</td>\n",
       "      <td>0.0</td>\n",
       "      <td>0.0</td>\n",
       "      <td>0.0</td>\n",
       "      <td>0.0</td>\n",
       "      <td>0.0</td>\n",
       "      <td>...</td>\n",
       "      <td>0.0</td>\n",
       "      <td>0.0</td>\n",
       "      <td>0.0</td>\n",
       "      <td>0.0</td>\n",
       "      <td>0.0</td>\n",
       "      <td>0.0</td>\n",
       "      <td>0.0</td>\n",
       "      <td>0.0</td>\n",
       "      <td>0.0</td>\n",
       "      <td>0.0</td>\n",
       "    </tr>\n",
       "    <tr>\n",
       "      <th>2</th>\n",
       "      <td>0.0</td>\n",
       "      <td>0.0</td>\n",
       "      <td>0.0</td>\n",
       "      <td>0.0</td>\n",
       "      <td>0.0</td>\n",
       "      <td>0.0</td>\n",
       "      <td>0.0</td>\n",
       "      <td>0.0</td>\n",
       "      <td>0.0</td>\n",
       "      <td>0.0</td>\n",
       "      <td>...</td>\n",
       "      <td>0.0</td>\n",
       "      <td>0.0</td>\n",
       "      <td>0.0</td>\n",
       "      <td>0.0</td>\n",
       "      <td>0.0</td>\n",
       "      <td>0.0</td>\n",
       "      <td>0.0</td>\n",
       "      <td>0.0</td>\n",
       "      <td>0.0</td>\n",
       "      <td>0.0</td>\n",
       "    </tr>\n",
       "    <tr>\n",
       "      <th>3</th>\n",
       "      <td>0.0</td>\n",
       "      <td>0.0</td>\n",
       "      <td>0.0</td>\n",
       "      <td>0.0</td>\n",
       "      <td>0.0</td>\n",
       "      <td>0.0</td>\n",
       "      <td>0.0</td>\n",
       "      <td>0.0</td>\n",
       "      <td>0.0</td>\n",
       "      <td>0.0</td>\n",
       "      <td>...</td>\n",
       "      <td>0.0</td>\n",
       "      <td>0.0</td>\n",
       "      <td>0.0</td>\n",
       "      <td>0.0</td>\n",
       "      <td>0.0</td>\n",
       "      <td>0.0</td>\n",
       "      <td>0.0</td>\n",
       "      <td>0.0</td>\n",
       "      <td>0.0</td>\n",
       "      <td>0.0</td>\n",
       "    </tr>\n",
       "    <tr>\n",
       "      <th>4</th>\n",
       "      <td>0.0</td>\n",
       "      <td>0.0</td>\n",
       "      <td>0.0</td>\n",
       "      <td>0.0</td>\n",
       "      <td>0.0</td>\n",
       "      <td>0.0</td>\n",
       "      <td>0.0</td>\n",
       "      <td>0.0</td>\n",
       "      <td>0.0</td>\n",
       "      <td>0.0</td>\n",
       "      <td>...</td>\n",
       "      <td>0.0</td>\n",
       "      <td>0.0</td>\n",
       "      <td>0.0</td>\n",
       "      <td>0.0</td>\n",
       "      <td>0.0</td>\n",
       "      <td>0.0</td>\n",
       "      <td>0.0</td>\n",
       "      <td>0.0</td>\n",
       "      <td>0.0</td>\n",
       "      <td>0.0</td>\n",
       "    </tr>\n",
       "  </tbody>\n",
       "</table>\n",
       "<p>5 rows × 1687 columns</p>\n",
       "</div>"
      ],
      "text/plain": [
       "   d오리엔탈d  la갈비구이  new  가래떡구이  가래떡돼지갈비찜  가래떡츄러스  가자미무조림  가자미양념찜  가자미엿장구이  \\\n",
       "0     0.0     0.0  0.0    0.0       0.0     0.0     0.0     0.0      0.0   \n",
       "1     0.0     0.0  0.0    0.0       0.0     0.0     0.0     0.0      0.0   \n",
       "2     0.0     0.0  0.0    0.0       0.0     0.0     0.0     0.0      0.0   \n",
       "3     0.0     0.0  0.0    0.0       0.0     0.0     0.0     0.0      0.0   \n",
       "4     0.0     0.0  0.0    0.0       0.0     0.0     0.0     0.0      0.0   \n",
       "\n",
       "   가자미엿장조림  ...  훈제오리냉채  훈제오리단호박볶음  훈제오리마늘볶음  훈제오리볶음   흑미  흑미밥  흑임자d  흑임자드레싱  \\\n",
       "0      0.0  ...     0.0        0.0       0.0     0.0  0.0  0.0   0.0     0.0   \n",
       "1      0.0  ...     0.0        0.0       0.0     0.0  0.0  0.0   0.0     0.0   \n",
       "2      0.0  ...     0.0        0.0       0.0     0.0  0.0  0.0   0.0     0.0   \n",
       "3      0.0  ...     0.0        0.0       0.0     0.0  0.0  0.0   0.0     0.0   \n",
       "4      0.0  ...     0.0        0.0       0.0     0.0  0.0  0.0   0.0     0.0   \n",
       "\n",
       "   흑임자연근샐러드  히레카츠  \n",
       "0       0.0   0.0  \n",
       "1       0.0   0.0  \n",
       "2       0.0   0.0  \n",
       "3       0.0   0.0  \n",
       "4       0.0   0.0  \n",
       "\n",
       "[5 rows x 1687 columns]"
      ]
     },
     "execution_count": 67,
     "metadata": {},
     "output_type": "execute_result"
    }
   ],
   "source": [
    "# TF-IDF 점수를 DF 변환\n",
    "tfidf_df = pd.DataFrame(\n",
    "    X.toarray(),\n",
    "    columns = vectorizer.get_feature_names_out()\n",
    ")\n",
    "tfidf_df.head()"
   ]
  },
  {
   "cell_type": "code",
   "execution_count": 68,
   "id": "4b60b299-5ca5-43ab-93a7-1b91b86c236a",
   "metadata": {},
   "outputs": [],
   "source": [
    "# 각 메뉴별로 TF_IDF 점수가 가장 높은 1개의 단어의 인덱스를 추출\n",
    "top_n_idx = tfidf_df.iloc[0].argmax()"
   ]
  },
  {
   "cell_type": "code",
   "execution_count": 70,
   "id": "fd0f791c-cc58-44bc-8e35-fb00d48ca9e0",
   "metadata": {},
   "outputs": [
    {
     "data": {
      "text/plain": [
       "'오징어찌개'"
      ]
     },
     "execution_count": 70,
     "metadata": {},
     "output_type": "execute_result"
    }
   ],
   "source": [
    "# 메뉴(단어사전)\n",
    "tfidf_df.columns[top_n_idx]\n",
    "# 추출한 메뉴 인덱스로 메뉴 인덱싱"
   ]
  },
  {
   "cell_type": "code",
   "execution_count": 82,
   "id": "8dbef773-7516-4601-9888-710893c916c6",
   "metadata": {},
   "outputs": [],
   "source": [
    "# 모든 데이터에서 메뉴중에 점수가 가장 높은 1개의 인덱스를 추출하여 메인메뉴 뽑는 함수 만들기\n",
    "def extract_main(menu_series):\n",
    "    vectorizer = TfidfVectorizer() # TF-IDF 객체 생성\n",
    "    X = vectorizer.fit_transform(menu_series) # TF-IDF 점수 생성\n",
    "\n",
    "    tfidf_df = pd.DataFrame(X.toarray(),\n",
    "                           columns = vectorizer.get_feature_names_out())\n",
    "\n",
    "    # 각 행별로 TF-IDF 점수가 가장 높은 단어를 추출\n",
    "    def top_tfidf_word(row):\n",
    "        top_n_idx = row.argmax() # 각 메뉴별로 TF-IDF 점수가 가장 높은 인덱스 추출\n",
    "        return tfidf_df.columns[top_n_idx]\n",
    "\n",
    "    return tfidf_df.apply(top_tfidf_word, axis = 1)"
   ]
  },
  {
   "cell_type": "code",
   "execution_count": 81,
   "id": "ce6d3465-e53e-4fcd-ad47-7f4db77aecc5",
   "metadata": {
    "scrolled": true
   },
   "outputs": [],
   "source": [
    "df['조식메뉴_Main'] = extract_main(df['조식메뉴'])\n",
    "df['중식메뉴_Main'] = extract_main(df['중식메뉴'])\n",
    "df['석식메뉴_Main'] = extract_main(df['석식메뉴'])"
   ]
  },
  {
   "cell_type": "code",
   "execution_count": 83,
   "id": "e6719b3a-ae1c-4dfb-9514-78412ad5d0c5",
   "metadata": {},
   "outputs": [
    {
     "data": {
      "text/html": [
       "<div>\n",
       "<style scoped>\n",
       "    .dataframe tbody tr th:only-of-type {\n",
       "        vertical-align: middle;\n",
       "    }\n",
       "\n",
       "    .dataframe tbody tr th {\n",
       "        vertical-align: top;\n",
       "    }\n",
       "\n",
       "    .dataframe thead th {\n",
       "        text-align: right;\n",
       "    }\n",
       "</style>\n",
       "<table border=\"1\" class=\"dataframe\">\n",
       "  <thead>\n",
       "    <tr style=\"text-align: right;\">\n",
       "      <th></th>\n",
       "      <th>조식메뉴_Main</th>\n",
       "      <th>중식메뉴_Main</th>\n",
       "      <th>석식메뉴_Main</th>\n",
       "    </tr>\n",
       "  </thead>\n",
       "  <tbody>\n",
       "    <tr>\n",
       "      <th>0</th>\n",
       "      <td>쥐어채무침</td>\n",
       "      <td>오징어찌개</td>\n",
       "      <td>건파래무침</td>\n",
       "    </tr>\n",
       "    <tr>\n",
       "      <th>1</th>\n",
       "      <td>단호박샌드</td>\n",
       "      <td>김치찌개</td>\n",
       "      <td>콩나물밥</td>\n",
       "    </tr>\n",
       "    <tr>\n",
       "      <th>2</th>\n",
       "      <td>느타리호박볶음</td>\n",
       "      <td>견과류조림</td>\n",
       "      <td>황태</td>\n",
       "    </tr>\n",
       "    <tr>\n",
       "      <th>3</th>\n",
       "      <td>근대국</td>\n",
       "      <td>부추전</td>\n",
       "      <td>미니김밥</td>\n",
       "    </tr>\n",
       "    <tr>\n",
       "      <th>4</th>\n",
       "      <td>방풍나물</td>\n",
       "      <td>돈육씨앗강정</td>\n",
       "      <td>감자소세지볶음</td>\n",
       "    </tr>\n",
       "    <tr>\n",
       "      <th>...</th>\n",
       "      <td>...</td>\n",
       "      <td>...</td>\n",
       "      <td>...</td>\n",
       "    </tr>\n",
       "    <tr>\n",
       "      <th>1200</th>\n",
       "      <td>마늘종숙회</td>\n",
       "      <td>견과류마카로니범벅</td>\n",
       "      <td>맛살튀김</td>\n",
       "    </tr>\n",
       "    <tr>\n",
       "      <th>1201</th>\n",
       "      <td>생크림단팥빵</td>\n",
       "      <td>버섯숙회</td>\n",
       "      <td>비엔나채소볶음</td>\n",
       "    </tr>\n",
       "    <tr>\n",
       "      <th>1202</th>\n",
       "      <td>바지락살국</td>\n",
       "      <td>계란파국</td>\n",
       "      <td>수제맛쵸킹탕수육</td>\n",
       "    </tr>\n",
       "    <tr>\n",
       "      <th>1203</th>\n",
       "      <td>분홍소세지구이</td>\n",
       "      <td>양념김</td>\n",
       "      <td>생강채</td>\n",
       "    </tr>\n",
       "    <tr>\n",
       "      <th>1204</th>\n",
       "      <td>애호박새우젓볶음</td>\n",
       "      <td>교촌간장치킨</td>\n",
       "      <td>수제고기육전</td>\n",
       "    </tr>\n",
       "  </tbody>\n",
       "</table>\n",
       "<p>1205 rows × 3 columns</p>\n",
       "</div>"
      ],
      "text/plain": [
       "     조식메뉴_Main  중식메뉴_Main 석식메뉴_Main\n",
       "0        쥐어채무침      오징어찌개     건파래무침\n",
       "1        단호박샌드       김치찌개      콩나물밥\n",
       "2      느타리호박볶음      견과류조림        황태\n",
       "3          근대국        부추전      미니김밥\n",
       "4         방풍나물     돈육씨앗강정   감자소세지볶음\n",
       "...        ...        ...       ...\n",
       "1200     마늘종숙회  견과류마카로니범벅      맛살튀김\n",
       "1201    생크림단팥빵       버섯숙회   비엔나채소볶음\n",
       "1202     바지락살국       계란파국  수제맛쵸킹탕수육\n",
       "1203   분홍소세지구이        양념김       생강채\n",
       "1204  애호박새우젓볶음     교촌간장치킨    수제고기육전\n",
       "\n",
       "[1205 rows x 3 columns]"
      ]
     },
     "execution_count": 83,
     "metadata": {},
     "output_type": "execute_result"
    }
   ],
   "source": [
    "# Main 메뉴 확인\n",
    "df[['조식메뉴_Main', '중식메뉴_Main', '석식메뉴_Main']]"
   ]
  },
  {
   "cell_type": "code",
   "execution_count": 87,
   "id": "53c8659b-ddd8-4e2c-acf8-e40655c1fdc2",
   "metadata": {},
   "outputs": [
    {
     "data": {
      "text/plain": [
       "조식메뉴_Main\n",
       "도라지나물      9\n",
       "연두부탕       8\n",
       "느타리볶음      8\n",
       "김잔파무침      8\n",
       "조랭이떡국      7\n",
       "문어꽈리초조림    7\n",
       "두부쑥갓무침     7\n",
       "대구탕        7\n",
       "쑥갓두부무침     7\n",
       "브로컬리들깨찜    7\n",
       "Name: count, dtype: int64"
      ]
     },
     "metadata": {},
     "output_type": "display_data"
    },
    {
     "name": "stdout",
     "output_type": "stream",
     "text": [
      "\n"
     ]
    },
    {
     "data": {
      "text/plain": [
       "중식메뉴_Main\n",
       "견과류조림       5\n",
       "유자청돈육볶음     5\n",
       "new         5\n",
       "참나물땅콩무침     4\n",
       "두부새싹구이      4\n",
       "사과고구마그라탕    4\n",
       "해파리겨자채      4\n",
       "해파리냉채       3\n",
       "청경채사과생채     3\n",
       "물파래무침       3\n",
       "Name: count, dtype: int64"
      ]
     },
     "metadata": {},
     "output_type": "display_data"
    },
    {
     "name": "stdout",
     "output_type": "stream",
     "text": [
      "\n"
     ]
    },
    {
     "data": {
      "text/plain": [
       "석식메뉴_Main\n",
       "1컷팅해서     28\n",
       "자기계발의날     7\n",
       "자기개발의날     6\n",
       "애호박나물      5\n",
       "닭살겨자냉채     5\n",
       "군고구마       4\n",
       "군만두        4\n",
       "세발나물       4\n",
       "상추파무침      4\n",
       "모듬튀김       4\n",
       "Name: count, dtype: int64"
      ]
     },
     "metadata": {},
     "output_type": "display_data"
    }
   ],
   "source": [
    "# main menu 가지 수 파악\n",
    "display(df['조식메뉴_Main'].value_counts().head(10))\n",
    "print()\n",
    "display(df['중식메뉴_Main'].value_counts().head(10))\n",
    "print()\n",
    "display(df['석식메뉴_Main'].value_counts().head(10))"
   ]
  },
  {
   "cell_type": "markdown",
   "id": "4a8396ee-a95c-4e99-8454-52748c0bd07c",
   "metadata": {},
   "source": [
    "### Menu Data EDA(탐색적 데이터 분석)"
   ]
  },
  {
   "cell_type": "code",
   "execution_count": 91,
   "id": "4df575d7-cca1-48cb-a31d-3ee26aa22692",
   "metadata": {},
   "outputs": [
    {
     "data": {
      "image/png": "[encoded data removed]",
      "text/plain": [
       "<Figure size 640x480 with 1 Axes>"
      ]
     },
     "metadata": {},
     "output_type": "display_data"
    }
   ],
   "source": [
    "# main menu 별 중식계 식수 인원 확인\n",
    "df_lunch = pd.DataFrame(df.groupby('중식메뉴_Main')['중식계'].mean())\n",
    "df_lunch10 = df_lunch.sort_values(by=['중식계'], ascending = False).head(10)\n",
    "df_lunch10.plot(kind = 'barh')\n",
    "plt.show()\n",
    "\n",
    "# ascenging = False(내림차순)\n",
    "# 가래떡돼지갈비찜부터 맜있어 보이는 메뉴가 중식계 식수가 높다\n",
    "\n",
    "# ascending = True(오름차순) : 가장 인기가 없는 메뉴\n",
    "# 크리스마스 케익이 가장 인기가 없음을 확인\n",
    "\n",
    "# 인기가 많은 Main Menu일 때는, 사용자 만족을 위해서 재고를 좀더 준비해보면 좋을 것 같다.\n",
    "# 인기가 없는 Main Menu일 때는, 기존 메뉴에 대한 보완책을 고려해볼 필요성이 있겠다."
   ]
  },
  {
   "cell_type": "code",
   "execution_count": 109,
   "id": "442ba2a9-b4b0-49c1-8862-e979e74ae2ea",
   "metadata": {},
   "outputs": [
    {
     "data": {
      "image/png": "[encoded data removed]",
      "text/plain": [
       "<Figure size 640x480 with 1 Axes>"
      ]
     },
     "metadata": {},
     "output_type": "display_data"
    },
    {
     "data": {
      "image/png": "[encoded data removed]",
      "text/plain": [
       "<Figure size 640x480 with 1 Axes>"
      ]
     },
     "metadata": {},
     "output_type": "display_data"
    }
   ],
   "source": [
    "df_lunch = pd.DataFrame(df.groupby('석식메뉴_Main')['석식계'].mean())\n",
    "df_lunch10 = df_lunch.sort_values(by=['석식계'], ascending = False).head(10)\n",
    "df_lunch10.plot(kind = 'barh')\n",
    "plt.show()\n",
    "\n",
    "# 오름차순(ascending=True)\n",
    "# 가정의날, 자기개발의날, 자기계발의날 등 메뉴가 아닌것들이 확인\n",
    "# 석식 메뉴가 없는 데이터도 존재한다는 것을 확인함\n",
    "# 메뉴가 없는날의 데이터는 삭제해도 되지않을까?\n",
    "\n",
    "df_lunch10 = df_lunch.sort_values(by=['석식계'], ascending = True).head(17)[7:]\n",
    "df_lunch10.plot(kind = 'barh')\n",
    "plt.show()\n",
    "\n",
    "# 내림차순(ascending=False)\n",
    "# 실곤약초무침, 닭볶음이 높게 관측되었지만 중식계에 비해서는 식수인원이 부족함이 확인됨\n",
    "# 기본적으로 석식을 먹는 인원이 중식에 비해서 훨씬 적음을 알 수 있다.\n",
    "# 석식을 먹는 인원이 적기 때문에 그만큼 재고관리의 중요도가 높음"
   ]
  },
  {
   "cell_type": "code",
   "execution_count": 110,
   "id": "c393e552-d7db-4419-bd1e-b64e9a2d12a0",
   "metadata": {},
   "outputs": [
    {
     "data": {
      "text/plain": [
       "43"
      ]
     },
     "execution_count": 110,
     "metadata": {},
     "output_type": "execute_result"
    }
   ],
   "source": [
    "# 석식계 == 0에 대한 개수 확인\n",
    "sum(df['석식계'] == 0)\n",
    "\n",
    "# 특정 이벤트나 활동이 있을 때 석식이 제공되지 않는다.\n",
    "# 전체 데이터 1205ea 중 43ea로 확인되기 때문에 개수가 적어서 제거하는 쪽으로 진행"
   ]
  },
  {
   "cell_type": "code",
   "execution_count": 111,
   "id": "4fd38055-d5bf-4a85-8b57-724f0c2f55d7",
   "metadata": {},
   "outputs": [],
   "source": [
    "# 석식계 0인 행을 삭제\n",
    "df = df[df['석식계'] != 0] # 석식계가 0이 아닌 데이터로 df 갱신"
   ]
  },
  {
   "cell_type": "code",
   "execution_count": null,
   "id": "5159c7f8-7c26-4a9e-881d-c529dc786e55",
   "metadata": {},
   "outputs": [],
   "source": [
    "df.shape # 1205ea -> 1162ea로 줄어든 것을 확인."
   ]
  }
 ],
 "metadata": {
  "kernelspec": {
   "display_name": "Python 3 (ipykernel)",
   "language": "python",
   "name": "python3"
  },
  "language_info": {
   "codemirror_mode": {
    "name": "ipython",
    "version": 3
   },
   "file_extension": ".py",
   "mimetype": "text/x-python",
   "name": "python",
   "nbconvert_exporter": "python",
   "pygments_lexer": "ipython3",
   "version": "3.13.5"
  }
 },
 "nbformat": 4,
 "nbformat_minor": 5
}
