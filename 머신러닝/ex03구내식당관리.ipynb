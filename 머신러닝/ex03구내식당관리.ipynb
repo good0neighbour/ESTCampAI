{
 "cells": [
  {
   "cell_type": "markdown",
   "id": "c486dcca-ca81-4318-8f48-516566b058d4",
   "metadata": {},
   "source": [
    "구내식당 관리자 A씨는 요즘 음식 재고로 인해 스트레스를 받고 있음\n",
    "구내식당에 오는 사람을 감으로 예측을 하고 있었는데 어떤 날은 적게, 어떤 날은 많게 오는 경우가 허다해서 재고 관리 측면에서 손실을 크게 보고 있음\n",
    "\n",
    "메뉴 정보 + 식수 근무자 정보 데이터를 활용해 식수를 예측하고 재고 관리를 효율적으로 하고자함."
   ]
  },
  {
   "cell_type": "markdown",
   "id": "3022709d-174f-4480-9b18-34fe3c26434f",
   "metadata": {},
   "source": [
    "## 문제정의\n",
    "- BX : 매장의 음식 재고를 효율적으로 관리하여 손실을 최소화하고 운영 효율성을 높이자\n",
    "- CX : 적정한 식수 예측 → 식사 시간대에 음식이 부족하거나 남지 않도록 하여 고객의 불만을 줄이고 만족도를 높여보자\n",
    "- DX : 식수 예측과 관련된 정보를 지속적으로 확인하고 개선\n",
    "    - 본사정원수, 본사휴가자수, 본사출장자수, 본사시간외근무명령서승인건수, 중식계, 석식계, 요일, 메뉴 정보\n",
    "- Trigger : 최근 매장의 음식 재고 관리 문제로 인한 손실 발생 증가\n",
    "- Accelerator : 메뉴 정보, 근무자의 정보, 중식 및 석식 식수 데이터 등\n",
    "- Tracker : 식수 예측 정확도와 재고 손실 변화 추이 확인 및 분석\n",
    "\n",
    "BX : 회사 입장에서 정리한 문제\n",
    "CX : 고객 입장에서 정리한 문제\n",
    "DX : 디지털 경험에서 정리한 문제"
   ]
  },
  {
   "cell_type": "code",
   "execution_count": 1,
   "id": "eca9d4f7-2af9-4218-a589-b5094c24cfbf",
   "metadata": {},
   "outputs": [],
   "source": [
    "# 라이브러리 불러오기\n",
    "import pandas as pd\n",
    "import numpy as np\n",
    "import matplotlib.pyplot as plt\n",
    "\n",
    "# matplotlib 관련 모듈을 추가로 import\n",
    "import matplotlib.font_manager as fm\n",
    "import matplotlib as mpl"
   ]
  },
  {
   "cell_type": "code",
   "execution_count": 2,
   "id": "c7a82b0b-c39d-4b96-ba0e-a35d0f80b0b1",
   "metadata": {},
   "outputs": [],
   "source": [
    "# 한글 폰트 설정\n",
    "# plt.rcParams['']\n",
    "plt.rc('font', family = 'Gulim')\n",
    "# plt.rcParams['font.family'] = 'Gulim'\n",
    "\n",
    "# 한글이 표기가 안 될 때 ㅁㅁㅁㅁ xxxxxx\n",
    "# 이렇게 표시 안 되도록 설정(한글 깨지는 것 방지)\n",
    "plt.rcParams['axes.unicode_minus'] = False"
   ]
  },
  {
   "cell_type": "code",
   "execution_count": 3,
   "id": "f81137d4-1257-4e03-bd2b-298d32774d37",
   "metadata": {},
   "outputs": [],
   "source": [
    "# 데이터 불러오기.\n",
    "# encoding = 'cp949'\n",
    "# cafeteria.csv 파일 불러와서 df에 저장\n",
    "df = pd.read_csv(\"./data/Cafeteria.csv\", encoding = \"cp949\")\n",
    "# 한글 인코딩 : utf-8, euc-kr, cp949"
   ]
  },
  {
   "cell_type": "markdown",
   "id": "5c87664d-f7b1-4755-8332-83ac22d461a7",
   "metadata": {},
   "source": [
    "- 데이터 정보\n",
    "\n",
    "| 컬럼명                    | 설명                                     |\n",
    "|--------------------------|----------------------------------------|\n",
    "| 일자                     | 데이터가 수집된 날짜                    |\n",
    "| 요일                     | 해당 날짜의 요일                        |\n",
    "| 본사정원수               | 본사에 근무하는 전체 직원 수             |\n",
    "| 본사휴가자수             | 본사에 휴가 중인 직원 수                |\n",
    "| 본사출장자수             | 본사에 출장 중인 직원 수                |\n",
    "| 본사시간외근무명령서승인건수 | 본사에서 승인된 시간 외 근무 명령서 건수  |\n",
    "| 현본사소속재택근무자수   | 본사 소속 중 재택 근무 중인 직원 수     |\n",
    "| 조식메뉴                 | 해당 날짜의 조식 메뉴                   |\n",
    "| 중식메뉴                 | 해당 날짜의 중식 메뉴                   |\n",
    "| 석식메뉴                 | 해당 날짜의 석식 메뉴                   |\n",
    "| 중식계                   | 해당 날짜에 중식을 이용한 직원 수       |\n",
    "| 석식계                   | 해당 날짜에 석식을 이용한 직원 수       |"
   ]
  },
  {
   "cell_type": "code",
   "execution_count": 4,
   "id": "644ac220-494f-4f5c-99bb-3b1df30c9b96",
   "metadata": {},
   "outputs": [
    {
     "name": "stdout",
     "output_type": "stream",
     "text": [
      "<class 'pandas.core.frame.DataFrame'>\n",
      "RangeIndex: 1205 entries, 0 to 1204\n",
      "Data columns (total 12 columns):\n",
      " #   Column          Non-Null Count  Dtype  \n",
      "---  ------          --------------  -----  \n",
      " 0   일자              1205 non-null   object \n",
      " 1   요일              1205 non-null   object \n",
      " 2   본사정원수           1205 non-null   int64  \n",
      " 3   본사휴가자수          1205 non-null   int64  \n",
      " 4   본사출장자수          1205 non-null   int64  \n",
      " 5   본사시간외근무명령서승인건수  1205 non-null   int64  \n",
      " 6   현본사소속재택근무자수     1205 non-null   float64\n",
      " 7   조식메뉴            1205 non-null   object \n",
      " 8   중식메뉴            1205 non-null   object \n",
      " 9   석식메뉴            1205 non-null   object \n",
      " 10  중식계             1205 non-null   float64\n",
      " 11  석식계             1205 non-null   float64\n",
      "dtypes: float64(3), int64(4), object(5)\n",
      "memory usage: 113.1+ KB\n"
     ]
    }
   ],
   "source": [
    "# 데이터 정보 확인\n",
    "df.info()\n",
    "# 1205개의 행, 12개의 컬럼 (1205, 12)\n",
    "# 결측치는 없음\n",
    "# 일자, 요일, 메뉴 정보는 문자열 나머지는 수치형"
   ]
  },
  {
   "cell_type": "code",
   "execution_count": 5,
   "id": "54f7bbd4-cd8f-4440-aa33-eb22439bf607",
   "metadata": {},
   "outputs": [
    {
     "data": {
      "text/html": [
       "<div>\n",
       "<style scoped>\n",
       "    .dataframe tbody tr th:only-of-type {\n",
       "        vertical-align: middle;\n",
       "    }\n",
       "\n",
       "    .dataframe tbody tr th {\n",
       "        vertical-align: top;\n",
       "    }\n",
       "\n",
       "    .dataframe thead th {\n",
       "        text-align: right;\n",
       "    }\n",
       "</style>\n",
       "<table border=\"1\" class=\"dataframe\">\n",
       "  <thead>\n",
       "    <tr style=\"text-align: right;\">\n",
       "      <th></th>\n",
       "      <th>일자</th>\n",
       "      <th>요일</th>\n",
       "      <th>본사정원수</th>\n",
       "      <th>본사휴가자수</th>\n",
       "      <th>본사출장자수</th>\n",
       "      <th>본사시간외근무명령서승인건수</th>\n",
       "      <th>현본사소속재택근무자수</th>\n",
       "      <th>조식메뉴</th>\n",
       "      <th>중식메뉴</th>\n",
       "      <th>석식메뉴</th>\n",
       "      <th>중식계</th>\n",
       "      <th>석식계</th>\n",
       "    </tr>\n",
       "  </thead>\n",
       "  <tbody>\n",
       "    <tr>\n",
       "      <th>0</th>\n",
       "      <td>2016-02-01</td>\n",
       "      <td>월</td>\n",
       "      <td>2601</td>\n",
       "      <td>50</td>\n",
       "      <td>150</td>\n",
       "      <td>238</td>\n",
       "      <td>0.0</td>\n",
       "      <td>모닝롤/찐빵  우유/두유/주스 계란후라이  호두죽/쌀밥 (쌀:국내산) 된장찌개  쥐...</td>\n",
       "      <td>쌀밥/잡곡밥 (쌀,현미흑미:국내산) 오징어찌개  쇠불고기 (쇠고기:호주산) 계란찜 ...</td>\n",
       "      <td>쌀밥/잡곡밥 (쌀,현미흑미:국내산) 육개장  자반고등어구이  두부조림  건파래무침 ...</td>\n",
       "      <td>1039.0</td>\n",
       "      <td>331.0</td>\n",
       "    </tr>\n",
       "    <tr>\n",
       "      <th>1</th>\n",
       "      <td>2016-02-02</td>\n",
       "      <td>화</td>\n",
       "      <td>2601</td>\n",
       "      <td>50</td>\n",
       "      <td>173</td>\n",
       "      <td>319</td>\n",
       "      <td>0.0</td>\n",
       "      <td>모닝롤/단호박샌드  우유/두유/주스 계란후라이  팥죽/쌀밥 (쌀:국내산) 호박젓국찌...</td>\n",
       "      <td>쌀밥/잡곡밥 (쌀,현미흑미:국내산) 김치찌개  가자미튀김  모둠소세지구이  마늘쫑무...</td>\n",
       "      <td>콩나물밥*양념장 (쌀,현미흑미:국내산) 어묵국  유산슬 (쇠고기:호주산) 아삭고추무...</td>\n",
       "      <td>867.0</td>\n",
       "      <td>560.0</td>\n",
       "    </tr>\n",
       "    <tr>\n",
       "      <th>2</th>\n",
       "      <td>2016-02-03</td>\n",
       "      <td>수</td>\n",
       "      <td>2601</td>\n",
       "      <td>56</td>\n",
       "      <td>180</td>\n",
       "      <td>111</td>\n",
       "      <td>0.0</td>\n",
       "      <td>모닝롤/베이글  우유/두유/주스 계란후라이  표고버섯죽/쌀밥 (쌀:국내산) 콩나물국...</td>\n",
       "      <td>카레덮밥 (쌀,현미흑미:국내산) 팽이장국  치킨핑거 (닭고기:국내산) 쫄면야채무침 ...</td>\n",
       "      <td>쌀밥/잡곡밥 (쌀,현미흑미:국내산) 청국장찌개  황태양념구이 (황태:러시아산) 고기...</td>\n",
       "      <td>1017.0</td>\n",
       "      <td>573.0</td>\n",
       "    </tr>\n",
       "  </tbody>\n",
       "</table>\n",
       "</div>"
      ],
      "text/plain": [
       "           일자 요일  본사정원수  본사휴가자수  본사출장자수  본사시간외근무명령서승인건수  현본사소속재택근무자수  \\\n",
       "0  2016-02-01  월   2601      50     150             238          0.0   \n",
       "1  2016-02-02  화   2601      50     173             319          0.0   \n",
       "2  2016-02-03  수   2601      56     180             111          0.0   \n",
       "\n",
       "                                                조식메뉴  \\\n",
       "0  모닝롤/찐빵  우유/두유/주스 계란후라이  호두죽/쌀밥 (쌀:국내산) 된장찌개  쥐...   \n",
       "1  모닝롤/단호박샌드  우유/두유/주스 계란후라이  팥죽/쌀밥 (쌀:국내산) 호박젓국찌...   \n",
       "2  모닝롤/베이글  우유/두유/주스 계란후라이  표고버섯죽/쌀밥 (쌀:국내산) 콩나물국...   \n",
       "\n",
       "                                                중식메뉴  \\\n",
       "0  쌀밥/잡곡밥 (쌀,현미흑미:국내산) 오징어찌개  쇠불고기 (쇠고기:호주산) 계란찜 ...   \n",
       "1  쌀밥/잡곡밥 (쌀,현미흑미:국내산) 김치찌개  가자미튀김  모둠소세지구이  마늘쫑무...   \n",
       "2  카레덮밥 (쌀,현미흑미:국내산) 팽이장국  치킨핑거 (닭고기:국내산) 쫄면야채무침 ...   \n",
       "\n",
       "                                                석식메뉴     중식계    석식계  \n",
       "0  쌀밥/잡곡밥 (쌀,현미흑미:국내산) 육개장  자반고등어구이  두부조림  건파래무침 ...  1039.0  331.0  \n",
       "1  콩나물밥*양념장 (쌀,현미흑미:국내산) 어묵국  유산슬 (쇠고기:호주산) 아삭고추무...   867.0  560.0  \n",
       "2  쌀밥/잡곡밥 (쌀,현미흑미:국내산) 청국장찌개  황태양념구이 (황태:러시아산) 고기...  1017.0  573.0  "
      ]
     },
     "execution_count": 5,
     "metadata": {},
     "output_type": "execute_result"
    }
   ],
   "source": [
    "# 데이터 생플링\n",
    "df.head(3)\n",
    "# 일자는 년-월-일로 구성된 데이터(영어, 한글 아님)\n",
    "# python에서 제공하는 날짜 자료형을 활용해 일자 컬럼을 처리해보자."
   ]
  },
  {
   "cell_type": "code",
   "execution_count": 6,
   "id": "51be1587-e1a1-4e08-96c8-8fe919f1483f",
   "metadata": {},
   "outputs": [],
   "source": [
    "import datetime\n",
    "# 날짜(시간) 관련된 연산, 비교같은 기능을 제공하는 모듈"
   ]
  },
  {
   "cell_type": "code",
   "execution_count": 7,
   "id": "4c0690a1-d6e5-44e2-a96f-75362a255d9f",
   "metadata": {},
   "outputs": [],
   "source": [
    "# 1. 문자열 데이터를 날짜 자료형으로 변환\n",
    "df['일자'] = pd.to_datetime(df['일자'])\n",
    "# 2. 기존 데이터에 덮어씌우기"
   ]
  },
  {
   "cell_type": "code",
   "execution_count": 8,
   "id": "d87b2836-aa97-44ca-8e61-ff82bfa8ad73",
   "metadata": {},
   "outputs": [
    {
     "data": {
      "text/plain": [
       "(Timestamp('2016-02-01 00:00:00'), Timestamp('2021-01-26 00:00:00'))"
      ]
     },
     "execution_count": 8,
     "metadata": {},
     "output_type": "execute_result"
    }
   ],
   "source": [
    "# 1. 주어진 데이터가 언제부터 언제까지 데이터인지 확인.\n",
    "df['일자'].min(), df['일자'].max()\n",
    "# 2016-02-01 ~ 2021-01-26"
   ]
  },
  {
   "cell_type": "code",
   "execution_count": 9,
   "id": "57eeb5f8-37c1-46aa-928a-0a40a8c3b2fa",
   "metadata": {},
   "outputs": [],
   "source": [
    "# 요일별 식수 차이를 시각화해서 확인.\n",
    "# 요일별로 그룹화해서 평균 식수계 확인.\n",
    "df_day = df.groupby('요일')[['중식계', '석식계']].mean()\n",
    "# df[['요일', '중식계', '석식계']].groupby('요일').mean()"
   ]
  },
  {
   "cell_type": "code",
   "execution_count": 10,
   "id": "843938dc-09e2-4757-bd3b-54456cbedddc",
   "metadata": {},
   "outputs": [
    {
     "data": {
      "text/html": [
       "<div>\n",
       "<style scoped>\n",
       "    .dataframe tbody tr th:only-of-type {\n",
       "        vertical-align: middle;\n",
       "    }\n",
       "\n",
       "    .dataframe tbody tr th {\n",
       "        vertical-align: top;\n",
       "    }\n",
       "\n",
       "    .dataframe thead th {\n",
       "        text-align: right;\n",
       "    }\n",
       "</style>\n",
       "<table border=\"1\" class=\"dataframe\">\n",
       "  <thead>\n",
       "    <tr style=\"text-align: right;\">\n",
       "      <th></th>\n",
       "      <th>중식계</th>\n",
       "      <th>석식계</th>\n",
       "    </tr>\n",
       "  </thead>\n",
       "  <tbody>\n",
       "    <tr>\n",
       "      <th>월</th>\n",
       "      <td>1144.331950</td>\n",
       "      <td>538.933610</td>\n",
       "    </tr>\n",
       "    <tr>\n",
       "      <th>화</th>\n",
       "      <td>925.620833</td>\n",
       "      <td>520.129167</td>\n",
       "    </tr>\n",
       "    <tr>\n",
       "      <th>수</th>\n",
       "      <td>905.213389</td>\n",
       "      <td>363.615063</td>\n",
       "    </tr>\n",
       "    <tr>\n",
       "      <th>목</th>\n",
       "      <td>823.991803</td>\n",
       "      <td>480.401639</td>\n",
       "    </tr>\n",
       "    <tr>\n",
       "      <th>금</th>\n",
       "      <td>653.609959</td>\n",
       "      <td>404.979253</td>\n",
       "    </tr>\n",
       "  </tbody>\n",
       "</table>\n",
       "</div>"
      ],
      "text/plain": [
       "           중식계         석식계\n",
       "월  1144.331950  538.933610\n",
       "화   925.620833  520.129167\n",
       "수   905.213389  363.615063\n",
       "목   823.991803  480.401639\n",
       "금   653.609959  404.979253"
      ]
     },
     "execution_count": 10,
     "metadata": {},
     "output_type": "execute_result"
    }
   ],
   "source": [
    "# 인덱스를 월, 화, 수, 목, 금, 순으로 바꾸기.\n",
    "\n",
    "df_day = pd.DataFrame(df_day, index=['월', '화', '수', '목', '금'])\n",
    "df_day"
   ]
  },
  {
   "cell_type": "code",
   "execution_count": 11,
   "id": "396190d3-c9f6-4dcc-8336-e97eccdef724",
   "metadata": {},
   "outputs": [],
   "source": [
    "# 차트 배경 어둡게(다크 모드)\n",
    "plt.style.use(['dark_background'])"
   ]
  },
  {
   "cell_type": "code",
   "execution_count": 12,
   "id": "16ea5a53-1b9e-4d18-9bf1-7b27fb52f350",
   "metadata": {},
   "outputs": [
    {
     "data": {
      "image/png": "[encoded data removed]",
      "text/plain": [
       "<Figure size 640x480 with 1 Axes>"
      ]
     },
     "metadata": {},
     "output_type": "display_data"
    }
   ],
   "source": [
    "# df_day 활용해서 그래프 그리기\n",
    "# 1. 월-금별 중식계 시각화 그래프\n",
    "df_day.plot(kind = 'bar', y = '중식계')\n",
    "plt.title('요일 평균 중식계')\n",
    "plt.show()"
   ]
  },
  {
   "cell_type": "code",
   "execution_count": 13,
   "id": "5d26aab8-d91d-4d22-a4b9-d85b60d1be82",
   "metadata": {},
   "outputs": [
    {
     "data": {
      "image/png": "[encoded data removed]",
      "text/plain": [
       "<Figure size 640x480 with 1 Axes>"
      ]
     },
     "metadata": {},
     "output_type": "display_data"
    }
   ],
   "source": [
    "# 2. 월-금별 석식계 시각화 그래프\n",
    "df_day.plot(kind = 'bar', y = '석식계', color = 'green')\n",
    "plt.title('요일 평균 석식계')\n",
    "plt.show()"
   ]
  },
  {
   "cell_type": "code",
   "execution_count": 14,
   "id": "860e1013-cb49-4caa-aa27-16180be8db88",
   "metadata": {},
   "outputs": [
    {
     "data": {
      "image/png": "[encoded data removed]",
      "text/plain": [
       "<Figure size 1200x450 with 2 Axes>"
      ]
     },
     "metadata": {},
     "output_type": "display_data"
    }
   ],
   "source": [
    "# 그래프를 한 개의 도화지 안에 나눠그리기.\n",
    "plt.figure(figsize = (12, 4.5))\n",
    "\n",
    "plt.subplot(1, 2, 1)\n",
    "plt.bar(x = df_day.index, height = df_day['중식계'])\n",
    "plt.title('요일 평균 중식계')\n",
    "\n",
    "# 월요일이 중식계에 대한 식수가 가장 많음\n",
    "# 주 초반에 직원들이 회사에 많이 출근하고 점심을 먹는 경향이 있음을 나타냄\n",
    "# 주 후반으로 갈수록 식수는 감소하며, 금요일이 가장 낮은 중식계 시수를 보임\n",
    "\n",
    "plt.subplot(1, 2, 2)\n",
    "plt.bar(x = df_day.index, height = df_day['석식계'], color = 'green')\n",
    "plt.title('요일 평균 석식계')\n",
    "\n",
    "# 석식계 또한 월요일이 가장 많음을 확인\n",
    "# → 월요일에 늦게까지 일하는 직원들이 많음을 의미\n",
    "\n",
    "# 수요일에 식수가 감소함\n",
    "# → 주중 중반의 수요일이라, 많은 직원들이 피로를 느낄 수 있음\n",
    "# → 또는 정기적인 외부 미팅이나 회의가 잡혀있는 경우,\n",
    "#    외부에서의 식사를 고려할 수 있음\n",
    "\n",
    "# 목요일의 석식계 식수 증가\n",
    "# 주 후반에 접어들며, 업무 마감을 준비하는 시기로 원인을 유추해볼 수 있음\n",
    "\n",
    "# 금요일의 석식계 식수 감소\n",
    "# 많은 직원들이 주말을 앞두고 조기 퇴근하거나,\n",
    "# 사회적 약속이 많은 시기이므로 외부에서 식사하는 경우가 있는 듯 함\n",
    "\n",
    "plt.show()"
   ]
  },
  {
   "cell_type": "code",
   "execution_count": 15,
   "id": "1a710110-0c5f-40ea-9b18-163e25e65fcf",
   "metadata": {},
   "outputs": [],
   "source": [
    "# 월별로 통계 확인\n",
    "# datetime 자료형 활용\n",
    "df['month'] = df['일자'].dt.month # 날짜별로 월만 추출\n",
    "# 새로운 month 컬럼 추가"
   ]
  },
  {
   "cell_type": "code",
   "execution_count": 16,
   "id": "24315b81-c1f0-449c-a6e7-3563ea5139fd",
   "metadata": {},
   "outputs": [
    {
     "name": "stdout",
     "output_type": "stream",
     "text": [
      "<class 'pandas.core.frame.DataFrame'>\n",
      "RangeIndex: 1205 entries, 0 to 1204\n",
      "Data columns (total 13 columns):\n",
      " #   Column          Non-Null Count  Dtype         \n",
      "---  ------          --------------  -----         \n",
      " 0   일자              1205 non-null   datetime64[ns]\n",
      " 1   요일              1205 non-null   object        \n",
      " 2   본사정원수           1205 non-null   int64         \n",
      " 3   본사휴가자수          1205 non-null   int64         \n",
      " 4   본사출장자수          1205 non-null   int64         \n",
      " 5   본사시간외근무명령서승인건수  1205 non-null   int64         \n",
      " 6   현본사소속재택근무자수     1205 non-null   float64       \n",
      " 7   조식메뉴            1205 non-null   object        \n",
      " 8   중식메뉴            1205 non-null   object        \n",
      " 9   석식메뉴            1205 non-null   object        \n",
      " 10  중식계             1205 non-null   float64       \n",
      " 11  석식계             1205 non-null   float64       \n",
      " 12  month           1205 non-null   int32         \n",
      "dtypes: datetime64[ns](1), float64(3), int32(1), int64(4), object(4)\n",
      "memory usage: 117.8+ KB\n"
     ]
    }
   ],
   "source": [
    "df.info()"
   ]
  },
  {
   "cell_type": "code",
   "execution_count": 17,
   "id": "74b9c8bb-6e82-4a0d-8840-0f7e45ea8f19",
   "metadata": {},
   "outputs": [
    {
     "data": {
      "image/png": "[encoded data removed]",
      "text/plain": [
       "<Figure size 1200x450 with 2 Axes>"
      ]
     },
     "metadata": {},
     "output_type": "display_data"
    }
   ],
   "source": [
    "# 월별 중식계, 석식계 평균\n",
    "\n",
    "# 1. df_month 변수에 월별 평균 중식계, 석식계 저장\n",
    "df_month = df[['month', '중식계', '석식계']].groupby('month').mean()\n",
    "\n",
    "# 2. 시각화(subplot 활용)\n",
    "# 월별 평균 중식계, 석식계 그래프 그려보기\n",
    "plt.figure(figsize = (12, 4.5))\n",
    "\n",
    "plt.subplot(1, 2, 1)\n",
    "plt.title('월별 평균 중식계')\n",
    "plt.xticks(df_month.index) # 모든 x축 출력하기\n",
    "plt.bar(x = df_month.index, height = df_month['중식계'])\n",
    "\n",
    "plt.subplot(1, 2, 2)\n",
    "plt.title('월별 평균 석식계')\n",
    "plt.xticks(df_month.index) # 모든 x축 출력하기\n",
    "plt.bar(x = df_month.index, height = df_month['석식계'], color = 'green')\n",
    "\n",
    "plt.show()\n",
    "# 2, 3월 식수가 높음 → 신입 사원 채용으로 먹는 사람의 인원 자체가 증가할 가능성이 있음\n",
    "# 4~8월 휴가를 가는 사람들이 슬슬 생겨나서 인원이 감소\n",
    "\n",
    "# 전체적으로 봤을 때는 차이가 거의 나보이지는 않음"
   ]
  },
  {
   "cell_type": "code",
   "execution_count": 18,
   "id": "7540ecf3-3bb2-4510-985a-647762fda004",
   "metadata": {},
   "outputs": [
    {
     "data": {
      "text/html": [
       "<div>\n",
       "<style scoped>\n",
       "    .dataframe tbody tr th:only-of-type {\n",
       "        vertical-align: middle;\n",
       "    }\n",
       "\n",
       "    .dataframe tbody tr th {\n",
       "        vertical-align: top;\n",
       "    }\n",
       "\n",
       "    .dataframe thead th {\n",
       "        text-align: right;\n",
       "    }\n",
       "</style>\n",
       "<table border=\"1\" class=\"dataframe\">\n",
       "  <thead>\n",
       "    <tr style=\"text-align: right;\">\n",
       "      <th></th>\n",
       "      <th>일자</th>\n",
       "      <th>요일</th>\n",
       "      <th>본사정원수</th>\n",
       "      <th>본사휴가자수</th>\n",
       "      <th>본사출장자수</th>\n",
       "      <th>본사시간외근무명령서승인건수</th>\n",
       "      <th>현본사소속재택근무자수</th>\n",
       "      <th>조식메뉴</th>\n",
       "      <th>중식메뉴</th>\n",
       "      <th>석식메뉴</th>\n",
       "      <th>중식계</th>\n",
       "      <th>석식계</th>\n",
       "      <th>month</th>\n",
       "    </tr>\n",
       "  </thead>\n",
       "  <tbody>\n",
       "    <tr>\n",
       "      <th>0</th>\n",
       "      <td>2016-02-01</td>\n",
       "      <td>월</td>\n",
       "      <td>2601</td>\n",
       "      <td>50</td>\n",
       "      <td>150</td>\n",
       "      <td>238</td>\n",
       "      <td>0.0</td>\n",
       "      <td>모닝롤/찐빵  우유/두유/주스 계란후라이  호두죽/쌀밥 (쌀:국내산) 된장찌개  쥐...</td>\n",
       "      <td>쌀밥/잡곡밥 (쌀,현미흑미:국내산) 오징어찌개  쇠불고기 (쇠고기:호주산) 계란찜 ...</td>\n",
       "      <td>쌀밥/잡곡밥 (쌀,현미흑미:국내산) 육개장  자반고등어구이  두부조림  건파래무침 ...</td>\n",
       "      <td>1039.0</td>\n",
       "      <td>331.0</td>\n",
       "      <td>2</td>\n",
       "    </tr>\n",
       "    <tr>\n",
       "      <th>1</th>\n",
       "      <td>2016-02-02</td>\n",
       "      <td>화</td>\n",
       "      <td>2601</td>\n",
       "      <td>50</td>\n",
       "      <td>173</td>\n",
       "      <td>319</td>\n",
       "      <td>0.0</td>\n",
       "      <td>모닝롤/단호박샌드  우유/두유/주스 계란후라이  팥죽/쌀밥 (쌀:국내산) 호박젓국찌...</td>\n",
       "      <td>쌀밥/잡곡밥 (쌀,현미흑미:국내산) 김치찌개  가자미튀김  모둠소세지구이  마늘쫑무...</td>\n",
       "      <td>콩나물밥*양념장 (쌀,현미흑미:국내산) 어묵국  유산슬 (쇠고기:호주산) 아삭고추무...</td>\n",
       "      <td>867.0</td>\n",
       "      <td>560.0</td>\n",
       "      <td>2</td>\n",
       "    </tr>\n",
       "    <tr>\n",
       "      <th>2</th>\n",
       "      <td>2016-02-03</td>\n",
       "      <td>수</td>\n",
       "      <td>2601</td>\n",
       "      <td>56</td>\n",
       "      <td>180</td>\n",
       "      <td>111</td>\n",
       "      <td>0.0</td>\n",
       "      <td>모닝롤/베이글  우유/두유/주스 계란후라이  표고버섯죽/쌀밥 (쌀:국내산) 콩나물국...</td>\n",
       "      <td>카레덮밥 (쌀,현미흑미:국내산) 팽이장국  치킨핑거 (닭고기:국내산) 쫄면야채무침 ...</td>\n",
       "      <td>쌀밥/잡곡밥 (쌀,현미흑미:국내산) 청국장찌개  황태양념구이 (황태:러시아산) 고기...</td>\n",
       "      <td>1017.0</td>\n",
       "      <td>573.0</td>\n",
       "      <td>2</td>\n",
       "    </tr>\n",
       "  </tbody>\n",
       "</table>\n",
       "</div>"
      ],
      "text/plain": [
       "          일자 요일  본사정원수  본사휴가자수  본사출장자수  본사시간외근무명령서승인건수  현본사소속재택근무자수  \\\n",
       "0 2016-02-01  월   2601      50     150             238          0.0   \n",
       "1 2016-02-02  화   2601      50     173             319          0.0   \n",
       "2 2016-02-03  수   2601      56     180             111          0.0   \n",
       "\n",
       "                                                조식메뉴  \\\n",
       "0  모닝롤/찐빵  우유/두유/주스 계란후라이  호두죽/쌀밥 (쌀:국내산) 된장찌개  쥐...   \n",
       "1  모닝롤/단호박샌드  우유/두유/주스 계란후라이  팥죽/쌀밥 (쌀:국내산) 호박젓국찌...   \n",
       "2  모닝롤/베이글  우유/두유/주스 계란후라이  표고버섯죽/쌀밥 (쌀:국내산) 콩나물국...   \n",
       "\n",
       "                                                중식메뉴  \\\n",
       "0  쌀밥/잡곡밥 (쌀,현미흑미:국내산) 오징어찌개  쇠불고기 (쇠고기:호주산) 계란찜 ...   \n",
       "1  쌀밥/잡곡밥 (쌀,현미흑미:국내산) 김치찌개  가자미튀김  모둠소세지구이  마늘쫑무...   \n",
       "2  카레덮밥 (쌀,현미흑미:국내산) 팽이장국  치킨핑거 (닭고기:국내산) 쫄면야채무침 ...   \n",
       "\n",
       "                                                석식메뉴     중식계    석식계  month  \n",
       "0  쌀밥/잡곡밥 (쌀,현미흑미:국내산) 육개장  자반고등어구이  두부조림  건파래무침 ...  1039.0  331.0      2  \n",
       "1  콩나물밥*양념장 (쌀,현미흑미:국내산) 어묵국  유산슬 (쇠고기:호주산) 아삭고추무...   867.0  560.0      2  \n",
       "2  쌀밥/잡곡밥 (쌀,현미흑미:국내산) 청국장찌개  황태양념구이 (황태:러시아산) 고기...  1017.0  573.0      2  "
      ]
     },
     "execution_count": 18,
     "metadata": {},
     "output_type": "execute_result"
    }
   ],
   "source": [
    "df.head(3)\n",
    "# 식수에 영향을 미치는 '메뉴'를 분석해보고 싶음\n",
    "# 메뉴를 보고 구내식당에서 먹을지 외식을 할 건지 결정\n",
    "# 메뉴 분석 전 전처리 과정이 필요함"
   ]
  },
  {
   "cell_type": "markdown",
   "id": "589f952a-690c-42c1-b24b-9e32ea63ba65",
   "metadata": {},
   "source": [
    "### 메뉴 전처리."
   ]
  },
  {
   "cell_type": "code",
   "execution_count": 19,
   "id": "be877567-9247-4bcd-a580-0e8f2fab5124",
   "metadata": {},
   "outputs": [
    {
     "data": {
      "text/plain": [
       "'모닝롤/찐빵  우유/두유/주스 계란후라이  호두죽/쌀밥 (쌀:국내산) 된장찌개  쥐어채무침  포기김치 (배추,고추가루:국내산) '"
      ]
     },
     "execution_count": 19,
     "metadata": {},
     "output_type": "execute_result"
    }
   ],
   "source": [
    "df['조식메뉴'][0]\n",
    "# 메뉴가 공백(띄어쓰기)으로 구분되어있기는 하나 들쑥날쑥하게 구분이 되어있음\n",
    "# ' ' → 로 바꿔서 확인."
   ]
  },
  {
   "cell_type": "code",
   "execution_count": 20,
   "id": "e23100b1-efff-4528-ba5b-cde1282057f8",
   "metadata": {},
   "outputs": [
    {
     "data": {
      "text/plain": [
       "'모닝롤/찐빵**우유/두유/주스*계란후라이**호두죽/쌀밥*(쌀:국내산)*된장찌개**쥐어채무침**포기김치*(배추,고추가루:국내산)*'"
      ]
     },
     "execution_count": 20,
     "metadata": {},
     "output_type": "execute_result"
    }
   ],
   "source": [
    "df['조식메뉴'][0].replace(' ', '*')\n",
    "# 공백으로 나눠져 있지만 균일하지 않게 한 개, 두 개로 엉망진창 구분이 돼있음"
   ]
  },
  {
   "cell_type": "code",
   "execution_count": 21,
   "id": "d0eaf72a-1922-4d1d-b662-b85f165371a8",
   "metadata": {},
   "outputs": [],
   "source": [
    "# 띄어쓰기 3 → 2, 띄어쓰기 2 → 1\n",
    "df['조식메뉴'] = df['조식메뉴'].str.replace(\"   \", \"  \")\n",
    "df['중식메뉴'] = df['중식메뉴'].str.replace(\"   \", \"  \")\n",
    "df['석식메뉴'] = df['석식메뉴'].str.replace(\"   \", \"  \")\n",
    "\n",
    "df['조식메뉴'] = df['조식메뉴'].str.replace(\"  \", \" \")\n",
    "df['중식메뉴'] = df['중식메뉴'].str.replace(\"  \", \" \")\n",
    "df['석식메뉴'] = df['석식메뉴'].str.replace(\"  \", \" \")\n",
    "\n",
    "# 띄어쓰기 1개를 기준으로 문자열 분리"
   ]
  },
  {
   "cell_type": "code",
   "execution_count": 22,
   "id": "64d89422-6777-4915-b63e-11d18284467d",
   "metadata": {},
   "outputs": [
    {
     "data": {
      "text/plain": [
       "'모닝롤/찐빵 우유/두유/주스 계란후라이 호두죽/쌀밥 (쌀:국내산) 된장찌개 쥐어채무침 포기김치 (배추,고추가루:국내산) '"
      ]
     },
     "execution_count": 22,
     "metadata": {},
     "output_type": "execute_result"
    }
   ],
   "source": [
    "df['조식메뉴'][0]"
   ]
  },
  {
   "cell_type": "code",
   "execution_count": 23,
   "id": "1c259dd4-aac2-405f-a55d-cc5627d91fca",
   "metadata": {},
   "outputs": [
    {
     "data": {
      "text/plain": [
       "'모닝롤/찐빵*우유/두유/주스*계란후라이*호두죽/쌀밥*(쌀:국내산)*된장찌개*쥐어채무침*포기김치*(배추,고추가루:국내산)*'"
      ]
     },
     "execution_count": 23,
     "metadata": {},
     "output_type": "execute_result"
    }
   ],
   "source": [
    "df['조식메뉴'][0].replace(' ', '*')"
   ]
  },
  {
   "cell_type": "code",
   "execution_count": 24,
   "id": "10db270c-61ab-4553-9ed3-261984f761c2",
   "metadata": {},
   "outputs": [],
   "source": [
    "# 띄어쓰기를 기준으로 문자열 분리\n",
    "df['조식메뉴'] = df['조식메뉴'].str.split(' ')\n",
    "# 여러번 실행시키지 말기."
   ]
  },
  {
   "cell_type": "code",
   "execution_count": 25,
   "id": "7c384922-a6ec-421a-9c4e-0d1d7b446d7c",
   "metadata": {},
   "outputs": [
    {
     "data": {
      "text/plain": [
       "0       [모닝롤/찐빵, 우유/두유/주스, 계란후라이, 호두죽/쌀밥, (쌀:국내산), 된장찌...\n",
       "1       [모닝롤/단호박샌드, 우유/두유/주스, 계란후라이, 팥죽/쌀밥, (쌀:국내산), 호...\n",
       "2       [모닝롤/베이글, 우유/두유/주스, 계란후라이, 표고버섯죽/쌀밥, (쌀:국내산), ...\n",
       "3       [모닝롤/토마토샌드, 우유/두유/주스, 계란후라이, 닭죽/쌀밥, (쌀,닭:국내산),...\n",
       "4       [모닝롤/와플, 우유/두유/주스, 계란후라이, 쇠고기죽/쌀밥, (쌀:국내산), 재첩...\n",
       "                              ...                        \n",
       "1200    [모닝롤/페퍼로니피자, 우유/주스, 계란후라이/찐계란, 크루통크림스프/흑미밥, 아귀...\n",
       "1201    [모닝롤/생크림단팥빵, 우유/주스, 계란후라이/찐계란, 누룽지탕/흑미밥, 떡국, 해...\n",
       "1202    [모닝롤/BLT샌드위치, 우유/주스, 계란후라이/찐계란, 흑임자죽/흑미밥, 바지락살...\n",
       "1203    [모닝롤/호박고구마오븐구이, 우유/주스, 계란후라이/찐계란, 누룽지탕/흑미밥, 감자...\n",
       "1204    [모닝롤/야채샌드, 우유/주스, 계란후라이/찐계란, 참치죽/흑미밥, 홍합탕, 애호박...\n",
       "Name: 조식메뉴, Length: 1205, dtype: object"
      ]
     },
     "execution_count": 25,
     "metadata": {},
     "output_type": "execute_result"
    }
   ],
   "source": [
    "df['조식메뉴']"
   ]
  },
  {
   "cell_type": "code",
   "execution_count": 26,
   "id": "6b49251c-8e18-400b-a6bd-8c00acf724ec",
   "metadata": {},
   "outputs": [],
   "source": [
    "df['중식메뉴'] = df['중식메뉴'].str.split(' ')\n",
    "df['석식메뉴'] = df['석식메뉴'].str.split(' ')"
   ]
  },
  {
   "cell_type": "code",
   "execution_count": 27,
   "id": "766b938f-f363-4887-a824-aaaf5a0056dd",
   "metadata": {},
   "outputs": [
    {
     "name": "stdout",
     "output_type": "stream",
     "text": [
      "['쌀밥/잡곡밥', '(쌀,현미흑미:국내산)', '오징어찌개', '쇠불고기', '(쇠고기:호주산)', '계란찜', '청포묵무침', '요구르트', '포기김치', '(배추,고추가루:국내산)', '']\n",
      "['쌀밥/잡곡밥', '(쌀,현미흑미:국내산)', '육개장', '자반고등어구이', '두부조림', '건파래무침', '포기김치', '(김치:국내산)', '']\n"
     ]
    }
   ],
   "source": [
    "print(df['중식메뉴'][0])\n",
    "print(df['석식메뉴'][0])"
   ]
  },
  {
   "cell_type": "code",
   "execution_count": 28,
   "id": "8fa4e36c-2473-42c7-a817-8749d1561c82",
   "metadata": {},
   "outputs": [],
   "source": [
    "# TF-IDF를 활용해 중요한 메뉴를 선정해보자.\n",
    "# 공백을 기준으로 메뉴를 살펴보았을 때, 방문 혼잡도에 가장 영향을 미치는 요소는 메인 메뉴라고 판단됨\n",
    "# 메뉴 선정에 불필요한 정보인 원산지 삭제\n",
    "import re\n",
    "from sklearn.feature_extraction.text import TfidfVectorizer\n",
    "# TF-IDF(Term Frequency - Inverse Document Frequency)\n",
    "# 문서 내 단어의 빈도와 전체 문서에서의 희귀성을 반영한 가중치를 계산한 점수"
   ]
  },
  {
   "cell_type": "code",
   "execution_count": 29,
   "id": "2d24d99a-a175-46d6-be6e-8059c3bba227",
   "metadata": {},
   "outputs": [],
   "source": [
    "# TF-IDF를 위해 리스트를 문자열로 변환하여 저장\n",
    "df['조식메뉴'] = df['조식메뉴'].apply(lambda x : ' '.join(x))\n",
    "df['중식메뉴'] = df['중식메뉴'].apply(lambda x : ' '.join(x))\n",
    "df['석식메뉴'] = df['석식메뉴'].apply(lambda x : ' '.join(x))\n",
    "# lambda(익명 함수) : 주로 간단한 함수(재사용이 필요없는)가 필요할 때 사용"
   ]
  },
  {
   "cell_type": "code",
   "execution_count": 30,
   "id": "81110df7-cb91-4630-8e80-e8cbf7b24abe",
   "metadata": {},
   "outputs": [
    {
     "data": {
      "text/plain": [
       "0    모닝롤/찐빵 우유/두유/주스 계란후라이 호두죽/쌀밥 (쌀:국내산) 된장찌개 쥐어채무...\n",
       "Name: 조식메뉴, dtype: object"
      ]
     },
     "execution_count": 30,
     "metadata": {},
     "output_type": "execute_result"
    }
   ],
   "source": [
    "df['조식메뉴'].head(1)"
   ]
  },
  {
   "cell_type": "code",
   "execution_count": 31,
   "id": "7bcf0661-ba76-4656-b0f2-5d98624136a9",
   "metadata": {},
   "outputs": [],
   "source": [
    "# 불필요한 정보(원산지 정보) 제거 함수 정의\n",
    "def remove_pattern(text):\n",
    "    return re.sub(r'\\([^)]*\\)', '', text)\n",
    "# \\( : 여는 괄호 (의미\n",
    "# [^)]* : )를 제외한 모든 문자를 *(0번 이상 반복) 의미\n",
    "# \\) : 닫는 괄호 )의미"
   ]
  },
  {
   "cell_type": "code",
   "execution_count": 32,
   "id": "7bbcb023-19f9-4f1b-b1dc-739bf4f97779",
   "metadata": {},
   "outputs": [
    {
     "data": {
      "text/plain": [
       "'모닝롤/찐빵 우유/두유/주스 계란후라이 호두죽/쌀밥  된장찌개 쥐어채무침 포기김치  '"
      ]
     },
     "execution_count": 32,
     "metadata": {},
     "output_type": "execute_result"
    }
   ],
   "source": [
    "remove_pattern(df['조식메뉴'][0])"
   ]
  },
  {
   "cell_type": "markdown",
   "id": "92002121-ad15-4bee-8af7-39a62b01da88",
   "metadata": {},
   "source": [
    "### TF-IDF 활용하여 단어의 중요도 계산해주고, 상위 1ea 메뉴만 선정"
   ]
  },
  {
   "cell_type": "code",
   "execution_count": 33,
   "id": "6e7207e2-b265-4d7b-ae3b-ec668eb12913",
   "metadata": {},
   "outputs": [],
   "source": [
    "vectorizer = TfidfVectorizer() # TF-IDF 객체 초기화"
   ]
  },
  {
   "cell_type": "code",
   "execution_count": 34,
   "id": "8ac01d65-ee7c-49e6-9984-8c11ac2cae7f",
   "metadata": {},
   "outputs": [],
   "source": [
    "# 조식, 중식, 석식 메뉴별 TF-IDF 점수 변환\n",
    "X = vectorizer.fit_transform(df['중식메뉴'])"
   ]
  },
  {
   "cell_type": "code",
   "execution_count": 35,
   "id": "63831f56-180b-44de-a87f-7fd8221f07de",
   "metadata": {},
   "outputs": [
    {
     "data": {
      "text/plain": [
       "array(['d오리엔탈d', 'la갈비구이', 'new', ..., '흑임자드레싱', '흑임자연근샐러드', '히레카츠'],\n",
       "      dtype=object)"
      ]
     },
     "execution_count": 35,
     "metadata": {},
     "output_type": "execute_result"
    }
   ],
   "source": [
    "vectorizer.get_feature_names_out()"
   ]
  },
  {
   "cell_type": "code",
   "execution_count": 36,
   "id": "5d73bc25-9f23-4d7f-823b-6c250a577a99",
   "metadata": {},
   "outputs": [
    {
     "data": {
      "text/html": [
       "<div>\n",
       "<style scoped>\n",
       "    .dataframe tbody tr th:only-of-type {\n",
       "        vertical-align: middle;\n",
       "    }\n",
       "\n",
       "    .dataframe tbody tr th {\n",
       "        vertical-align: top;\n",
       "    }\n",
       "\n",
       "    .dataframe thead th {\n",
       "        text-align: right;\n",
       "    }\n",
       "</style>\n",
       "<table border=\"1\" class=\"dataframe\">\n",
       "  <thead>\n",
       "    <tr style=\"text-align: right;\">\n",
       "      <th></th>\n",
       "      <th>d오리엔탈d</th>\n",
       "      <th>la갈비구이</th>\n",
       "      <th>new</th>\n",
       "      <th>가래떡구이</th>\n",
       "      <th>가래떡돼지갈비찜</th>\n",
       "      <th>가래떡츄러스</th>\n",
       "      <th>가자미무조림</th>\n",
       "      <th>가자미양념찜</th>\n",
       "      <th>가자미엿장구이</th>\n",
       "      <th>가자미엿장조림</th>\n",
       "      <th>...</th>\n",
       "      <th>훈제오리냉채</th>\n",
       "      <th>훈제오리단호박볶음</th>\n",
       "      <th>훈제오리마늘볶음</th>\n",
       "      <th>훈제오리볶음</th>\n",
       "      <th>흑미</th>\n",
       "      <th>흑미밥</th>\n",
       "      <th>흑임자d</th>\n",
       "      <th>흑임자드레싱</th>\n",
       "      <th>흑임자연근샐러드</th>\n",
       "      <th>히레카츠</th>\n",
       "    </tr>\n",
       "  </thead>\n",
       "  <tbody>\n",
       "    <tr>\n",
       "      <th>0</th>\n",
       "      <td>0.0</td>\n",
       "      <td>0.0</td>\n",
       "      <td>0.0</td>\n",
       "      <td>0.0</td>\n",
       "      <td>0.0</td>\n",
       "      <td>0.0</td>\n",
       "      <td>0.0</td>\n",
       "      <td>0.0</td>\n",
       "      <td>0.0</td>\n",
       "      <td>0.0</td>\n",
       "      <td>...</td>\n",
       "      <td>0.0</td>\n",
       "      <td>0.0</td>\n",
       "      <td>0.0</td>\n",
       "      <td>0.0</td>\n",
       "      <td>0.0</td>\n",
       "      <td>0.0</td>\n",
       "      <td>0.0</td>\n",
       "      <td>0.0</td>\n",
       "      <td>0.0</td>\n",
       "      <td>0.0</td>\n",
       "    </tr>\n",
       "    <tr>\n",
       "      <th>1</th>\n",
       "      <td>0.0</td>\n",
       "      <td>0.0</td>\n",
       "      <td>0.0</td>\n",
       "      <td>0.0</td>\n",
       "      <td>0.0</td>\n",
       "      <td>0.0</td>\n",
       "      <td>0.0</td>\n",
       "      <td>0.0</td>\n",
       "      <td>0.0</td>\n",
       "      <td>0.0</td>\n",
       "      <td>...</td>\n",
       "      <td>0.0</td>\n",
       "      <td>0.0</td>\n",
       "      <td>0.0</td>\n",
       "      <td>0.0</td>\n",
       "      <td>0.0</td>\n",
       "      <td>0.0</td>\n",
       "      <td>0.0</td>\n",
       "      <td>0.0</td>\n",
       "      <td>0.0</td>\n",
       "      <td>0.0</td>\n",
       "    </tr>\n",
       "    <tr>\n",
       "      <th>2</th>\n",
       "      <td>0.0</td>\n",
       "      <td>0.0</td>\n",
       "      <td>0.0</td>\n",
       "      <td>0.0</td>\n",
       "      <td>0.0</td>\n",
       "      <td>0.0</td>\n",
       "      <td>0.0</td>\n",
       "      <td>0.0</td>\n",
       "      <td>0.0</td>\n",
       "      <td>0.0</td>\n",
       "      <td>...</td>\n",
       "      <td>0.0</td>\n",
       "      <td>0.0</td>\n",
       "      <td>0.0</td>\n",
       "      <td>0.0</td>\n",
       "      <td>0.0</td>\n",
       "      <td>0.0</td>\n",
       "      <td>0.0</td>\n",
       "      <td>0.0</td>\n",
       "      <td>0.0</td>\n",
       "      <td>0.0</td>\n",
       "    </tr>\n",
       "    <tr>\n",
       "      <th>3</th>\n",
       "      <td>0.0</td>\n",
       "      <td>0.0</td>\n",
       "      <td>0.0</td>\n",
       "      <td>0.0</td>\n",
       "      <td>0.0</td>\n",
       "      <td>0.0</td>\n",
       "      <td>0.0</td>\n",
       "      <td>0.0</td>\n",
       "      <td>0.0</td>\n",
       "      <td>0.0</td>\n",
       "      <td>...</td>\n",
       "      <td>0.0</td>\n",
       "      <td>0.0</td>\n",
       "      <td>0.0</td>\n",
       "      <td>0.0</td>\n",
       "      <td>0.0</td>\n",
       "      <td>0.0</td>\n",
       "      <td>0.0</td>\n",
       "      <td>0.0</td>\n",
       "      <td>0.0</td>\n",
       "      <td>0.0</td>\n",
       "    </tr>\n",
       "    <tr>\n",
       "      <th>4</th>\n",
       "      <td>0.0</td>\n",
       "      <td>0.0</td>\n",
       "      <td>0.0</td>\n",
       "      <td>0.0</td>\n",
       "      <td>0.0</td>\n",
       "      <td>0.0</td>\n",
       "      <td>0.0</td>\n",
       "      <td>0.0</td>\n",
       "      <td>0.0</td>\n",
       "      <td>0.0</td>\n",
       "      <td>...</td>\n",
       "      <td>0.0</td>\n",
       "      <td>0.0</td>\n",
       "      <td>0.0</td>\n",
       "      <td>0.0</td>\n",
       "      <td>0.0</td>\n",
       "      <td>0.0</td>\n",
       "      <td>0.0</td>\n",
       "      <td>0.0</td>\n",
       "      <td>0.0</td>\n",
       "      <td>0.0</td>\n",
       "    </tr>\n",
       "  </tbody>\n",
       "</table>\n",
       "<p>5 rows × 1687 columns</p>\n",
       "</div>"
      ],
      "text/plain": [
       "   d오리엔탈d  la갈비구이  new  가래떡구이  가래떡돼지갈비찜  가래떡츄러스  가자미무조림  가자미양념찜  가자미엿장구이  \\\n",
       "0     0.0     0.0  0.0    0.0       0.0     0.0     0.0     0.0      0.0   \n",
       "1     0.0     0.0  0.0    0.0       0.0     0.0     0.0     0.0      0.0   \n",
       "2     0.0     0.0  0.0    0.0       0.0     0.0     0.0     0.0      0.0   \n",
       "3     0.0     0.0  0.0    0.0       0.0     0.0     0.0     0.0      0.0   \n",
       "4     0.0     0.0  0.0    0.0       0.0     0.0     0.0     0.0      0.0   \n",
       "\n",
       "   가자미엿장조림  ...  훈제오리냉채  훈제오리단호박볶음  훈제오리마늘볶음  훈제오리볶음   흑미  흑미밥  흑임자d  흑임자드레싱  \\\n",
       "0      0.0  ...     0.0        0.0       0.0     0.0  0.0  0.0   0.0     0.0   \n",
       "1      0.0  ...     0.0        0.0       0.0     0.0  0.0  0.0   0.0     0.0   \n",
       "2      0.0  ...     0.0        0.0       0.0     0.0  0.0  0.0   0.0     0.0   \n",
       "3      0.0  ...     0.0        0.0       0.0     0.0  0.0  0.0   0.0     0.0   \n",
       "4      0.0  ...     0.0        0.0       0.0     0.0  0.0  0.0   0.0     0.0   \n",
       "\n",
       "   흑임자연근샐러드  히레카츠  \n",
       "0       0.0   0.0  \n",
       "1       0.0   0.0  \n",
       "2       0.0   0.0  \n",
       "3       0.0   0.0  \n",
       "4       0.0   0.0  \n",
       "\n",
       "[5 rows x 1687 columns]"
      ]
     },
     "execution_count": 36,
     "metadata": {},
     "output_type": "execute_result"
    }
   ],
   "source": [
    "# TF-IDF 점수를 DF 변환\n",
    "tfidf_df = pd.DataFrame(\n",
    "    X.toarray(),\n",
    "    columns = vectorizer.get_feature_names_out()\n",
    ")\n",
    "tfidf_df.head()"
   ]
  },
  {
   "cell_type": "code",
   "execution_count": 37,
   "id": "4b60b299-5ca5-43ab-93a7-1b91b86c236a",
   "metadata": {},
   "outputs": [],
   "source": [
    "# 각 메뉴별로 TF_IDF 점수가 가장 높은 1개의 단어의 인덱스를 추출\n",
    "top_n_idx = tfidf_df.iloc[0].argmax()"
   ]
  },
  {
   "cell_type": "code",
   "execution_count": 38,
   "id": "fd0f791c-cc58-44bc-8e35-fb00d48ca9e0",
   "metadata": {},
   "outputs": [
    {
     "data": {
      "text/plain": [
       "'오징어찌개'"
      ]
     },
     "execution_count": 38,
     "metadata": {},
     "output_type": "execute_result"
    }
   ],
   "source": [
    "# 메뉴(단어사전)\n",
    "tfidf_df.columns[top_n_idx]\n",
    "# 추출한 메뉴 인덱스로 메뉴 인덱싱"
   ]
  },
  {
   "cell_type": "code",
   "execution_count": 39,
   "id": "8dbef773-7516-4601-9888-710893c916c6",
   "metadata": {},
   "outputs": [],
   "source": [
    "# 모든 데이터에서 메뉴중에 점수가 가장 높은 1개의 인덱스를 추출하여 메인메뉴 뽑는 함수 만들기\n",
    "def extract_main(menu_series):\n",
    "    vectorizer = TfidfVectorizer() # TF-IDF 객체 생성\n",
    "    X = vectorizer.fit_transform(menu_series) # TF-IDF 점수 생성\n",
    "\n",
    "    tfidf_df = pd.DataFrame(X.toarray(),\n",
    "                           columns = vectorizer.get_feature_names_out())\n",
    "\n",
    "    # 각 행별로 TF-IDF 점수가 가장 높은 단어를 추출\n",
    "    def top_tfidf_word(row):\n",
    "        top_n_idx = row.argmax() # 각 메뉴별로 TF-IDF 점수가 가장 높은 인덱스 추출\n",
    "        return tfidf_df.columns[top_n_idx]\n",
    "\n",
    "    return tfidf_df.apply(top_tfidf_word, axis = 1)"
   ]
  },
  {
   "cell_type": "code",
   "execution_count": 40,
   "id": "ce6d3465-e53e-4fcd-ad47-7f4db77aecc5",
   "metadata": {
    "scrolled": true
   },
   "outputs": [],
   "source": [
    "df['조식메뉴_Main'] = extract_main(df['조식메뉴'])\n",
    "df['중식메뉴_Main'] = extract_main(df['중식메뉴'])\n",
    "df['석식메뉴_Main'] = extract_main(df['석식메뉴'])"
   ]
  },
  {
   "cell_type": "code",
   "execution_count": 41,
   "id": "e6719b3a-ae1c-4dfb-9514-78412ad5d0c5",
   "metadata": {},
   "outputs": [
    {
     "data": {
      "text/html": [
       "<div>\n",
       "<style scoped>\n",
       "    .dataframe tbody tr th:only-of-type {\n",
       "        vertical-align: middle;\n",
       "    }\n",
       "\n",
       "    .dataframe tbody tr th {\n",
       "        vertical-align: top;\n",
       "    }\n",
       "\n",
       "    .dataframe thead th {\n",
       "        text-align: right;\n",
       "    }\n",
       "</style>\n",
       "<table border=\"1\" class=\"dataframe\">\n",
       "  <thead>\n",
       "    <tr style=\"text-align: right;\">\n",
       "      <th></th>\n",
       "      <th>조식메뉴_Main</th>\n",
       "      <th>중식메뉴_Main</th>\n",
       "      <th>석식메뉴_Main</th>\n",
       "    </tr>\n",
       "  </thead>\n",
       "  <tbody>\n",
       "    <tr>\n",
       "      <th>0</th>\n",
       "      <td>쥐어채무침</td>\n",
       "      <td>오징어찌개</td>\n",
       "      <td>건파래무침</td>\n",
       "    </tr>\n",
       "    <tr>\n",
       "      <th>1</th>\n",
       "      <td>단호박샌드</td>\n",
       "      <td>김치찌개</td>\n",
       "      <td>콩나물밥</td>\n",
       "    </tr>\n",
       "    <tr>\n",
       "      <th>2</th>\n",
       "      <td>느타리호박볶음</td>\n",
       "      <td>견과류조림</td>\n",
       "      <td>황태</td>\n",
       "    </tr>\n",
       "    <tr>\n",
       "      <th>3</th>\n",
       "      <td>근대국</td>\n",
       "      <td>부추전</td>\n",
       "      <td>미니김밥</td>\n",
       "    </tr>\n",
       "    <tr>\n",
       "      <th>4</th>\n",
       "      <td>방풍나물</td>\n",
       "      <td>돈육씨앗강정</td>\n",
       "      <td>감자소세지볶음</td>\n",
       "    </tr>\n",
       "    <tr>\n",
       "      <th>...</th>\n",
       "      <td>...</td>\n",
       "      <td>...</td>\n",
       "      <td>...</td>\n",
       "    </tr>\n",
       "    <tr>\n",
       "      <th>1200</th>\n",
       "      <td>마늘종숙회</td>\n",
       "      <td>견과류마카로니범벅</td>\n",
       "      <td>맛살튀김</td>\n",
       "    </tr>\n",
       "    <tr>\n",
       "      <th>1201</th>\n",
       "      <td>생크림단팥빵</td>\n",
       "      <td>버섯숙회</td>\n",
       "      <td>비엔나채소볶음</td>\n",
       "    </tr>\n",
       "    <tr>\n",
       "      <th>1202</th>\n",
       "      <td>바지락살국</td>\n",
       "      <td>계란파국</td>\n",
       "      <td>수제맛쵸킹탕수육</td>\n",
       "    </tr>\n",
       "    <tr>\n",
       "      <th>1203</th>\n",
       "      <td>분홍소세지구이</td>\n",
       "      <td>양념김</td>\n",
       "      <td>생강채</td>\n",
       "    </tr>\n",
       "    <tr>\n",
       "      <th>1204</th>\n",
       "      <td>애호박새우젓볶음</td>\n",
       "      <td>교촌간장치킨</td>\n",
       "      <td>수제고기육전</td>\n",
       "    </tr>\n",
       "  </tbody>\n",
       "</table>\n",
       "<p>1205 rows × 3 columns</p>\n",
       "</div>"
      ],
      "text/plain": [
       "     조식메뉴_Main  중식메뉴_Main 석식메뉴_Main\n",
       "0        쥐어채무침      오징어찌개     건파래무침\n",
       "1        단호박샌드       김치찌개      콩나물밥\n",
       "2      느타리호박볶음      견과류조림        황태\n",
       "3          근대국        부추전      미니김밥\n",
       "4         방풍나물     돈육씨앗강정   감자소세지볶음\n",
       "...        ...        ...       ...\n",
       "1200     마늘종숙회  견과류마카로니범벅      맛살튀김\n",
       "1201    생크림단팥빵       버섯숙회   비엔나채소볶음\n",
       "1202     바지락살국       계란파국  수제맛쵸킹탕수육\n",
       "1203   분홍소세지구이        양념김       생강채\n",
       "1204  애호박새우젓볶음     교촌간장치킨    수제고기육전\n",
       "\n",
       "[1205 rows x 3 columns]"
      ]
     },
     "execution_count": 41,
     "metadata": {},
     "output_type": "execute_result"
    }
   ],
   "source": [
    "# Main 메뉴 확인\n",
    "df[['조식메뉴_Main', '중식메뉴_Main', '석식메뉴_Main']]"
   ]
  },
  {
   "cell_type": "code",
   "execution_count": 42,
   "id": "53c8659b-ddd8-4e2c-acf8-e40655c1fdc2",
   "metadata": {},
   "outputs": [
    {
     "data": {
      "text/plain": [
       "조식메뉴_Main\n",
       "도라지나물      9\n",
       "연두부탕       8\n",
       "느타리볶음      8\n",
       "김잔파무침      8\n",
       "조랭이떡국      7\n",
       "문어꽈리초조림    7\n",
       "두부쑥갓무침     7\n",
       "대구탕        7\n",
       "쑥갓두부무침     7\n",
       "브로컬리들깨찜    7\n",
       "Name: count, dtype: int64"
      ]
     },
     "metadata": {},
     "output_type": "display_data"
    },
    {
     "name": "stdout",
     "output_type": "stream",
     "text": [
      "\n"
     ]
    },
    {
     "data": {
      "text/plain": [
       "중식메뉴_Main\n",
       "견과류조림       5\n",
       "유자청돈육볶음     5\n",
       "new         5\n",
       "참나물땅콩무침     4\n",
       "두부새싹구이      4\n",
       "사과고구마그라탕    4\n",
       "해파리겨자채      4\n",
       "해파리냉채       3\n",
       "청경채사과생채     3\n",
       "물파래무침       3\n",
       "Name: count, dtype: int64"
      ]
     },
     "metadata": {},
     "output_type": "display_data"
    },
    {
     "name": "stdout",
     "output_type": "stream",
     "text": [
      "\n"
     ]
    },
    {
     "data": {
      "text/plain": [
       "석식메뉴_Main\n",
       "1컷팅해서     28\n",
       "자기계발의날     7\n",
       "자기개발의날     6\n",
       "애호박나물      5\n",
       "닭살겨자냉채     5\n",
       "군고구마       4\n",
       "군만두        4\n",
       "세발나물       4\n",
       "상추파무침      4\n",
       "모듬튀김       4\n",
       "Name: count, dtype: int64"
      ]
     },
     "metadata": {},
     "output_type": "display_data"
    }
   ],
   "source": [
    "# main menu 가지 수 파악\n",
    "display(df['조식메뉴_Main'].value_counts().head(10))\n",
    "print()\n",
    "display(df['중식메뉴_Main'].value_counts().head(10))\n",
    "print()\n",
    "display(df['석식메뉴_Main'].value_counts().head(10))"
   ]
  },
  {
   "cell_type": "markdown",
   "id": "4a8396ee-a95c-4e99-8454-52748c0bd07c",
   "metadata": {},
   "source": [
    "### Menu Data EDA(탐색적 데이터 분석)"
   ]
  },
  {
   "cell_type": "code",
   "execution_count": 43,
   "id": "4df575d7-cca1-48cb-a31d-3ee26aa22692",
   "metadata": {},
   "outputs": [
    {
     "data": {
      "image/png": "[encoded data removed]",
      "text/plain": [
       "<Figure size 640x480 with 1 Axes>"
      ]
     },
     "metadata": {},
     "output_type": "display_data"
    }
   ],
   "source": [
    "# main menu 별 중식계 식수 인원 확인\n",
    "df_lunch = pd.DataFrame(df.groupby('중식메뉴_Main')['중식계'].mean())\n",
    "df_lunch10 = df_lunch.sort_values(by=['중식계'], ascending = False).head(10)\n",
    "df_lunch10.plot(kind = 'barh')\n",
    "plt.show()\n",
    "\n",
    "# ascenging = False(내림차순)\n",
    "# 가래떡돼지갈비찜부터 맜있어 보이는 메뉴가 중식계 식수가 높다\n",
    "\n",
    "# ascending = True(오름차순) : 가장 인기가 없는 메뉴\n",
    "# 크리스마스 케익이 가장 인기가 없음을 확인\n",
    "\n",
    "# 인기가 많은 Main Menu일 때는, 사용자 만족을 위해서 재고를 좀더 준비해보면 좋을 것 같다.\n",
    "# 인기가 없는 Main Menu일 때는, 기존 메뉴에 대한 보완책을 고려해볼 필요성이 있겠다."
   ]
  },
  {
   "cell_type": "code",
   "execution_count": 44,
   "id": "442ba2a9-b4b0-49c1-8862-e979e74ae2ea",
   "metadata": {},
   "outputs": [
    {
     "data": {
      "image/png": "[encoded data removed]",
      "text/plain": [
       "<Figure size 640x480 with 1 Axes>"
      ]
     },
     "metadata": {},
     "output_type": "display_data"
    },
    {
     "data": {
      "image/png": "[encoded data removed]",
      "text/plain": [
       "<Figure size 640x480 with 1 Axes>"
      ]
     },
     "metadata": {},
     "output_type": "display_data"
    }
   ],
   "source": [
    "df_lunch = pd.DataFrame(df.groupby('석식메뉴_Main')['석식계'].mean())\n",
    "df_lunch10 = df_lunch.sort_values(by=['석식계'], ascending = False).head(10)\n",
    "df_lunch10.plot(kind = 'barh')\n",
    "plt.show()\n",
    "\n",
    "# 오름차순(ascending=True)\n",
    "# 가정의날, 자기개발의날, 자기계발의날 등 메뉴가 아닌것들이 확인\n",
    "# 석식 메뉴가 없는 데이터도 존재한다는 것을 확인함\n",
    "# 메뉴가 없는날의 데이터는 삭제해도 되지않을까?\n",
    "\n",
    "df_lunch10 = df_lunch.sort_values(by=['석식계'], ascending = True).head(17)[7:]\n",
    "df_lunch10.plot(kind = 'barh')\n",
    "plt.show()\n",
    "\n",
    "# 내림차순(ascending=False)\n",
    "# 실곤약초무침, 닭볶음이 높게 관측되었지만 중식계에 비해서는 식수인원이 부족함이 확인됨\n",
    "# 기본적으로 석식을 먹는 인원이 중식에 비해서 훨씬 적음을 알 수 있다.\n",
    "# 석식을 먹는 인원이 적기 때문에 그만큼 재고관리의 중요도가 높음"
   ]
  },
  {
   "cell_type": "code",
   "execution_count": 45,
   "id": "c393e552-d7db-4419-bd1e-b64e9a2d12a0",
   "metadata": {},
   "outputs": [
    {
     "data": {
      "text/plain": [
       "43"
      ]
     },
     "execution_count": 45,
     "metadata": {},
     "output_type": "execute_result"
    }
   ],
   "source": [
    "# 석식계 == 0에 대한 개수 확인\n",
    "sum(df['석식계'] == 0)\n",
    "\n",
    "# 특정 이벤트나 활동이 있을 때 석식이 제공되지 않는다.\n",
    "# 전체 데이터 1205ea 중 43ea로 확인되기 때문에 개수가 적어서 제거하는 쪽으로 진행"
   ]
  },
  {
   "cell_type": "code",
   "execution_count": 46,
   "id": "4fd38055-d5bf-4a85-8b57-724f0c2f55d7",
   "metadata": {},
   "outputs": [],
   "source": [
    "# 석식계 0인 행을 삭제\n",
    "df = df[df['석식계'] != 0] # 석식계가 0이 아닌 데이터로 df 갱신"
   ]
  },
  {
   "cell_type": "code",
   "execution_count": 47,
   "id": "5159c7f8-7c26-4a9e-881d-c529dc786e55",
   "metadata": {},
   "outputs": [
    {
     "data": {
      "text/plain": [
       "(1162, 16)"
      ]
     },
     "execution_count": 47,
     "metadata": {},
     "output_type": "execute_result"
    }
   ],
   "source": [
    "df.shape # 1205ea -> 1162ea로 줄어든 것을 확인."
   ]
  },
  {
   "cell_type": "markdown",
   "id": "37b56471-565a-41c0-a1d4-b504cedb201f",
   "metadata": {},
   "source": [
    "### 모델링을 위한 준비\n",
    "- 데이터 스케일링 수행\n",
    "  - 비지도 학습 중 클러스터링(군집화) 기법으로 클러스터링 분석을 수행하고자 함\n",
    "  - 사용하고자 하는 군집 알고리즘(K-means, 병합군집)은 거리 기반 알고리즘이기 때문에 모든 Feature가 동일한 스케일을 가지도록 스케일링이 필요함\n",
    "\n",
    "- 범주형 데이터 인코딩\n",
    "  - sklearn에서 제공하는 모델은 입력값으로 문자열을 지원하지 않음\n",
    "  - 요일, main메뉴 등의 범주형 feature에 대해서 인코딩을 진행해야 한다."
   ]
  },
  {
   "cell_type": "code",
   "execution_count": 48,
   "id": "43f4ed07-f77c-40b4-8f04-5bf35b5d14f5",
   "metadata": {},
   "outputs": [],
   "source": [
    "df.drop(['일자', '조식메뉴', '중식메뉴', '석식메뉴'], inplace = True, axis = 1)\n",
    "# 불필요한 컬럼 삭제\n",
    "# 일자 : 클러스터링에 직접적으로 사용하지 않음, 이미 month 컬럼을 추출\n",
    "# 조식, 중식, 석식 : Main메뉴 추출했기 때문에 사용하지 않음"
   ]
  },
  {
   "cell_type": "code",
   "execution_count": 49,
   "id": "3bc6d35d-62a2-494b-9a71-0c015371fad5",
   "metadata": {},
   "outputs": [
    {
     "data": {
      "text/html": [
       "<div>\n",
       "<style scoped>\n",
       "    .dataframe tbody tr th:only-of-type {\n",
       "        vertical-align: middle;\n",
       "    }\n",
       "\n",
       "    .dataframe tbody tr th {\n",
       "        vertical-align: top;\n",
       "    }\n",
       "\n",
       "    .dataframe thead th {\n",
       "        text-align: right;\n",
       "    }\n",
       "</style>\n",
       "<table border=\"1\" class=\"dataframe\">\n",
       "  <thead>\n",
       "    <tr style=\"text-align: right;\">\n",
       "      <th></th>\n",
       "      <th>요일</th>\n",
       "      <th>본사정원수</th>\n",
       "      <th>본사휴가자수</th>\n",
       "      <th>본사출장자수</th>\n",
       "      <th>본사시간외근무명령서승인건수</th>\n",
       "      <th>현본사소속재택근무자수</th>\n",
       "      <th>중식계</th>\n",
       "      <th>석식계</th>\n",
       "      <th>month</th>\n",
       "      <th>조식메뉴_Main</th>\n",
       "      <th>중식메뉴_Main</th>\n",
       "      <th>석식메뉴_Main</th>\n",
       "    </tr>\n",
       "  </thead>\n",
       "  <tbody>\n",
       "    <tr>\n",
       "      <th>0</th>\n",
       "      <td>월</td>\n",
       "      <td>2601</td>\n",
       "      <td>50</td>\n",
       "      <td>150</td>\n",
       "      <td>238</td>\n",
       "      <td>0.0</td>\n",
       "      <td>1039.0</td>\n",
       "      <td>331.0</td>\n",
       "      <td>2</td>\n",
       "      <td>쥐어채무침</td>\n",
       "      <td>오징어찌개</td>\n",
       "      <td>건파래무침</td>\n",
       "    </tr>\n",
       "  </tbody>\n",
       "</table>\n",
       "</div>"
      ],
      "text/plain": [
       "  요일  본사정원수  본사휴가자수  본사출장자수  본사시간외근무명령서승인건수  현본사소속재택근무자수     중식계    석식계  \\\n",
       "0  월   2601      50     150             238          0.0  1039.0  331.0   \n",
       "\n",
       "   month 조식메뉴_Main 중식메뉴_Main 석식메뉴_Main  \n",
       "0      2     쥐어채무침     오징어찌개     건파래무침  "
      ]
     },
     "execution_count": 49,
     "metadata": {},
     "output_type": "execute_result"
    }
   ],
   "source": [
    "df.head(1)"
   ]
  },
  {
   "cell_type": "code",
   "execution_count": 50,
   "id": "5e63f1db-a846-4c22-9a68-23957ca68a85",
   "metadata": {},
   "outputs": [],
   "source": [
    "# numeric(수치형), categorical(범주형) 컬럼 나누기\n",
    "\n",
    "numeric_list = [] # 수치형 컬럼명 담을 list\n",
    "categorical_list = [] # 범주형 컬럼명 담을 list\n",
    "\n",
    "for i in df.columns:\n",
    "    if df[i].dtypes == 'O':\n",
    "        categorical_list.append(i)\n",
    "    else:\n",
    "        numeric_list.append(i)\n",
    "\n",
    "# if df[i].dtypes == 'O' -> 컬럼의 데이터 타입이 'O'(Object, 문자열)인지 여부 확인\n",
    "# 'int64', : 64비트 정수형 / 'float32' : 32비트 실수형 / 'bool' : 불리언형"
   ]
  },
  {
   "cell_type": "code",
   "execution_count": 51,
   "id": "5344116f-c44f-4cdc-a2df-7d6250ecd125",
   "metadata": {},
   "outputs": [
    {
     "name": "stdout",
     "output_type": "stream",
     "text": [
      "수치형 ['본사정원수', '본사휴가자수', '본사출장자수', '본사시간외근무명령서승인건수', '현본사소속재택근무자수', '중식계', '석식계', 'month']\n",
      "범주형 ['요일', '조식메뉴_Main', '중식메뉴_Main', '석식메뉴_Main']\n"
     ]
    }
   ],
   "source": [
    "print(\"수치형\", numeric_list)\n",
    "print(\"범주형\", categorical_list)"
   ]
  },
  {
   "cell_type": "markdown",
   "id": "11e21fed-f856-4dbd-aa7a-cca38e88afa0",
   "metadata": {},
   "source": [
    "### 스케일링 선택 및 적용을 위한 데이터 분포 확인\n",
    "1. StandardScaler : 데이터를 평균이 0, 표준편차가 1이 되도록 변환\n",
    "   - 데이터가 정규분포(또는 근사 정규분포)를 따르는 경우 적용\n",
    "   - 이상치가 있어도, 평균과 표준편차가 극단적이지 않은 경우\n",
    "2. MinMaxScaler : 데이터를 최소값 0, 최대값 1로 변환\n",
    "   - 데이터가 정규분포를 따르지 않는 경우\n",
    "   - 이상치(Outlier)가 있을 때 영향을 최소화 하고 싶은 경우\n",
    "   - 특정 범위로 데이터를 변환해야 할 때(이미지 처리)"
   ]
  },
  {
   "cell_type": "code",
   "execution_count": 52,
   "id": "452601bd-5de7-4f7c-91eb-4b10ede30b13",
   "metadata": {},
   "outputs": [
    {
     "data": {
      "image/png": "[encoded data removed]",
      "text/plain": [
       "<Figure size 1500x1000 with 9 Axes>"
      ]
     },
     "metadata": {},
     "output_type": "display_data"
    }
   ],
   "source": [
    "plt.style.use(['dark_background']) # 차트 배경을 어둡게\n",
    "# 데이터 분포 확인을 위해 히스토그램 그려보기\n",
    "df[numeric_list].hist(\n",
    "    bins = 30, # 히스토그램 막대의 개수\n",
    "    figsize = (15, 10)\n",
    ")\n",
    "plt.suptitle('수치특성 분포')\n",
    "plt.show()"
   ]
  },
  {
   "cell_type": "markdown",
   "id": "ba608ac6-c5ad-47da-9dd5-ae10784b94c3",
   "metadata": {},
   "source": [
    "### 히스토그램 해석\n",
    "\n",
    "| 항목 | 분포 형태 | 설명 |\n",
    "| --- | --- | --- |\n",
    "| **본사정원수** | 다중 피크를 가진 비정규 분포 | 특정 구간에서 집중되는 경향이 있으며, 전체 범위가 비교적 넓음 |\n",
    "| **본사휴가자수** | 왼쪽으로 치우친 비대칭 분포 | 대부분의 값이 0에서 200 사이에 집중되어 있으며, 일부 높은 값들이 존재함 |\n",
    "| **본사출장자수** | 정규분포에 가까움 | 값이 평균을 중심으로 어느 정도 고르게 분포되어 있음 |\n",
    "| **본사시간외근무명령서승인건수** | 왼쪽으로 치우친 비대칭 분포 | 대부분의 값이 0에서 400 사이에 집중되어 있으며, 일부 높은 값들이 존재 |\n",
    "| **현본사소속재택근무자수** | 매우 왼쪽으로 치우친 비대칭 분포 | 대부분의 값이 0에 매우 가깝게 집중되어 있으며, 일부 높은 값들이 존재함 |\n",
    "| **중식계** | 정규분포에 가까움 | 값이 평균을 중심으로 고르게 분포되어 있음 |\n",
    "| **석식계** | 정규분포에 가까움 | 값이 평균을 중심으로 고르게 분포되어 있음 |\n",
    "| **month** | 균등 분포 | 각 월이 조금씩 차이가 있으나, 균등하게 분포되어 있음 |"
   ]
  },
  {
   "cell_type": "markdown",
   "id": "312cdc8b-9541-4264-887b-332b8f6326a8",
   "metadata": {},
   "source": [
    "### 스케일링 방법 선택\n",
    "- 모든 피처가 동일한 스케일링을 가지도록, 하나의 스케일링 방법으로 일관되게 처리하는 것이 중요\n",
    "- 앞서 본 데이터 분포를 고려할 때, 대부분의 피처가 정규분포를 따르지 않는 경향이 있으므로, MinMaxScaler 활용"
   ]
  },
  {
   "cell_type": "code",
   "execution_count": 53,
   "id": "4c2c9f8c-4e00-4a62-a3c6-941434acae6b",
   "metadata": {},
   "outputs": [],
   "source": [
    "from sklearn.preprocessing import MinMaxScaler\n",
    "\n",
    "scaler = MinMaxScaler()\n",
    "\n",
    "df_scaled = df.copy() # 강한 복사 -> 주소값이 다름 -> 복사본을 변경해도 원본에 지장이 없다.\n",
    "# df_scaled = df : 얕은 복사 -> 주소값을 공유 -> 복사본 데이터를 변경하면 원본도 바뀜\n",
    "\n",
    "# 스케일링 적용\n",
    "df_scaled[numeric_list] = scaler.fit_transform(df_scaled[numeric_list])"
   ]
  },
  {
   "cell_type": "code",
   "execution_count": 54,
   "id": "926874fd-925b-4722-aa94-c84c6614477b",
   "metadata": {},
   "outputs": [
    {
     "data": {
      "text/html": [
       "<div>\n",
       "<style scoped>\n",
       "    .dataframe tbody tr th:only-of-type {\n",
       "        vertical-align: middle;\n",
       "    }\n",
       "\n",
       "    .dataframe tbody tr th {\n",
       "        vertical-align: top;\n",
       "    }\n",
       "\n",
       "    .dataframe thead th {\n",
       "        text-align: right;\n",
       "    }\n",
       "</style>\n",
       "<table border=\"1\" class=\"dataframe\">\n",
       "  <thead>\n",
       "    <tr style=\"text-align: right;\">\n",
       "      <th></th>\n",
       "      <th>요일</th>\n",
       "      <th>본사정원수</th>\n",
       "      <th>본사휴가자수</th>\n",
       "      <th>본사출장자수</th>\n",
       "      <th>본사시간외근무명령서승인건수</th>\n",
       "      <th>현본사소속재택근무자수</th>\n",
       "      <th>중식계</th>\n",
       "      <th>석식계</th>\n",
       "      <th>month</th>\n",
       "      <th>조식메뉴_Main</th>\n",
       "      <th>중식메뉴_Main</th>\n",
       "      <th>석식메뉴_Main</th>\n",
       "    </tr>\n",
       "  </thead>\n",
       "  <tbody>\n",
       "    <tr>\n",
       "      <th>0</th>\n",
       "      <td>월</td>\n",
       "      <td>0.0</td>\n",
       "      <td>0.022481</td>\n",
       "      <td>0.323442</td>\n",
       "      <td>0.227969</td>\n",
       "      <td>0.0</td>\n",
       "      <td>0.638865</td>\n",
       "      <td>0.283396</td>\n",
       "      <td>0.090909</td>\n",
       "      <td>쥐어채무침</td>\n",
       "      <td>오징어찌개</td>\n",
       "      <td>건파래무침</td>\n",
       "    </tr>\n",
       "  </tbody>\n",
       "</table>\n",
       "</div>"
      ],
      "text/plain": [
       "  요일  본사정원수    본사휴가자수    본사출장자수  본사시간외근무명령서승인건수  현본사소속재택근무자수       중식계  \\\n",
       "0  월    0.0  0.022481  0.323442        0.227969          0.0  0.638865   \n",
       "\n",
       "        석식계     month 조식메뉴_Main 중식메뉴_Main 석식메뉴_Main  \n",
       "0  0.283396  0.090909     쥐어채무침     오징어찌개     건파래무침  "
      ]
     },
     "execution_count": 54,
     "metadata": {},
     "output_type": "execute_result"
    }
   ],
   "source": [
    "df_scaled.head(1)"
   ]
  },
  {
   "cell_type": "markdown",
   "id": "825b06ad-14ba-4ab1-bde7-858de4c89a7d",
   "metadata": {},
   "source": [
    "### 수치데이터 상관관계 분석\n",
    "- 히트맵 : 각 컬럼끼리 선형관계가 얼마나 짙은지를 나타내는 차트\n",
    "- -1 ~ 1 : 0에 가까울수록 비선형관계, -1에 가까울수록 반비례적인 관계를 나타냄, 1에 가까울수록 비례 관계를 나타낸다"
   ]
  },
  {
   "cell_type": "code",
   "execution_count": 55,
   "id": "b50c77a4-5037-4ad0-8080-f6cbf7566a50",
   "metadata": {},
   "outputs": [
    {
     "data": {
      "image/png": "[encoded data removed]",
      "text/plain": [
       "<Figure size 1200x800 with 2 Axes>"
      ]
     },
     "metadata": {},
     "output_type": "display_data"
    }
   ],
   "source": [
    "import seaborn as sns\n",
    "plt.rcParams[\"axes.unicode_minus\"] = False # '_' 기호를 차트에 표현\n",
    "\n",
    "corr_matrix = df_scaled.corr(numeric_only = True) # 상관계수 계산\n",
    "\n",
    "# 히트맵 그리기\n",
    "plt.figure(figsize = (12, 8))\n",
    "sns.heatmap(\n",
    "    corr_matrix, # 히트맵에 그릴 상관계수(행렬)\n",
    "    annot = True, # 각 셀에 상관계수 값을 표시 여부\n",
    "    cmap = \"coolwarm\", # 색상값\n",
    "    linewidths = 0.5 # 셀끼리의 경계선 두께\n",
    ")\n",
    "plt.show()"
   ]
  },
  {
   "cell_type": "markdown",
   "id": "2a6191f1-4171-4094-806f-f90a55f3f23d",
   "metadata": {},
   "source": [
    "#### 상관관계가 높은 특성은 클러스터일레 더 큰 영향을 미칠 수 있으므로 주의깊게 다루어야 함\n",
    "### 클러스터링 전 추가작업\n",
    "- 상관관계 낮은 피처 제거 : 상관관계 매우 낮거나 클러스터링에 큰 영향을 미치지 않는 특성을 제거할 수 있음\n",
    "- 특성 변환 : 상관관계가 높은 특성을 조합하여 새로운 특성을 생성할 수 있음\n",
    "- 현재 상태에서 추가적인 특성 제거는 필요하지 않음으로, 모든 피처를 활용하여 클러스터링 진행"
   ]
  },
  {
   "cell_type": "code",
   "execution_count": 56,
   "id": "5fa985c1-7317-4036-b519-e8623a3d8293",
   "metadata": {},
   "outputs": [],
   "source": [
    "# 인코딩 적용\n",
    "# label : 값이 높고 낮음이 의미가 있을 때\n",
    "# one-hot : 값이 높고 낮음이 의미가 없을 때"
   ]
  },
  {
   "cell_type": "markdown",
   "id": "381f1fb9-9718-4058-94de-0e4f85b241a3",
   "metadata": {},
   "source": [
    "### One-hot encoding\n",
    "- 각 범주를 고유한 열로 나타내고, 해당하는 범주에는 1을, 그렇지 않은 범주에는 0을 넣음\n",
    "  - 범주형 데이터를 이진 벡터로 변환\n",
    "- 장점 : 모든 범주형 변수를 균등하게 처리할 수 있음\n",
    "- 단점 : 고유값이 많은 경우 차원이 크게 증가할 수 있음"
   ]
  },
  {
   "cell_type": "code",
   "execution_count": 57,
   "id": "d0622a6c-0197-40e4-ab73-cf65943a4515",
   "metadata": {},
   "outputs": [
    {
     "data": {
      "text/plain": [
       "array(['월', '화', '수', '목', '금'], dtype=object)"
      ]
     },
     "execution_count": 57,
     "metadata": {},
     "output_type": "execute_result"
    }
   ],
   "source": [
    "df_scaled['요일'].unique()\n",
    "# 월, 화, 수, 목, 금 -> 5ea기 때문에 원핫인코딩을 수행해도 차원이 크게 증가하지 않음"
   ]
  },
  {
   "cell_type": "code",
   "execution_count": 58,
   "id": "007aaa79-e59d-43b3-9a19-319989793171",
   "metadata": {},
   "outputs": [
    {
     "data": {
      "text/plain": [
       "589"
      ]
     },
     "execution_count": 58,
     "metadata": {},
     "output_type": "execute_result"
    }
   ],
   "source": [
    "len(df_scaled['조식메뉴_Main'].unique())\n",
    "# 조식메뉴_Main의 경우에는 원핫인코딩을 수행할 경우에 차원이 589나 늘어나버린다 -> 다른 인코딩은 없을까?"
   ]
  },
  {
   "cell_type": "code",
   "execution_count": 59,
   "id": "cc534a8f-267c-4d57-9528-cdff87296d58",
   "metadata": {},
   "outputs": [],
   "source": [
    "# 요일에 대해서 원핫인코딩 수행\n",
    "df_scaled = pd.get_dummies(df_scaled, columns = ['요일'])"
   ]
  },
  {
   "cell_type": "markdown",
   "id": "b74fbf77-28e5-4b82-bda2-907377090a92",
   "metadata": {},
   "source": [
    "### 빈도 인코딩(Frequency Encoding)\n",
    "- 각 범주를 해당 범주의 빈도로 대체\n",
    "- 장점 : 범주형 변수의 발생 빈도를 반영함\n",
    "- 단점 : 빈도가 같을 때 구분이 어려움\n",
    "- 군집화 분석은 데이터 내의 유사한 특성을 가진 그룹을  지도 학습 방법\n",
    "- 빈도 인코딩은 군집화 분석에서 메뉴의 빈도가 식수인원에 어떤 영향을 미치는지 분석하는데 도움이 될 것."
   ]
  },
  {
   "cell_type": "code",
   "execution_count": 60,
   "id": "b150a576-46c0-4485-b1f3-467faedf0026",
   "metadata": {},
   "outputs": [],
   "source": [
    "# 빈도 인코딩 적용\n",
    "for column in categorical_list[1:]:\n",
    "    map_dict = df_scaled[column].value_counts().to_dict()\n",
    "    # map()으로 매핑해주기 위한 인자값 딕셔너리 생성\n",
    "    df_scaled[f'{column}_encoded'] = df_scaled[column].map(map_dict)\n",
    "    # 각 빈도수별로 요소를 바꿔주고 encoded 컬럼을 추가"
   ]
  },
  {
   "cell_type": "code",
   "execution_count": 61,
   "id": "380dc445-617d-4fa4-ade1-9f396c3c05b2",
   "metadata": {},
   "outputs": [
    {
     "data": {
      "text/html": [
       "<div>\n",
       "<style scoped>\n",
       "    .dataframe tbody tr th:only-of-type {\n",
       "        vertical-align: middle;\n",
       "    }\n",
       "\n",
       "    .dataframe tbody tr th {\n",
       "        vertical-align: top;\n",
       "    }\n",
       "\n",
       "    .dataframe thead th {\n",
       "        text-align: right;\n",
       "    }\n",
       "</style>\n",
       "<table border=\"1\" class=\"dataframe\">\n",
       "  <thead>\n",
       "    <tr style=\"text-align: right;\">\n",
       "      <th></th>\n",
       "      <th>조식메뉴_Main</th>\n",
       "      <th>조식메뉴_Main_encoded</th>\n",
       "    </tr>\n",
       "  </thead>\n",
       "  <tbody>\n",
       "    <tr>\n",
       "      <th>0</th>\n",
       "      <td>쥐어채무침</td>\n",
       "      <td>1</td>\n",
       "    </tr>\n",
       "    <tr>\n",
       "      <th>1</th>\n",
       "      <td>단호박샌드</td>\n",
       "      <td>4</td>\n",
       "    </tr>\n",
       "    <tr>\n",
       "      <th>2</th>\n",
       "      <td>느타리호박볶음</td>\n",
       "      <td>5</td>\n",
       "    </tr>\n",
       "    <tr>\n",
       "      <th>3</th>\n",
       "      <td>근대국</td>\n",
       "      <td>2</td>\n",
       "    </tr>\n",
       "    <tr>\n",
       "      <th>4</th>\n",
       "      <td>방풍나물</td>\n",
       "      <td>4</td>\n",
       "    </tr>\n",
       "    <tr>\n",
       "      <th>...</th>\n",
       "      <td>...</td>\n",
       "      <td>...</td>\n",
       "    </tr>\n",
       "    <tr>\n",
       "      <th>1200</th>\n",
       "      <td>마늘종숙회</td>\n",
       "      <td>1</td>\n",
       "    </tr>\n",
       "    <tr>\n",
       "      <th>1201</th>\n",
       "      <td>생크림단팥빵</td>\n",
       "      <td>1</td>\n",
       "    </tr>\n",
       "    <tr>\n",
       "      <th>1202</th>\n",
       "      <td>바지락살국</td>\n",
       "      <td>1</td>\n",
       "    </tr>\n",
       "    <tr>\n",
       "      <th>1203</th>\n",
       "      <td>분홍소세지구이</td>\n",
       "      <td>1</td>\n",
       "    </tr>\n",
       "    <tr>\n",
       "      <th>1204</th>\n",
       "      <td>애호박새우젓볶음</td>\n",
       "      <td>1</td>\n",
       "    </tr>\n",
       "  </tbody>\n",
       "</table>\n",
       "<p>1162 rows × 2 columns</p>\n",
       "</div>"
      ],
      "text/plain": [
       "     조식메뉴_Main  조식메뉴_Main_encoded\n",
       "0        쥐어채무침                  1\n",
       "1        단호박샌드                  4\n",
       "2      느타리호박볶음                  5\n",
       "3          근대국                  2\n",
       "4         방풍나물                  4\n",
       "...        ...                ...\n",
       "1200     마늘종숙회                  1\n",
       "1201    생크림단팥빵                  1\n",
       "1202     바지락살국                  1\n",
       "1203   분홍소세지구이                  1\n",
       "1204  애호박새우젓볶음                  1\n",
       "\n",
       "[1162 rows x 2 columns]"
      ]
     },
     "execution_count": 61,
     "metadata": {},
     "output_type": "execute_result"
    }
   ],
   "source": [
    "df_scaled[['조식메뉴_Main', '조식메뉴_Main_encoded']]"
   ]
  },
  {
   "cell_type": "code",
   "execution_count": 62,
   "id": "7121cf3d-deab-45ef-8036-6d6e03e5289c",
   "metadata": {},
   "outputs": [],
   "source": [
    "df_encoded = df_scaled.drop(columns = categorical_list[1:])\n",
    "# Main컬럼 삭제"
   ]
  },
  {
   "cell_type": "markdown",
   "id": "84c85b43-f98d-44a3-bba2-37f16205312a",
   "metadata": {},
   "source": [
    "### K-Means 알고리즘\n",
    "- 비슷한 샘플끼리 군집 형성하기\n",
    "- 쉽고 간결함\n",
    "- 거리기반 알고리즘으로 속성의 개수가 많은 경우 군집화의 정확도가 떨어짐\n",
    "- 몇 개의 군집(k수)을 선택할지 정확히 알 수 없음"
   ]
  },
  {
   "cell_type": "code",
   "execution_count": 63,
   "id": "fbe7a331-f0d0-49d9-a8fc-3aa10569f7e9",
   "metadata": {},
   "outputs": [
    {
     "name": "stderr",
     "output_type": "stream",
     "text": [
      "액세스가 거부되었습니다.\n"
     ]
    }
   ],
   "source": [
    "!pip install mglearn\n",
    "# 머신러닝 교육 및 시각화를 위한 도구를 제공하는 라이브러리"
   ]
  },
  {
   "cell_type": "code",
   "execution_count": 64,
   "id": "adbfec90-9c72-40b9-ac1f-b6ae671c99ee",
   "metadata": {},
   "outputs": [
    {
     "ename": "ModuleNotFoundError",
     "evalue": "No module named 'mglearn'",
     "output_type": "error",
     "traceback": [
      "\u001b[1;31m---------------------------------------------------------------------------\u001b[0m",
      "\u001b[1;31mModuleNotFoundError\u001b[0m                       Traceback (most recent call last)",
      "Cell \u001b[1;32mIn[64], line 2\u001b[0m\n\u001b[0;32m      1\u001b[0m \u001b[38;5;28;01mfrom\u001b[39;00m\u001b[38;5;250m \u001b[39m\u001b[38;5;21;01msklearn\u001b[39;00m\u001b[38;5;21;01m.\u001b[39;00m\u001b[38;5;21;01mcluster\u001b[39;00m\u001b[38;5;250m \u001b[39m\u001b[38;5;28;01mimport\u001b[39;00m KMeans\n\u001b[1;32m----> 2\u001b[0m \u001b[38;5;28;01mimport\u001b[39;00m\u001b[38;5;250m \u001b[39m\u001b[38;5;21;01mmglearn\u001b[39;00m\n",
      "\u001b[1;31mModuleNotFoundError\u001b[0m: No module named 'mglearn'"
     ]
    }
   ],
   "source": [
    "from sklearn.cluster import KMeans\n",
    "import mglearn\n",
    "mglearn.plots.plot_kmeans_algorithm() # Kmeans 알고리즘의 작동방식을 시각화\n",
    "# 1. 임의로 Centroid 선정\n",
    "# 2. Centroid로부터 가까운 데이터 포인트 선점\n",
    "# 3. 선점한 데이터 포인트의 평균 중심점 Centroid 이동\n",
    "# 4. centroid의 이동이 더이상 없을 때까지 반복이 진행된다."
   ]
  },
  {
   "cell_type": "code",
   "execution_count": 66,
   "id": "8f538489-3d10-4cb7-b7b7-f9729a3d17be",
   "metadata": {},
   "outputs": [],
   "source": [
    "# 모델 초기화\n",
    "model = KMeans(\n",
    "    n_clusters = 3, # 클러스터의 수 설정\n",
    "    n_init = 10, # 초기 centroid를 무작위로 선택하는 횟수를 설정, 가장 괜찮은 결과를 선택\n",
    "    random_state = 2025 # 시드 고정, 결과 재현성\n",
    ")"
   ]
  },
  {
   "cell_type": "code",
   "execution_count": 67,
   "id": "385f97e0-d1ab-42d3-93c7-63181cacf980",
   "metadata": {},
   "outputs": [
    {
     "name": "stderr",
     "output_type": "stream",
     "text": [
      "C:\\ProgramData\\anaconda3\\Lib\\site-packages\\sklearn\\cluster\\_kmeans.py:1419: UserWarning: KMeans is known to have a memory leak on Windows with MKL, when there are less chunks than available threads. You can avoid it by setting the environment variable OMP_NUM_THREADS=5.\n",
      "  warnings.warn(\n"
     ]
    },
    {
     "data": {
      "text/html": [
       "<style>#sk-container-id-1 {\n",
       "  /* Definition of color scheme common for light and dark mode */\n",
       "  --sklearn-color-text: #000;\n",
       "  --sklearn-color-text-muted: #666;\n",
       "  --sklearn-color-line: gray;\n",
       "  /* Definition of color scheme for unfitted estimators */\n",
       "  --sklearn-color-unfitted-level-0: #fff5e6;\n",
       "  --sklearn-color-unfitted-level-1: #f6e4d2;\n",
       "  --sklearn-color-unfitted-level-2: #ffe0b3;\n",
       "  --sklearn-color-unfitted-level-3: chocolate;\n",
       "  /* Definition of color scheme for fitted estimators */\n",
       "  --sklearn-color-fitted-level-0: #f0f8ff;\n",
       "  --sklearn-color-fitted-level-1: #d4ebff;\n",
       "  --sklearn-color-fitted-level-2: #b3dbfd;\n",
       "  --sklearn-color-fitted-level-3: cornflowerblue;\n",
       "\n",
       "  /* Specific color for light theme */\n",
       "  --sklearn-color-text-on-default-background: var(--sg-text-color, var(--theme-code-foreground, var(--jp-content-font-color1, black)));\n",
       "  --sklearn-color-background: var(--sg-background-color, var(--theme-background, var(--jp-layout-color0, white)));\n",
       "  --sklearn-color-border-box: var(--sg-text-color, var(--theme-code-foreground, var(--jp-content-font-color1, black)));\n",
       "  --sklearn-color-icon: #696969;\n",
       "\n",
       "  @media (prefers-color-scheme: dark) {\n",
       "    /* Redefinition of color scheme for dark theme */\n",
       "    --sklearn-color-text-on-default-background: var(--sg-text-color, var(--theme-code-foreground, var(--jp-content-font-color1, white)));\n",
       "    --sklearn-color-background: var(--sg-background-color, var(--theme-background, var(--jp-layout-color0, #111)));\n",
       "    --sklearn-color-border-box: var(--sg-text-color, var(--theme-code-foreground, var(--jp-content-font-color1, white)));\n",
       "    --sklearn-color-icon: #878787;\n",
       "  }\n",
       "}\n",
       "\n",
       "#sk-container-id-1 {\n",
       "  color: var(--sklearn-color-text);\n",
       "}\n",
       "\n",
       "#sk-container-id-1 pre {\n",
       "  padding: 0;\n",
       "}\n",
       "\n",
       "#sk-container-id-1 input.sk-hidden--visually {\n",
       "  border: 0;\n",
       "  clip: rect(1px 1px 1px 1px);\n",
       "  clip: rect(1px, 1px, 1px, 1px);\n",
       "  height: 1px;\n",
       "  margin: -1px;\n",
       "  overflow: hidden;\n",
       "  padding: 0;\n",
       "  position: absolute;\n",
       "  width: 1px;\n",
       "}\n",
       "\n",
       "#sk-container-id-1 div.sk-dashed-wrapped {\n",
       "  border: 1px dashed var(--sklearn-color-line);\n",
       "  margin: 0 0.4em 0.5em 0.4em;\n",
       "  box-sizing: border-box;\n",
       "  padding-bottom: 0.4em;\n",
       "  background-color: var(--sklearn-color-background);\n",
       "}\n",
       "\n",
       "#sk-container-id-1 div.sk-container {\n",
       "  /* jupyter's `normalize.less` sets `[hidden] { display: none; }`\n",
       "     but bootstrap.min.css set `[hidden] { display: none !important; }`\n",
       "     so we also need the `!important` here to be able to override the\n",
       "     default hidden behavior on the sphinx rendered scikit-learn.org.\n",
       "     See: https://github.com/scikit-learn/scikit-learn/issues/21755 */\n",
       "  display: inline-block !important;\n",
       "  position: relative;\n",
       "}\n",
       "\n",
       "#sk-container-id-1 div.sk-text-repr-fallback {\n",
       "  display: none;\n",
       "}\n",
       "\n",
       "div.sk-parallel-item,\n",
       "div.sk-serial,\n",
       "div.sk-item {\n",
       "  /* draw centered vertical line to link estimators */\n",
       "  background-image: linear-gradient(var(--sklearn-color-text-on-default-background), var(--sklearn-color-text-on-default-background));\n",
       "  background-size: 2px 100%;\n",
       "  background-repeat: no-repeat;\n",
       "  background-position: center center;\n",
       "}\n",
       "\n",
       "/* Parallel-specific style estimator block */\n",
       "\n",
       "#sk-container-id-1 div.sk-parallel-item::after {\n",
       "  content: \"\";\n",
       "  width: 100%;\n",
       "  border-bottom: 2px solid var(--sklearn-color-text-on-default-background);\n",
       "  flex-grow: 1;\n",
       "}\n",
       "\n",
       "#sk-container-id-1 div.sk-parallel {\n",
       "  display: flex;\n",
       "  align-items: stretch;\n",
       "  justify-content: center;\n",
       "  background-color: var(--sklearn-color-background);\n",
       "  position: relative;\n",
       "}\n",
       "\n",
       "#sk-container-id-1 div.sk-parallel-item {\n",
       "  display: flex;\n",
       "  flex-direction: column;\n",
       "}\n",
       "\n",
       "#sk-container-id-1 div.sk-parallel-item:first-child::after {\n",
       "  align-self: flex-end;\n",
       "  width: 50%;\n",
       "}\n",
       "\n",
       "#sk-container-id-1 div.sk-parallel-item:last-child::after {\n",
       "  align-self: flex-start;\n",
       "  width: 50%;\n",
       "}\n",
       "\n",
       "#sk-container-id-1 div.sk-parallel-item:only-child::after {\n",
       "  width: 0;\n",
       "}\n",
       "\n",
       "/* Serial-specific style estimator block */\n",
       "\n",
       "#sk-container-id-1 div.sk-serial {\n",
       "  display: flex;\n",
       "  flex-direction: column;\n",
       "  align-items: center;\n",
       "  background-color: var(--sklearn-color-background);\n",
       "  padding-right: 1em;\n",
       "  padding-left: 1em;\n",
       "}\n",
       "\n",
       "\n",
       "/* Toggleable style: style used for estimator/Pipeline/ColumnTransformer box that is\n",
       "clickable and can be expanded/collapsed.\n",
       "- Pipeline and ColumnTransformer use this feature and define the default style\n",
       "- Estimators will overwrite some part of the style using the `sk-estimator` class\n",
       "*/\n",
       "\n",
       "/* Pipeline and ColumnTransformer style (default) */\n",
       "\n",
       "#sk-container-id-1 div.sk-toggleable {\n",
       "  /* Default theme specific background. It is overwritten whether we have a\n",
       "  specific estimator or a Pipeline/ColumnTransformer */\n",
       "  background-color: var(--sklearn-color-background);\n",
       "}\n",
       "\n",
       "/* Toggleable label */\n",
       "#sk-container-id-1 label.sk-toggleable__label {\n",
       "  cursor: pointer;\n",
       "  display: flex;\n",
       "  width: 100%;\n",
       "  margin-bottom: 0;\n",
       "  padding: 0.5em;\n",
       "  box-sizing: border-box;\n",
       "  text-align: center;\n",
       "  align-items: start;\n",
       "  justify-content: space-between;\n",
       "  gap: 0.5em;\n",
       "}\n",
       "\n",
       "#sk-container-id-1 label.sk-toggleable__label .caption {\n",
       "  font-size: 0.6rem;\n",
       "  font-weight: lighter;\n",
       "  color: var(--sklearn-color-text-muted);\n",
       "}\n",
       "\n",
       "#sk-container-id-1 label.sk-toggleable__label-arrow:before {\n",
       "  /* Arrow on the left of the label */\n",
       "  content: \"▸\";\n",
       "  float: left;\n",
       "  margin-right: 0.25em;\n",
       "  color: var(--sklearn-color-icon);\n",
       "}\n",
       "\n",
       "#sk-container-id-1 label.sk-toggleable__label-arrow:hover:before {\n",
       "  color: var(--sklearn-color-text);\n",
       "}\n",
       "\n",
       "/* Toggleable content - dropdown */\n",
       "\n",
       "#sk-container-id-1 div.sk-toggleable__content {\n",
       "  max-height: 0;\n",
       "  max-width: 0;\n",
       "  overflow: hidden;\n",
       "  text-align: left;\n",
       "  /* unfitted */\n",
       "  background-color: var(--sklearn-color-unfitted-level-0);\n",
       "}\n",
       "\n",
       "#sk-container-id-1 div.sk-toggleable__content.fitted {\n",
       "  /* fitted */\n",
       "  background-color: var(--sklearn-color-fitted-level-0);\n",
       "}\n",
       "\n",
       "#sk-container-id-1 div.sk-toggleable__content pre {\n",
       "  margin: 0.2em;\n",
       "  border-radius: 0.25em;\n",
       "  color: var(--sklearn-color-text);\n",
       "  /* unfitted */\n",
       "  background-color: var(--sklearn-color-unfitted-level-0);\n",
       "}\n",
       "\n",
       "#sk-container-id-1 div.sk-toggleable__content.fitted pre {\n",
       "  /* unfitted */\n",
       "  background-color: var(--sklearn-color-fitted-level-0);\n",
       "}\n",
       "\n",
       "#sk-container-id-1 input.sk-toggleable__control:checked~div.sk-toggleable__content {\n",
       "  /* Expand drop-down */\n",
       "  max-height: 200px;\n",
       "  max-width: 100%;\n",
       "  overflow: auto;\n",
       "}\n",
       "\n",
       "#sk-container-id-1 input.sk-toggleable__control:checked~label.sk-toggleable__label-arrow:before {\n",
       "  content: \"▾\";\n",
       "}\n",
       "\n",
       "/* Pipeline/ColumnTransformer-specific style */\n",
       "\n",
       "#sk-container-id-1 div.sk-label input.sk-toggleable__control:checked~label.sk-toggleable__label {\n",
       "  color: var(--sklearn-color-text);\n",
       "  background-color: var(--sklearn-color-unfitted-level-2);\n",
       "}\n",
       "\n",
       "#sk-container-id-1 div.sk-label.fitted input.sk-toggleable__control:checked~label.sk-toggleable__label {\n",
       "  background-color: var(--sklearn-color-fitted-level-2);\n",
       "}\n",
       "\n",
       "/* Estimator-specific style */\n",
       "\n",
       "/* Colorize estimator box */\n",
       "#sk-container-id-1 div.sk-estimator input.sk-toggleable__control:checked~label.sk-toggleable__label {\n",
       "  /* unfitted */\n",
       "  background-color: var(--sklearn-color-unfitted-level-2);\n",
       "}\n",
       "\n",
       "#sk-container-id-1 div.sk-estimator.fitted input.sk-toggleable__control:checked~label.sk-toggleable__label {\n",
       "  /* fitted */\n",
       "  background-color: var(--sklearn-color-fitted-level-2);\n",
       "}\n",
       "\n",
       "#sk-container-id-1 div.sk-label label.sk-toggleable__label,\n",
       "#sk-container-id-1 div.sk-label label {\n",
       "  /* The background is the default theme color */\n",
       "  color: var(--sklearn-color-text-on-default-background);\n",
       "}\n",
       "\n",
       "/* On hover, darken the color of the background */\n",
       "#sk-container-id-1 div.sk-label:hover label.sk-toggleable__label {\n",
       "  color: var(--sklearn-color-text);\n",
       "  background-color: var(--sklearn-color-unfitted-level-2);\n",
       "}\n",
       "\n",
       "/* Label box, darken color on hover, fitted */\n",
       "#sk-container-id-1 div.sk-label.fitted:hover label.sk-toggleable__label.fitted {\n",
       "  color: var(--sklearn-color-text);\n",
       "  background-color: var(--sklearn-color-fitted-level-2);\n",
       "}\n",
       "\n",
       "/* Estimator label */\n",
       "\n",
       "#sk-container-id-1 div.sk-label label {\n",
       "  font-family: monospace;\n",
       "  font-weight: bold;\n",
       "  display: inline-block;\n",
       "  line-height: 1.2em;\n",
       "}\n",
       "\n",
       "#sk-container-id-1 div.sk-label-container {\n",
       "  text-align: center;\n",
       "}\n",
       "\n",
       "/* Estimator-specific */\n",
       "#sk-container-id-1 div.sk-estimator {\n",
       "  font-family: monospace;\n",
       "  border: 1px dotted var(--sklearn-color-border-box);\n",
       "  border-radius: 0.25em;\n",
       "  box-sizing: border-box;\n",
       "  margin-bottom: 0.5em;\n",
       "  /* unfitted */\n",
       "  background-color: var(--sklearn-color-unfitted-level-0);\n",
       "}\n",
       "\n",
       "#sk-container-id-1 div.sk-estimator.fitted {\n",
       "  /* fitted */\n",
       "  background-color: var(--sklearn-color-fitted-level-0);\n",
       "}\n",
       "\n",
       "/* on hover */\n",
       "#sk-container-id-1 div.sk-estimator:hover {\n",
       "  /* unfitted */\n",
       "  background-color: var(--sklearn-color-unfitted-level-2);\n",
       "}\n",
       "\n",
       "#sk-container-id-1 div.sk-estimator.fitted:hover {\n",
       "  /* fitted */\n",
       "  background-color: var(--sklearn-color-fitted-level-2);\n",
       "}\n",
       "\n",
       "/* Specification for estimator info (e.g. \"i\" and \"?\") */\n",
       "\n",
       "/* Common style for \"i\" and \"?\" */\n",
       "\n",
       ".sk-estimator-doc-link,\n",
       "a:link.sk-estimator-doc-link,\n",
       "a:visited.sk-estimator-doc-link {\n",
       "  float: right;\n",
       "  font-size: smaller;\n",
       "  line-height: 1em;\n",
       "  font-family: monospace;\n",
       "  background-color: var(--sklearn-color-background);\n",
       "  border-radius: 1em;\n",
       "  height: 1em;\n",
       "  width: 1em;\n",
       "  text-decoration: none !important;\n",
       "  margin-left: 0.5em;\n",
       "  text-align: center;\n",
       "  /* unfitted */\n",
       "  border: var(--sklearn-color-unfitted-level-1) 1pt solid;\n",
       "  color: var(--sklearn-color-unfitted-level-1);\n",
       "}\n",
       "\n",
       ".sk-estimator-doc-link.fitted,\n",
       "a:link.sk-estimator-doc-link.fitted,\n",
       "a:visited.sk-estimator-doc-link.fitted {\n",
       "  /* fitted */\n",
       "  border: var(--sklearn-color-fitted-level-1) 1pt solid;\n",
       "  color: var(--sklearn-color-fitted-level-1);\n",
       "}\n",
       "\n",
       "/* On hover */\n",
       "div.sk-estimator:hover .sk-estimator-doc-link:hover,\n",
       ".sk-estimator-doc-link:hover,\n",
       "div.sk-label-container:hover .sk-estimator-doc-link:hover,\n",
       ".sk-estimator-doc-link:hover {\n",
       "  /* unfitted */\n",
       "  background-color: var(--sklearn-color-unfitted-level-3);\n",
       "  color: var(--sklearn-color-background);\n",
       "  text-decoration: none;\n",
       "}\n",
       "\n",
       "div.sk-estimator.fitted:hover .sk-estimator-doc-link.fitted:hover,\n",
       ".sk-estimator-doc-link.fitted:hover,\n",
       "div.sk-label-container:hover .sk-estimator-doc-link.fitted:hover,\n",
       ".sk-estimator-doc-link.fitted:hover {\n",
       "  /* fitted */\n",
       "  background-color: var(--sklearn-color-fitted-level-3);\n",
       "  color: var(--sklearn-color-background);\n",
       "  text-decoration: none;\n",
       "}\n",
       "\n",
       "/* Span, style for the box shown on hovering the info icon */\n",
       ".sk-estimator-doc-link span {\n",
       "  display: none;\n",
       "  z-index: 9999;\n",
       "  position: relative;\n",
       "  font-weight: normal;\n",
       "  right: .2ex;\n",
       "  padding: .5ex;\n",
       "  margin: .5ex;\n",
       "  width: min-content;\n",
       "  min-width: 20ex;\n",
       "  max-width: 50ex;\n",
       "  color: var(--sklearn-color-text);\n",
       "  box-shadow: 2pt 2pt 4pt #999;\n",
       "  /* unfitted */\n",
       "  background: var(--sklearn-color-unfitted-level-0);\n",
       "  border: .5pt solid var(--sklearn-color-unfitted-level-3);\n",
       "}\n",
       "\n",
       ".sk-estimator-doc-link.fitted span {\n",
       "  /* fitted */\n",
       "  background: var(--sklearn-color-fitted-level-0);\n",
       "  border: var(--sklearn-color-fitted-level-3);\n",
       "}\n",
       "\n",
       ".sk-estimator-doc-link:hover span {\n",
       "  display: block;\n",
       "}\n",
       "\n",
       "/* \"?\"-specific style due to the `<a>` HTML tag */\n",
       "\n",
       "#sk-container-id-1 a.estimator_doc_link {\n",
       "  float: right;\n",
       "  font-size: 1rem;\n",
       "  line-height: 1em;\n",
       "  font-family: monospace;\n",
       "  background-color: var(--sklearn-color-background);\n",
       "  border-radius: 1rem;\n",
       "  height: 1rem;\n",
       "  width: 1rem;\n",
       "  text-decoration: none;\n",
       "  /* unfitted */\n",
       "  color: var(--sklearn-color-unfitted-level-1);\n",
       "  border: var(--sklearn-color-unfitted-level-1) 1pt solid;\n",
       "}\n",
       "\n",
       "#sk-container-id-1 a.estimator_doc_link.fitted {\n",
       "  /* fitted */\n",
       "  border: var(--sklearn-color-fitted-level-1) 1pt solid;\n",
       "  color: var(--sklearn-color-fitted-level-1);\n",
       "}\n",
       "\n",
       "/* On hover */\n",
       "#sk-container-id-1 a.estimator_doc_link:hover {\n",
       "  /* unfitted */\n",
       "  background-color: var(--sklearn-color-unfitted-level-3);\n",
       "  color: var(--sklearn-color-background);\n",
       "  text-decoration: none;\n",
       "}\n",
       "\n",
       "#sk-container-id-1 a.estimator_doc_link.fitted:hover {\n",
       "  /* fitted */\n",
       "  background-color: var(--sklearn-color-fitted-level-3);\n",
       "}\n",
       "</style><div id=\"sk-container-id-1\" class=\"sk-top-container\"><div class=\"sk-text-repr-fallback\"><pre>KMeans(n_clusters=3, n_init=10, random_state=2025)</pre><b>In a Jupyter environment, please rerun this cell to show the HTML representation or trust the notebook. <br />On GitHub, the HTML representation is unable to render, please try loading this page with nbviewer.org.</b></div><div class=\"sk-container\" hidden><div class=\"sk-item\"><div class=\"sk-estimator fitted sk-toggleable\"><input class=\"sk-toggleable__control sk-hidden--visually\" id=\"sk-estimator-id-1\" type=\"checkbox\" checked><label for=\"sk-estimator-id-1\" class=\"sk-toggleable__label fitted sk-toggleable__label-arrow\"><div><div>KMeans</div></div><div><a class=\"sk-estimator-doc-link fitted\" rel=\"noreferrer\" target=\"_blank\" href=\"https://scikit-learn.org/1.6/modules/generated/sklearn.cluster.KMeans.html\">?<span>Documentation for KMeans</span></a><span class=\"sk-estimator-doc-link fitted\">i<span>Fitted</span></span></div></label><div class=\"sk-toggleable__content fitted\"><pre>KMeans(n_clusters=3, n_init=10, random_state=2025)</pre></div> </div></div></div></div>"
      ],
      "text/plain": [
       "KMeans(n_clusters=3, n_init=10, random_state=2025)"
      ]
     },
     "execution_count": 67,
     "metadata": {},
     "output_type": "execute_result"
    }
   ],
   "source": [
    "# 모델 학습\n",
    "model.fit(df_encoded)"
   ]
  },
  {
   "cell_type": "code",
   "execution_count": 68,
   "id": "40b05e54-1f7b-4e9a-8cf0-e922afdfc1e5",
   "metadata": {},
   "outputs": [
    {
     "data": {
      "text/plain": [
       "array([1, 0, 2, ..., 1, 1, 1], dtype=int32)"
      ]
     },
     "execution_count": 68,
     "metadata": {},
     "output_type": "execute_result"
    }
   ],
   "source": [
    "model.predict(df_encoded)"
   ]
  },
  {
   "cell_type": "code",
   "execution_count": 69,
   "id": "105b4448-d580-4149-a8d6-15dd3c43ec00",
   "metadata": {},
   "outputs": [
    {
     "data": {
      "text/plain": [
       "1    515\n",
       "0    353\n",
       "2    294\n",
       "Name: count, dtype: int64"
      ]
     },
     "execution_count": 69,
     "metadata": {},
     "output_type": "execute_result"
    }
   ],
   "source": [
    "pd.Series(model.predict(df_encoded)).value_counts()"
   ]
  },
  {
   "cell_type": "markdown",
   "id": "52ecb52a-1941-4072-96b9-607ea8e5e788",
   "metadata": {},
   "source": [
    "### 최적의 클러스터 수를 결정하기 위한 3가지 방법\n",
    "1. 관성과 군집수(엘보우 기법)\n",
    "2. 실루엣 점수와 군집수\n",
    "3. 실루엣 다이어그램과 군집수\n",
    "\n",
    "### 방법 1 : 관성과 군집수(엘보우 기법)\n",
    "- 기울기가 가장 완만해지는 k 수 찾기 -> 가장 효율적인 클러스터 수라고 고려해볼 수 있다.\n",
    "- 직관적이고 간단하나, 엘보우 지점 선택 과정에서 주관이 개입될 수 있다.\n",
    "- 엘보우 지점이 명확하지 않을 수 있음"
   ]
  }
 ],
 "metadata": {
  "kernelspec": {
   "display_name": "Python 3 (ipykernel)",
   "language": "python",
   "name": "python3"
  },
  "language_info": {
   "codemirror_mode": {
    "name": "ipython",
    "version": 3
   },
   "file_extension": ".py",
   "mimetype": "text/x-python",
   "name": "python",
   "nbconvert_exporter": "python",
   "pygments_lexer": "ipython3",
   "version": "3.13.5"
  }
 },
 "nbformat": 4,
 "nbformat_minor": 5
}
