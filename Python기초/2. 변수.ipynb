{
 "cells": [
  {
   "cell_type": "markdown",
   "id": "7961bb81-e689-496a-a82d-4a779f170feb",
   "metadata": {},
   "source": [
    "### 변수\n",
    " - 데이터를 담을 수 있는 공간"
   ]
  },
  {
   "cell_type": "code",
   "execution_count": 40,
   "id": "4f6ad2d3-9844-4700-8a7c-39646de7d48e",
   "metadata": {},
   "outputs": [],
   "source": [
    "num = 3\n",
    "num1 = 5"
   ]
  },
  {
   "cell_type": "code",
   "execution_count": 41,
   "id": "d29c9b50-d3b3-4c7b-abb7-bc732272e8ff",
   "metadata": {},
   "outputs": [
    {
     "name": "stdout",
     "output_type": "stream",
     "text": [
      "3\n",
      "5\n"
     ]
    }
   ],
   "source": [
    "print(num)\n",
    "print(num1)"
   ]
  },
  {
   "cell_type": "code",
   "execution_count": 42,
   "id": "d5846c8c-f362-47eb-b233-920ede6e1c20",
   "metadata": {},
   "outputs": [
    {
     "data": {
      "text/plain": [
       "5"
      ]
     },
     "execution_count": 42,
     "metadata": {},
     "output_type": "execute_result"
    }
   ],
   "source": [
    "num\n",
    "num1"
   ]
  },
  {
   "cell_type": "code",
   "execution_count": null,
   "id": "9c4ca19e-e360-40e7-942c-dfcb4188ee07",
   "metadata": {},
   "outputs": [],
   "source": [
    "# 한 셀 안의 코드는 위에서부터 아래로 실행된다.\n",
    "num1 = 13\n",
    "print(num1) # 13\n",
    "num2 = 25\n",
    "print(num2) # 25\n",
    "num2 = 77\n",
    "print(num2) # 77"
   ]
  },
  {
   "cell_type": "code",
   "execution_count": null,
   "id": "5cb209a9-5218-44c4-ac6a-ffd699dcabb9",
   "metadata": {},
   "outputs": [],
   "source": [
    "# 셀의 실행 순서에 따라 결과값이 달라진다.\n",
    "print(num2)"
   ]
  },
  {
   "cell_type": "code",
   "execution_count": 43,
   "id": "8259c5b8-a6d9-4e4b-8952-b9bd7a1c48ea",
   "metadata": {},
   "outputs": [],
   "source": [
    "num2 = 25"
   ]
  },
  {
   "cell_type": "code",
   "execution_count": null,
   "id": "d4d60fe2-147f-4d40-94a4-c13d8679497a",
   "metadata": {},
   "outputs": [],
   "source": [
    "num2 = 77"
   ]
  },
  {
   "cell_type": "code",
   "execution_count": 44,
   "id": "34a253e0-0e8b-4438-bfa9-15a9ee5fee54",
   "metadata": {},
   "outputs": [],
   "source": [
    "# 변수에 숫자(실수) 대입\n",
    "num3 = 3.1425\n",
    "num4 = 1.25\n",
    "num5 = 3.12"
   ]
  },
  {
   "cell_type": "code",
   "execution_count": 47,
   "id": "7133e714-bdd7-4bbf-8ea0-72327e943c86",
   "metadata": {},
   "outputs": [
    {
     "name": "stdout",
     "output_type": "stream",
     "text": [
      "Funny python\n",
      "Easy python\n"
     ]
    }
   ],
   "source": [
    "# 변수에 문자열 대입\n",
    "str1 = \"Funny python\"\n",
    "print(str1)\n",
    "str2 = \"Easy python\"\n",
    "print(str2)"
   ]
  },
  {
   "cell_type": "markdown",
   "id": "7e9d5304-2829-41b2-94ad-7525d0b86732",
   "metadata": {},
   "source": [
    "### 변수명 규칙\n",
    "1. 영문자, 숫자, 언더바(_)를 사용할 수 있다.\n",
    "2. 언더바(_) 이외의 다른 기호는 사용할 수 없다.\n",
    "3. 숫자로 시작할 수 없다.\n",
    "4. 키워드를 변수로 사용할 수 없다."
   ]
  },
  {
   "cell_type": "code",
   "execution_count": 1,
   "id": "f550da9c-bd56-43e1-ad1d-6a1945b70ffd",
   "metadata": {},
   "outputs": [
    {
     "name": "stdout",
     "output_type": "stream",
     "text": [
      "10\n",
      "15\n"
     ]
    }
   ],
   "source": [
    "# 변수 a에 10을 대입, 변수 b에 15를 대입\n",
    "a = 10\n",
    "b = 15\n",
    "print(a)\n",
    "print(b)"
   ]
  },
  {
   "cell_type": "code",
   "execution_count": 2,
   "id": "fa098201-c9cd-4c16-b35e-1e2403774e07",
   "metadata": {},
   "outputs": [
    {
     "name": "stdout",
     "output_type": "stream",
     "text": [
      "10\n",
      "15\n"
     ]
    }
   ],
   "source": [
    "a, b = 10, 15\n",
    "print(a)\n",
    "print(b)"
   ]
  },
  {
   "cell_type": "code",
   "execution_count": 6,
   "id": "fad95bed-ed21-4271-b31b-ab31d0a165fc",
   "metadata": {},
   "outputs": [
    {
     "name": "stdout",
     "output_type": "stream",
     "text": [
      "python\n",
      "python\n"
     ]
    }
   ],
   "source": [
    "# 변수 str3, str4에 python 문자열 대입\n",
    "str3 = str4 = \"python\"\n",
    "print(str3)\n",
    "print(str4)"
   ]
  },
  {
   "cell_type": "code",
   "execution_count": 7,
   "id": "8a6e7825-96af-4ee8-a8e3-926606020705",
   "metadata": {},
   "outputs": [
    {
     "name": "stdout",
     "output_type": "stream",
     "text": [
      "300\n"
     ]
    }
   ],
   "source": [
    "# 변수 x에는 100을 대입, 변수 y에는 200을 대입 후 변수 sum에는 두 변수의 합을 대입하여 출력.\n",
    "x = 100\n",
    "y = 200\n",
    "sum = x + y\n",
    "print(sum)"
   ]
  },
  {
   "cell_type": "markdown",
   "id": "3e37f85b-acc7-4e6a-b87d-e234202fa6d4",
   "metadata": {},
   "source": [
    "### 변수명 권장사항\n",
    "- 변수명은 첫글자를 소문자로 만든다.\n",
    "- 두 가지 문자를 섞어서 만들 경우, 두 단어를 구분할 수 있게 한다.\n",
    "- 표기법1. camelCase(낙타표기법) 예시) numberList = 3\n",
    "- 표기법2. snake_case 예시) number_List = 3\n",
    "- 표기법3. PascalCase 예시"
   ]
  }
 ],
 "metadata": {
  "kernelspec": {
   "display_name": "Python 3 (ipykernel)",
   "language": "python",
   "name": "python3"
  },
  "language_info": {
   "codemirror_mode": {
    "name": "ipython",
    "version": 3
   },
   "file_extension": ".py",
   "mimetype": "text/x-python",
   "name": "python",
   "nbconvert_exporter": "python",
   "pygments_lexer": "ipython3",
   "version": "3.13.5"
  }
 },
 "nbformat": 4,
 "nbformat_minor": 5
}
