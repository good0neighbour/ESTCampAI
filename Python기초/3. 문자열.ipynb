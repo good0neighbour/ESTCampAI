{
 "cells": [
  {
   "cell_type": "markdown",
   "id": "3dfc929e-9c4d-4c7a-b754-5513cccfcb50",
   "metadata": {},
   "source": [
    "### 문자열\n",
    "- 작은따옴표 또는 큰따옴표를 활용한다."
   ]
  },
  {
   "cell_type": "code",
   "execution_count": 2,
   "id": "cdfca76a-cba4-46b2-80a9-4a6ef24be55b",
   "metadata": {},
   "outputs": [
    {
     "name": "stdout",
     "output_type": "stream",
     "text": [
      "Hello World\n",
      "Hello World Hello World\n"
     ]
    }
   ],
   "source": [
    "s = \"Hello World\"\n",
    "print(s)\n",
    "print(\"Hello World\", s)"
   ]
  },
  {
   "cell_type": "code",
   "execution_count": 4,
   "id": "496395aa-fc9b-4087-b8ff-3a5ed0edd0a8",
   "metadata": {},
   "outputs": [
    {
     "name": "stdout",
     "output_type": "stream",
     "text": [
      "she's gone\n"
     ]
    }
   ],
   "source": [
    "s1 = 'she\\'s gone'\n",
    "print(s1)"
   ]
  },
  {
   "cell_type": "code",
   "execution_count": 5,
   "id": "1ae35e49-88c8-4692-8e90-ce28d86b6c52",
   "metadata": {},
   "outputs": [
    {
     "name": "stdout",
     "output_type": "stream",
     "text": [
      "자세히 보아야 예쁘다.\n",
      "오래 보아야 사랑스럽다.\n",
      "너도 그렇다.\n"
     ]
    }
   ],
   "source": [
    "s2 = \"자세히 보아야 예쁘다.\\n오래 보아야 사랑스럽다.\\n너도 그렇다.\"\n",
    "print(s2)"
   ]
  },
  {
   "cell_type": "code",
   "execution_count": 6,
   "id": "2312af33-0314-4153-a1f5-c16b56a6a508",
   "metadata": {},
   "outputs": [
    {
     "name": "stdout",
     "output_type": "stream",
     "text": [
      "자세히 보아야 예쁘다.\t오래 보아야 사랑스럽다.\t너도 그렇다.\n"
     ]
    }
   ],
   "source": [
    "s2 = \"자세히 보아야 예쁘다.\\t오래 보아야 사랑스럽다.\\t너도 그렇다.\"\n",
    "print(s2)"
   ]
  },
  {
   "cell_type": "code",
   "execution_count": 7,
   "id": "9edac97c-de4b-495d-98ec-4b95f4ed34b2",
   "metadata": {},
   "outputs": [
    {
     "name": "stdout",
     "output_type": "stream",
     "text": [
      "자세히 보아야 예쁘다.\n",
      "오래 보아야 사랑스럽다.\n",
      "너도 그렇다.\n",
      "이렇게.\n"
     ]
    }
   ],
   "source": [
    "# 따옴표 3개를 활용해서 개행하는 방법\n",
    "s2 = \"\"\"자세히 보아야 예쁘다.\n",
    "오래 보아야 사랑스럽다.\n",
    "너도 그렇다.\n",
    "이렇게.\"\"\"\n",
    "print(s2)"
   ]
  },
  {
   "cell_type": "markdown",
   "id": "21e2e63b-8331-4583-9bb4-bf02db214742",
   "metadata": {},
   "source": [
    "### 문자열의 인덱싱(Indexing), 슬라이싱(Slicing)\n",
    "- 인덱싱 : 무언가를 '가리킨다'라는 의미.\n",
    "- 슬라이싱 : 무언가를 '잘라낸다'라는 의미"
   ]
  },
  {
   "cell_type": "code",
   "execution_count": 8,
   "id": "dda420d6-232f-4eec-a9ee-2f2ebf9fdbba",
   "metadata": {},
   "outputs": [],
   "source": [
    "name = \"My name is DMX\""
   ]
  },
  {
   "cell_type": "code",
   "execution_count": 13,
   "id": "e3cb0a70-4c5c-4d1c-ac4c-7cb92d5c6b41",
   "metadata": {},
   "outputs": [
    {
     "name": "stdout",
     "output_type": "stream",
     "text": [
      "a\n",
      "s\n"
     ]
    }
   ],
   "source": [
    "# 인덱싱 -> 변수명[인덱스번호]\n",
    "print(name[4])\n",
    "print(name[-5])"
   ]
  },
  {
   "cell_type": "code",
   "execution_count": 19,
   "id": "d69ca744-8724-46f0-ac91-84ae617cb3be",
   "metadata": {},
   "outputs": [
    {
     "name": "stdout",
     "output_type": "stream",
     "text": [
      "name\n",
      "DMX\n",
      "DMX\n",
      "My name is DMX\n"
     ]
    }
   ],
   "source": [
    "# 슬라이싱\n",
    "print(name[3:7])\n",
    "print(name[11:14])\n",
    "print(name[-3:])\n",
    "print(name[:]) # default값으로 빈 값은 끝과 끝이다"
   ]
  },
  {
   "cell_type": "code",
   "execution_count": 23,
   "id": "f02b5f2a-4370-4e67-81b3-84d67c0cf0de",
   "metadata": {},
   "outputs": [
    {
     "name": "stdout",
     "output_type": "stream",
     "text": [
      "is \n",
      "is\n"
     ]
    }
   ],
   "source": [
    "# 정방향과 역방향을 동시에 활용해서 is 슬라이싱하기.\n",
    "# 방향은 앞에서 뒤로 흘러가야한다.\n",
    "print(name[8:-3])\n",
    "print(name[-6:10])"
   ]
  },
  {
   "cell_type": "code",
   "execution_count": 27,
   "id": "e9145b17-c342-4d24-89d4-0ae7304b3ed8",
   "metadata": {},
   "outputs": [
    {
     "name": "stdout",
     "output_type": "stream",
     "text": [
      "날짜: 2025년 8월 29일 \n",
      "날씨: 맑음\n"
     ]
    }
   ],
   "source": [
    "#슬라이싱으로 날짜, 날씨 출력하기\n",
    "day = \"2025년 8월 29일의 날씨는 맑음입니다.\"\n",
    "print(\"날짜:\", day[0:12], \"\\n날씨:\", day[18:20])"
   ]
  },
  {
   "cell_type": "markdown",
   "id": "f06c0b40-9e2b-415c-8e46-379f4f4d47a0",
   "metadata": {},
   "source": [
    "### 문자열의 포매팅(Formatting)\n",
    "- 문자열 안의 특정한 값을 바꿔야할 경우 사용된다."
   ]
  },
  {
   "cell_type": "code",
   "execution_count": 28,
   "id": "ceec3ba7-f351-4192-bc33-9479bad8d106",
   "metadata": {},
   "outputs": [
    {
     "name": "stdout",
     "output_type": "stream",
     "text": [
      "오늘은 8월 29일입니다. 29일의 날씨는 맑음입니다.\n"
     ]
    }
   ],
   "source": [
    "print(\"오늘은 8월\", day, \"일입니다.\", day, \"일의 날씨는 맑음입니다.\")"
   ]
  },
  {
   "cell_type": "code",
   "execution_count": 30,
   "id": "2e17fd8f-dc18-45fc-9a46-1e416c12d8f3",
   "metadata": {},
   "outputs": [],
   "source": [
    "day = 29\n",
    "weather = \"맑음\""
   ]
  },
  {
   "cell_type": "code",
   "execution_count": 31,
   "id": "bf140304-b5ac-4b3c-870b-aa3fed12abe9",
   "metadata": {},
   "outputs": [
    {
     "name": "stdout",
     "output_type": "stream",
     "text": [
      "오늘은 8월 29일입니다. 29일의 날씨는 맑음입니다.\n"
     ]
    }
   ],
   "source": [
    "# 포메팅 방법 1. format 함수를 활용\n",
    "print(\"오늘은 8월 {}일입니다. {}일의 날씨는 {}입니다.\".format(day, day, weather))"
   ]
  },
  {
   "cell_type": "code",
   "execution_count": null,
   "id": "a6aec549-03c5-4ff0-9cbb-2c72f135d935",
   "metadata": {},
   "outputs": [],
   "source": []
  }
 ],
 "metadata": {
  "kernelspec": {
   "display_name": "Python 3 (ipykernel)",
   "language": "python",
   "name": "python3"
  },
  "language_info": {
   "codemirror_mode": {
    "name": "ipython",
    "version": 3
   },
   "file_extension": ".py",
   "mimetype": "text/x-python",
   "name": "python",
   "nbconvert_exporter": "python",
   "pygments_lexer": "ipython3",
   "version": "3.13.5"
  }
 },
 "nbformat": 4,
 "nbformat_minor": 5
}
