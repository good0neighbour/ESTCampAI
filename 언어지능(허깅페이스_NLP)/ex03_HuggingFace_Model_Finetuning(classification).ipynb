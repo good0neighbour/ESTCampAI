{
  "nbformat": 4,
  "nbformat_minor": 0,
  "metadata": {
    "colab": {
      "provenance": [],
      "gpuType": "A100",
      "mount_file_id": "1_XZGkCuD78lQ9N_h3nBgHx4Gb-Hpy4sQ",
      "authorship_tag": "ABX9TyPierWbsTCvi7CVGXEBz6YJ",
      "include_colab_link": true
    },
    "kernelspec": {
      "name": "python3",
      "display_name": "Python 3"
    },
    "language_info": {
      "name": "python"
    },
    "accelerator": "GPU",
    "widgets": {
      "application/vnd.jupyter.widget-state+json": {
        "f7b94f17421c4dc881534f73b1582a62": {
          "model_module": "@jupyter-widgets/controls",
          "model_name": "HBoxModel",
          "model_module_version": "1.5.0",
          "state": {
            "_dom_classes": [],
            "_model_module": "@jupyter-widgets/controls",
            "_model_module_version": "1.5.0",
            "_model_name": "HBoxModel",
            "_view_count": null,
            "_view_module": "@jupyter-widgets/controls",
            "_view_module_version": "1.5.0",
            "_view_name": "HBoxView",
            "box_style": "",
            "children": [
              "IPY_MODEL_76b2b4a6cb8140249c50dedb36fff168",
              "IPY_MODEL_7f4ec4185a8c41ee9cf17ddb8bbdaf97",
              "IPY_MODEL_e2fcdb5ee4d14624b68677d3f6f633ad"
            ],
            "layout": "IPY_MODEL_7ca06fc92c834156be738bf247942963"
          }
        },
        "76b2b4a6cb8140249c50dedb36fff168": {
          "model_module": "@jupyter-widgets/controls",
          "model_name": "HTMLModel",
          "model_module_version": "1.5.0",
          "state": {
            "_dom_classes": [],
            "_model_module": "@jupyter-widgets/controls",
            "_model_module_version": "1.5.0",
            "_model_name": "HTMLModel",
            "_view_count": null,
            "_view_module": "@jupyter-widgets/controls",
            "_view_module_version": "1.5.0",
            "_view_name": "HTMLView",
            "description": "",
            "description_tooltip": null,
            "layout": "IPY_MODEL_b1043c38c5544cda80f4c7f912e48496",
            "placeholder": "​",
            "style": "IPY_MODEL_6896cff4923048f08b1d3fbe0741dda9",
            "value": "README.md: "
          }
        },
        "7f4ec4185a8c41ee9cf17ddb8bbdaf97": {
          "model_module": "@jupyter-widgets/controls",
          "model_name": "FloatProgressModel",
          "model_module_version": "1.5.0",
          "state": {
            "_dom_classes": [],
            "_model_module": "@jupyter-widgets/controls",
            "_model_module_version": "1.5.0",
            "_model_name": "FloatProgressModel",
            "_view_count": null,
            "_view_module": "@jupyter-widgets/controls",
            "_view_module_version": "1.5.0",
            "_view_name": "ProgressView",
            "bar_style": "success",
            "description": "",
            "description_tooltip": null,
            "layout": "IPY_MODEL_9a2995a767f14b869d656386ba2ca338",
            "max": 1,
            "min": 0,
            "orientation": "horizontal",
            "style": "IPY_MODEL_05cbb6a8d3074ec3857c6027e77eae42",
            "value": 1
          }
        },
        "e2fcdb5ee4d14624b68677d3f6f633ad": {
          "model_module": "@jupyter-widgets/controls",
          "model_name": "HTMLModel",
          "model_module_version": "1.5.0",
          "state": {
            "_dom_classes": [],
            "_model_module": "@jupyter-widgets/controls",
            "_model_module_version": "1.5.0",
            "_model_name": "HTMLModel",
            "_view_count": null,
            "_view_module": "@jupyter-widgets/controls",
            "_view_module_version": "1.5.0",
            "_view_name": "HTMLView",
            "description": "",
            "description_tooltip": null,
            "layout": "IPY_MODEL_426c89620a034ce19ffded775a0afb80",
            "placeholder": "​",
            "style": "IPY_MODEL_3f2526388daa4a3a957823a360adcd14",
            "value": " 22.5k/? [00:00&lt;00:00, 1.75MB/s]"
          }
        },
        "7ca06fc92c834156be738bf247942963": {
          "model_module": "@jupyter-widgets/base",
          "model_name": "LayoutModel",
          "model_module_version": "1.2.0",
          "state": {
            "_model_module": "@jupyter-widgets/base",
            "_model_module_version": "1.2.0",
            "_model_name": "LayoutModel",
            "_view_count": null,
            "_view_module": "@jupyter-widgets/base",
            "_view_module_version": "1.2.0",
            "_view_name": "LayoutView",
            "align_content": null,
            "align_items": null,
            "align_self": null,
            "border": null,
            "bottom": null,
            "display": null,
            "flex": null,
            "flex_flow": null,
            "grid_area": null,
            "grid_auto_columns": null,
            "grid_auto_flow": null,
            "grid_auto_rows": null,
            "grid_column": null,
            "grid_gap": null,
            "grid_row": null,
            "grid_template_areas": null,
            "grid_template_columns": null,
            "grid_template_rows": null,
            "height": null,
            "justify_content": null,
            "justify_items": null,
            "left": null,
            "margin": null,
            "max_height": null,
            "max_width": null,
            "min_height": null,
            "min_width": null,
            "object_fit": null,
            "object_position": null,
            "order": null,
            "overflow": null,
            "overflow_x": null,
            "overflow_y": null,
            "padding": null,
            "right": null,
            "top": null,
            "visibility": null,
            "width": null
          }
        },
        "b1043c38c5544cda80f4c7f912e48496": {
          "model_module": "@jupyter-widgets/base",
          "model_name": "LayoutModel",
          "model_module_version": "1.2.0",
          "state": {
            "_model_module": "@jupyter-widgets/base",
            "_model_module_version": "1.2.0",
            "_model_name": "LayoutModel",
            "_view_count": null,
            "_view_module": "@jupyter-widgets/base",
            "_view_module_version": "1.2.0",
            "_view_name": "LayoutView",
            "align_content": null,
            "align_items": null,
            "align_self": null,
            "border": null,
            "bottom": null,
            "display": null,
            "flex": null,
            "flex_flow": null,
            "grid_area": null,
            "grid_auto_columns": null,
            "grid_auto_flow": null,
            "grid_auto_rows": null,
            "grid_column": null,
            "grid_gap": null,
            "grid_row": null,
            "grid_template_areas": null,
            "grid_template_columns": null,
            "grid_template_rows": null,
            "height": null,
            "justify_content": null,
            "justify_items": null,
            "left": null,
            "margin": null,
            "max_height": null,
            "max_width": null,
            "min_height": null,
            "min_width": null,
            "object_fit": null,
            "object_position": null,
            "order": null,
            "overflow": null,
            "overflow_x": null,
            "overflow_y": null,
            "padding": null,
            "right": null,
            "top": null,
            "visibility": null,
            "width": null
          }
        },
        "6896cff4923048f08b1d3fbe0741dda9": {
          "model_module": "@jupyter-widgets/controls",
          "model_name": "DescriptionStyleModel",
          "model_module_version": "1.5.0",
          "state": {
            "_model_module": "@jupyter-widgets/controls",
            "_model_module_version": "1.5.0",
            "_model_name": "DescriptionStyleModel",
            "_view_count": null,
            "_view_module": "@jupyter-widgets/base",
            "_view_module_version": "1.2.0",
            "_view_name": "StyleView",
            "description_width": ""
          }
        },
        "9a2995a767f14b869d656386ba2ca338": {
          "model_module": "@jupyter-widgets/base",
          "model_name": "LayoutModel",
          "model_module_version": "1.2.0",
          "state": {
            "_model_module": "@jupyter-widgets/base",
            "_model_module_version": "1.2.0",
            "_model_name": "LayoutModel",
            "_view_count": null,
            "_view_module": "@jupyter-widgets/base",
            "_view_module_version": "1.2.0",
            "_view_name": "LayoutView",
            "align_content": null,
            "align_items": null,
            "align_self": null,
            "border": null,
            "bottom": null,
            "display": null,
            "flex": null,
            "flex_flow": null,
            "grid_area": null,
            "grid_auto_columns": null,
            "grid_auto_flow": null,
            "grid_auto_rows": null,
            "grid_column": null,
            "grid_gap": null,
            "grid_row": null,
            "grid_template_areas": null,
            "grid_template_columns": null,
            "grid_template_rows": null,
            "height": null,
            "justify_content": null,
            "justify_items": null,
            "left": null,
            "margin": null,
            "max_height": null,
            "max_width": null,
            "min_height": null,
            "min_width": null,
            "object_fit": null,
            "object_position": null,
            "order": null,
            "overflow": null,
            "overflow_x": null,
            "overflow_y": null,
            "padding": null,
            "right": null,
            "top": null,
            "visibility": null,
            "width": "20px"
          }
        },
        "05cbb6a8d3074ec3857c6027e77eae42": {
          "model_module": "@jupyter-widgets/controls",
          "model_name": "ProgressStyleModel",
          "model_module_version": "1.5.0",
          "state": {
            "_model_module": "@jupyter-widgets/controls",
            "_model_module_version": "1.5.0",
            "_model_name": "ProgressStyleModel",
            "_view_count": null,
            "_view_module": "@jupyter-widgets/base",
            "_view_module_version": "1.2.0",
            "_view_name": "StyleView",
            "bar_color": null,
            "description_width": ""
          }
        },
        "426c89620a034ce19ffded775a0afb80": {
          "model_module": "@jupyter-widgets/base",
          "model_name": "LayoutModel",
          "model_module_version": "1.2.0",
          "state": {
            "_model_module": "@jupyter-widgets/base",
            "_model_module_version": "1.2.0",
            "_model_name": "LayoutModel",
            "_view_count": null,
            "_view_module": "@jupyter-widgets/base",
            "_view_module_version": "1.2.0",
            "_view_name": "LayoutView",
            "align_content": null,
            "align_items": null,
            "align_self": null,
            "border": null,
            "bottom": null,
            "display": null,
            "flex": null,
            "flex_flow": null,
            "grid_area": null,
            "grid_auto_columns": null,
            "grid_auto_flow": null,
            "grid_auto_rows": null,
            "grid_column": null,
            "grid_gap": null,
            "grid_row": null,
            "grid_template_areas": null,
            "grid_template_columns": null,
            "grid_template_rows": null,
            "height": null,
            "justify_content": null,
            "justify_items": null,
            "left": null,
            "margin": null,
            "max_height": null,
            "max_width": null,
            "min_height": null,
            "min_width": null,
            "object_fit": null,
            "object_position": null,
            "order": null,
            "overflow": null,
            "overflow_x": null,
            "overflow_y": null,
            "padding": null,
            "right": null,
            "top": null,
            "visibility": null,
            "width": null
          }
        },
        "3f2526388daa4a3a957823a360adcd14": {
          "model_module": "@jupyter-widgets/controls",
          "model_name": "DescriptionStyleModel",
          "model_module_version": "1.5.0",
          "state": {
            "_model_module": "@jupyter-widgets/controls",
            "_model_module_version": "1.5.0",
            "_model_name": "DescriptionStyleModel",
            "_view_count": null,
            "_view_module": "@jupyter-widgets/base",
            "_view_module_version": "1.2.0",
            "_view_name": "StyleView",
            "description_width": ""
          }
        },
        "f4ae114f78f842cbbf77ba876b032850": {
          "model_module": "@jupyter-widgets/controls",
          "model_name": "HBoxModel",
          "model_module_version": "1.5.0",
          "state": {
            "_dom_classes": [],
            "_model_module": "@jupyter-widgets/controls",
            "_model_module_version": "1.5.0",
            "_model_name": "HBoxModel",
            "_view_count": null,
            "_view_module": "@jupyter-widgets/controls",
            "_view_module_version": "1.5.0",
            "_view_name": "HBoxView",
            "box_style": "",
            "children": [
              "IPY_MODEL_fea6788183d642eab8676c301cdd0ddf",
              "IPY_MODEL_d664de940468428d908769237c1447d8",
              "IPY_MODEL_83158e1ae68e4807b36f9fe66eb60723"
            ],
            "layout": "IPY_MODEL_fd28425e95a849a38bfbdebc55002a3f"
          }
        },
        "fea6788183d642eab8676c301cdd0ddf": {
          "model_module": "@jupyter-widgets/controls",
          "model_name": "HTMLModel",
          "model_module_version": "1.5.0",
          "state": {
            "_dom_classes": [],
            "_model_module": "@jupyter-widgets/controls",
            "_model_module_version": "1.5.0",
            "_model_name": "HTMLModel",
            "_view_count": null,
            "_view_module": "@jupyter-widgets/controls",
            "_view_module_version": "1.5.0",
            "_view_name": "HTMLView",
            "description": "",
            "description_tooltip": null,
            "layout": "IPY_MODEL_11c7793859b34109b40f3e847cdbd0bb",
            "placeholder": "​",
            "style": "IPY_MODEL_384f5fd1e89a4d1a8c1b2960b61de262",
            "value": "ynat/train-00000-of-00001.parquet: 100%"
          }
        },
        "d664de940468428d908769237c1447d8": {
          "model_module": "@jupyter-widgets/controls",
          "model_name": "FloatProgressModel",
          "model_module_version": "1.5.0",
          "state": {
            "_dom_classes": [],
            "_model_module": "@jupyter-widgets/controls",
            "_model_module_version": "1.5.0",
            "_model_name": "FloatProgressModel",
            "_view_count": null,
            "_view_module": "@jupyter-widgets/controls",
            "_view_module_version": "1.5.0",
            "_view_name": "ProgressView",
            "bar_style": "success",
            "description": "",
            "description_tooltip": null,
            "layout": "IPY_MODEL_d2af85a96a254bd9a455eb944afce615",
            "max": 4165783,
            "min": 0,
            "orientation": "horizontal",
            "style": "IPY_MODEL_7f3d8d5a1a7a41dc80cb79f73a3b5fe2",
            "value": 4165783
          }
        },
        "83158e1ae68e4807b36f9fe66eb60723": {
          "model_module": "@jupyter-widgets/controls",
          "model_name": "HTMLModel",
          "model_module_version": "1.5.0",
          "state": {
            "_dom_classes": [],
            "_model_module": "@jupyter-widgets/controls",
            "_model_module_version": "1.5.0",
            "_model_name": "HTMLModel",
            "_view_count": null,
            "_view_module": "@jupyter-widgets/controls",
            "_view_module_version": "1.5.0",
            "_view_name": "HTMLView",
            "description": "",
            "description_tooltip": null,
            "layout": "IPY_MODEL_976ac58d71ca4bbfb9e6161ee309142e",
            "placeholder": "​",
            "style": "IPY_MODEL_c3c704e8202d4518951ff2e55693f01a",
            "value": " 4.17M/4.17M [00:02&lt;00:00, 2.57MB/s]"
          }
        },
        "fd28425e95a849a38bfbdebc55002a3f": {
          "model_module": "@jupyter-widgets/base",
          "model_name": "LayoutModel",
          "model_module_version": "1.2.0",
          "state": {
            "_model_module": "@jupyter-widgets/base",
            "_model_module_version": "1.2.0",
            "_model_name": "LayoutModel",
            "_view_count": null,
            "_view_module": "@jupyter-widgets/base",
            "_view_module_version": "1.2.0",
            "_view_name": "LayoutView",
            "align_content": null,
            "align_items": null,
            "align_self": null,
            "border": null,
            "bottom": null,
            "display": null,
            "flex": null,
            "flex_flow": null,
            "grid_area": null,
            "grid_auto_columns": null,
            "grid_auto_flow": null,
            "grid_auto_rows": null,
            "grid_column": null,
            "grid_gap": null,
            "grid_row": null,
            "grid_template_areas": null,
            "grid_template_columns": null,
            "grid_template_rows": null,
            "height": null,
            "justify_content": null,
            "justify_items": null,
            "left": null,
            "margin": null,
            "max_height": null,
            "max_width": null,
            "min_height": null,
            "min_width": null,
            "object_fit": null,
            "object_position": null,
            "order": null,
            "overflow": null,
            "overflow_x": null,
            "overflow_y": null,
            "padding": null,
            "right": null,
            "top": null,
            "visibility": null,
            "width": null
          }
        },
        "11c7793859b34109b40f3e847cdbd0bb": {
          "model_module": "@jupyter-widgets/base",
          "model_name": "LayoutModel",
          "model_module_version": "1.2.0",
          "state": {
            "_model_module": "@jupyter-widgets/base",
            "_model_module_version": "1.2.0",
            "_model_name": "LayoutModel",
            "_view_count": null,
            "_view_module": "@jupyter-widgets/base",
            "_view_module_version": "1.2.0",
            "_view_name": "LayoutView",
            "align_content": null,
            "align_items": null,
            "align_self": null,
            "border": null,
            "bottom": null,
            "display": null,
            "flex": null,
            "flex_flow": null,
            "grid_area": null,
            "grid_auto_columns": null,
            "grid_auto_flow": null,
            "grid_auto_rows": null,
            "grid_column": null,
            "grid_gap": null,
            "grid_row": null,
            "grid_template_areas": null,
            "grid_template_columns": null,
            "grid_template_rows": null,
            "height": null,
            "justify_content": null,
            "justify_items": null,
            "left": null,
            "margin": null,
            "max_height": null,
            "max_width": null,
            "min_height": null,
            "min_width": null,
            "object_fit": null,
            "object_position": null,
            "order": null,
            "overflow": null,
            "overflow_x": null,
            "overflow_y": null,
            "padding": null,
            "right": null,
            "top": null,
            "visibility": null,
            "width": null
          }
        },
        "384f5fd1e89a4d1a8c1b2960b61de262": {
          "model_module": "@jupyter-widgets/controls",
          "model_name": "DescriptionStyleModel",
          "model_module_version": "1.5.0",
          "state": {
            "_model_module": "@jupyter-widgets/controls",
            "_model_module_version": "1.5.0",
            "_model_name": "DescriptionStyleModel",
            "_view_count": null,
            "_view_module": "@jupyter-widgets/base",
            "_view_module_version": "1.2.0",
            "_view_name": "StyleView",
            "description_width": ""
          }
        },
        "d2af85a96a254bd9a455eb944afce615": {
          "model_module": "@jupyter-widgets/base",
          "model_name": "LayoutModel",
          "model_module_version": "1.2.0",
          "state": {
            "_model_module": "@jupyter-widgets/base",
            "_model_module_version": "1.2.0",
            "_model_name": "LayoutModel",
            "_view_count": null,
            "_view_module": "@jupyter-widgets/base",
            "_view_module_version": "1.2.0",
            "_view_name": "LayoutView",
            "align_content": null,
            "align_items": null,
            "align_self": null,
            "border": null,
            "bottom": null,
            "display": null,
            "flex": null,
            "flex_flow": null,
            "grid_area": null,
            "grid_auto_columns": null,
            "grid_auto_flow": null,
            "grid_auto_rows": null,
            "grid_column": null,
            "grid_gap": null,
            "grid_row": null,
            "grid_template_areas": null,
            "grid_template_columns": null,
            "grid_template_rows": null,
            "height": null,
            "justify_content": null,
            "justify_items": null,
            "left": null,
            "margin": null,
            "max_height": null,
            "max_width": null,
            "min_height": null,
            "min_width": null,
            "object_fit": null,
            "object_position": null,
            "order": null,
            "overflow": null,
            "overflow_x": null,
            "overflow_y": null,
            "padding": null,
            "right": null,
            "top": null,
            "visibility": null,
            "width": null
          }
        },
        "7f3d8d5a1a7a41dc80cb79f73a3b5fe2": {
          "model_module": "@jupyter-widgets/controls",
          "model_name": "ProgressStyleModel",
          "model_module_version": "1.5.0",
          "state": {
            "_model_module": "@jupyter-widgets/controls",
            "_model_module_version": "1.5.0",
            "_model_name": "ProgressStyleModel",
            "_view_count": null,
            "_view_module": "@jupyter-widgets/base",
            "_view_module_version": "1.2.0",
            "_view_name": "StyleView",
            "bar_color": null,
            "description_width": ""
          }
        },
        "976ac58d71ca4bbfb9e6161ee309142e": {
          "model_module": "@jupyter-widgets/base",
          "model_name": "LayoutModel",
          "model_module_version": "1.2.0",
          "state": {
            "_model_module": "@jupyter-widgets/base",
            "_model_module_version": "1.2.0",
            "_model_name": "LayoutModel",
            "_view_count": null,
            "_view_module": "@jupyter-widgets/base",
            "_view_module_version": "1.2.0",
            "_view_name": "LayoutView",
            "align_content": null,
            "align_items": null,
            "align_self": null,
            "border": null,
            "bottom": null,
            "display": null,
            "flex": null,
            "flex_flow": null,
            "grid_area": null,
            "grid_auto_columns": null,
            "grid_auto_flow": null,
            "grid_auto_rows": null,
            "grid_column": null,
            "grid_gap": null,
            "grid_row": null,
            "grid_template_areas": null,
            "grid_template_columns": null,
            "grid_template_rows": null,
            "height": null,
            "justify_content": null,
            "justify_items": null,
            "left": null,
            "margin": null,
            "max_height": null,
            "max_width": null,
            "min_height": null,
            "min_width": null,
            "object_fit": null,
            "object_position": null,
            "order": null,
            "overflow": null,
            "overflow_x": null,
            "overflow_y": null,
            "padding": null,
            "right": null,
            "top": null,
            "visibility": null,
            "width": null
          }
        },
        "c3c704e8202d4518951ff2e55693f01a": {
          "model_module": "@jupyter-widgets/controls",
          "model_name": "DescriptionStyleModel",
          "model_module_version": "1.5.0",
          "state": {
            "_model_module": "@jupyter-widgets/controls",
            "_model_module_version": "1.5.0",
            "_model_name": "DescriptionStyleModel",
            "_view_count": null,
            "_view_module": "@jupyter-widgets/base",
            "_view_module_version": "1.2.0",
            "_view_name": "StyleView",
            "description_width": ""
          }
        },
        "3809d1a36a404689915bc0e58bb21bb4": {
          "model_module": "@jupyter-widgets/controls",
          "model_name": "HBoxModel",
          "model_module_version": "1.5.0",
          "state": {
            "_dom_classes": [],
            "_model_module": "@jupyter-widgets/controls",
            "_model_module_version": "1.5.0",
            "_model_name": "HBoxModel",
            "_view_count": null,
            "_view_module": "@jupyter-widgets/controls",
            "_view_module_version": "1.5.0",
            "_view_name": "HBoxView",
            "box_style": "",
            "children": [
              "IPY_MODEL_581f7e45c6044e939633f4dfff6d4127",
              "IPY_MODEL_ef63937c668944febbbd686601284e98",
              "IPY_MODEL_e8f3b5ee079544f48d15867ab5727712"
            ],
            "layout": "IPY_MODEL_40d91caadee54f02b006fda6da1f9bff"
          }
        },
        "581f7e45c6044e939633f4dfff6d4127": {
          "model_module": "@jupyter-widgets/controls",
          "model_name": "HTMLModel",
          "model_module_version": "1.5.0",
          "state": {
            "_dom_classes": [],
            "_model_module": "@jupyter-widgets/controls",
            "_model_module_version": "1.5.0",
            "_model_name": "HTMLModel",
            "_view_count": null,
            "_view_module": "@jupyter-widgets/controls",
            "_view_module_version": "1.5.0",
            "_view_name": "HTMLView",
            "description": "",
            "description_tooltip": null,
            "layout": "IPY_MODEL_919964760b8d4e74a799c398be81a0b9",
            "placeholder": "​",
            "style": "IPY_MODEL_471f23833ccc48349ec4a617197bf73d",
            "value": "ynat/validation-00000-of-00001.parquet: 100%"
          }
        },
        "ef63937c668944febbbd686601284e98": {
          "model_module": "@jupyter-widgets/controls",
          "model_name": "FloatProgressModel",
          "model_module_version": "1.5.0",
          "state": {
            "_dom_classes": [],
            "_model_module": "@jupyter-widgets/controls",
            "_model_module_version": "1.5.0",
            "_model_name": "FloatProgressModel",
            "_view_count": null,
            "_view_module": "@jupyter-widgets/controls",
            "_view_module_version": "1.5.0",
            "_view_name": "ProgressView",
            "bar_style": "success",
            "description": "",
            "description_tooltip": null,
            "layout": "IPY_MODEL_a9cdb2bc4bbb477c85490ff1ded59cab",
            "max": 846520,
            "min": 0,
            "orientation": "horizontal",
            "style": "IPY_MODEL_85ca5799838d487f90f3195f62a321e7",
            "value": 846520
          }
        },
        "e8f3b5ee079544f48d15867ab5727712": {
          "model_module": "@jupyter-widgets/controls",
          "model_name": "HTMLModel",
          "model_module_version": "1.5.0",
          "state": {
            "_dom_classes": [],
            "_model_module": "@jupyter-widgets/controls",
            "_model_module_version": "1.5.0",
            "_model_name": "HTMLModel",
            "_view_count": null,
            "_view_module": "@jupyter-widgets/controls",
            "_view_module_version": "1.5.0",
            "_view_name": "HTMLView",
            "description": "",
            "description_tooltip": null,
            "layout": "IPY_MODEL_fb4426f6ef6d4ec58701605401680e74",
            "placeholder": "​",
            "style": "IPY_MODEL_74832958517b4f24b11276d07501f0bb",
            "value": " 847k/847k [00:00&lt;00:00, 1.58MB/s]"
          }
        },
        "40d91caadee54f02b006fda6da1f9bff": {
          "model_module": "@jupyter-widgets/base",
          "model_name": "LayoutModel",
          "model_module_version": "1.2.0",
          "state": {
            "_model_module": "@jupyter-widgets/base",
            "_model_module_version": "1.2.0",
            "_model_name": "LayoutModel",
            "_view_count": null,
            "_view_module": "@jupyter-widgets/base",
            "_view_module_version": "1.2.0",
            "_view_name": "LayoutView",
            "align_content": null,
            "align_items": null,
            "align_self": null,
            "border": null,
            "bottom": null,
            "display": null,
            "flex": null,
            "flex_flow": null,
            "grid_area": null,
            "grid_auto_columns": null,
            "grid_auto_flow": null,
            "grid_auto_rows": null,
            "grid_column": null,
            "grid_gap": null,
            "grid_row": null,
            "grid_template_areas": null,
            "grid_template_columns": null,
            "grid_template_rows": null,
            "height": null,
            "justify_content": null,
            "justify_items": null,
            "left": null,
            "margin": null,
            "max_height": null,
            "max_width": null,
            "min_height": null,
            "min_width": null,
            "object_fit": null,
            "object_position": null,
            "order": null,
            "overflow": null,
            "overflow_x": null,
            "overflow_y": null,
            "padding": null,
            "right": null,
            "top": null,
            "visibility": null,
            "width": null
          }
        },
        "919964760b8d4e74a799c398be81a0b9": {
          "model_module": "@jupyter-widgets/base",
          "model_name": "LayoutModel",
          "model_module_version": "1.2.0",
          "state": {
            "_model_module": "@jupyter-widgets/base",
            "_model_module_version": "1.2.0",
            "_model_name": "LayoutModel",
            "_view_count": null,
            "_view_module": "@jupyter-widgets/base",
            "_view_module_version": "1.2.0",
            "_view_name": "LayoutView",
            "align_content": null,
            "align_items": null,
            "align_self": null,
            "border": null,
            "bottom": null,
            "display": null,
            "flex": null,
            "flex_flow": null,
            "grid_area": null,
            "grid_auto_columns": null,
            "grid_auto_flow": null,
            "grid_auto_rows": null,
            "grid_column": null,
            "grid_gap": null,
            "grid_row": null,
            "grid_template_areas": null,
            "grid_template_columns": null,
            "grid_template_rows": null,
            "height": null,
            "justify_content": null,
            "justify_items": null,
            "left": null,
            "margin": null,
            "max_height": null,
            "max_width": null,
            "min_height": null,
            "min_width": null,
            "object_fit": null,
            "object_position": null,
            "order": null,
            "overflow": null,
            "overflow_x": null,
            "overflow_y": null,
            "padding": null,
            "right": null,
            "top": null,
            "visibility": null,
            "width": null
          }
        },
        "471f23833ccc48349ec4a617197bf73d": {
          "model_module": "@jupyter-widgets/controls",
          "model_name": "DescriptionStyleModel",
          "model_module_version": "1.5.0",
          "state": {
            "_model_module": "@jupyter-widgets/controls",
            "_model_module_version": "1.5.0",
            "_model_name": "DescriptionStyleModel",
            "_view_count": null,
            "_view_module": "@jupyter-widgets/base",
            "_view_module_version": "1.2.0",
            "_view_name": "StyleView",
            "description_width": ""
          }
        },
        "a9cdb2bc4bbb477c85490ff1ded59cab": {
          "model_module": "@jupyter-widgets/base",
          "model_name": "LayoutModel",
          "model_module_version": "1.2.0",
          "state": {
            "_model_module": "@jupyter-widgets/base",
            "_model_module_version": "1.2.0",
            "_model_name": "LayoutModel",
            "_view_count": null,
            "_view_module": "@jupyter-widgets/base",
            "_view_module_version": "1.2.0",
            "_view_name": "LayoutView",
            "align_content": null,
            "align_items": null,
            "align_self": null,
            "border": null,
            "bottom": null,
            "display": null,
            "flex": null,
            "flex_flow": null,
            "grid_area": null,
            "grid_auto_columns": null,
            "grid_auto_flow": null,
            "grid_auto_rows": null,
            "grid_column": null,
            "grid_gap": null,
            "grid_row": null,
            "grid_template_areas": null,
            "grid_template_columns": null,
            "grid_template_rows": null,
            "height": null,
            "justify_content": null,
            "justify_items": null,
            "left": null,
            "margin": null,
            "max_height": null,
            "max_width": null,
            "min_height": null,
            "min_width": null,
            "object_fit": null,
            "object_position": null,
            "order": null,
            "overflow": null,
            "overflow_x": null,
            "overflow_y": null,
            "padding": null,
            "right": null,
            "top": null,
            "visibility": null,
            "width": null
          }
        },
        "85ca5799838d487f90f3195f62a321e7": {
          "model_module": "@jupyter-widgets/controls",
          "model_name": "ProgressStyleModel",
          "model_module_version": "1.5.0",
          "state": {
            "_model_module": "@jupyter-widgets/controls",
            "_model_module_version": "1.5.0",
            "_model_name": "ProgressStyleModel",
            "_view_count": null,
            "_view_module": "@jupyter-widgets/base",
            "_view_module_version": "1.2.0",
            "_view_name": "StyleView",
            "bar_color": null,
            "description_width": ""
          }
        },
        "fb4426f6ef6d4ec58701605401680e74": {
          "model_module": "@jupyter-widgets/base",
          "model_name": "LayoutModel",
          "model_module_version": "1.2.0",
          "state": {
            "_model_module": "@jupyter-widgets/base",
            "_model_module_version": "1.2.0",
            "_model_name": "LayoutModel",
            "_view_count": null,
            "_view_module": "@jupyter-widgets/base",
            "_view_module_version": "1.2.0",
            "_view_name": "LayoutView",
            "align_content": null,
            "align_items": null,
            "align_self": null,
            "border": null,
            "bottom": null,
            "display": null,
            "flex": null,
            "flex_flow": null,
            "grid_area": null,
            "grid_auto_columns": null,
            "grid_auto_flow": null,
            "grid_auto_rows": null,
            "grid_column": null,
            "grid_gap": null,
            "grid_row": null,
            "grid_template_areas": null,
            "grid_template_columns": null,
            "grid_template_rows": null,
            "height": null,
            "justify_content": null,
            "justify_items": null,
            "left": null,
            "margin": null,
            "max_height": null,
            "max_width": null,
            "min_height": null,
            "min_width": null,
            "object_fit": null,
            "object_position": null,
            "order": null,
            "overflow": null,
            "overflow_x": null,
            "overflow_y": null,
            "padding": null,
            "right": null,
            "top": null,
            "visibility": null,
            "width": null
          }
        },
        "74832958517b4f24b11276d07501f0bb": {
          "model_module": "@jupyter-widgets/controls",
          "model_name": "DescriptionStyleModel",
          "model_module_version": "1.5.0",
          "state": {
            "_model_module": "@jupyter-widgets/controls",
            "_model_module_version": "1.5.0",
            "_model_name": "DescriptionStyleModel",
            "_view_count": null,
            "_view_module": "@jupyter-widgets/base",
            "_view_module_version": "1.2.0",
            "_view_name": "StyleView",
            "description_width": ""
          }
        },
        "2ec96743d2c8470185c3fd367239b074": {
          "model_module": "@jupyter-widgets/controls",
          "model_name": "HBoxModel",
          "model_module_version": "1.5.0",
          "state": {
            "_dom_classes": [],
            "_model_module": "@jupyter-widgets/controls",
            "_model_module_version": "1.5.0",
            "_model_name": "HBoxModel",
            "_view_count": null,
            "_view_module": "@jupyter-widgets/controls",
            "_view_module_version": "1.5.0",
            "_view_name": "HBoxView",
            "box_style": "",
            "children": [
              "IPY_MODEL_fb5062497ef143b39751adacee522fac",
              "IPY_MODEL_56eea268c85f41128b61860a055470aa",
              "IPY_MODEL_1fd6ba36ac1c4337b4d17570f8ad7bd8"
            ],
            "layout": "IPY_MODEL_0307351372b14b1c97f9b60b623305ed"
          }
        },
        "fb5062497ef143b39751adacee522fac": {
          "model_module": "@jupyter-widgets/controls",
          "model_name": "HTMLModel",
          "model_module_version": "1.5.0",
          "state": {
            "_dom_classes": [],
            "_model_module": "@jupyter-widgets/controls",
            "_model_module_version": "1.5.0",
            "_model_name": "HTMLModel",
            "_view_count": null,
            "_view_module": "@jupyter-widgets/controls",
            "_view_module_version": "1.5.0",
            "_view_name": "HTMLView",
            "description": "",
            "description_tooltip": null,
            "layout": "IPY_MODEL_7c7b84ae7256459b8003f6aac0aad21d",
            "placeholder": "​",
            "style": "IPY_MODEL_831e8eb2724b46af8b32c70e4da2d6f4",
            "value": "Generating train split: 100%"
          }
        },
        "56eea268c85f41128b61860a055470aa": {
          "model_module": "@jupyter-widgets/controls",
          "model_name": "FloatProgressModel",
          "model_module_version": "1.5.0",
          "state": {
            "_dom_classes": [],
            "_model_module": "@jupyter-widgets/controls",
            "_model_module_version": "1.5.0",
            "_model_name": "FloatProgressModel",
            "_view_count": null,
            "_view_module": "@jupyter-widgets/controls",
            "_view_module_version": "1.5.0",
            "_view_name": "ProgressView",
            "bar_style": "success",
            "description": "",
            "description_tooltip": null,
            "layout": "IPY_MODEL_2ba8591e52af408b997bfca2f1ae5396",
            "max": 45678,
            "min": 0,
            "orientation": "horizontal",
            "style": "IPY_MODEL_a7530707e614411395369f2ed7721e88",
            "value": 45678
          }
        },
        "1fd6ba36ac1c4337b4d17570f8ad7bd8": {
          "model_module": "@jupyter-widgets/controls",
          "model_name": "HTMLModel",
          "model_module_version": "1.5.0",
          "state": {
            "_dom_classes": [],
            "_model_module": "@jupyter-widgets/controls",
            "_model_module_version": "1.5.0",
            "_model_name": "HTMLModel",
            "_view_count": null,
            "_view_module": "@jupyter-widgets/controls",
            "_view_module_version": "1.5.0",
            "_view_name": "HTMLView",
            "description": "",
            "description_tooltip": null,
            "layout": "IPY_MODEL_5cb4ac3adeb34c3192391ebdce228f09",
            "placeholder": "​",
            "style": "IPY_MODEL_f480e862b1964a7284dd7e039489369e",
            "value": " 45678/45678 [00:00&lt;00:00, 561323.06 examples/s]"
          }
        },
        "0307351372b14b1c97f9b60b623305ed": {
          "model_module": "@jupyter-widgets/base",
          "model_name": "LayoutModel",
          "model_module_version": "1.2.0",
          "state": {
            "_model_module": "@jupyter-widgets/base",
            "_model_module_version": "1.2.0",
            "_model_name": "LayoutModel",
            "_view_count": null,
            "_view_module": "@jupyter-widgets/base",
            "_view_module_version": "1.2.0",
            "_view_name": "LayoutView",
            "align_content": null,
            "align_items": null,
            "align_self": null,
            "border": null,
            "bottom": null,
            "display": null,
            "flex": null,
            "flex_flow": null,
            "grid_area": null,
            "grid_auto_columns": null,
            "grid_auto_flow": null,
            "grid_auto_rows": null,
            "grid_column": null,
            "grid_gap": null,
            "grid_row": null,
            "grid_template_areas": null,
            "grid_template_columns": null,
            "grid_template_rows": null,
            "height": null,
            "justify_content": null,
            "justify_items": null,
            "left": null,
            "margin": null,
            "max_height": null,
            "max_width": null,
            "min_height": null,
            "min_width": null,
            "object_fit": null,
            "object_position": null,
            "order": null,
            "overflow": null,
            "overflow_x": null,
            "overflow_y": null,
            "padding": null,
            "right": null,
            "top": null,
            "visibility": null,
            "width": null
          }
        },
        "7c7b84ae7256459b8003f6aac0aad21d": {
          "model_module": "@jupyter-widgets/base",
          "model_name": "LayoutModel",
          "model_module_version": "1.2.0",
          "state": {
            "_model_module": "@jupyter-widgets/base",
            "_model_module_version": "1.2.0",
            "_model_name": "LayoutModel",
            "_view_count": null,
            "_view_module": "@jupyter-widgets/base",
            "_view_module_version": "1.2.0",
            "_view_name": "LayoutView",
            "align_content": null,
            "align_items": null,
            "align_self": null,
            "border": null,
            "bottom": null,
            "display": null,
            "flex": null,
            "flex_flow": null,
            "grid_area": null,
            "grid_auto_columns": null,
            "grid_auto_flow": null,
            "grid_auto_rows": null,
            "grid_column": null,
            "grid_gap": null,
            "grid_row": null,
            "grid_template_areas": null,
            "grid_template_columns": null,
            "grid_template_rows": null,
            "height": null,
            "justify_content": null,
            "justify_items": null,
            "left": null,
            "margin": null,
            "max_height": null,
            "max_width": null,
            "min_height": null,
            "min_width": null,
            "object_fit": null,
            "object_position": null,
            "order": null,
            "overflow": null,
            "overflow_x": null,
            "overflow_y": null,
            "padding": null,
            "right": null,
            "top": null,
            "visibility": null,
            "width": null
          }
        },
        "831e8eb2724b46af8b32c70e4da2d6f4": {
          "model_module": "@jupyter-widgets/controls",
          "model_name": "DescriptionStyleModel",
          "model_module_version": "1.5.0",
          "state": {
            "_model_module": "@jupyter-widgets/controls",
            "_model_module_version": "1.5.0",
            "_model_name": "DescriptionStyleModel",
            "_view_count": null,
            "_view_module": "@jupyter-widgets/base",
            "_view_module_version": "1.2.0",
            "_view_name": "StyleView",
            "description_width": ""
          }
        },
        "2ba8591e52af408b997bfca2f1ae5396": {
          "model_module": "@jupyter-widgets/base",
          "model_name": "LayoutModel",
          "model_module_version": "1.2.0",
          "state": {
            "_model_module": "@jupyter-widgets/base",
            "_model_module_version": "1.2.0",
            "_model_name": "LayoutModel",
            "_view_count": null,
            "_view_module": "@jupyter-widgets/base",
            "_view_module_version": "1.2.0",
            "_view_name": "LayoutView",
            "align_content": null,
            "align_items": null,
            "align_self": null,
            "border": null,
            "bottom": null,
            "display": null,
            "flex": null,
            "flex_flow": null,
            "grid_area": null,
            "grid_auto_columns": null,
            "grid_auto_flow": null,
            "grid_auto_rows": null,
            "grid_column": null,
            "grid_gap": null,
            "grid_row": null,
            "grid_template_areas": null,
            "grid_template_columns": null,
            "grid_template_rows": null,
            "height": null,
            "justify_content": null,
            "justify_items": null,
            "left": null,
            "margin": null,
            "max_height": null,
            "max_width": null,
            "min_height": null,
            "min_width": null,
            "object_fit": null,
            "object_position": null,
            "order": null,
            "overflow": null,
            "overflow_x": null,
            "overflow_y": null,
            "padding": null,
            "right": null,
            "top": null,
            "visibility": null,
            "width": null
          }
        },
        "a7530707e614411395369f2ed7721e88": {
          "model_module": "@jupyter-widgets/controls",
          "model_name": "ProgressStyleModel",
          "model_module_version": "1.5.0",
          "state": {
            "_model_module": "@jupyter-widgets/controls",
            "_model_module_version": "1.5.0",
            "_model_name": "ProgressStyleModel",
            "_view_count": null,
            "_view_module": "@jupyter-widgets/base",
            "_view_module_version": "1.2.0",
            "_view_name": "StyleView",
            "bar_color": null,
            "description_width": ""
          }
        },
        "5cb4ac3adeb34c3192391ebdce228f09": {
          "model_module": "@jupyter-widgets/base",
          "model_name": "LayoutModel",
          "model_module_version": "1.2.0",
          "state": {
            "_model_module": "@jupyter-widgets/base",
            "_model_module_version": "1.2.0",
            "_model_name": "LayoutModel",
            "_view_count": null,
            "_view_module": "@jupyter-widgets/base",
            "_view_module_version": "1.2.0",
            "_view_name": "LayoutView",
            "align_content": null,
            "align_items": null,
            "align_self": null,
            "border": null,
            "bottom": null,
            "display": null,
            "flex": null,
            "flex_flow": null,
            "grid_area": null,
            "grid_auto_columns": null,
            "grid_auto_flow": null,
            "grid_auto_rows": null,
            "grid_column": null,
            "grid_gap": null,
            "grid_row": null,
            "grid_template_areas": null,
            "grid_template_columns": null,
            "grid_template_rows": null,
            "height": null,
            "justify_content": null,
            "justify_items": null,
            "left": null,
            "margin": null,
            "max_height": null,
            "max_width": null,
            "min_height": null,
            "min_width": null,
            "object_fit": null,
            "object_position": null,
            "order": null,
            "overflow": null,
            "overflow_x": null,
            "overflow_y": null,
            "padding": null,
            "right": null,
            "top": null,
            "visibility": null,
            "width": null
          }
        },
        "f480e862b1964a7284dd7e039489369e": {
          "model_module": "@jupyter-widgets/controls",
          "model_name": "DescriptionStyleModel",
          "model_module_version": "1.5.0",
          "state": {
            "_model_module": "@jupyter-widgets/controls",
            "_model_module_version": "1.5.0",
            "_model_name": "DescriptionStyleModel",
            "_view_count": null,
            "_view_module": "@jupyter-widgets/base",
            "_view_module_version": "1.2.0",
            "_view_name": "StyleView",
            "description_width": ""
          }
        },
        "e3548d3ee3754f84970b8f5efcfa1e38": {
          "model_module": "@jupyter-widgets/controls",
          "model_name": "HBoxModel",
          "model_module_version": "1.5.0",
          "state": {
            "_dom_classes": [],
            "_model_module": "@jupyter-widgets/controls",
            "_model_module_version": "1.5.0",
            "_model_name": "HBoxModel",
            "_view_count": null,
            "_view_module": "@jupyter-widgets/controls",
            "_view_module_version": "1.5.0",
            "_view_name": "HBoxView",
            "box_style": "",
            "children": [
              "IPY_MODEL_3926e2c92ebe4725afbfc934997530aa",
              "IPY_MODEL_91b8690fd78f4736a3583ee080078891",
              "IPY_MODEL_e0362d8e5a5f4f5ba09f9a4f3ede118b"
            ],
            "layout": "IPY_MODEL_bc5689948b8d4f2aa41b4b419bcf1ccf"
          }
        },
        "3926e2c92ebe4725afbfc934997530aa": {
          "model_module": "@jupyter-widgets/controls",
          "model_name": "HTMLModel",
          "model_module_version": "1.5.0",
          "state": {
            "_dom_classes": [],
            "_model_module": "@jupyter-widgets/controls",
            "_model_module_version": "1.5.0",
            "_model_name": "HTMLModel",
            "_view_count": null,
            "_view_module": "@jupyter-widgets/controls",
            "_view_module_version": "1.5.0",
            "_view_name": "HTMLView",
            "description": "",
            "description_tooltip": null,
            "layout": "IPY_MODEL_f06fd110913d46e2bf09a5f9e16db884",
            "placeholder": "​",
            "style": "IPY_MODEL_b0a0121aefc4422b8f6b2d8ed3b19081",
            "value": "Generating validation split: 100%"
          }
        },
        "91b8690fd78f4736a3583ee080078891": {
          "model_module": "@jupyter-widgets/controls",
          "model_name": "FloatProgressModel",
          "model_module_version": "1.5.0",
          "state": {
            "_dom_classes": [],
            "_model_module": "@jupyter-widgets/controls",
            "_model_module_version": "1.5.0",
            "_model_name": "FloatProgressModel",
            "_view_count": null,
            "_view_module": "@jupyter-widgets/controls",
            "_view_module_version": "1.5.0",
            "_view_name": "ProgressView",
            "bar_style": "success",
            "description": "",
            "description_tooltip": null,
            "layout": "IPY_MODEL_de557ff710d94ebfb42ce739aca44b4e",
            "max": 9107,
            "min": 0,
            "orientation": "horizontal",
            "style": "IPY_MODEL_484823f66c014b5cbc026c6dc3a7dfcc",
            "value": 9107
          }
        },
        "e0362d8e5a5f4f5ba09f9a4f3ede118b": {
          "model_module": "@jupyter-widgets/controls",
          "model_name": "HTMLModel",
          "model_module_version": "1.5.0",
          "state": {
            "_dom_classes": [],
            "_model_module": "@jupyter-widgets/controls",
            "_model_module_version": "1.5.0",
            "_model_name": "HTMLModel",
            "_view_count": null,
            "_view_module": "@jupyter-widgets/controls",
            "_view_module_version": "1.5.0",
            "_view_name": "HTMLView",
            "description": "",
            "description_tooltip": null,
            "layout": "IPY_MODEL_4582ad84bbad473b89e1ec4d64378820",
            "placeholder": "​",
            "style": "IPY_MODEL_c212fcaaaa6343c8842cb4ec6f5a572e",
            "value": " 9107/9107 [00:00&lt;00:00, 420904.75 examples/s]"
          }
        },
        "bc5689948b8d4f2aa41b4b419bcf1ccf": {
          "model_module": "@jupyter-widgets/base",
          "model_name": "LayoutModel",
          "model_module_version": "1.2.0",
          "state": {
            "_model_module": "@jupyter-widgets/base",
            "_model_module_version": "1.2.0",
            "_model_name": "LayoutModel",
            "_view_count": null,
            "_view_module": "@jupyter-widgets/base",
            "_view_module_version": "1.2.0",
            "_view_name": "LayoutView",
            "align_content": null,
            "align_items": null,
            "align_self": null,
            "border": null,
            "bottom": null,
            "display": null,
            "flex": null,
            "flex_flow": null,
            "grid_area": null,
            "grid_auto_columns": null,
            "grid_auto_flow": null,
            "grid_auto_rows": null,
            "grid_column": null,
            "grid_gap": null,
            "grid_row": null,
            "grid_template_areas": null,
            "grid_template_columns": null,
            "grid_template_rows": null,
            "height": null,
            "justify_content": null,
            "justify_items": null,
            "left": null,
            "margin": null,
            "max_height": null,
            "max_width": null,
            "min_height": null,
            "min_width": null,
            "object_fit": null,
            "object_position": null,
            "order": null,
            "overflow": null,
            "overflow_x": null,
            "overflow_y": null,
            "padding": null,
            "right": null,
            "top": null,
            "visibility": null,
            "width": null
          }
        },
        "f06fd110913d46e2bf09a5f9e16db884": {
          "model_module": "@jupyter-widgets/base",
          "model_name": "LayoutModel",
          "model_module_version": "1.2.0",
          "state": {
            "_model_module": "@jupyter-widgets/base",
            "_model_module_version": "1.2.0",
            "_model_name": "LayoutModel",
            "_view_count": null,
            "_view_module": "@jupyter-widgets/base",
            "_view_module_version": "1.2.0",
            "_view_name": "LayoutView",
            "align_content": null,
            "align_items": null,
            "align_self": null,
            "border": null,
            "bottom": null,
            "display": null,
            "flex": null,
            "flex_flow": null,
            "grid_area": null,
            "grid_auto_columns": null,
            "grid_auto_flow": null,
            "grid_auto_rows": null,
            "grid_column": null,
            "grid_gap": null,
            "grid_row": null,
            "grid_template_areas": null,
            "grid_template_columns": null,
            "grid_template_rows": null,
            "height": null,
            "justify_content": null,
            "justify_items": null,
            "left": null,
            "margin": null,
            "max_height": null,
            "max_width": null,
            "min_height": null,
            "min_width": null,
            "object_fit": null,
            "object_position": null,
            "order": null,
            "overflow": null,
            "overflow_x": null,
            "overflow_y": null,
            "padding": null,
            "right": null,
            "top": null,
            "visibility": null,
            "width": null
          }
        },
        "b0a0121aefc4422b8f6b2d8ed3b19081": {
          "model_module": "@jupyter-widgets/controls",
          "model_name": "DescriptionStyleModel",
          "model_module_version": "1.5.0",
          "state": {
            "_model_module": "@jupyter-widgets/controls",
            "_model_module_version": "1.5.0",
            "_model_name": "DescriptionStyleModel",
            "_view_count": null,
            "_view_module": "@jupyter-widgets/base",
            "_view_module_version": "1.2.0",
            "_view_name": "StyleView",
            "description_width": ""
          }
        },
        "de557ff710d94ebfb42ce739aca44b4e": {
          "model_module": "@jupyter-widgets/base",
          "model_name": "LayoutModel",
          "model_module_version": "1.2.0",
          "state": {
            "_model_module": "@jupyter-widgets/base",
            "_model_module_version": "1.2.0",
            "_model_name": "LayoutModel",
            "_view_count": null,
            "_view_module": "@jupyter-widgets/base",
            "_view_module_version": "1.2.0",
            "_view_name": "LayoutView",
            "align_content": null,
            "align_items": null,
            "align_self": null,
            "border": null,
            "bottom": null,
            "display": null,
            "flex": null,
            "flex_flow": null,
            "grid_area": null,
            "grid_auto_columns": null,
            "grid_auto_flow": null,
            "grid_auto_rows": null,
            "grid_column": null,
            "grid_gap": null,
            "grid_row": null,
            "grid_template_areas": null,
            "grid_template_columns": null,
            "grid_template_rows": null,
            "height": null,
            "justify_content": null,
            "justify_items": null,
            "left": null,
            "margin": null,
            "max_height": null,
            "max_width": null,
            "min_height": null,
            "min_width": null,
            "object_fit": null,
            "object_position": null,
            "order": null,
            "overflow": null,
            "overflow_x": null,
            "overflow_y": null,
            "padding": null,
            "right": null,
            "top": null,
            "visibility": null,
            "width": null
          }
        },
        "484823f66c014b5cbc026c6dc3a7dfcc": {
          "model_module": "@jupyter-widgets/controls",
          "model_name": "ProgressStyleModel",
          "model_module_version": "1.5.0",
          "state": {
            "_model_module": "@jupyter-widgets/controls",
            "_model_module_version": "1.5.0",
            "_model_name": "ProgressStyleModel",
            "_view_count": null,
            "_view_module": "@jupyter-widgets/base",
            "_view_module_version": "1.2.0",
            "_view_name": "StyleView",
            "bar_color": null,
            "description_width": ""
          }
        },
        "4582ad84bbad473b89e1ec4d64378820": {
          "model_module": "@jupyter-widgets/base",
          "model_name": "LayoutModel",
          "model_module_version": "1.2.0",
          "state": {
            "_model_module": "@jupyter-widgets/base",
            "_model_module_version": "1.2.0",
            "_model_name": "LayoutModel",
            "_view_count": null,
            "_view_module": "@jupyter-widgets/base",
            "_view_module_version": "1.2.0",
            "_view_name": "LayoutView",
            "align_content": null,
            "align_items": null,
            "align_self": null,
            "border": null,
            "bottom": null,
            "display": null,
            "flex": null,
            "flex_flow": null,
            "grid_area": null,
            "grid_auto_columns": null,
            "grid_auto_flow": null,
            "grid_auto_rows": null,
            "grid_column": null,
            "grid_gap": null,
            "grid_row": null,
            "grid_template_areas": null,
            "grid_template_columns": null,
            "grid_template_rows": null,
            "height": null,
            "justify_content": null,
            "justify_items": null,
            "left": null,
            "margin": null,
            "max_height": null,
            "max_width": null,
            "min_height": null,
            "min_width": null,
            "object_fit": null,
            "object_position": null,
            "order": null,
            "overflow": null,
            "overflow_x": null,
            "overflow_y": null,
            "padding": null,
            "right": null,
            "top": null,
            "visibility": null,
            "width": null
          }
        },
        "c212fcaaaa6343c8842cb4ec6f5a572e": {
          "model_module": "@jupyter-widgets/controls",
          "model_name": "DescriptionStyleModel",
          "model_module_version": "1.5.0",
          "state": {
            "_model_module": "@jupyter-widgets/controls",
            "_model_module_version": "1.5.0",
            "_model_name": "DescriptionStyleModel",
            "_view_count": null,
            "_view_module": "@jupyter-widgets/base",
            "_view_module_version": "1.2.0",
            "_view_name": "StyleView",
            "description_width": ""
          }
        },
        "af7c1dac8a2a444f84f75e75cada6de1": {
          "model_module": "@jupyter-widgets/controls",
          "model_name": "HBoxModel",
          "model_module_version": "1.5.0",
          "state": {
            "_dom_classes": [],
            "_model_module": "@jupyter-widgets/controls",
            "_model_module_version": "1.5.0",
            "_model_name": "HBoxModel",
            "_view_count": null,
            "_view_module": "@jupyter-widgets/controls",
            "_view_module_version": "1.5.0",
            "_view_name": "HBoxView",
            "box_style": "",
            "children": [
              "IPY_MODEL_981a0122ea1b4954b3d841ab17a246dc",
              "IPY_MODEL_8d0042564a894d6cb5b55d496df92d99",
              "IPY_MODEL_f81037738576497aa3a68ee6a4eb84a8"
            ],
            "layout": "IPY_MODEL_2e8fed2c1c454ca7af56ff29bece0bae"
          }
        },
        "981a0122ea1b4954b3d841ab17a246dc": {
          "model_module": "@jupyter-widgets/controls",
          "model_name": "HTMLModel",
          "model_module_version": "1.5.0",
          "state": {
            "_dom_classes": [],
            "_model_module": "@jupyter-widgets/controls",
            "_model_module_version": "1.5.0",
            "_model_name": "HTMLModel",
            "_view_count": null,
            "_view_module": "@jupyter-widgets/controls",
            "_view_module_version": "1.5.0",
            "_view_name": "HTMLView",
            "description": "",
            "description_tooltip": null,
            "layout": "IPY_MODEL_619c67b1a41540a18e060ecde49de381",
            "placeholder": "​",
            "style": "IPY_MODEL_517478a17da04088be70330f52e9d9b5",
            "value": "tokenizer_config.json: 100%"
          }
        },
        "8d0042564a894d6cb5b55d496df92d99": {
          "model_module": "@jupyter-widgets/controls",
          "model_name": "FloatProgressModel",
          "model_module_version": "1.5.0",
          "state": {
            "_dom_classes": [],
            "_model_module": "@jupyter-widgets/controls",
            "_model_module_version": "1.5.0",
            "_model_name": "FloatProgressModel",
            "_view_count": null,
            "_view_module": "@jupyter-widgets/controls",
            "_view_module_version": "1.5.0",
            "_view_name": "ProgressView",
            "bar_style": "success",
            "description": "",
            "description_tooltip": null,
            "layout": "IPY_MODEL_25b7d22e6d654cbdbae7819f30ed8b72",
            "max": 61,
            "min": 0,
            "orientation": "horizontal",
            "style": "IPY_MODEL_df98d7c4a29f4be3baa86bcc8425a189",
            "value": 61
          }
        },
        "f81037738576497aa3a68ee6a4eb84a8": {
          "model_module": "@jupyter-widgets/controls",
          "model_name": "HTMLModel",
          "model_module_version": "1.5.0",
          "state": {
            "_dom_classes": [],
            "_model_module": "@jupyter-widgets/controls",
            "_model_module_version": "1.5.0",
            "_model_name": "HTMLModel",
            "_view_count": null,
            "_view_module": "@jupyter-widgets/controls",
            "_view_module_version": "1.5.0",
            "_view_name": "HTMLView",
            "description": "",
            "description_tooltip": null,
            "layout": "IPY_MODEL_8de300de294940c4b36be3610a4caf4a",
            "placeholder": "​",
            "style": "IPY_MODEL_17376bea65544895a24118563596ae2d",
            "value": " 61.0/61.0 [00:00&lt;00:00, 8.66kB/s]"
          }
        },
        "2e8fed2c1c454ca7af56ff29bece0bae": {
          "model_module": "@jupyter-widgets/base",
          "model_name": "LayoutModel",
          "model_module_version": "1.2.0",
          "state": {
            "_model_module": "@jupyter-widgets/base",
            "_model_module_version": "1.2.0",
            "_model_name": "LayoutModel",
            "_view_count": null,
            "_view_module": "@jupyter-widgets/base",
            "_view_module_version": "1.2.0",
            "_view_name": "LayoutView",
            "align_content": null,
            "align_items": null,
            "align_self": null,
            "border": null,
            "bottom": null,
            "display": null,
            "flex": null,
            "flex_flow": null,
            "grid_area": null,
            "grid_auto_columns": null,
            "grid_auto_flow": null,
            "grid_auto_rows": null,
            "grid_column": null,
            "grid_gap": null,
            "grid_row": null,
            "grid_template_areas": null,
            "grid_template_columns": null,
            "grid_template_rows": null,
            "height": null,
            "justify_content": null,
            "justify_items": null,
            "left": null,
            "margin": null,
            "max_height": null,
            "max_width": null,
            "min_height": null,
            "min_width": null,
            "object_fit": null,
            "object_position": null,
            "order": null,
            "overflow": null,
            "overflow_x": null,
            "overflow_y": null,
            "padding": null,
            "right": null,
            "top": null,
            "visibility": null,
            "width": null
          }
        },
        "619c67b1a41540a18e060ecde49de381": {
          "model_module": "@jupyter-widgets/base",
          "model_name": "LayoutModel",
          "model_module_version": "1.2.0",
          "state": {
            "_model_module": "@jupyter-widgets/base",
            "_model_module_version": "1.2.0",
            "_model_name": "LayoutModel",
            "_view_count": null,
            "_view_module": "@jupyter-widgets/base",
            "_view_module_version": "1.2.0",
            "_view_name": "LayoutView",
            "align_content": null,
            "align_items": null,
            "align_self": null,
            "border": null,
            "bottom": null,
            "display": null,
            "flex": null,
            "flex_flow": null,
            "grid_area": null,
            "grid_auto_columns": null,
            "grid_auto_flow": null,
            "grid_auto_rows": null,
            "grid_column": null,
            "grid_gap": null,
            "grid_row": null,
            "grid_template_areas": null,
            "grid_template_columns": null,
            "grid_template_rows": null,
            "height": null,
            "justify_content": null,
            "justify_items": null,
            "left": null,
            "margin": null,
            "max_height": null,
            "max_width": null,
            "min_height": null,
            "min_width": null,
            "object_fit": null,
            "object_position": null,
            "order": null,
            "overflow": null,
            "overflow_x": null,
            "overflow_y": null,
            "padding": null,
            "right": null,
            "top": null,
            "visibility": null,
            "width": null
          }
        },
        "517478a17da04088be70330f52e9d9b5": {
          "model_module": "@jupyter-widgets/controls",
          "model_name": "DescriptionStyleModel",
          "model_module_version": "1.5.0",
          "state": {
            "_model_module": "@jupyter-widgets/controls",
            "_model_module_version": "1.5.0",
            "_model_name": "DescriptionStyleModel",
            "_view_count": null,
            "_view_module": "@jupyter-widgets/base",
            "_view_module_version": "1.2.0",
            "_view_name": "StyleView",
            "description_width": ""
          }
        },
        "25b7d22e6d654cbdbae7819f30ed8b72": {
          "model_module": "@jupyter-widgets/base",
          "model_name": "LayoutModel",
          "model_module_version": "1.2.0",
          "state": {
            "_model_module": "@jupyter-widgets/base",
            "_model_module_version": "1.2.0",
            "_model_name": "LayoutModel",
            "_view_count": null,
            "_view_module": "@jupyter-widgets/base",
            "_view_module_version": "1.2.0",
            "_view_name": "LayoutView",
            "align_content": null,
            "align_items": null,
            "align_self": null,
            "border": null,
            "bottom": null,
            "display": null,
            "flex": null,
            "flex_flow": null,
            "grid_area": null,
            "grid_auto_columns": null,
            "grid_auto_flow": null,
            "grid_auto_rows": null,
            "grid_column": null,
            "grid_gap": null,
            "grid_row": null,
            "grid_template_areas": null,
            "grid_template_columns": null,
            "grid_template_rows": null,
            "height": null,
            "justify_content": null,
            "justify_items": null,
            "left": null,
            "margin": null,
            "max_height": null,
            "max_width": null,
            "min_height": null,
            "min_width": null,
            "object_fit": null,
            "object_position": null,
            "order": null,
            "overflow": null,
            "overflow_x": null,
            "overflow_y": null,
            "padding": null,
            "right": null,
            "top": null,
            "visibility": null,
            "width": null
          }
        },
        "df98d7c4a29f4be3baa86bcc8425a189": {
          "model_module": "@jupyter-widgets/controls",
          "model_name": "ProgressStyleModel",
          "model_module_version": "1.5.0",
          "state": {
            "_model_module": "@jupyter-widgets/controls",
            "_model_module_version": "1.5.0",
            "_model_name": "ProgressStyleModel",
            "_view_count": null,
            "_view_module": "@jupyter-widgets/base",
            "_view_module_version": "1.2.0",
            "_view_name": "StyleView",
            "bar_color": null,
            "description_width": ""
          }
        },
        "8de300de294940c4b36be3610a4caf4a": {
          "model_module": "@jupyter-widgets/base",
          "model_name": "LayoutModel",
          "model_module_version": "1.2.0",
          "state": {
            "_model_module": "@jupyter-widgets/base",
            "_model_module_version": "1.2.0",
            "_model_name": "LayoutModel",
            "_view_count": null,
            "_view_module": "@jupyter-widgets/base",
            "_view_module_version": "1.2.0",
            "_view_name": "LayoutView",
            "align_content": null,
            "align_items": null,
            "align_self": null,
            "border": null,
            "bottom": null,
            "display": null,
            "flex": null,
            "flex_flow": null,
            "grid_area": null,
            "grid_auto_columns": null,
            "grid_auto_flow": null,
            "grid_auto_rows": null,
            "grid_column": null,
            "grid_gap": null,
            "grid_row": null,
            "grid_template_areas": null,
            "grid_template_columns": null,
            "grid_template_rows": null,
            "height": null,
            "justify_content": null,
            "justify_items": null,
            "left": null,
            "margin": null,
            "max_height": null,
            "max_width": null,
            "min_height": null,
            "min_width": null,
            "object_fit": null,
            "object_position": null,
            "order": null,
            "overflow": null,
            "overflow_x": null,
            "overflow_y": null,
            "padding": null,
            "right": null,
            "top": null,
            "visibility": null,
            "width": null
          }
        },
        "17376bea65544895a24118563596ae2d": {
          "model_module": "@jupyter-widgets/controls",
          "model_name": "DescriptionStyleModel",
          "model_module_version": "1.5.0",
          "state": {
            "_model_module": "@jupyter-widgets/controls",
            "_model_module_version": "1.5.0",
            "_model_name": "DescriptionStyleModel",
            "_view_count": null,
            "_view_module": "@jupyter-widgets/base",
            "_view_module_version": "1.2.0",
            "_view_name": "StyleView",
            "description_width": ""
          }
        },
        "3476b4f2926441ccb9eb0633baf31691": {
          "model_module": "@jupyter-widgets/controls",
          "model_name": "HBoxModel",
          "model_module_version": "1.5.0",
          "state": {
            "_dom_classes": [],
            "_model_module": "@jupyter-widgets/controls",
            "_model_module_version": "1.5.0",
            "_model_name": "HBoxModel",
            "_view_count": null,
            "_view_module": "@jupyter-widgets/controls",
            "_view_module_version": "1.5.0",
            "_view_name": "HBoxView",
            "box_style": "",
            "children": [
              "IPY_MODEL_71f094b6c99548fd9a7d8227985fdeda",
              "IPY_MODEL_facef253bd174616a713c0beeaab7a8a",
              "IPY_MODEL_90396223057d4783a710489917e7f0b2"
            ],
            "layout": "IPY_MODEL_f54d02b95f964265bba3d978c61964fd"
          }
        },
        "71f094b6c99548fd9a7d8227985fdeda": {
          "model_module": "@jupyter-widgets/controls",
          "model_name": "HTMLModel",
          "model_module_version": "1.5.0",
          "state": {
            "_dom_classes": [],
            "_model_module": "@jupyter-widgets/controls",
            "_model_module_version": "1.5.0",
            "_model_name": "HTMLModel",
            "_view_count": null,
            "_view_module": "@jupyter-widgets/controls",
            "_view_module_version": "1.5.0",
            "_view_name": "HTMLView",
            "description": "",
            "description_tooltip": null,
            "layout": "IPY_MODEL_714b9e0a1a854ccd89258dcc15c2bedb",
            "placeholder": "​",
            "style": "IPY_MODEL_ab09c8c874a54fa28a0530465d7d120c",
            "value": "config.json: 100%"
          }
        },
        "facef253bd174616a713c0beeaab7a8a": {
          "model_module": "@jupyter-widgets/controls",
          "model_name": "FloatProgressModel",
          "model_module_version": "1.5.0",
          "state": {
            "_dom_classes": [],
            "_model_module": "@jupyter-widgets/controls",
            "_model_module_version": "1.5.0",
            "_model_name": "FloatProgressModel",
            "_view_count": null,
            "_view_module": "@jupyter-widgets/controls",
            "_view_module_version": "1.5.0",
            "_view_name": "ProgressView",
            "bar_style": "success",
            "description": "",
            "description_tooltip": null,
            "layout": "IPY_MODEL_c26684a61fe84a3a834dbdcd8e6cedb1",
            "max": 467,
            "min": 0,
            "orientation": "horizontal",
            "style": "IPY_MODEL_ae91cba623a347aeac18282f17ec0df8",
            "value": 467
          }
        },
        "90396223057d4783a710489917e7f0b2": {
          "model_module": "@jupyter-widgets/controls",
          "model_name": "HTMLModel",
          "model_module_version": "1.5.0",
          "state": {
            "_dom_classes": [],
            "_model_module": "@jupyter-widgets/controls",
            "_model_module_version": "1.5.0",
            "_model_name": "HTMLModel",
            "_view_count": null,
            "_view_module": "@jupyter-widgets/controls",
            "_view_module_version": "1.5.0",
            "_view_name": "HTMLView",
            "description": "",
            "description_tooltip": null,
            "layout": "IPY_MODEL_f20a97a713a1406291ca3048cd59caa6",
            "placeholder": "​",
            "style": "IPY_MODEL_58be9231e4754dda9a22df7a02c12ccc",
            "value": " 467/467 [00:00&lt;00:00, 64.2kB/s]"
          }
        },
        "f54d02b95f964265bba3d978c61964fd": {
          "model_module": "@jupyter-widgets/base",
          "model_name": "LayoutModel",
          "model_module_version": "1.2.0",
          "state": {
            "_model_module": "@jupyter-widgets/base",
            "_model_module_version": "1.2.0",
            "_model_name": "LayoutModel",
            "_view_count": null,
            "_view_module": "@jupyter-widgets/base",
            "_view_module_version": "1.2.0",
            "_view_name": "LayoutView",
            "align_content": null,
            "align_items": null,
            "align_self": null,
            "border": null,
            "bottom": null,
            "display": null,
            "flex": null,
            "flex_flow": null,
            "grid_area": null,
            "grid_auto_columns": null,
            "grid_auto_flow": null,
            "grid_auto_rows": null,
            "grid_column": null,
            "grid_gap": null,
            "grid_row": null,
            "grid_template_areas": null,
            "grid_template_columns": null,
            "grid_template_rows": null,
            "height": null,
            "justify_content": null,
            "justify_items": null,
            "left": null,
            "margin": null,
            "max_height": null,
            "max_width": null,
            "min_height": null,
            "min_width": null,
            "object_fit": null,
            "object_position": null,
            "order": null,
            "overflow": null,
            "overflow_x": null,
            "overflow_y": null,
            "padding": null,
            "right": null,
            "top": null,
            "visibility": null,
            "width": null
          }
        },
        "714b9e0a1a854ccd89258dcc15c2bedb": {
          "model_module": "@jupyter-widgets/base",
          "model_name": "LayoutModel",
          "model_module_version": "1.2.0",
          "state": {
            "_model_module": "@jupyter-widgets/base",
            "_model_module_version": "1.2.0",
            "_model_name": "LayoutModel",
            "_view_count": null,
            "_view_module": "@jupyter-widgets/base",
            "_view_module_version": "1.2.0",
            "_view_name": "LayoutView",
            "align_content": null,
            "align_items": null,
            "align_self": null,
            "border": null,
            "bottom": null,
            "display": null,
            "flex": null,
            "flex_flow": null,
            "grid_area": null,
            "grid_auto_columns": null,
            "grid_auto_flow": null,
            "grid_auto_rows": null,
            "grid_column": null,
            "grid_gap": null,
            "grid_row": null,
            "grid_template_areas": null,
            "grid_template_columns": null,
            "grid_template_rows": null,
            "height": null,
            "justify_content": null,
            "justify_items": null,
            "left": null,
            "margin": null,
            "max_height": null,
            "max_width": null,
            "min_height": null,
            "min_width": null,
            "object_fit": null,
            "object_position": null,
            "order": null,
            "overflow": null,
            "overflow_x": null,
            "overflow_y": null,
            "padding": null,
            "right": null,
            "top": null,
            "visibility": null,
            "width": null
          }
        },
        "ab09c8c874a54fa28a0530465d7d120c": {
          "model_module": "@jupyter-widgets/controls",
          "model_name": "DescriptionStyleModel",
          "model_module_version": "1.5.0",
          "state": {
            "_model_module": "@jupyter-widgets/controls",
            "_model_module_version": "1.5.0",
            "_model_name": "DescriptionStyleModel",
            "_view_count": null,
            "_view_module": "@jupyter-widgets/base",
            "_view_module_version": "1.2.0",
            "_view_name": "StyleView",
            "description_width": ""
          }
        },
        "c26684a61fe84a3a834dbdcd8e6cedb1": {
          "model_module": "@jupyter-widgets/base",
          "model_name": "LayoutModel",
          "model_module_version": "1.2.0",
          "state": {
            "_model_module": "@jupyter-widgets/base",
            "_model_module_version": "1.2.0",
            "_model_name": "LayoutModel",
            "_view_count": null,
            "_view_module": "@jupyter-widgets/base",
            "_view_module_version": "1.2.0",
            "_view_name": "LayoutView",
            "align_content": null,
            "align_items": null,
            "align_self": null,
            "border": null,
            "bottom": null,
            "display": null,
            "flex": null,
            "flex_flow": null,
            "grid_area": null,
            "grid_auto_columns": null,
            "grid_auto_flow": null,
            "grid_auto_rows": null,
            "grid_column": null,
            "grid_gap": null,
            "grid_row": null,
            "grid_template_areas": null,
            "grid_template_columns": null,
            "grid_template_rows": null,
            "height": null,
            "justify_content": null,
            "justify_items": null,
            "left": null,
            "margin": null,
            "max_height": null,
            "max_width": null,
            "min_height": null,
            "min_width": null,
            "object_fit": null,
            "object_position": null,
            "order": null,
            "overflow": null,
            "overflow_x": null,
            "overflow_y": null,
            "padding": null,
            "right": null,
            "top": null,
            "visibility": null,
            "width": null
          }
        },
        "ae91cba623a347aeac18282f17ec0df8": {
          "model_module": "@jupyter-widgets/controls",
          "model_name": "ProgressStyleModel",
          "model_module_version": "1.5.0",
          "state": {
            "_model_module": "@jupyter-widgets/controls",
            "_model_module_version": "1.5.0",
            "_model_name": "ProgressStyleModel",
            "_view_count": null,
            "_view_module": "@jupyter-widgets/base",
            "_view_module_version": "1.2.0",
            "_view_name": "StyleView",
            "bar_color": null,
            "description_width": ""
          }
        },
        "f20a97a713a1406291ca3048cd59caa6": {
          "model_module": "@jupyter-widgets/base",
          "model_name": "LayoutModel",
          "model_module_version": "1.2.0",
          "state": {
            "_model_module": "@jupyter-widgets/base",
            "_model_module_version": "1.2.0",
            "_model_name": "LayoutModel",
            "_view_count": null,
            "_view_module": "@jupyter-widgets/base",
            "_view_module_version": "1.2.0",
            "_view_name": "LayoutView",
            "align_content": null,
            "align_items": null,
            "align_self": null,
            "border": null,
            "bottom": null,
            "display": null,
            "flex": null,
            "flex_flow": null,
            "grid_area": null,
            "grid_auto_columns": null,
            "grid_auto_flow": null,
            "grid_auto_rows": null,
            "grid_column": null,
            "grid_gap": null,
            "grid_row": null,
            "grid_template_areas": null,
            "grid_template_columns": null,
            "grid_template_rows": null,
            "height": null,
            "justify_content": null,
            "justify_items": null,
            "left": null,
            "margin": null,
            "max_height": null,
            "max_width": null,
            "min_height": null,
            "min_width": null,
            "object_fit": null,
            "object_position": null,
            "order": null,
            "overflow": null,
            "overflow_x": null,
            "overflow_y": null,
            "padding": null,
            "right": null,
            "top": null,
            "visibility": null,
            "width": null
          }
        },
        "58be9231e4754dda9a22df7a02c12ccc": {
          "model_module": "@jupyter-widgets/controls",
          "model_name": "DescriptionStyleModel",
          "model_module_version": "1.5.0",
          "state": {
            "_model_module": "@jupyter-widgets/controls",
            "_model_module_version": "1.5.0",
            "_model_name": "DescriptionStyleModel",
            "_view_count": null,
            "_view_module": "@jupyter-widgets/base",
            "_view_module_version": "1.2.0",
            "_view_name": "StyleView",
            "description_width": ""
          }
        },
        "b3dc1eebbd9044e5830eab8f6894a501": {
          "model_module": "@jupyter-widgets/controls",
          "model_name": "HBoxModel",
          "model_module_version": "1.5.0",
          "state": {
            "_dom_classes": [],
            "_model_module": "@jupyter-widgets/controls",
            "_model_module_version": "1.5.0",
            "_model_name": "HBoxModel",
            "_view_count": null,
            "_view_module": "@jupyter-widgets/controls",
            "_view_module_version": "1.5.0",
            "_view_name": "HBoxView",
            "box_style": "",
            "children": [
              "IPY_MODEL_e7a066b6e6344503bef7062cde854a05",
              "IPY_MODEL_c033c85cdd9b4eb2b9cef11d16e2f075",
              "IPY_MODEL_54e5bd71a250401cb292131ceaccb994"
            ],
            "layout": "IPY_MODEL_72eb0a58d8a14e428b684503fa8a368d"
          }
        },
        "e7a066b6e6344503bef7062cde854a05": {
          "model_module": "@jupyter-widgets/controls",
          "model_name": "HTMLModel",
          "model_module_version": "1.5.0",
          "state": {
            "_dom_classes": [],
            "_model_module": "@jupyter-widgets/controls",
            "_model_module_version": "1.5.0",
            "_model_name": "HTMLModel",
            "_view_count": null,
            "_view_module": "@jupyter-widgets/controls",
            "_view_module_version": "1.5.0",
            "_view_name": "HTMLView",
            "description": "",
            "description_tooltip": null,
            "layout": "IPY_MODEL_bf84ab7638d14813b0cbdbab932d5f91",
            "placeholder": "​",
            "style": "IPY_MODEL_ab05244b21234a28a016e19e9c25fbc1",
            "value": "vocab.txt: "
          }
        },
        "c033c85cdd9b4eb2b9cef11d16e2f075": {
          "model_module": "@jupyter-widgets/controls",
          "model_name": "FloatProgressModel",
          "model_module_version": "1.5.0",
          "state": {
            "_dom_classes": [],
            "_model_module": "@jupyter-widgets/controls",
            "_model_module_version": "1.5.0",
            "_model_name": "FloatProgressModel",
            "_view_count": null,
            "_view_module": "@jupyter-widgets/controls",
            "_view_module_version": "1.5.0",
            "_view_name": "ProgressView",
            "bar_style": "success",
            "description": "",
            "description_tooltip": null,
            "layout": "IPY_MODEL_e04ef152324b4461a77c10d7c4b5fd17",
            "max": 1,
            "min": 0,
            "orientation": "horizontal",
            "style": "IPY_MODEL_03f2639818f24622855ab8b79718d256",
            "value": 1
          }
        },
        "54e5bd71a250401cb292131ceaccb994": {
          "model_module": "@jupyter-widgets/controls",
          "model_name": "HTMLModel",
          "model_module_version": "1.5.0",
          "state": {
            "_dom_classes": [],
            "_model_module": "@jupyter-widgets/controls",
            "_model_module_version": "1.5.0",
            "_model_name": "HTMLModel",
            "_view_count": null,
            "_view_module": "@jupyter-widgets/controls",
            "_view_module_version": "1.5.0",
            "_view_name": "HTMLView",
            "description": "",
            "description_tooltip": null,
            "layout": "IPY_MODEL_69fb9c82f5e24415a367036ffc81f716",
            "placeholder": "​",
            "style": "IPY_MODEL_c7a0c5fbd87a47c3aaa058cae71b6c94",
            "value": " 263k/? [00:00&lt;00:00, 21.7MB/s]"
          }
        },
        "72eb0a58d8a14e428b684503fa8a368d": {
          "model_module": "@jupyter-widgets/base",
          "model_name": "LayoutModel",
          "model_module_version": "1.2.0",
          "state": {
            "_model_module": "@jupyter-widgets/base",
            "_model_module_version": "1.2.0",
            "_model_name": "LayoutModel",
            "_view_count": null,
            "_view_module": "@jupyter-widgets/base",
            "_view_module_version": "1.2.0",
            "_view_name": "LayoutView",
            "align_content": null,
            "align_items": null,
            "align_self": null,
            "border": null,
            "bottom": null,
            "display": null,
            "flex": null,
            "flex_flow": null,
            "grid_area": null,
            "grid_auto_columns": null,
            "grid_auto_flow": null,
            "grid_auto_rows": null,
            "grid_column": null,
            "grid_gap": null,
            "grid_row": null,
            "grid_template_areas": null,
            "grid_template_columns": null,
            "grid_template_rows": null,
            "height": null,
            "justify_content": null,
            "justify_items": null,
            "left": null,
            "margin": null,
            "max_height": null,
            "max_width": null,
            "min_height": null,
            "min_width": null,
            "object_fit": null,
            "object_position": null,
            "order": null,
            "overflow": null,
            "overflow_x": null,
            "overflow_y": null,
            "padding": null,
            "right": null,
            "top": null,
            "visibility": null,
            "width": null
          }
        },
        "bf84ab7638d14813b0cbdbab932d5f91": {
          "model_module": "@jupyter-widgets/base",
          "model_name": "LayoutModel",
          "model_module_version": "1.2.0",
          "state": {
            "_model_module": "@jupyter-widgets/base",
            "_model_module_version": "1.2.0",
            "_model_name": "LayoutModel",
            "_view_count": null,
            "_view_module": "@jupyter-widgets/base",
            "_view_module_version": "1.2.0",
            "_view_name": "LayoutView",
            "align_content": null,
            "align_items": null,
            "align_self": null,
            "border": null,
            "bottom": null,
            "display": null,
            "flex": null,
            "flex_flow": null,
            "grid_area": null,
            "grid_auto_columns": null,
            "grid_auto_flow": null,
            "grid_auto_rows": null,
            "grid_column": null,
            "grid_gap": null,
            "grid_row": null,
            "grid_template_areas": null,
            "grid_template_columns": null,
            "grid_template_rows": null,
            "height": null,
            "justify_content": null,
            "justify_items": null,
            "left": null,
            "margin": null,
            "max_height": null,
            "max_width": null,
            "min_height": null,
            "min_width": null,
            "object_fit": null,
            "object_position": null,
            "order": null,
            "overflow": null,
            "overflow_x": null,
            "overflow_y": null,
            "padding": null,
            "right": null,
            "top": null,
            "visibility": null,
            "width": null
          }
        },
        "ab05244b21234a28a016e19e9c25fbc1": {
          "model_module": "@jupyter-widgets/controls",
          "model_name": "DescriptionStyleModel",
          "model_module_version": "1.5.0",
          "state": {
            "_model_module": "@jupyter-widgets/controls",
            "_model_module_version": "1.5.0",
            "_model_name": "DescriptionStyleModel",
            "_view_count": null,
            "_view_module": "@jupyter-widgets/base",
            "_view_module_version": "1.2.0",
            "_view_name": "StyleView",
            "description_width": ""
          }
        },
        "e04ef152324b4461a77c10d7c4b5fd17": {
          "model_module": "@jupyter-widgets/base",
          "model_name": "LayoutModel",
          "model_module_version": "1.2.0",
          "state": {
            "_model_module": "@jupyter-widgets/base",
            "_model_module_version": "1.2.0",
            "_model_name": "LayoutModel",
            "_view_count": null,
            "_view_module": "@jupyter-widgets/base",
            "_view_module_version": "1.2.0",
            "_view_name": "LayoutView",
            "align_content": null,
            "align_items": null,
            "align_self": null,
            "border": null,
            "bottom": null,
            "display": null,
            "flex": null,
            "flex_flow": null,
            "grid_area": null,
            "grid_auto_columns": null,
            "grid_auto_flow": null,
            "grid_auto_rows": null,
            "grid_column": null,
            "grid_gap": null,
            "grid_row": null,
            "grid_template_areas": null,
            "grid_template_columns": null,
            "grid_template_rows": null,
            "height": null,
            "justify_content": null,
            "justify_items": null,
            "left": null,
            "margin": null,
            "max_height": null,
            "max_width": null,
            "min_height": null,
            "min_width": null,
            "object_fit": null,
            "object_position": null,
            "order": null,
            "overflow": null,
            "overflow_x": null,
            "overflow_y": null,
            "padding": null,
            "right": null,
            "top": null,
            "visibility": null,
            "width": "20px"
          }
        },
        "03f2639818f24622855ab8b79718d256": {
          "model_module": "@jupyter-widgets/controls",
          "model_name": "ProgressStyleModel",
          "model_module_version": "1.5.0",
          "state": {
            "_model_module": "@jupyter-widgets/controls",
            "_model_module_version": "1.5.0",
            "_model_name": "ProgressStyleModel",
            "_view_count": null,
            "_view_module": "@jupyter-widgets/base",
            "_view_module_version": "1.2.0",
            "_view_name": "StyleView",
            "bar_color": null,
            "description_width": ""
          }
        },
        "69fb9c82f5e24415a367036ffc81f716": {
          "model_module": "@jupyter-widgets/base",
          "model_name": "LayoutModel",
          "model_module_version": "1.2.0",
          "state": {
            "_model_module": "@jupyter-widgets/base",
            "_model_module_version": "1.2.0",
            "_model_name": "LayoutModel",
            "_view_count": null,
            "_view_module": "@jupyter-widgets/base",
            "_view_module_version": "1.2.0",
            "_view_name": "LayoutView",
            "align_content": null,
            "align_items": null,
            "align_self": null,
            "border": null,
            "bottom": null,
            "display": null,
            "flex": null,
            "flex_flow": null,
            "grid_area": null,
            "grid_auto_columns": null,
            "grid_auto_flow": null,
            "grid_auto_rows": null,
            "grid_column": null,
            "grid_gap": null,
            "grid_row": null,
            "grid_template_areas": null,
            "grid_template_columns": null,
            "grid_template_rows": null,
            "height": null,
            "justify_content": null,
            "justify_items": null,
            "left": null,
            "margin": null,
            "max_height": null,
            "max_width": null,
            "min_height": null,
            "min_width": null,
            "object_fit": null,
            "object_position": null,
            "order": null,
            "overflow": null,
            "overflow_x": null,
            "overflow_y": null,
            "padding": null,
            "right": null,
            "top": null,
            "visibility": null,
            "width": null
          }
        },
        "c7a0c5fbd87a47c3aaa058cae71b6c94": {
          "model_module": "@jupyter-widgets/controls",
          "model_name": "DescriptionStyleModel",
          "model_module_version": "1.5.0",
          "state": {
            "_model_module": "@jupyter-widgets/controls",
            "_model_module_version": "1.5.0",
            "_model_name": "DescriptionStyleModel",
            "_view_count": null,
            "_view_module": "@jupyter-widgets/base",
            "_view_module_version": "1.2.0",
            "_view_name": "StyleView",
            "description_width": ""
          }
        },
        "f3268ba94bdd468bb30007a32a769368": {
          "model_module": "@jupyter-widgets/controls",
          "model_name": "HBoxModel",
          "model_module_version": "1.5.0",
          "state": {
            "_dom_classes": [],
            "_model_module": "@jupyter-widgets/controls",
            "_model_module_version": "1.5.0",
            "_model_name": "HBoxModel",
            "_view_count": null,
            "_view_module": "@jupyter-widgets/controls",
            "_view_module_version": "1.5.0",
            "_view_name": "HBoxView",
            "box_style": "",
            "children": [
              "IPY_MODEL_dff4b6a3f5f043df812548c94b5dbfad",
              "IPY_MODEL_5c95d8be8bfb47e691029cccc003c49c",
              "IPY_MODEL_dcdf1098c44b43e69b49cba270bae8a9"
            ],
            "layout": "IPY_MODEL_18ce26c86e5d463ea191ff001994173f"
          }
        },
        "dff4b6a3f5f043df812548c94b5dbfad": {
          "model_module": "@jupyter-widgets/controls",
          "model_name": "HTMLModel",
          "model_module_version": "1.5.0",
          "state": {
            "_dom_classes": [],
            "_model_module": "@jupyter-widgets/controls",
            "_model_module_version": "1.5.0",
            "_model_name": "HTMLModel",
            "_view_count": null,
            "_view_module": "@jupyter-widgets/controls",
            "_view_module_version": "1.5.0",
            "_view_name": "HTMLView",
            "description": "",
            "description_tooltip": null,
            "layout": "IPY_MODEL_dbc59746dfa549dabab388bbf1e2388c",
            "placeholder": "​",
            "style": "IPY_MODEL_09b9b389dac84b0496739794716899f4",
            "value": "Map: 100%"
          }
        },
        "5c95d8be8bfb47e691029cccc003c49c": {
          "model_module": "@jupyter-widgets/controls",
          "model_name": "FloatProgressModel",
          "model_module_version": "1.5.0",
          "state": {
            "_dom_classes": [],
            "_model_module": "@jupyter-widgets/controls",
            "_model_module_version": "1.5.0",
            "_model_name": "FloatProgressModel",
            "_view_count": null,
            "_view_module": "@jupyter-widgets/controls",
            "_view_module_version": "1.5.0",
            "_view_name": "ProgressView",
            "bar_style": "success",
            "description": "",
            "description_tooltip": null,
            "layout": "IPY_MODEL_5bcd432651bf4b9ca3a7b48a5fb3aa1e",
            "max": 45678,
            "min": 0,
            "orientation": "horizontal",
            "style": "IPY_MODEL_2c58dcedcced4a8998195bc3b7245da9",
            "value": 45678
          }
        },
        "dcdf1098c44b43e69b49cba270bae8a9": {
          "model_module": "@jupyter-widgets/controls",
          "model_name": "HTMLModel",
          "model_module_version": "1.5.0",
          "state": {
            "_dom_classes": [],
            "_model_module": "@jupyter-widgets/controls",
            "_model_module_version": "1.5.0",
            "_model_name": "HTMLModel",
            "_view_count": null,
            "_view_module": "@jupyter-widgets/controls",
            "_view_module_version": "1.5.0",
            "_view_name": "HTMLView",
            "description": "",
            "description_tooltip": null,
            "layout": "IPY_MODEL_25146a754cd64dd88a333d5b09a560fd",
            "placeholder": "​",
            "style": "IPY_MODEL_d9fde5fc1fde4ed3836f953cb82a42f7",
            "value": " 45678/45678 [00:01&lt;00:00, 27601.53 examples/s]"
          }
        },
        "18ce26c86e5d463ea191ff001994173f": {
          "model_module": "@jupyter-widgets/base",
          "model_name": "LayoutModel",
          "model_module_version": "1.2.0",
          "state": {
            "_model_module": "@jupyter-widgets/base",
            "_model_module_version": "1.2.0",
            "_model_name": "LayoutModel",
            "_view_count": null,
            "_view_module": "@jupyter-widgets/base",
            "_view_module_version": "1.2.0",
            "_view_name": "LayoutView",
            "align_content": null,
            "align_items": null,
            "align_self": null,
            "border": null,
            "bottom": null,
            "display": null,
            "flex": null,
            "flex_flow": null,
            "grid_area": null,
            "grid_auto_columns": null,
            "grid_auto_flow": null,
            "grid_auto_rows": null,
            "grid_column": null,
            "grid_gap": null,
            "grid_row": null,
            "grid_template_areas": null,
            "grid_template_columns": null,
            "grid_template_rows": null,
            "height": null,
            "justify_content": null,
            "justify_items": null,
            "left": null,
            "margin": null,
            "max_height": null,
            "max_width": null,
            "min_height": null,
            "min_width": null,
            "object_fit": null,
            "object_position": null,
            "order": null,
            "overflow": null,
            "overflow_x": null,
            "overflow_y": null,
            "padding": null,
            "right": null,
            "top": null,
            "visibility": null,
            "width": null
          }
        },
        "dbc59746dfa549dabab388bbf1e2388c": {
          "model_module": "@jupyter-widgets/base",
          "model_name": "LayoutModel",
          "model_module_version": "1.2.0",
          "state": {
            "_model_module": "@jupyter-widgets/base",
            "_model_module_version": "1.2.0",
            "_model_name": "LayoutModel",
            "_view_count": null,
            "_view_module": "@jupyter-widgets/base",
            "_view_module_version": "1.2.0",
            "_view_name": "LayoutView",
            "align_content": null,
            "align_items": null,
            "align_self": null,
            "border": null,
            "bottom": null,
            "display": null,
            "flex": null,
            "flex_flow": null,
            "grid_area": null,
            "grid_auto_columns": null,
            "grid_auto_flow": null,
            "grid_auto_rows": null,
            "grid_column": null,
            "grid_gap": null,
            "grid_row": null,
            "grid_template_areas": null,
            "grid_template_columns": null,
            "grid_template_rows": null,
            "height": null,
            "justify_content": null,
            "justify_items": null,
            "left": null,
            "margin": null,
            "max_height": null,
            "max_width": null,
            "min_height": null,
            "min_width": null,
            "object_fit": null,
            "object_position": null,
            "order": null,
            "overflow": null,
            "overflow_x": null,
            "overflow_y": null,
            "padding": null,
            "right": null,
            "top": null,
            "visibility": null,
            "width": null
          }
        },
        "09b9b389dac84b0496739794716899f4": {
          "model_module": "@jupyter-widgets/controls",
          "model_name": "DescriptionStyleModel",
          "model_module_version": "1.5.0",
          "state": {
            "_model_module": "@jupyter-widgets/controls",
            "_model_module_version": "1.5.0",
            "_model_name": "DescriptionStyleModel",
            "_view_count": null,
            "_view_module": "@jupyter-widgets/base",
            "_view_module_version": "1.2.0",
            "_view_name": "StyleView",
            "description_width": ""
          }
        },
        "5bcd432651bf4b9ca3a7b48a5fb3aa1e": {
          "model_module": "@jupyter-widgets/base",
          "model_name": "LayoutModel",
          "model_module_version": "1.2.0",
          "state": {
            "_model_module": "@jupyter-widgets/base",
            "_model_module_version": "1.2.0",
            "_model_name": "LayoutModel",
            "_view_count": null,
            "_view_module": "@jupyter-widgets/base",
            "_view_module_version": "1.2.0",
            "_view_name": "LayoutView",
            "align_content": null,
            "align_items": null,
            "align_self": null,
            "border": null,
            "bottom": null,
            "display": null,
            "flex": null,
            "flex_flow": null,
            "grid_area": null,
            "grid_auto_columns": null,
            "grid_auto_flow": null,
            "grid_auto_rows": null,
            "grid_column": null,
            "grid_gap": null,
            "grid_row": null,
            "grid_template_areas": null,
            "grid_template_columns": null,
            "grid_template_rows": null,
            "height": null,
            "justify_content": null,
            "justify_items": null,
            "left": null,
            "margin": null,
            "max_height": null,
            "max_width": null,
            "min_height": null,
            "min_width": null,
            "object_fit": null,
            "object_position": null,
            "order": null,
            "overflow": null,
            "overflow_x": null,
            "overflow_y": null,
            "padding": null,
            "right": null,
            "top": null,
            "visibility": null,
            "width": null
          }
        },
        "2c58dcedcced4a8998195bc3b7245da9": {
          "model_module": "@jupyter-widgets/controls",
          "model_name": "ProgressStyleModel",
          "model_module_version": "1.5.0",
          "state": {
            "_model_module": "@jupyter-widgets/controls",
            "_model_module_version": "1.5.0",
            "_model_name": "ProgressStyleModel",
            "_view_count": null,
            "_view_module": "@jupyter-widgets/base",
            "_view_module_version": "1.2.0",
            "_view_name": "StyleView",
            "bar_color": null,
            "description_width": ""
          }
        },
        "25146a754cd64dd88a333d5b09a560fd": {
          "model_module": "@jupyter-widgets/base",
          "model_name": "LayoutModel",
          "model_module_version": "1.2.0",
          "state": {
            "_model_module": "@jupyter-widgets/base",
            "_model_module_version": "1.2.0",
            "_model_name": "LayoutModel",
            "_view_count": null,
            "_view_module": "@jupyter-widgets/base",
            "_view_module_version": "1.2.0",
            "_view_name": "LayoutView",
            "align_content": null,
            "align_items": null,
            "align_self": null,
            "border": null,
            "bottom": null,
            "display": null,
            "flex": null,
            "flex_flow": null,
            "grid_area": null,
            "grid_auto_columns": null,
            "grid_auto_flow": null,
            "grid_auto_rows": null,
            "grid_column": null,
            "grid_gap": null,
            "grid_row": null,
            "grid_template_areas": null,
            "grid_template_columns": null,
            "grid_template_rows": null,
            "height": null,
            "justify_content": null,
            "justify_items": null,
            "left": null,
            "margin": null,
            "max_height": null,
            "max_width": null,
            "min_height": null,
            "min_width": null,
            "object_fit": null,
            "object_position": null,
            "order": null,
            "overflow": null,
            "overflow_x": null,
            "overflow_y": null,
            "padding": null,
            "right": null,
            "top": null,
            "visibility": null,
            "width": null
          }
        },
        "d9fde5fc1fde4ed3836f953cb82a42f7": {
          "model_module": "@jupyter-widgets/controls",
          "model_name": "DescriptionStyleModel",
          "model_module_version": "1.5.0",
          "state": {
            "_model_module": "@jupyter-widgets/controls",
            "_model_module_version": "1.5.0",
            "_model_name": "DescriptionStyleModel",
            "_view_count": null,
            "_view_module": "@jupyter-widgets/base",
            "_view_module_version": "1.2.0",
            "_view_name": "StyleView",
            "description_width": ""
          }
        },
        "de4e38917be041218ea905b790e09f7d": {
          "model_module": "@jupyter-widgets/controls",
          "model_name": "HBoxModel",
          "model_module_version": "1.5.0",
          "state": {
            "_dom_classes": [],
            "_model_module": "@jupyter-widgets/controls",
            "_model_module_version": "1.5.0",
            "_model_name": "HBoxModel",
            "_view_count": null,
            "_view_module": "@jupyter-widgets/controls",
            "_view_module_version": "1.5.0",
            "_view_name": "HBoxView",
            "box_style": "",
            "children": [
              "IPY_MODEL_8ab88148b6734dcf8790f26ca2c1ac71",
              "IPY_MODEL_dc6fa2b67e1a4318a19ce9c163c4527a",
              "IPY_MODEL_d0eecb0f7abb41d3bc6770eee2786429"
            ],
            "layout": "IPY_MODEL_d3e9bb44b6084dda8f59a244ff0306d1"
          }
        },
        "8ab88148b6734dcf8790f26ca2c1ac71": {
          "model_module": "@jupyter-widgets/controls",
          "model_name": "HTMLModel",
          "model_module_version": "1.5.0",
          "state": {
            "_dom_classes": [],
            "_model_module": "@jupyter-widgets/controls",
            "_model_module_version": "1.5.0",
            "_model_name": "HTMLModel",
            "_view_count": null,
            "_view_module": "@jupyter-widgets/controls",
            "_view_module_version": "1.5.0",
            "_view_name": "HTMLView",
            "description": "",
            "description_tooltip": null,
            "layout": "IPY_MODEL_4de7764a5faf4c1b9a4c1e99e58e324d",
            "placeholder": "​",
            "style": "IPY_MODEL_7512e026190e46aa98a85eeb94c696fb",
            "value": "Map: 100%"
          }
        },
        "dc6fa2b67e1a4318a19ce9c163c4527a": {
          "model_module": "@jupyter-widgets/controls",
          "model_name": "FloatProgressModel",
          "model_module_version": "1.5.0",
          "state": {
            "_dom_classes": [],
            "_model_module": "@jupyter-widgets/controls",
            "_model_module_version": "1.5.0",
            "_model_name": "FloatProgressModel",
            "_view_count": null,
            "_view_module": "@jupyter-widgets/controls",
            "_view_module_version": "1.5.0",
            "_view_name": "ProgressView",
            "bar_style": "success",
            "description": "",
            "description_tooltip": null,
            "layout": "IPY_MODEL_ee0a8c63eefe4d8e9ab507655c1f2120",
            "max": 9107,
            "min": 0,
            "orientation": "horizontal",
            "style": "IPY_MODEL_dc3b1438fffb41d5b1c274d37a8741b3",
            "value": 9107
          }
        },
        "d0eecb0f7abb41d3bc6770eee2786429": {
          "model_module": "@jupyter-widgets/controls",
          "model_name": "HTMLModel",
          "model_module_version": "1.5.0",
          "state": {
            "_dom_classes": [],
            "_model_module": "@jupyter-widgets/controls",
            "_model_module_version": "1.5.0",
            "_model_name": "HTMLModel",
            "_view_count": null,
            "_view_module": "@jupyter-widgets/controls",
            "_view_module_version": "1.5.0",
            "_view_name": "HTMLView",
            "description": "",
            "description_tooltip": null,
            "layout": "IPY_MODEL_0bc1653680ff4cacb93c53ae70d588c1",
            "placeholder": "​",
            "style": "IPY_MODEL_7daee19d55e147d8a92813edebc80e6e",
            "value": " 9107/9107 [00:00&lt;00:00, 41344.58 examples/s]"
          }
        },
        "d3e9bb44b6084dda8f59a244ff0306d1": {
          "model_module": "@jupyter-widgets/base",
          "model_name": "LayoutModel",
          "model_module_version": "1.2.0",
          "state": {
            "_model_module": "@jupyter-widgets/base",
            "_model_module_version": "1.2.0",
            "_model_name": "LayoutModel",
            "_view_count": null,
            "_view_module": "@jupyter-widgets/base",
            "_view_module_version": "1.2.0",
            "_view_name": "LayoutView",
            "align_content": null,
            "align_items": null,
            "align_self": null,
            "border": null,
            "bottom": null,
            "display": null,
            "flex": null,
            "flex_flow": null,
            "grid_area": null,
            "grid_auto_columns": null,
            "grid_auto_flow": null,
            "grid_auto_rows": null,
            "grid_column": null,
            "grid_gap": null,
            "grid_row": null,
            "grid_template_areas": null,
            "grid_template_columns": null,
            "grid_template_rows": null,
            "height": null,
            "justify_content": null,
            "justify_items": null,
            "left": null,
            "margin": null,
            "max_height": null,
            "max_width": null,
            "min_height": null,
            "min_width": null,
            "object_fit": null,
            "object_position": null,
            "order": null,
            "overflow": null,
            "overflow_x": null,
            "overflow_y": null,
            "padding": null,
            "right": null,
            "top": null,
            "visibility": null,
            "width": null
          }
        },
        "4de7764a5faf4c1b9a4c1e99e58e324d": {
          "model_module": "@jupyter-widgets/base",
          "model_name": "LayoutModel",
          "model_module_version": "1.2.0",
          "state": {
            "_model_module": "@jupyter-widgets/base",
            "_model_module_version": "1.2.0",
            "_model_name": "LayoutModel",
            "_view_count": null,
            "_view_module": "@jupyter-widgets/base",
            "_view_module_version": "1.2.0",
            "_view_name": "LayoutView",
            "align_content": null,
            "align_items": null,
            "align_self": null,
            "border": null,
            "bottom": null,
            "display": null,
            "flex": null,
            "flex_flow": null,
            "grid_area": null,
            "grid_auto_columns": null,
            "grid_auto_flow": null,
            "grid_auto_rows": null,
            "grid_column": null,
            "grid_gap": null,
            "grid_row": null,
            "grid_template_areas": null,
            "grid_template_columns": null,
            "grid_template_rows": null,
            "height": null,
            "justify_content": null,
            "justify_items": null,
            "left": null,
            "margin": null,
            "max_height": null,
            "max_width": null,
            "min_height": null,
            "min_width": null,
            "object_fit": null,
            "object_position": null,
            "order": null,
            "overflow": null,
            "overflow_x": null,
            "overflow_y": null,
            "padding": null,
            "right": null,
            "top": null,
            "visibility": null,
            "width": null
          }
        },
        "7512e026190e46aa98a85eeb94c696fb": {
          "model_module": "@jupyter-widgets/controls",
          "model_name": "DescriptionStyleModel",
          "model_module_version": "1.5.0",
          "state": {
            "_model_module": "@jupyter-widgets/controls",
            "_model_module_version": "1.5.0",
            "_model_name": "DescriptionStyleModel",
            "_view_count": null,
            "_view_module": "@jupyter-widgets/base",
            "_view_module_version": "1.2.0",
            "_view_name": "StyleView",
            "description_width": ""
          }
        },
        "ee0a8c63eefe4d8e9ab507655c1f2120": {
          "model_module": "@jupyter-widgets/base",
          "model_name": "LayoutModel",
          "model_module_version": "1.2.0",
          "state": {
            "_model_module": "@jupyter-widgets/base",
            "_model_module_version": "1.2.0",
            "_model_name": "LayoutModel",
            "_view_count": null,
            "_view_module": "@jupyter-widgets/base",
            "_view_module_version": "1.2.0",
            "_view_name": "LayoutView",
            "align_content": null,
            "align_items": null,
            "align_self": null,
            "border": null,
            "bottom": null,
            "display": null,
            "flex": null,
            "flex_flow": null,
            "grid_area": null,
            "grid_auto_columns": null,
            "grid_auto_flow": null,
            "grid_auto_rows": null,
            "grid_column": null,
            "grid_gap": null,
            "grid_row": null,
            "grid_template_areas": null,
            "grid_template_columns": null,
            "grid_template_rows": null,
            "height": null,
            "justify_content": null,
            "justify_items": null,
            "left": null,
            "margin": null,
            "max_height": null,
            "max_width": null,
            "min_height": null,
            "min_width": null,
            "object_fit": null,
            "object_position": null,
            "order": null,
            "overflow": null,
            "overflow_x": null,
            "overflow_y": null,
            "padding": null,
            "right": null,
            "top": null,
            "visibility": null,
            "width": null
          }
        },
        "dc3b1438fffb41d5b1c274d37a8741b3": {
          "model_module": "@jupyter-widgets/controls",
          "model_name": "ProgressStyleModel",
          "model_module_version": "1.5.0",
          "state": {
            "_model_module": "@jupyter-widgets/controls",
            "_model_module_version": "1.5.0",
            "_model_name": "ProgressStyleModel",
            "_view_count": null,
            "_view_module": "@jupyter-widgets/base",
            "_view_module_version": "1.2.0",
            "_view_name": "StyleView",
            "bar_color": null,
            "description_width": ""
          }
        },
        "0bc1653680ff4cacb93c53ae70d588c1": {
          "model_module": "@jupyter-widgets/base",
          "model_name": "LayoutModel",
          "model_module_version": "1.2.0",
          "state": {
            "_model_module": "@jupyter-widgets/base",
            "_model_module_version": "1.2.0",
            "_model_name": "LayoutModel",
            "_view_count": null,
            "_view_module": "@jupyter-widgets/base",
            "_view_module_version": "1.2.0",
            "_view_name": "LayoutView",
            "align_content": null,
            "align_items": null,
            "align_self": null,
            "border": null,
            "bottom": null,
            "display": null,
            "flex": null,
            "flex_flow": null,
            "grid_area": null,
            "grid_auto_columns": null,
            "grid_auto_flow": null,
            "grid_auto_rows": null,
            "grid_column": null,
            "grid_gap": null,
            "grid_row": null,
            "grid_template_areas": null,
            "grid_template_columns": null,
            "grid_template_rows": null,
            "height": null,
            "justify_content": null,
            "justify_items": null,
            "left": null,
            "margin": null,
            "max_height": null,
            "max_width": null,
            "min_height": null,
            "min_width": null,
            "object_fit": null,
            "object_position": null,
            "order": null,
            "overflow": null,
            "overflow_x": null,
            "overflow_y": null,
            "padding": null,
            "right": null,
            "top": null,
            "visibility": null,
            "width": null
          }
        },
        "7daee19d55e147d8a92813edebc80e6e": {
          "model_module": "@jupyter-widgets/controls",
          "model_name": "DescriptionStyleModel",
          "model_module_version": "1.5.0",
          "state": {
            "_model_module": "@jupyter-widgets/controls",
            "_model_module_version": "1.5.0",
            "_model_name": "DescriptionStyleModel",
            "_view_count": null,
            "_view_module": "@jupyter-widgets/base",
            "_view_module_version": "1.2.0",
            "_view_name": "StyleView",
            "description_width": ""
          }
        },
        "887ad90d09d4455ba9ccf8502c3b780f": {
          "model_module": "@jupyter-widgets/controls",
          "model_name": "HBoxModel",
          "model_module_version": "1.5.0",
          "state": {
            "_dom_classes": [],
            "_model_module": "@jupyter-widgets/controls",
            "_model_module_version": "1.5.0",
            "_model_name": "HBoxModel",
            "_view_count": null,
            "_view_module": "@jupyter-widgets/controls",
            "_view_module_version": "1.5.0",
            "_view_name": "HBoxView",
            "box_style": "",
            "children": [
              "IPY_MODEL_208f3cfe96954e37a7e271d5ac7262ee",
              "IPY_MODEL_79e270015f884476bf8e939e653e9c30",
              "IPY_MODEL_90816cbdcadb4c009ea4538c51949af7"
            ],
            "layout": "IPY_MODEL_7a60e4ff50f2436a80f727effe37a013"
          }
        },
        "208f3cfe96954e37a7e271d5ac7262ee": {
          "model_module": "@jupyter-widgets/controls",
          "model_name": "HTMLModel",
          "model_module_version": "1.5.0",
          "state": {
            "_dom_classes": [],
            "_model_module": "@jupyter-widgets/controls",
            "_model_module_version": "1.5.0",
            "_model_name": "HTMLModel",
            "_view_count": null,
            "_view_module": "@jupyter-widgets/controls",
            "_view_module_version": "1.5.0",
            "_view_name": "HTMLView",
            "description": "",
            "description_tooltip": null,
            "layout": "IPY_MODEL_51963fe5da5240a6af7ce277a55330dd",
            "placeholder": "​",
            "style": "IPY_MODEL_87374c671b664a069e0ef0b710e7e271",
            "value": "pytorch_model.bin: 100%"
          }
        },
        "79e270015f884476bf8e939e653e9c30": {
          "model_module": "@jupyter-widgets/controls",
          "model_name": "FloatProgressModel",
          "model_module_version": "1.5.0",
          "state": {
            "_dom_classes": [],
            "_model_module": "@jupyter-widgets/controls",
            "_model_module_version": "1.5.0",
            "_model_name": "FloatProgressModel",
            "_view_count": null,
            "_view_module": "@jupyter-widgets/controls",
            "_view_module_version": "1.5.0",
            "_view_name": "ProgressView",
            "bar_style": "success",
            "description": "",
            "description_tooltip": null,
            "layout": "IPY_MODEL_7bd80218d0fb45a9a3ecbe4070c84a48",
            "max": 451741507,
            "min": 0,
            "orientation": "horizontal",
            "style": "IPY_MODEL_1d3171e146f94cfb9ff08b074889d876",
            "value": 451741507
          }
        },
        "90816cbdcadb4c009ea4538c51949af7": {
          "model_module": "@jupyter-widgets/controls",
          "model_name": "HTMLModel",
          "model_module_version": "1.5.0",
          "state": {
            "_dom_classes": [],
            "_model_module": "@jupyter-widgets/controls",
            "_model_module_version": "1.5.0",
            "_model_name": "HTMLModel",
            "_view_count": null,
            "_view_module": "@jupyter-widgets/controls",
            "_view_module_version": "1.5.0",
            "_view_name": "HTMLView",
            "description": "",
            "description_tooltip": null,
            "layout": "IPY_MODEL_595cda118965459dba943fad7bfd3dd9",
            "placeholder": "​",
            "style": "IPY_MODEL_a2f6171434774c31bebc5e5c6057d405",
            "value": " 452M/452M [00:01&lt;00:00, 416MB/s]"
          }
        },
        "7a60e4ff50f2436a80f727effe37a013": {
          "model_module": "@jupyter-widgets/base",
          "model_name": "LayoutModel",
          "model_module_version": "1.2.0",
          "state": {
            "_model_module": "@jupyter-widgets/base",
            "_model_module_version": "1.2.0",
            "_model_name": "LayoutModel",
            "_view_count": null,
            "_view_module": "@jupyter-widgets/base",
            "_view_module_version": "1.2.0",
            "_view_name": "LayoutView",
            "align_content": null,
            "align_items": null,
            "align_self": null,
            "border": null,
            "bottom": null,
            "display": null,
            "flex": null,
            "flex_flow": null,
            "grid_area": null,
            "grid_auto_columns": null,
            "grid_auto_flow": null,
            "grid_auto_rows": null,
            "grid_column": null,
            "grid_gap": null,
            "grid_row": null,
            "grid_template_areas": null,
            "grid_template_columns": null,
            "grid_template_rows": null,
            "height": null,
            "justify_content": null,
            "justify_items": null,
            "left": null,
            "margin": null,
            "max_height": null,
            "max_width": null,
            "min_height": null,
            "min_width": null,
            "object_fit": null,
            "object_position": null,
            "order": null,
            "overflow": null,
            "overflow_x": null,
            "overflow_y": null,
            "padding": null,
            "right": null,
            "top": null,
            "visibility": null,
            "width": null
          }
        },
        "51963fe5da5240a6af7ce277a55330dd": {
          "model_module": "@jupyter-widgets/base",
          "model_name": "LayoutModel",
          "model_module_version": "1.2.0",
          "state": {
            "_model_module": "@jupyter-widgets/base",
            "_model_module_version": "1.2.0",
            "_model_name": "LayoutModel",
            "_view_count": null,
            "_view_module": "@jupyter-widgets/base",
            "_view_module_version": "1.2.0",
            "_view_name": "LayoutView",
            "align_content": null,
            "align_items": null,
            "align_self": null,
            "border": null,
            "bottom": null,
            "display": null,
            "flex": null,
            "flex_flow": null,
            "grid_area": null,
            "grid_auto_columns": null,
            "grid_auto_flow": null,
            "grid_auto_rows": null,
            "grid_column": null,
            "grid_gap": null,
            "grid_row": null,
            "grid_template_areas": null,
            "grid_template_columns": null,
            "grid_template_rows": null,
            "height": null,
            "justify_content": null,
            "justify_items": null,
            "left": null,
            "margin": null,
            "max_height": null,
            "max_width": null,
            "min_height": null,
            "min_width": null,
            "object_fit": null,
            "object_position": null,
            "order": null,
            "overflow": null,
            "overflow_x": null,
            "overflow_y": null,
            "padding": null,
            "right": null,
            "top": null,
            "visibility": null,
            "width": null
          }
        },
        "87374c671b664a069e0ef0b710e7e271": {
          "model_module": "@jupyter-widgets/controls",
          "model_name": "DescriptionStyleModel",
          "model_module_version": "1.5.0",
          "state": {
            "_model_module": "@jupyter-widgets/controls",
            "_model_module_version": "1.5.0",
            "_model_name": "DescriptionStyleModel",
            "_view_count": null,
            "_view_module": "@jupyter-widgets/base",
            "_view_module_version": "1.2.0",
            "_view_name": "StyleView",
            "description_width": ""
          }
        },
        "7bd80218d0fb45a9a3ecbe4070c84a48": {
          "model_module": "@jupyter-widgets/base",
          "model_name": "LayoutModel",
          "model_module_version": "1.2.0",
          "state": {
            "_model_module": "@jupyter-widgets/base",
            "_model_module_version": "1.2.0",
            "_model_name": "LayoutModel",
            "_view_count": null,
            "_view_module": "@jupyter-widgets/base",
            "_view_module_version": "1.2.0",
            "_view_name": "LayoutView",
            "align_content": null,
            "align_items": null,
            "align_self": null,
            "border": null,
            "bottom": null,
            "display": null,
            "flex": null,
            "flex_flow": null,
            "grid_area": null,
            "grid_auto_columns": null,
            "grid_auto_flow": null,
            "grid_auto_rows": null,
            "grid_column": null,
            "grid_gap": null,
            "grid_row": null,
            "grid_template_areas": null,
            "grid_template_columns": null,
            "grid_template_rows": null,
            "height": null,
            "justify_content": null,
            "justify_items": null,
            "left": null,
            "margin": null,
            "max_height": null,
            "max_width": null,
            "min_height": null,
            "min_width": null,
            "object_fit": null,
            "object_position": null,
            "order": null,
            "overflow": null,
            "overflow_x": null,
            "overflow_y": null,
            "padding": null,
            "right": null,
            "top": null,
            "visibility": null,
            "width": null
          }
        },
        "1d3171e146f94cfb9ff08b074889d876": {
          "model_module": "@jupyter-widgets/controls",
          "model_name": "ProgressStyleModel",
          "model_module_version": "1.5.0",
          "state": {
            "_model_module": "@jupyter-widgets/controls",
            "_model_module_version": "1.5.0",
            "_model_name": "ProgressStyleModel",
            "_view_count": null,
            "_view_module": "@jupyter-widgets/base",
            "_view_module_version": "1.2.0",
            "_view_name": "StyleView",
            "bar_color": null,
            "description_width": ""
          }
        },
        "595cda118965459dba943fad7bfd3dd9": {
          "model_module": "@jupyter-widgets/base",
          "model_name": "LayoutModel",
          "model_module_version": "1.2.0",
          "state": {
            "_model_module": "@jupyter-widgets/base",
            "_model_module_version": "1.2.0",
            "_model_name": "LayoutModel",
            "_view_count": null,
            "_view_module": "@jupyter-widgets/base",
            "_view_module_version": "1.2.0",
            "_view_name": "LayoutView",
            "align_content": null,
            "align_items": null,
            "align_self": null,
            "border": null,
            "bottom": null,
            "display": null,
            "flex": null,
            "flex_flow": null,
            "grid_area": null,
            "grid_auto_columns": null,
            "grid_auto_flow": null,
            "grid_auto_rows": null,
            "grid_column": null,
            "grid_gap": null,
            "grid_row": null,
            "grid_template_areas": null,
            "grid_template_columns": null,
            "grid_template_rows": null,
            "height": null,
            "justify_content": null,
            "justify_items": null,
            "left": null,
            "margin": null,
            "max_height": null,
            "max_width": null,
            "min_height": null,
            "min_width": null,
            "object_fit": null,
            "object_position": null,
            "order": null,
            "overflow": null,
            "overflow_x": null,
            "overflow_y": null,
            "padding": null,
            "right": null,
            "top": null,
            "visibility": null,
            "width": null
          }
        },
        "a2f6171434774c31bebc5e5c6057d405": {
          "model_module": "@jupyter-widgets/controls",
          "model_name": "DescriptionStyleModel",
          "model_module_version": "1.5.0",
          "state": {
            "_model_module": "@jupyter-widgets/controls",
            "_model_module_version": "1.5.0",
            "_model_name": "DescriptionStyleModel",
            "_view_count": null,
            "_view_module": "@jupyter-widgets/base",
            "_view_module_version": "1.2.0",
            "_view_name": "StyleView",
            "description_width": ""
          }
        },
        "ee55ef32880e497590db94ae231f1afb": {
          "model_module": "@jupyter-widgets/controls",
          "model_name": "HBoxModel",
          "model_module_version": "1.5.0",
          "state": {
            "_dom_classes": [],
            "_model_module": "@jupyter-widgets/controls",
            "_model_module_version": "1.5.0",
            "_model_name": "HBoxModel",
            "_view_count": null,
            "_view_module": "@jupyter-widgets/controls",
            "_view_module_version": "1.5.0",
            "_view_name": "HBoxView",
            "box_style": "",
            "children": [
              "IPY_MODEL_56c8427dbffb478da00a6a937c5ed057",
              "IPY_MODEL_eb9ce5d885e14331ae09489350186f43",
              "IPY_MODEL_a608cf830e964ddcb184c214e25e87b7"
            ],
            "layout": "IPY_MODEL_f8f22ecf2af14966804928fbf97a7fbc"
          }
        },
        "56c8427dbffb478da00a6a937c5ed057": {
          "model_module": "@jupyter-widgets/controls",
          "model_name": "HTMLModel",
          "model_module_version": "1.5.0",
          "state": {
            "_dom_classes": [],
            "_model_module": "@jupyter-widgets/controls",
            "_model_module_version": "1.5.0",
            "_model_name": "HTMLModel",
            "_view_count": null,
            "_view_module": "@jupyter-widgets/controls",
            "_view_module_version": "1.5.0",
            "_view_name": "HTMLView",
            "description": "",
            "description_tooltip": null,
            "layout": "IPY_MODEL_152a9dbaed9c4cfc8edd9585e9360b8c",
            "placeholder": "​",
            "style": "IPY_MODEL_5f0ae39739034cfead0aef2261cdd0e7",
            "value": "Processing Files (2 / 2)      : 100%"
          }
        },
        "eb9ce5d885e14331ae09489350186f43": {
          "model_module": "@jupyter-widgets/controls",
          "model_name": "FloatProgressModel",
          "model_module_version": "1.5.0",
          "state": {
            "_dom_classes": [],
            "_model_module": "@jupyter-widgets/controls",
            "_model_module_version": "1.5.0",
            "_model_name": "FloatProgressModel",
            "_view_count": null,
            "_view_module": "@jupyter-widgets/controls",
            "_view_module_version": "1.5.0",
            "_view_name": "ProgressView",
            "bar_style": "success",
            "description": "",
            "description_tooltip": null,
            "layout": "IPY_MODEL_6528a80fe71c4baebebaea07c6d0047e",
            "max": 1,
            "min": 0,
            "orientation": "horizontal",
            "style": "IPY_MODEL_dd0c720aa21843bfb375f27b852e6b2b",
            "value": 1
          }
        },
        "a608cf830e964ddcb184c214e25e87b7": {
          "model_module": "@jupyter-widgets/controls",
          "model_name": "HTMLModel",
          "model_module_version": "1.5.0",
          "state": {
            "_dom_classes": [],
            "_model_module": "@jupyter-widgets/controls",
            "_model_module_version": "1.5.0",
            "_model_name": "HTMLModel",
            "_view_count": null,
            "_view_module": "@jupyter-widgets/controls",
            "_view_module_version": "1.5.0",
            "_view_name": "HTMLView",
            "description": "",
            "description_tooltip": null,
            "layout": "IPY_MODEL_bb9d8dd4c8eb4a73855b24671dad6ed5",
            "placeholder": "​",
            "style": "IPY_MODEL_964389b2d8bd4acf952b08b8bee92b08",
            "value": "  452MB /  452MB, 12.0MB/s  "
          }
        },
        "f8f22ecf2af14966804928fbf97a7fbc": {
          "model_module": "@jupyter-widgets/base",
          "model_name": "LayoutModel",
          "model_module_version": "1.2.0",
          "state": {
            "_model_module": "@jupyter-widgets/base",
            "_model_module_version": "1.2.0",
            "_model_name": "LayoutModel",
            "_view_count": null,
            "_view_module": "@jupyter-widgets/base",
            "_view_module_version": "1.2.0",
            "_view_name": "LayoutView",
            "align_content": null,
            "align_items": null,
            "align_self": null,
            "border": null,
            "bottom": null,
            "display": null,
            "flex": null,
            "flex_flow": null,
            "grid_area": null,
            "grid_auto_columns": null,
            "grid_auto_flow": null,
            "grid_auto_rows": null,
            "grid_column": null,
            "grid_gap": null,
            "grid_row": null,
            "grid_template_areas": null,
            "grid_template_columns": null,
            "grid_template_rows": null,
            "height": null,
            "justify_content": null,
            "justify_items": null,
            "left": null,
            "margin": null,
            "max_height": null,
            "max_width": null,
            "min_height": null,
            "min_width": null,
            "object_fit": null,
            "object_position": null,
            "order": null,
            "overflow": null,
            "overflow_x": null,
            "overflow_y": null,
            "padding": null,
            "right": null,
            "top": null,
            "visibility": null,
            "width": null
          }
        },
        "152a9dbaed9c4cfc8edd9585e9360b8c": {
          "model_module": "@jupyter-widgets/base",
          "model_name": "LayoutModel",
          "model_module_version": "1.2.0",
          "state": {
            "_model_module": "@jupyter-widgets/base",
            "_model_module_version": "1.2.0",
            "_model_name": "LayoutModel",
            "_view_count": null,
            "_view_module": "@jupyter-widgets/base",
            "_view_module_version": "1.2.0",
            "_view_name": "LayoutView",
            "align_content": null,
            "align_items": null,
            "align_self": null,
            "border": null,
            "bottom": null,
            "display": null,
            "flex": null,
            "flex_flow": null,
            "grid_area": null,
            "grid_auto_columns": null,
            "grid_auto_flow": null,
            "grid_auto_rows": null,
            "grid_column": null,
            "grid_gap": null,
            "grid_row": null,
            "grid_template_areas": null,
            "grid_template_columns": null,
            "grid_template_rows": null,
            "height": null,
            "justify_content": null,
            "justify_items": null,
            "left": null,
            "margin": null,
            "max_height": null,
            "max_width": null,
            "min_height": null,
            "min_width": null,
            "object_fit": null,
            "object_position": null,
            "order": null,
            "overflow": null,
            "overflow_x": null,
            "overflow_y": null,
            "padding": null,
            "right": null,
            "top": null,
            "visibility": null,
            "width": null
          }
        },
        "5f0ae39739034cfead0aef2261cdd0e7": {
          "model_module": "@jupyter-widgets/controls",
          "model_name": "DescriptionStyleModel",
          "model_module_version": "1.5.0",
          "state": {
            "_model_module": "@jupyter-widgets/controls",
            "_model_module_version": "1.5.0",
            "_model_name": "DescriptionStyleModel",
            "_view_count": null,
            "_view_module": "@jupyter-widgets/base",
            "_view_module_version": "1.2.0",
            "_view_name": "StyleView",
            "description_width": ""
          }
        },
        "6528a80fe71c4baebebaea07c6d0047e": {
          "model_module": "@jupyter-widgets/base",
          "model_name": "LayoutModel",
          "model_module_version": "1.2.0",
          "state": {
            "_model_module": "@jupyter-widgets/base",
            "_model_module_version": "1.2.0",
            "_model_name": "LayoutModel",
            "_view_count": null,
            "_view_module": "@jupyter-widgets/base",
            "_view_module_version": "1.2.0",
            "_view_name": "LayoutView",
            "align_content": null,
            "align_items": null,
            "align_self": null,
            "border": null,
            "bottom": null,
            "display": null,
            "flex": null,
            "flex_flow": null,
            "grid_area": null,
            "grid_auto_columns": null,
            "grid_auto_flow": null,
            "grid_auto_rows": null,
            "grid_column": null,
            "grid_gap": null,
            "grid_row": null,
            "grid_template_areas": null,
            "grid_template_columns": null,
            "grid_template_rows": null,
            "height": null,
            "justify_content": null,
            "justify_items": null,
            "left": null,
            "margin": null,
            "max_height": null,
            "max_width": null,
            "min_height": null,
            "min_width": null,
            "object_fit": null,
            "object_position": null,
            "order": null,
            "overflow": null,
            "overflow_x": null,
            "overflow_y": null,
            "padding": null,
            "right": null,
            "top": null,
            "visibility": null,
            "width": "20px"
          }
        },
        "dd0c720aa21843bfb375f27b852e6b2b": {
          "model_module": "@jupyter-widgets/controls",
          "model_name": "ProgressStyleModel",
          "model_module_version": "1.5.0",
          "state": {
            "_model_module": "@jupyter-widgets/controls",
            "_model_module_version": "1.5.0",
            "_model_name": "ProgressStyleModel",
            "_view_count": null,
            "_view_module": "@jupyter-widgets/base",
            "_view_module_version": "1.2.0",
            "_view_name": "StyleView",
            "bar_color": null,
            "description_width": ""
          }
        },
        "bb9d8dd4c8eb4a73855b24671dad6ed5": {
          "model_module": "@jupyter-widgets/base",
          "model_name": "LayoutModel",
          "model_module_version": "1.2.0",
          "state": {
            "_model_module": "@jupyter-widgets/base",
            "_model_module_version": "1.2.0",
            "_model_name": "LayoutModel",
            "_view_count": null,
            "_view_module": "@jupyter-widgets/base",
            "_view_module_version": "1.2.0",
            "_view_name": "LayoutView",
            "align_content": null,
            "align_items": null,
            "align_self": null,
            "border": null,
            "bottom": null,
            "display": null,
            "flex": null,
            "flex_flow": null,
            "grid_area": null,
            "grid_auto_columns": null,
            "grid_auto_flow": null,
            "grid_auto_rows": null,
            "grid_column": null,
            "grid_gap": null,
            "grid_row": null,
            "grid_template_areas": null,
            "grid_template_columns": null,
            "grid_template_rows": null,
            "height": null,
            "justify_content": null,
            "justify_items": null,
            "left": null,
            "margin": null,
            "max_height": null,
            "max_width": null,
            "min_height": null,
            "min_width": null,
            "object_fit": null,
            "object_position": null,
            "order": null,
            "overflow": null,
            "overflow_x": null,
            "overflow_y": null,
            "padding": null,
            "right": null,
            "top": null,
            "visibility": null,
            "width": null
          }
        },
        "964389b2d8bd4acf952b08b8bee92b08": {
          "model_module": "@jupyter-widgets/controls",
          "model_name": "DescriptionStyleModel",
          "model_module_version": "1.5.0",
          "state": {
            "_model_module": "@jupyter-widgets/controls",
            "_model_module_version": "1.5.0",
            "_model_name": "DescriptionStyleModel",
            "_view_count": null,
            "_view_module": "@jupyter-widgets/base",
            "_view_module_version": "1.2.0",
            "_view_name": "StyleView",
            "description_width": ""
          }
        },
        "5b845610dfed4bdebecbd8d1785190cc": {
          "model_module": "@jupyter-widgets/controls",
          "model_name": "HBoxModel",
          "model_module_version": "1.5.0",
          "state": {
            "_dom_classes": [],
            "_model_module": "@jupyter-widgets/controls",
            "_model_module_version": "1.5.0",
            "_model_name": "HBoxModel",
            "_view_count": null,
            "_view_module": "@jupyter-widgets/controls",
            "_view_module_version": "1.5.0",
            "_view_name": "HBoxView",
            "box_style": "",
            "children": [
              "IPY_MODEL_9c2392ecd876473f923ba6720a880145",
              "IPY_MODEL_0b6057d38d004078b0a4050bad3b1f6b",
              "IPY_MODEL_ec48085713684f3083f8469025495181"
            ],
            "layout": "IPY_MODEL_c7189db840e1473b89780c2602136f05"
          }
        },
        "9c2392ecd876473f923ba6720a880145": {
          "model_module": "@jupyter-widgets/controls",
          "model_name": "HTMLModel",
          "model_module_version": "1.5.0",
          "state": {
            "_dom_classes": [],
            "_model_module": "@jupyter-widgets/controls",
            "_model_module_version": "1.5.0",
            "_model_name": "HTMLModel",
            "_view_count": null,
            "_view_module": "@jupyter-widgets/controls",
            "_view_module_version": "1.5.0",
            "_view_name": "HTMLView",
            "description": "",
            "description_tooltip": null,
            "layout": "IPY_MODEL_537e3b5bed81408b81736f99098517aa",
            "placeholder": "​",
            "style": "IPY_MODEL_918a1c45f26540c9ae7287327541fab3",
            "value": "New Data Upload               : 100%"
          }
        },
        "0b6057d38d004078b0a4050bad3b1f6b": {
          "model_module": "@jupyter-widgets/controls",
          "model_name": "FloatProgressModel",
          "model_module_version": "1.5.0",
          "state": {
            "_dom_classes": [],
            "_model_module": "@jupyter-widgets/controls",
            "_model_module_version": "1.5.0",
            "_model_name": "FloatProgressModel",
            "_view_count": null,
            "_view_module": "@jupyter-widgets/controls",
            "_view_module_version": "1.5.0",
            "_view_name": "ProgressView",
            "bar_style": "success",
            "description": "",
            "description_tooltip": null,
            "layout": "IPY_MODEL_e0b1af76c4004746afd466c328b1cebd",
            "max": 1,
            "min": 0,
            "orientation": "horizontal",
            "style": "IPY_MODEL_82daf104802d41a698e1eddb83b53c94",
            "value": 1
          }
        },
        "ec48085713684f3083f8469025495181": {
          "model_module": "@jupyter-widgets/controls",
          "model_name": "HTMLModel",
          "model_module_version": "1.5.0",
          "state": {
            "_dom_classes": [],
            "_model_module": "@jupyter-widgets/controls",
            "_model_module_version": "1.5.0",
            "_model_name": "HTMLModel",
            "_view_count": null,
            "_view_module": "@jupyter-widgets/controls",
            "_view_module_version": "1.5.0",
            "_view_name": "HTMLView",
            "description": "",
            "description_tooltip": null,
            "layout": "IPY_MODEL_bf0ede25f0cf4329842f43402e2d6b7f",
            "placeholder": "​",
            "style": "IPY_MODEL_b52112b9b9a24f1d87c39de62574210b",
            "value": "  452MB /  452MB, 12.0MB/s  "
          }
        },
        "c7189db840e1473b89780c2602136f05": {
          "model_module": "@jupyter-widgets/base",
          "model_name": "LayoutModel",
          "model_module_version": "1.2.0",
          "state": {
            "_model_module": "@jupyter-widgets/base",
            "_model_module_version": "1.2.0",
            "_model_name": "LayoutModel",
            "_view_count": null,
            "_view_module": "@jupyter-widgets/base",
            "_view_module_version": "1.2.0",
            "_view_name": "LayoutView",
            "align_content": null,
            "align_items": null,
            "align_self": null,
            "border": null,
            "bottom": null,
            "display": null,
            "flex": null,
            "flex_flow": null,
            "grid_area": null,
            "grid_auto_columns": null,
            "grid_auto_flow": null,
            "grid_auto_rows": null,
            "grid_column": null,
            "grid_gap": null,
            "grid_row": null,
            "grid_template_areas": null,
            "grid_template_columns": null,
            "grid_template_rows": null,
            "height": null,
            "justify_content": null,
            "justify_items": null,
            "left": null,
            "margin": null,
            "max_height": null,
            "max_width": null,
            "min_height": null,
            "min_width": null,
            "object_fit": null,
            "object_position": null,
            "order": null,
            "overflow": null,
            "overflow_x": null,
            "overflow_y": null,
            "padding": null,
            "right": null,
            "top": null,
            "visibility": null,
            "width": null
          }
        },
        "537e3b5bed81408b81736f99098517aa": {
          "model_module": "@jupyter-widgets/base",
          "model_name": "LayoutModel",
          "model_module_version": "1.2.0",
          "state": {
            "_model_module": "@jupyter-widgets/base",
            "_model_module_version": "1.2.0",
            "_model_name": "LayoutModel",
            "_view_count": null,
            "_view_module": "@jupyter-widgets/base",
            "_view_module_version": "1.2.0",
            "_view_name": "LayoutView",
            "align_content": null,
            "align_items": null,
            "align_self": null,
            "border": null,
            "bottom": null,
            "display": null,
            "flex": null,
            "flex_flow": null,
            "grid_area": null,
            "grid_auto_columns": null,
            "grid_auto_flow": null,
            "grid_auto_rows": null,
            "grid_column": null,
            "grid_gap": null,
            "grid_row": null,
            "grid_template_areas": null,
            "grid_template_columns": null,
            "grid_template_rows": null,
            "height": null,
            "justify_content": null,
            "justify_items": null,
            "left": null,
            "margin": null,
            "max_height": null,
            "max_width": null,
            "min_height": null,
            "min_width": null,
            "object_fit": null,
            "object_position": null,
            "order": null,
            "overflow": null,
            "overflow_x": null,
            "overflow_y": null,
            "padding": null,
            "right": null,
            "top": null,
            "visibility": null,
            "width": null
          }
        },
        "918a1c45f26540c9ae7287327541fab3": {
          "model_module": "@jupyter-widgets/controls",
          "model_name": "DescriptionStyleModel",
          "model_module_version": "1.5.0",
          "state": {
            "_model_module": "@jupyter-widgets/controls",
            "_model_module_version": "1.5.0",
            "_model_name": "DescriptionStyleModel",
            "_view_count": null,
            "_view_module": "@jupyter-widgets/base",
            "_view_module_version": "1.2.0",
            "_view_name": "StyleView",
            "description_width": ""
          }
        },
        "e0b1af76c4004746afd466c328b1cebd": {
          "model_module": "@jupyter-widgets/base",
          "model_name": "LayoutModel",
          "model_module_version": "1.2.0",
          "state": {
            "_model_module": "@jupyter-widgets/base",
            "_model_module_version": "1.2.0",
            "_model_name": "LayoutModel",
            "_view_count": null,
            "_view_module": "@jupyter-widgets/base",
            "_view_module_version": "1.2.0",
            "_view_name": "LayoutView",
            "align_content": null,
            "align_items": null,
            "align_self": null,
            "border": null,
            "bottom": null,
            "display": null,
            "flex": null,
            "flex_flow": null,
            "grid_area": null,
            "grid_auto_columns": null,
            "grid_auto_flow": null,
            "grid_auto_rows": null,
            "grid_column": null,
            "grid_gap": null,
            "grid_row": null,
            "grid_template_areas": null,
            "grid_template_columns": null,
            "grid_template_rows": null,
            "height": null,
            "justify_content": null,
            "justify_items": null,
            "left": null,
            "margin": null,
            "max_height": null,
            "max_width": null,
            "min_height": null,
            "min_width": null,
            "object_fit": null,
            "object_position": null,
            "order": null,
            "overflow": null,
            "overflow_x": null,
            "overflow_y": null,
            "padding": null,
            "right": null,
            "top": null,
            "visibility": null,
            "width": "20px"
          }
        },
        "82daf104802d41a698e1eddb83b53c94": {
          "model_module": "@jupyter-widgets/controls",
          "model_name": "ProgressStyleModel",
          "model_module_version": "1.5.0",
          "state": {
            "_model_module": "@jupyter-widgets/controls",
            "_model_module_version": "1.5.0",
            "_model_name": "ProgressStyleModel",
            "_view_count": null,
            "_view_module": "@jupyter-widgets/base",
            "_view_module_version": "1.2.0",
            "_view_name": "StyleView",
            "bar_color": null,
            "description_width": ""
          }
        },
        "bf0ede25f0cf4329842f43402e2d6b7f": {
          "model_module": "@jupyter-widgets/base",
          "model_name": "LayoutModel",
          "model_module_version": "1.2.0",
          "state": {
            "_model_module": "@jupyter-widgets/base",
            "_model_module_version": "1.2.0",
            "_model_name": "LayoutModel",
            "_view_count": null,
            "_view_module": "@jupyter-widgets/base",
            "_view_module_version": "1.2.0",
            "_view_name": "LayoutView",
            "align_content": null,
            "align_items": null,
            "align_self": null,
            "border": null,
            "bottom": null,
            "display": null,
            "flex": null,
            "flex_flow": null,
            "grid_area": null,
            "grid_auto_columns": null,
            "grid_auto_flow": null,
            "grid_auto_rows": null,
            "grid_column": null,
            "grid_gap": null,
            "grid_row": null,
            "grid_template_areas": null,
            "grid_template_columns": null,
            "grid_template_rows": null,
            "height": null,
            "justify_content": null,
            "justify_items": null,
            "left": null,
            "margin": null,
            "max_height": null,
            "max_width": null,
            "min_height": null,
            "min_width": null,
            "object_fit": null,
            "object_position": null,
            "order": null,
            "overflow": null,
            "overflow_x": null,
            "overflow_y": null,
            "padding": null,
            "right": null,
            "top": null,
            "visibility": null,
            "width": null
          }
        },
        "b52112b9b9a24f1d87c39de62574210b": {
          "model_module": "@jupyter-widgets/controls",
          "model_name": "DescriptionStyleModel",
          "model_module_version": "1.5.0",
          "state": {
            "_model_module": "@jupyter-widgets/controls",
            "_model_module_version": "1.5.0",
            "_model_name": "DescriptionStyleModel",
            "_view_count": null,
            "_view_module": "@jupyter-widgets/base",
            "_view_module_version": "1.2.0",
            "_view_name": "StyleView",
            "description_width": ""
          }
        },
        "c524a2f8e633478ab1c80ad2279633f0": {
          "model_module": "@jupyter-widgets/controls",
          "model_name": "HBoxModel",
          "model_module_version": "1.5.0",
          "state": {
            "_dom_classes": [],
            "_model_module": "@jupyter-widgets/controls",
            "_model_module_version": "1.5.0",
            "_model_name": "HBoxModel",
            "_view_count": null,
            "_view_module": "@jupyter-widgets/controls",
            "_view_module_version": "1.5.0",
            "_view_name": "HBoxView",
            "box_style": "",
            "children": [
              "IPY_MODEL_c2aa42a6a6ae4996b253b65bada97de8",
              "IPY_MODEL_0727de9ae19641f4afd132b8fd023f07",
              "IPY_MODEL_3ec747803b864ea6835c429b84892a87"
            ],
            "layout": "IPY_MODEL_6a891842351f4e30b3adcb77428e2356"
          }
        },
        "c2aa42a6a6ae4996b253b65bada97de8": {
          "model_module": "@jupyter-widgets/controls",
          "model_name": "HTMLModel",
          "model_module_version": "1.5.0",
          "state": {
            "_dom_classes": [],
            "_model_module": "@jupyter-widgets/controls",
            "_model_module_version": "1.5.0",
            "_model_name": "HTMLModel",
            "_view_count": null,
            "_view_module": "@jupyter-widgets/controls",
            "_view_module_version": "1.5.0",
            "_view_name": "HTMLView",
            "description": "",
            "description_tooltip": null,
            "layout": "IPY_MODEL_63a69cc3c61f4300b819d191e3cd43bf",
            "placeholder": "​",
            "style": "IPY_MODEL_f8c4d50c041c40839ae99c7fc8d62364",
            "value": "  ...y-model/model.safetensors: 100%"
          }
        },
        "0727de9ae19641f4afd132b8fd023f07": {
          "model_module": "@jupyter-widgets/controls",
          "model_name": "FloatProgressModel",
          "model_module_version": "1.5.0",
          "state": {
            "_dom_classes": [],
            "_model_module": "@jupyter-widgets/controls",
            "_model_module_version": "1.5.0",
            "_model_name": "FloatProgressModel",
            "_view_count": null,
            "_view_module": "@jupyter-widgets/controls",
            "_view_module_version": "1.5.0",
            "_view_name": "ProgressView",
            "bar_style": "success",
            "description": "",
            "description_tooltip": null,
            "layout": "IPY_MODEL_0fc5da01dbc144a5b5f5f1d385ec920e",
            "max": 451731052,
            "min": 0,
            "orientation": "horizontal",
            "style": "IPY_MODEL_784a41eb054e43058c5c55311ff994fa",
            "value": 451731052
          }
        },
        "3ec747803b864ea6835c429b84892a87": {
          "model_module": "@jupyter-widgets/controls",
          "model_name": "HTMLModel",
          "model_module_version": "1.5.0",
          "state": {
            "_dom_classes": [],
            "_model_module": "@jupyter-widgets/controls",
            "_model_module_version": "1.5.0",
            "_model_name": "HTMLModel",
            "_view_count": null,
            "_view_module": "@jupyter-widgets/controls",
            "_view_module_version": "1.5.0",
            "_view_name": "HTMLView",
            "description": "",
            "description_tooltip": null,
            "layout": "IPY_MODEL_00f3b6f0e50046618fb46b35d5355a5b",
            "placeholder": "​",
            "style": "IPY_MODEL_cc43328f7f1d48c8ad496b37711e9cdc",
            "value": "  452MB /  452MB            "
          }
        },
        "6a891842351f4e30b3adcb77428e2356": {
          "model_module": "@jupyter-widgets/base",
          "model_name": "LayoutModel",
          "model_module_version": "1.2.0",
          "state": {
            "_model_module": "@jupyter-widgets/base",
            "_model_module_version": "1.2.0",
            "_model_name": "LayoutModel",
            "_view_count": null,
            "_view_module": "@jupyter-widgets/base",
            "_view_module_version": "1.2.0",
            "_view_name": "LayoutView",
            "align_content": null,
            "align_items": null,
            "align_self": null,
            "border": null,
            "bottom": null,
            "display": null,
            "flex": null,
            "flex_flow": null,
            "grid_area": null,
            "grid_auto_columns": null,
            "grid_auto_flow": null,
            "grid_auto_rows": null,
            "grid_column": null,
            "grid_gap": null,
            "grid_row": null,
            "grid_template_areas": null,
            "grid_template_columns": null,
            "grid_template_rows": null,
            "height": null,
            "justify_content": null,
            "justify_items": null,
            "left": null,
            "margin": null,
            "max_height": null,
            "max_width": null,
            "min_height": null,
            "min_width": null,
            "object_fit": null,
            "object_position": null,
            "order": null,
            "overflow": null,
            "overflow_x": null,
            "overflow_y": null,
            "padding": null,
            "right": null,
            "top": null,
            "visibility": null,
            "width": null
          }
        },
        "63a69cc3c61f4300b819d191e3cd43bf": {
          "model_module": "@jupyter-widgets/base",
          "model_name": "LayoutModel",
          "model_module_version": "1.2.0",
          "state": {
            "_model_module": "@jupyter-widgets/base",
            "_model_module_version": "1.2.0",
            "_model_name": "LayoutModel",
            "_view_count": null,
            "_view_module": "@jupyter-widgets/base",
            "_view_module_version": "1.2.0",
            "_view_name": "LayoutView",
            "align_content": null,
            "align_items": null,
            "align_self": null,
            "border": null,
            "bottom": null,
            "display": null,
            "flex": null,
            "flex_flow": null,
            "grid_area": null,
            "grid_auto_columns": null,
            "grid_auto_flow": null,
            "grid_auto_rows": null,
            "grid_column": null,
            "grid_gap": null,
            "grid_row": null,
            "grid_template_areas": null,
            "grid_template_columns": null,
            "grid_template_rows": null,
            "height": null,
            "justify_content": null,
            "justify_items": null,
            "left": null,
            "margin": null,
            "max_height": null,
            "max_width": null,
            "min_height": null,
            "min_width": null,
            "object_fit": null,
            "object_position": null,
            "order": null,
            "overflow": null,
            "overflow_x": null,
            "overflow_y": null,
            "padding": null,
            "right": null,
            "top": null,
            "visibility": null,
            "width": null
          }
        },
        "f8c4d50c041c40839ae99c7fc8d62364": {
          "model_module": "@jupyter-widgets/controls",
          "model_name": "DescriptionStyleModel",
          "model_module_version": "1.5.0",
          "state": {
            "_model_module": "@jupyter-widgets/controls",
            "_model_module_version": "1.5.0",
            "_model_name": "DescriptionStyleModel",
            "_view_count": null,
            "_view_module": "@jupyter-widgets/base",
            "_view_module_version": "1.2.0",
            "_view_name": "StyleView",
            "description_width": ""
          }
        },
        "0fc5da01dbc144a5b5f5f1d385ec920e": {
          "model_module": "@jupyter-widgets/base",
          "model_name": "LayoutModel",
          "model_module_version": "1.2.0",
          "state": {
            "_model_module": "@jupyter-widgets/base",
            "_model_module_version": "1.2.0",
            "_model_name": "LayoutModel",
            "_view_count": null,
            "_view_module": "@jupyter-widgets/base",
            "_view_module_version": "1.2.0",
            "_view_name": "LayoutView",
            "align_content": null,
            "align_items": null,
            "align_self": null,
            "border": null,
            "bottom": null,
            "display": null,
            "flex": null,
            "flex_flow": null,
            "grid_area": null,
            "grid_auto_columns": null,
            "grid_auto_flow": null,
            "grid_auto_rows": null,
            "grid_column": null,
            "grid_gap": null,
            "grid_row": null,
            "grid_template_areas": null,
            "grid_template_columns": null,
            "grid_template_rows": null,
            "height": null,
            "justify_content": null,
            "justify_items": null,
            "left": null,
            "margin": null,
            "max_height": null,
            "max_width": null,
            "min_height": null,
            "min_width": null,
            "object_fit": null,
            "object_position": null,
            "order": null,
            "overflow": null,
            "overflow_x": null,
            "overflow_y": null,
            "padding": null,
            "right": null,
            "top": null,
            "visibility": null,
            "width": null
          }
        },
        "784a41eb054e43058c5c55311ff994fa": {
          "model_module": "@jupyter-widgets/controls",
          "model_name": "ProgressStyleModel",
          "model_module_version": "1.5.0",
          "state": {
            "_model_module": "@jupyter-widgets/controls",
            "_model_module_version": "1.5.0",
            "_model_name": "ProgressStyleModel",
            "_view_count": null,
            "_view_module": "@jupyter-widgets/base",
            "_view_module_version": "1.2.0",
            "_view_name": "StyleView",
            "bar_color": null,
            "description_width": ""
          }
        },
        "00f3b6f0e50046618fb46b35d5355a5b": {
          "model_module": "@jupyter-widgets/base",
          "model_name": "LayoutModel",
          "model_module_version": "1.2.0",
          "state": {
            "_model_module": "@jupyter-widgets/base",
            "_model_module_version": "1.2.0",
            "_model_name": "LayoutModel",
            "_view_count": null,
            "_view_module": "@jupyter-widgets/base",
            "_view_module_version": "1.2.0",
            "_view_name": "LayoutView",
            "align_content": null,
            "align_items": null,
            "align_self": null,
            "border": null,
            "bottom": null,
            "display": null,
            "flex": null,
            "flex_flow": null,
            "grid_area": null,
            "grid_auto_columns": null,
            "grid_auto_flow": null,
            "grid_auto_rows": null,
            "grid_column": null,
            "grid_gap": null,
            "grid_row": null,
            "grid_template_areas": null,
            "grid_template_columns": null,
            "grid_template_rows": null,
            "height": null,
            "justify_content": null,
            "justify_items": null,
            "left": null,
            "margin": null,
            "max_height": null,
            "max_width": null,
            "min_height": null,
            "min_width": null,
            "object_fit": null,
            "object_position": null,
            "order": null,
            "overflow": null,
            "overflow_x": null,
            "overflow_y": null,
            "padding": null,
            "right": null,
            "top": null,
            "visibility": null,
            "width": null
          }
        },
        "cc43328f7f1d48c8ad496b37711e9cdc": {
          "model_module": "@jupyter-widgets/controls",
          "model_name": "DescriptionStyleModel",
          "model_module_version": "1.5.0",
          "state": {
            "_model_module": "@jupyter-widgets/controls",
            "_model_module_version": "1.5.0",
            "_model_name": "DescriptionStyleModel",
            "_view_count": null,
            "_view_module": "@jupyter-widgets/base",
            "_view_module_version": "1.2.0",
            "_view_name": "StyleView",
            "description_width": ""
          }
        },
        "d72092fe0d7a49209fd2d733266af0ec": {
          "model_module": "@jupyter-widgets/controls",
          "model_name": "HBoxModel",
          "model_module_version": "1.5.0",
          "state": {
            "_dom_classes": [],
            "_model_module": "@jupyter-widgets/controls",
            "_model_module_version": "1.5.0",
            "_model_name": "HBoxModel",
            "_view_count": null,
            "_view_module": "@jupyter-widgets/controls",
            "_view_module_version": "1.5.0",
            "_view_name": "HBoxView",
            "box_style": "",
            "children": [
              "IPY_MODEL_cf7308a6658f40cc8ad0e398c1f4692a",
              "IPY_MODEL_7f086ebba29f4cc6ab3831dac49e3bca",
              "IPY_MODEL_08a74e76cf4346adbaad9e4d09321389"
            ],
            "layout": "IPY_MODEL_ae4d847a9d174d089b52135135716430"
          }
        },
        "cf7308a6658f40cc8ad0e398c1f4692a": {
          "model_module": "@jupyter-widgets/controls",
          "model_name": "HTMLModel",
          "model_module_version": "1.5.0",
          "state": {
            "_dom_classes": [],
            "_model_module": "@jupyter-widgets/controls",
            "_model_module_version": "1.5.0",
            "_model_name": "HTMLModel",
            "_view_count": null,
            "_view_module": "@jupyter-widgets/controls",
            "_view_module_version": "1.5.0",
            "_view_name": "HTMLView",
            "description": "",
            "description_tooltip": null,
            "layout": "IPY_MODEL_46069a6665e64e83ae138bafe45808e2",
            "placeholder": "​",
            "style": "IPY_MODEL_c1420875b13b4554be9215102d2accd8",
            "value": "  ...y-model/training_args.bin: 100%"
          }
        },
        "7f086ebba29f4cc6ab3831dac49e3bca": {
          "model_module": "@jupyter-widgets/controls",
          "model_name": "FloatProgressModel",
          "model_module_version": "1.5.0",
          "state": {
            "_dom_classes": [],
            "_model_module": "@jupyter-widgets/controls",
            "_model_module_version": "1.5.0",
            "_model_name": "FloatProgressModel",
            "_view_count": null,
            "_view_module": "@jupyter-widgets/controls",
            "_view_module_version": "1.5.0",
            "_view_name": "ProgressView",
            "bar_style": "success",
            "description": "",
            "description_tooltip": null,
            "layout": "IPY_MODEL_5e1dcc0c2d994dacad2ed569a3321583",
            "max": 5841,
            "min": 0,
            "orientation": "horizontal",
            "style": "IPY_MODEL_e387290b382b4909bc0915e0189f53e3",
            "value": 5841
          }
        },
        "08a74e76cf4346adbaad9e4d09321389": {
          "model_module": "@jupyter-widgets/controls",
          "model_name": "HTMLModel",
          "model_module_version": "1.5.0",
          "state": {
            "_dom_classes": [],
            "_model_module": "@jupyter-widgets/controls",
            "_model_module_version": "1.5.0",
            "_model_name": "HTMLModel",
            "_view_count": null,
            "_view_module": "@jupyter-widgets/controls",
            "_view_module_version": "1.5.0",
            "_view_name": "HTMLView",
            "description": "",
            "description_tooltip": null,
            "layout": "IPY_MODEL_a9c2fe49ee8744a4af79b2a0937d1398",
            "placeholder": "​",
            "style": "IPY_MODEL_d8f5e6778e1c471a98c6b3950f8b1a7f",
            "value": " 5.84kB / 5.84kB            "
          }
        },
        "ae4d847a9d174d089b52135135716430": {
          "model_module": "@jupyter-widgets/base",
          "model_name": "LayoutModel",
          "model_module_version": "1.2.0",
          "state": {
            "_model_module": "@jupyter-widgets/base",
            "_model_module_version": "1.2.0",
            "_model_name": "LayoutModel",
            "_view_count": null,
            "_view_module": "@jupyter-widgets/base",
            "_view_module_version": "1.2.0",
            "_view_name": "LayoutView",
            "align_content": null,
            "align_items": null,
            "align_self": null,
            "border": null,
            "bottom": null,
            "display": null,
            "flex": null,
            "flex_flow": null,
            "grid_area": null,
            "grid_auto_columns": null,
            "grid_auto_flow": null,
            "grid_auto_rows": null,
            "grid_column": null,
            "grid_gap": null,
            "grid_row": null,
            "grid_template_areas": null,
            "grid_template_columns": null,
            "grid_template_rows": null,
            "height": null,
            "justify_content": null,
            "justify_items": null,
            "left": null,
            "margin": null,
            "max_height": null,
            "max_width": null,
            "min_height": null,
            "min_width": null,
            "object_fit": null,
            "object_position": null,
            "order": null,
            "overflow": null,
            "overflow_x": null,
            "overflow_y": null,
            "padding": null,
            "right": null,
            "top": null,
            "visibility": null,
            "width": null
          }
        },
        "46069a6665e64e83ae138bafe45808e2": {
          "model_module": "@jupyter-widgets/base",
          "model_name": "LayoutModel",
          "model_module_version": "1.2.0",
          "state": {
            "_model_module": "@jupyter-widgets/base",
            "_model_module_version": "1.2.0",
            "_model_name": "LayoutModel",
            "_view_count": null,
            "_view_module": "@jupyter-widgets/base",
            "_view_module_version": "1.2.0",
            "_view_name": "LayoutView",
            "align_content": null,
            "align_items": null,
            "align_self": null,
            "border": null,
            "bottom": null,
            "display": null,
            "flex": null,
            "flex_flow": null,
            "grid_area": null,
            "grid_auto_columns": null,
            "grid_auto_flow": null,
            "grid_auto_rows": null,
            "grid_column": null,
            "grid_gap": null,
            "grid_row": null,
            "grid_template_areas": null,
            "grid_template_columns": null,
            "grid_template_rows": null,
            "height": null,
            "justify_content": null,
            "justify_items": null,
            "left": null,
            "margin": null,
            "max_height": null,
            "max_width": null,
            "min_height": null,
            "min_width": null,
            "object_fit": null,
            "object_position": null,
            "order": null,
            "overflow": null,
            "overflow_x": null,
            "overflow_y": null,
            "padding": null,
            "right": null,
            "top": null,
            "visibility": null,
            "width": null
          }
        },
        "c1420875b13b4554be9215102d2accd8": {
          "model_module": "@jupyter-widgets/controls",
          "model_name": "DescriptionStyleModel",
          "model_module_version": "1.5.0",
          "state": {
            "_model_module": "@jupyter-widgets/controls",
            "_model_module_version": "1.5.0",
            "_model_name": "DescriptionStyleModel",
            "_view_count": null,
            "_view_module": "@jupyter-widgets/base",
            "_view_module_version": "1.2.0",
            "_view_name": "StyleView",
            "description_width": ""
          }
        },
        "5e1dcc0c2d994dacad2ed569a3321583": {
          "model_module": "@jupyter-widgets/base",
          "model_name": "LayoutModel",
          "model_module_version": "1.2.0",
          "state": {
            "_model_module": "@jupyter-widgets/base",
            "_model_module_version": "1.2.0",
            "_model_name": "LayoutModel",
            "_view_count": null,
            "_view_module": "@jupyter-widgets/base",
            "_view_module_version": "1.2.0",
            "_view_name": "LayoutView",
            "align_content": null,
            "align_items": null,
            "align_self": null,
            "border": null,
            "bottom": null,
            "display": null,
            "flex": null,
            "flex_flow": null,
            "grid_area": null,
            "grid_auto_columns": null,
            "grid_auto_flow": null,
            "grid_auto_rows": null,
            "grid_column": null,
            "grid_gap": null,
            "grid_row": null,
            "grid_template_areas": null,
            "grid_template_columns": null,
            "grid_template_rows": null,
            "height": null,
            "justify_content": null,
            "justify_items": null,
            "left": null,
            "margin": null,
            "max_height": null,
            "max_width": null,
            "min_height": null,
            "min_width": null,
            "object_fit": null,
            "object_position": null,
            "order": null,
            "overflow": null,
            "overflow_x": null,
            "overflow_y": null,
            "padding": null,
            "right": null,
            "top": null,
            "visibility": null,
            "width": null
          }
        },
        "e387290b382b4909bc0915e0189f53e3": {
          "model_module": "@jupyter-widgets/controls",
          "model_name": "ProgressStyleModel",
          "model_module_version": "1.5.0",
          "state": {
            "_model_module": "@jupyter-widgets/controls",
            "_model_module_version": "1.5.0",
            "_model_name": "ProgressStyleModel",
            "_view_count": null,
            "_view_module": "@jupyter-widgets/base",
            "_view_module_version": "1.2.0",
            "_view_name": "StyleView",
            "bar_color": null,
            "description_width": ""
          }
        },
        "a9c2fe49ee8744a4af79b2a0937d1398": {
          "model_module": "@jupyter-widgets/base",
          "model_name": "LayoutModel",
          "model_module_version": "1.2.0",
          "state": {
            "_model_module": "@jupyter-widgets/base",
            "_model_module_version": "1.2.0",
            "_model_name": "LayoutModel",
            "_view_count": null,
            "_view_module": "@jupyter-widgets/base",
            "_view_module_version": "1.2.0",
            "_view_name": "LayoutView",
            "align_content": null,
            "align_items": null,
            "align_self": null,
            "border": null,
            "bottom": null,
            "display": null,
            "flex": null,
            "flex_flow": null,
            "grid_area": null,
            "grid_auto_columns": null,
            "grid_auto_flow": null,
            "grid_auto_rows": null,
            "grid_column": null,
            "grid_gap": null,
            "grid_row": null,
            "grid_template_areas": null,
            "grid_template_columns": null,
            "grid_template_rows": null,
            "height": null,
            "justify_content": null,
            "justify_items": null,
            "left": null,
            "margin": null,
            "max_height": null,
            "max_width": null,
            "min_height": null,
            "min_width": null,
            "object_fit": null,
            "object_position": null,
            "order": null,
            "overflow": null,
            "overflow_x": null,
            "overflow_y": null,
            "padding": null,
            "right": null,
            "top": null,
            "visibility": null,
            "width": null
          }
        },
        "d8f5e6778e1c471a98c6b3950f8b1a7f": {
          "model_module": "@jupyter-widgets/controls",
          "model_name": "DescriptionStyleModel",
          "model_module_version": "1.5.0",
          "state": {
            "_model_module": "@jupyter-widgets/controls",
            "_model_module_version": "1.5.0",
            "_model_name": "DescriptionStyleModel",
            "_view_count": null,
            "_view_module": "@jupyter-widgets/base",
            "_view_module_version": "1.2.0",
            "_view_name": "StyleView",
            "description_width": ""
          }
        }
      }
    }
  },
  "cells": [
    {
      "cell_type": "markdown",
      "metadata": {
        "id": "view-in-github",
        "colab_type": "text"
      },
      "source": [
        "<a href=\"https://colab.research.google.com/github/good0neighbour/ESTCampAI/blob/main/%EC%96%B8%EC%96%B4%EC%A7%80%EB%8A%A5(%ED%97%88%EA%B9%85%ED%8E%98%EC%9D%B4%EC%8A%A4_NLP)/ex03_HuggingFace_Model_Finetuning(classification).ipynb\" target=\"_parent\"><img src=\"https://colab.research.google.com/assets/colab-badge.svg\" alt=\"Open In Colab\"/></a>"
      ]
    },
    {
      "cell_type": "code",
      "execution_count": 1,
      "metadata": {
        "colab": {
          "base_uri": "https://localhost:8080/"
        },
        "id": "4C2ut0QOlitC",
        "outputId": "e6ec76c6-0660-4ac7-b6f3-71045c2122f0"
      },
      "outputs": [
        {
          "output_type": "stream",
          "name": "stdout",
          "text": [
            "/content/drive/MyDrive/ESTCampAI/언어지능(허깅페이스_NLP)\n"
          ]
        }
      ],
      "source": [
        "# T4 gpu\n",
        "# 드라이브 연동\n",
        "# 작업 경로 언어지능 폴더 이동\n",
        "%cd /content/drive/MyDrive/ESTCampAI/언어지능(허깅페이스_NLP)"
      ]
    },
    {
      "cell_type": "code",
      "source": [
        "# transformers[torch] 라이브러리 설치\n",
        "!pip install transformers[torch]"
      ],
      "metadata": {
        "colab": {
          "base_uri": "https://localhost:8080/"
        },
        "id": "fil6Wl8Bl4VG",
        "outputId": "9b9782b0-c692-41e2-9287-4c47a3a69ca4"
      },
      "execution_count": 2,
      "outputs": [
        {
          "output_type": "stream",
          "name": "stdout",
          "text": [
            "Requirement already satisfied: transformers[torch] in /usr/local/lib/python3.12/dist-packages (4.57.1)\n",
            "Requirement already satisfied: filelock in /usr/local/lib/python3.12/dist-packages (from transformers[torch]) (3.20.0)\n",
            "Requirement already satisfied: huggingface-hub<1.0,>=0.34.0 in /usr/local/lib/python3.12/dist-packages (from transformers[torch]) (0.36.0)\n",
            "Requirement already satisfied: numpy>=1.17 in /usr/local/lib/python3.12/dist-packages (from transformers[torch]) (2.0.2)\n",
            "Requirement already satisfied: packaging>=20.0 in /usr/local/lib/python3.12/dist-packages (from transformers[torch]) (25.0)\n",
            "Requirement already satisfied: pyyaml>=5.1 in /usr/local/lib/python3.12/dist-packages (from transformers[torch]) (6.0.3)\n",
            "Requirement already satisfied: regex!=2019.12.17 in /usr/local/lib/python3.12/dist-packages (from transformers[torch]) (2024.11.6)\n",
            "Requirement already satisfied: requests in /usr/local/lib/python3.12/dist-packages (from transformers[torch]) (2.32.4)\n",
            "Requirement already satisfied: tokenizers<=0.23.0,>=0.22.0 in /usr/local/lib/python3.12/dist-packages (from transformers[torch]) (0.22.1)\n",
            "Requirement already satisfied: safetensors>=0.4.3 in /usr/local/lib/python3.12/dist-packages (from transformers[torch]) (0.6.2)\n",
            "Requirement already satisfied: tqdm>=4.27 in /usr/local/lib/python3.12/dist-packages (from transformers[torch]) (4.67.1)\n",
            "Requirement already satisfied: torch>=2.2 in /usr/local/lib/python3.12/dist-packages (from transformers[torch]) (2.8.0+cu126)\n",
            "Requirement already satisfied: accelerate>=0.26.0 in /usr/local/lib/python3.12/dist-packages (from transformers[torch]) (1.11.0)\n",
            "Requirement already satisfied: psutil in /usr/local/lib/python3.12/dist-packages (from accelerate>=0.26.0->transformers[torch]) (5.9.5)\n",
            "Requirement already satisfied: fsspec>=2023.5.0 in /usr/local/lib/python3.12/dist-packages (from huggingface-hub<1.0,>=0.34.0->transformers[torch]) (2025.3.0)\n",
            "Requirement already satisfied: typing-extensions>=3.7.4.3 in /usr/local/lib/python3.12/dist-packages (from huggingface-hub<1.0,>=0.34.0->transformers[torch]) (4.15.0)\n",
            "Requirement already satisfied: hf-xet<2.0.0,>=1.1.3 in /usr/local/lib/python3.12/dist-packages (from huggingface-hub<1.0,>=0.34.0->transformers[torch]) (1.2.0)\n",
            "Requirement already satisfied: setuptools in /usr/local/lib/python3.12/dist-packages (from torch>=2.2->transformers[torch]) (75.2.0)\n",
            "Requirement already satisfied: sympy>=1.13.3 in /usr/local/lib/python3.12/dist-packages (from torch>=2.2->transformers[torch]) (1.13.3)\n",
            "Requirement already satisfied: networkx in /usr/local/lib/python3.12/dist-packages (from torch>=2.2->transformers[torch]) (3.5)\n",
            "Requirement already satisfied: jinja2 in /usr/local/lib/python3.12/dist-packages (from torch>=2.2->transformers[torch]) (3.1.6)\n",
            "Requirement already satisfied: nvidia-cuda-nvrtc-cu12==12.6.77 in /usr/local/lib/python3.12/dist-packages (from torch>=2.2->transformers[torch]) (12.6.77)\n",
            "Requirement already satisfied: nvidia-cuda-runtime-cu12==12.6.77 in /usr/local/lib/python3.12/dist-packages (from torch>=2.2->transformers[torch]) (12.6.77)\n",
            "Requirement already satisfied: nvidia-cuda-cupti-cu12==12.6.80 in /usr/local/lib/python3.12/dist-packages (from torch>=2.2->transformers[torch]) (12.6.80)\n",
            "Requirement already satisfied: nvidia-cudnn-cu12==9.10.2.21 in /usr/local/lib/python3.12/dist-packages (from torch>=2.2->transformers[torch]) (9.10.2.21)\n",
            "Requirement already satisfied: nvidia-cublas-cu12==12.6.4.1 in /usr/local/lib/python3.12/dist-packages (from torch>=2.2->transformers[torch]) (12.6.4.1)\n",
            "Requirement already satisfied: nvidia-cufft-cu12==11.3.0.4 in /usr/local/lib/python3.12/dist-packages (from torch>=2.2->transformers[torch]) (11.3.0.4)\n",
            "Requirement already satisfied: nvidia-curand-cu12==10.3.7.77 in /usr/local/lib/python3.12/dist-packages (from torch>=2.2->transformers[torch]) (10.3.7.77)\n",
            "Requirement already satisfied: nvidia-cusolver-cu12==11.7.1.2 in /usr/local/lib/python3.12/dist-packages (from torch>=2.2->transformers[torch]) (11.7.1.2)\n",
            "Requirement already satisfied: nvidia-cusparse-cu12==12.5.4.2 in /usr/local/lib/python3.12/dist-packages (from torch>=2.2->transformers[torch]) (12.5.4.2)\n",
            "Requirement already satisfied: nvidia-cusparselt-cu12==0.7.1 in /usr/local/lib/python3.12/dist-packages (from torch>=2.2->transformers[torch]) (0.7.1)\n",
            "Requirement already satisfied: nvidia-nccl-cu12==2.27.3 in /usr/local/lib/python3.12/dist-packages (from torch>=2.2->transformers[torch]) (2.27.3)\n",
            "Requirement already satisfied: nvidia-nvtx-cu12==12.6.77 in /usr/local/lib/python3.12/dist-packages (from torch>=2.2->transformers[torch]) (12.6.77)\n",
            "Requirement already satisfied: nvidia-nvjitlink-cu12==12.6.85 in /usr/local/lib/python3.12/dist-packages (from torch>=2.2->transformers[torch]) (12.6.85)\n",
            "Requirement already satisfied: nvidia-cufile-cu12==1.11.1.6 in /usr/local/lib/python3.12/dist-packages (from torch>=2.2->transformers[torch]) (1.11.1.6)\n",
            "Requirement already satisfied: triton==3.4.0 in /usr/local/lib/python3.12/dist-packages (from torch>=2.2->transformers[torch]) (3.4.0)\n",
            "Requirement already satisfied: charset_normalizer<4,>=2 in /usr/local/lib/python3.12/dist-packages (from requests->transformers[torch]) (3.4.4)\n",
            "Requirement already satisfied: idna<4,>=2.5 in /usr/local/lib/python3.12/dist-packages (from requests->transformers[torch]) (3.11)\n",
            "Requirement already satisfied: urllib3<3,>=1.21.1 in /usr/local/lib/python3.12/dist-packages (from requests->transformers[torch]) (2.5.0)\n",
            "Requirement already satisfied: certifi>=2017.4.17 in /usr/local/lib/python3.12/dist-packages (from requests->transformers[torch]) (2025.10.5)\n",
            "Requirement already satisfied: mpmath<1.4,>=1.1.0 in /usr/local/lib/python3.12/dist-packages (from sympy>=1.13.3->torch>=2.2->transformers[torch]) (1.3.0)\n",
            "Requirement already satisfied: MarkupSafe>=2.0 in /usr/local/lib/python3.12/dist-packages (from jinja2->torch>=2.2->transformers[torch]) (3.0.3)\n"
          ]
        }
      ]
    },
    {
      "cell_type": "code",
      "source": [
        "!pip show transformers"
      ],
      "metadata": {
        "colab": {
          "base_uri": "https://localhost:8080/"
        },
        "id": "gww68PKRmPA9",
        "outputId": "f9201eac-9833-45bf-9f8a-70e277d79a33"
      },
      "execution_count": 3,
      "outputs": [
        {
          "output_type": "stream",
          "name": "stdout",
          "text": [
            "Name: transformers\n",
            "Version: 4.57.1\n",
            "Summary: State-of-the-art Machine Learning for JAX, PyTorch and TensorFlow\n",
            "Home-page: https://github.com/huggingface/transformers\n",
            "Author: The Hugging Face team (past and future) with the help of all our contributors (https://github.com/huggingface/transformers/graphs/contributors)\n",
            "Author-email: transformers@huggingface.co\n",
            "License: Apache 2.0 License\n",
            "Location: /usr/local/lib/python3.12/dist-packages\n",
            "Requires: filelock, huggingface-hub, numpy, packaging, pyyaml, regex, requests, safetensors, tokenizers, tqdm\n",
            "Required-by: peft, sentence-transformers\n"
          ]
        }
      ]
    },
    {
      "cell_type": "markdown",
      "source": [
        "## 목표\n",
        "- 한국어 분류 데이터셋을 활용한 한국어 토픽 분류 모델 구현해보기\n",
        "- 데이터 준비부터 미세조정(파인튜닝) 훈련까지의 흐름을 경험해보자\n",
        "- 모델과 토크나이저, finetuning에 필요한 클래스를 직접 조작하며, 허깅페이스 내부 동작에 대해 조금 더 깊이 있는 실습을 진행"
      ],
      "metadata": {
        "id": "zI39ksz4mKuA"
      }
    },
    {
      "cell_type": "code",
      "source": [
        "# gpu 장치 연결 확인\n",
        "import torch\n",
        "device = \"cuda\" if torch.cuda.is_available() else \"cpu\"\n",
        "print('사용 가능한 장치:', device)\n",
        "\n",
        "# 추후 Trainer 클래스 사용할 예정"
      ],
      "metadata": {
        "colab": {
          "base_uri": "https://localhost:8080/"
        },
        "id": "IJt_w24Hn7Gi",
        "outputId": "fbaa0a35-d329-4c6b-a408-91dfe25ca9b1"
      },
      "execution_count": 4,
      "outputs": [
        {
          "output_type": "stream",
          "name": "stdout",
          "text": [
            "사용 가능한 장치: cuda\n"
          ]
        }
      ]
    },
    {
      "cell_type": "markdown",
      "source": [
        "## 시나리오\n",
        "\n",
        "### 배경\n",
        "- “스마트뉴스”는 <u>월간 **12만 건** 이상의 뉴스 헤드라인</u>을 처리하는 AI 기반 토픽 분류 플랫폼  \n",
        "- YNAT 데이터셋(연합뉴스 헤드라인, 7개 주제)으로 학습된 일반 사전학습 모델은 <u>**도메인별 뉘앙스**</u>와 <u>**언론사별 어투**</u>를 구분하기 어려움  \n",
        "- <u>**Fine-Tuning**</u>을 통해 KoELECTRA 기반 분류 모델을 <u>**IT·과학, 경제, 사회 등 7개 주제**</u>에 최적화해야 하는 과제 존재  \n",
        "\n",
        "```python\n",
        "# 주요 이해관계자\n",
        "- NLP 연구팀         : 사전학습 모델 파인튜닝 및 하이퍼파라미터 튜닝  \n",
        "- 데이터 엔지니어팀   : YNAT 데이터 로딩·전처리·토크나이저 적용 파이프라인 구축  \n",
        "- 제품 기획팀         : 토픽 분류 서비스 요구사항 정의 및 결과 활용 방안 수립  \n",
        "- DevOps/운영팀      : T4 GPU 환경에서 모델 학습·배포·모니터링 자동화  \n",
        "- QA/테스트팀        : 분류 정확도 검증 및 혼동행렬 기반 개선 포인트 제안  \n",
        "```"
      ],
      "metadata": {
        "id": "MtBF1kHToR3q"
      }
    },
    {
      "cell_type": "markdown",
      "source": [
        "## 1. 데이터셋 로드\n",
        "- Hugging Face datasets 활용 데이터 로드 해보기"
      ],
      "metadata": {
        "id": "2rpYf4qQoqCi"
      }
    },
    {
      "cell_type": "code",
      "source": [
        "# huggingface 데이터셋 로드 함수 불러오기\n",
        "from datasets import load_dataset"
      ],
      "metadata": {
        "id": "deh3C0dypyvm"
      },
      "execution_count": 5,
      "outputs": []
    },
    {
      "cell_type": "markdown",
      "source": [
        "> **YNAT 데이터셋**  \n",
        "> - 연합뉴스(Yonhap News) 기사 제목(헤드라인)을 **7개 주제**로 분류  \n",
        "> - 레이블 0 ~ 6 : `정치` / `경제` / `사회` / `생활·문화` / `세계` / `IT·과학` / `스포츠`\n",
        "> - HuggingFace 링크 : https://huggingface.co/datasets/klue/klue#considerations-for-using-the-data\n",
        "\n",
        "---\n",
        "\n",
        "```python\n",
        "> 원출처 : KLUE Benchmark 프로젝트\n",
        "> - \"Korean Language Understanding Evaluation\"의 약자  \n",
        "> - 한국어 자연어 이해(NLU) 전용 종합 벤치마크로 설계  \n",
        "> - 기계 번역·문장 분류·개체명 인식·관계 추출 등 8개 태스크 포함\n",
        "\n",
        "> 논문\n",
        "> - \"KLUE: Korean Language Understanding Evaluation\"  \n",
        "> - EMNLP 2021 학회 게재  \n",
        "> - 한국어 특화 NLU 모델 평가를 위한 표준 데이터셋 및 메트릭 제안\n",
        "\n",
        "> 대규모 한국어 토픽 분류 데이터 제공 목적  \n",
        "> - 한국어 NLU 모델의 토픽 분류 성능을 객관적으로 비교·평가  \n",
        "> - 연구자들이 일관된 지표로 모델 개선 효과를 검증할 수 있도록 지원\n",
        "```"
      ],
      "metadata": {
        "id": "SSR4NIPFp4ES"
      }
    },
    {
      "cell_type": "code",
      "source": [
        "# 연합뉴스 기사 제목 데이터셋 로드\n",
        "# 간단히 내장된 klue 스크립트 활용 가능\n",
        "raw_datasets = load_dataset(\"klue\", \"ynat\")\n",
        "# load_dataset(\"데이터셋_이름\", \"설정명(config, subset)\", split = 'train')\n",
        "# load_dataset(\"데이터셋_이름\")\n",
        "# load_dataset(\"데이터셋_이름\", \"설정명(config, subset)\")"
      ],
      "metadata": {
        "colab": {
          "base_uri": "https://localhost:8080/",
          "height": 391,
          "referenced_widgets": [
            "f7b94f17421c4dc881534f73b1582a62",
            "76b2b4a6cb8140249c50dedb36fff168",
            "7f4ec4185a8c41ee9cf17ddb8bbdaf97",
            "e2fcdb5ee4d14624b68677d3f6f633ad",
            "7ca06fc92c834156be738bf247942963",
            "b1043c38c5544cda80f4c7f912e48496",
            "6896cff4923048f08b1d3fbe0741dda9",
            "9a2995a767f14b869d656386ba2ca338",
            "05cbb6a8d3074ec3857c6027e77eae42",
            "426c89620a034ce19ffded775a0afb80",
            "3f2526388daa4a3a957823a360adcd14",
            "f4ae114f78f842cbbf77ba876b032850",
            "fea6788183d642eab8676c301cdd0ddf",
            "d664de940468428d908769237c1447d8",
            "83158e1ae68e4807b36f9fe66eb60723",
            "fd28425e95a849a38bfbdebc55002a3f",
            "11c7793859b34109b40f3e847cdbd0bb",
            "384f5fd1e89a4d1a8c1b2960b61de262",
            "d2af85a96a254bd9a455eb944afce615",
            "7f3d8d5a1a7a41dc80cb79f73a3b5fe2",
            "976ac58d71ca4bbfb9e6161ee309142e",
            "c3c704e8202d4518951ff2e55693f01a",
            "3809d1a36a404689915bc0e58bb21bb4",
            "581f7e45c6044e939633f4dfff6d4127",
            "ef63937c668944febbbd686601284e98",
            "e8f3b5ee079544f48d15867ab5727712",
            "40d91caadee54f02b006fda6da1f9bff",
            "919964760b8d4e74a799c398be81a0b9",
            "471f23833ccc48349ec4a617197bf73d",
            "a9cdb2bc4bbb477c85490ff1ded59cab",
            "85ca5799838d487f90f3195f62a321e7",
            "fb4426f6ef6d4ec58701605401680e74",
            "74832958517b4f24b11276d07501f0bb",
            "2ec96743d2c8470185c3fd367239b074",
            "fb5062497ef143b39751adacee522fac",
            "56eea268c85f41128b61860a055470aa",
            "1fd6ba36ac1c4337b4d17570f8ad7bd8",
            "0307351372b14b1c97f9b60b623305ed",
            "7c7b84ae7256459b8003f6aac0aad21d",
            "831e8eb2724b46af8b32c70e4da2d6f4",
            "2ba8591e52af408b997bfca2f1ae5396",
            "a7530707e614411395369f2ed7721e88",
            "5cb4ac3adeb34c3192391ebdce228f09",
            "f480e862b1964a7284dd7e039489369e",
            "e3548d3ee3754f84970b8f5efcfa1e38",
            "3926e2c92ebe4725afbfc934997530aa",
            "91b8690fd78f4736a3583ee080078891",
            "e0362d8e5a5f4f5ba09f9a4f3ede118b",
            "bc5689948b8d4f2aa41b4b419bcf1ccf",
            "f06fd110913d46e2bf09a5f9e16db884",
            "b0a0121aefc4422b8f6b2d8ed3b19081",
            "de557ff710d94ebfb42ce739aca44b4e",
            "484823f66c014b5cbc026c6dc3a7dfcc",
            "4582ad84bbad473b89e1ec4d64378820",
            "c212fcaaaa6343c8842cb4ec6f5a572e"
          ]
        },
        "id": "qyZtan2Sp-8U",
        "outputId": "c0cf6a9b-dec1-4d7a-9b1c-45f949854d3a"
      },
      "execution_count": 6,
      "outputs": [
        {
          "output_type": "stream",
          "name": "stderr",
          "text": [
            "/usr/local/lib/python3.12/dist-packages/huggingface_hub/utils/_auth.py:94: UserWarning: \n",
            "The secret `HF_TOKEN` does not exist in your Colab secrets.\n",
            "To authenticate with the Hugging Face Hub, create a token in your settings tab (https://huggingface.co/settings/tokens), set it as secret in your Google Colab and restart your session.\n",
            "You will be able to reuse this secret in all of your notebooks.\n",
            "Please note that authentication is recommended but still optional to access public models or datasets.\n",
            "  warnings.warn(\n"
          ]
        },
        {
          "output_type": "display_data",
          "data": {
            "text/plain": [
              "README.md: 0.00B [00:00, ?B/s]"
            ],
            "application/vnd.jupyter.widget-view+json": {
              "version_major": 2,
              "version_minor": 0,
              "model_id": "f7b94f17421c4dc881534f73b1582a62"
            }
          },
          "metadata": {}
        },
        {
          "output_type": "display_data",
          "data": {
            "text/plain": [
              "ynat/train-00000-of-00001.parquet:   0%|          | 0.00/4.17M [00:00<?, ?B/s]"
            ],
            "application/vnd.jupyter.widget-view+json": {
              "version_major": 2,
              "version_minor": 0,
              "model_id": "f4ae114f78f842cbbf77ba876b032850"
            }
          },
          "metadata": {}
        },
        {
          "output_type": "display_data",
          "data": {
            "text/plain": [
              "ynat/validation-00000-of-00001.parquet:   0%|          | 0.00/847k [00:00<?, ?B/s]"
            ],
            "application/vnd.jupyter.widget-view+json": {
              "version_major": 2,
              "version_minor": 0,
              "model_id": "3809d1a36a404689915bc0e58bb21bb4"
            }
          },
          "metadata": {}
        },
        {
          "output_type": "display_data",
          "data": {
            "text/plain": [
              "Generating train split:   0%|          | 0/45678 [00:00<?, ? examples/s]"
            ],
            "application/vnd.jupyter.widget-view+json": {
              "version_major": 2,
              "version_minor": 0,
              "model_id": "2ec96743d2c8470185c3fd367239b074"
            }
          },
          "metadata": {}
        },
        {
          "output_type": "display_data",
          "data": {
            "text/plain": [
              "Generating validation split:   0%|          | 0/9107 [00:00<?, ? examples/s]"
            ],
            "application/vnd.jupyter.widget-view+json": {
              "version_major": 2,
              "version_minor": 0,
              "model_id": "e3548d3ee3754f84970b8f5efcfa1e38"
            }
          },
          "metadata": {}
        }
      ]
    },
    {
      "cell_type": "code",
      "source": [
        "raw_datasets\n",
        "# DatasetDict 여러 Dataset을 담는 dict 형태의 클래스 (huggingface 제공)"
      ],
      "metadata": {
        "colab": {
          "base_uri": "https://localhost:8080/"
        },
        "id": "FrAJXjZPrYU0",
        "outputId": "74f95c76-45c8-444d-b86a-e079960c370c"
      },
      "execution_count": 7,
      "outputs": [
        {
          "output_type": "execute_result",
          "data": {
            "text/plain": [
              "DatasetDict({\n",
              "    train: Dataset({\n",
              "        features: ['guid', 'title', 'label', 'url', 'date'],\n",
              "        num_rows: 45678\n",
              "    })\n",
              "    validation: Dataset({\n",
              "        features: ['guid', 'title', 'label', 'url', 'date'],\n",
              "        num_rows: 9107\n",
              "    })\n",
              "})"
            ]
          },
          "metadata": {},
          "execution_count": 7
        }
      ]
    },
    {
      "cell_type": "code",
      "source": [
        "# keys() 추출\n",
        "raw_datasets.keys()"
      ],
      "metadata": {
        "colab": {
          "base_uri": "https://localhost:8080/"
        },
        "id": "QwB1Np3Jr-MY",
        "outputId": "2365bba2-724e-4590-b50b-63af6e35510e"
      },
      "execution_count": 8,
      "outputs": [
        {
          "output_type": "execute_result",
          "data": {
            "text/plain": [
              "dict_keys(['train', 'validation'])"
            ]
          },
          "metadata": {},
          "execution_count": 8
        }
      ]
    },
    {
      "cell_type": "code",
      "source": [
        "# train 학습 데이터셋 수\n",
        "print(raw_datasets['train'].num_rows)\n",
        "print(len(raw_datasets['train']))"
      ],
      "metadata": {
        "colab": {
          "base_uri": "https://localhost:8080/"
        },
        "id": "A6cSvo5gsinW",
        "outputId": "24aa34c7-8aa0-4482-dadc-5493b70a9d82"
      },
      "execution_count": 9,
      "outputs": [
        {
          "output_type": "stream",
          "name": "stdout",
          "text": [
            "45678\n",
            "45678\n"
          ]
        }
      ]
    },
    {
      "cell_type": "code",
      "source": [
        "# 검증셋 데이터 수 확인\n",
        "print(raw_datasets['validation'].num_rows)\n",
        "print(len(raw_datasets['validation']))"
      ],
      "metadata": {
        "colab": {
          "base_uri": "https://localhost:8080/"
        },
        "id": "ULV9IVeUs8Be",
        "outputId": "0debe1d3-4e0f-40b6-ab2d-a4ed0fd66cb5"
      },
      "execution_count": 10,
      "outputs": [
        {
          "output_type": "stream",
          "name": "stdout",
          "text": [
            "9107\n",
            "9107\n"
          ]
        }
      ]
    },
    {
      "cell_type": "code",
      "source": [
        "# train 기준 - 0번때 학습 데이터 확인\n",
        "raw_datasets['train'][0]"
      ],
      "metadata": {
        "colab": {
          "base_uri": "https://localhost:8080/"
        },
        "id": "wQFI5NHMtF6o",
        "outputId": "b0a9acb7-7706-4e4e-a2a2-8b3b89a20644"
      },
      "execution_count": 11,
      "outputs": [
        {
          "output_type": "execute_result",
          "data": {
            "text/plain": [
              "{'guid': 'ynat-v1_train_00000',\n",
              " 'title': '유튜브 내달 2일까지 크리에이터 지원 공간 운영',\n",
              " 'label': 3,\n",
              " 'url': 'https://news.naver.com/main/read.nhn?mode=LS2D&mid=shm&sid1=105&sid2=227&oid=001&aid=0008508947',\n",
              " 'date': '2016.06.30. 오전 10:36'}"
            ]
          },
          "metadata": {},
          "execution_count": 11
        }
      ]
    },
    {
      "cell_type": "code",
      "source": [
        "# DF로 확인 가능\n",
        "raw_datasets['train'].to_pandas()"
      ],
      "metadata": {
        "colab": {
          "base_uri": "https://localhost:8080/",
          "height": 1000
        },
        "id": "-JPYh079tpYv",
        "outputId": "53a025c3-d60c-4474-8100-54911e831ad5"
      },
      "execution_count": 12,
      "outputs": [
        {
          "output_type": "execute_result",
          "data": {
            "text/plain": [
              "                      guid                             title  label  \\\n",
              "0      ynat-v1_train_00000        유튜브 내달 2일까지 크리에이터 지원 공간 운영      3   \n",
              "1      ynat-v1_train_00001           어버이날 맑다가 흐려져…남부지방 옅은 황사      3   \n",
              "2      ynat-v1_train_00002       내년부터 국가RD 평가 때 논문건수는 반영 않는다      2   \n",
              "3      ynat-v1_train_00003   김명자 신임 과총 회장 원로와 젊은 과학자 지혜 모을 것      2   \n",
              "4      ynat-v1_train_00004    회색인간 작가 김동식 양심고백 등 새 소설집 2권 출간      3   \n",
              "...                    ...                               ...    ...   \n",
              "45673  ynat-v1_train_45673      사우디 아람코 주요 석유시설·유전 드론 공격에 화재      4   \n",
              "45674  ynat-v1_train_45674    박기원 감독 눈치 보지 말고…비예나 눈치 본 건 아닌데      5   \n",
              "45675  ynat-v1_train_45675  아시안게임 첫 경기 앞둔 라건아 인도네시아 팬이라도 ...      5   \n",
              "45676  ynat-v1_train_45676     트럼프 미중 무역협상 1단계 합의 서명식 가질 것종합      4   \n",
              "45677  ynat-v1_train_45677  극적 역전승 도로공사 GS칼텍스 꺾고 2년 연속 챔프...      5   \n",
              "\n",
              "                                                     url                  date  \n",
              "0      https://news.naver.com/main/read.nhn?mode=LS2D...  2016.06.30. 오전 10:36  \n",
              "1      https://news.naver.com/main/read.nhn?mode=LS2D...   2016.05.08. 오전 5:25  \n",
              "2      https://news.naver.com/main/read.nhn?mode=LS2D...  2016.03.15. 오후 12:00  \n",
              "3      https://news.naver.com/main/read.nhn?mode=LS2D...   2017.02.28. 오전 9:54  \n",
              "4      https://news.naver.com/main/read.nhn?mode=LS2D...   2018.04.03. 오전 7:05  \n",
              "...                                                  ...                   ...  \n",
              "45673  https://news.naver.com/main/read.nhn?mode=LS2D...   2019.09.14. 오후 4:36  \n",
              "45674  https://sports.news.naver.com/news.nhn?oid=001...      2019.11.03 17:06  \n",
              "45675  https://sports.news.naver.com/news.nhn?oid=001...      2018.08.13 17:54  \n",
              "45676  https://news.naver.com/main/read.nhn?mode=LS2D...   2019.12.25. 오후 4:36  \n",
              "45677  https://sports.news.naver.com/news.nhn?oid=001...      2019.03.19 21:32  \n",
              "\n",
              "[45678 rows x 5 columns]"
            ],
            "text/html": [
              "\n",
              "  <div id=\"df-b082c1e3-0188-4462-b86b-b1c6f34050b1\" class=\"colab-df-container\">\n",
              "    <div>\n",
              "<style scoped>\n",
              "    .dataframe tbody tr th:only-of-type {\n",
              "        vertical-align: middle;\n",
              "    }\n",
              "\n",
              "    .dataframe tbody tr th {\n",
              "        vertical-align: top;\n",
              "    }\n",
              "\n",
              "    .dataframe thead th {\n",
              "        text-align: right;\n",
              "    }\n",
              "</style>\n",
              "<table border=\"1\" class=\"dataframe\">\n",
              "  <thead>\n",
              "    <tr style=\"text-align: right;\">\n",
              "      <th></th>\n",
              "      <th>guid</th>\n",
              "      <th>title</th>\n",
              "      <th>label</th>\n",
              "      <th>url</th>\n",
              "      <th>date</th>\n",
              "    </tr>\n",
              "  </thead>\n",
              "  <tbody>\n",
              "    <tr>\n",
              "      <th>0</th>\n",
              "      <td>ynat-v1_train_00000</td>\n",
              "      <td>유튜브 내달 2일까지 크리에이터 지원 공간 운영</td>\n",
              "      <td>3</td>\n",
              "      <td>https://news.naver.com/main/read.nhn?mode=LS2D...</td>\n",
              "      <td>2016.06.30. 오전 10:36</td>\n",
              "    </tr>\n",
              "    <tr>\n",
              "      <th>1</th>\n",
              "      <td>ynat-v1_train_00001</td>\n",
              "      <td>어버이날 맑다가 흐려져…남부지방 옅은 황사</td>\n",
              "      <td>3</td>\n",
              "      <td>https://news.naver.com/main/read.nhn?mode=LS2D...</td>\n",
              "      <td>2016.05.08. 오전 5:25</td>\n",
              "    </tr>\n",
              "    <tr>\n",
              "      <th>2</th>\n",
              "      <td>ynat-v1_train_00002</td>\n",
              "      <td>내년부터 국가RD 평가 때 논문건수는 반영 않는다</td>\n",
              "      <td>2</td>\n",
              "      <td>https://news.naver.com/main/read.nhn?mode=LS2D...</td>\n",
              "      <td>2016.03.15. 오후 12:00</td>\n",
              "    </tr>\n",
              "    <tr>\n",
              "      <th>3</th>\n",
              "      <td>ynat-v1_train_00003</td>\n",
              "      <td>김명자 신임 과총 회장 원로와 젊은 과학자 지혜 모을 것</td>\n",
              "      <td>2</td>\n",
              "      <td>https://news.naver.com/main/read.nhn?mode=LS2D...</td>\n",
              "      <td>2017.02.28. 오전 9:54</td>\n",
              "    </tr>\n",
              "    <tr>\n",
              "      <th>4</th>\n",
              "      <td>ynat-v1_train_00004</td>\n",
              "      <td>회색인간 작가 김동식 양심고백 등 새 소설집 2권 출간</td>\n",
              "      <td>3</td>\n",
              "      <td>https://news.naver.com/main/read.nhn?mode=LS2D...</td>\n",
              "      <td>2018.04.03. 오전 7:05</td>\n",
              "    </tr>\n",
              "    <tr>\n",
              "      <th>...</th>\n",
              "      <td>...</td>\n",
              "      <td>...</td>\n",
              "      <td>...</td>\n",
              "      <td>...</td>\n",
              "      <td>...</td>\n",
              "    </tr>\n",
              "    <tr>\n",
              "      <th>45673</th>\n",
              "      <td>ynat-v1_train_45673</td>\n",
              "      <td>사우디 아람코 주요 석유시설·유전 드론 공격에 화재</td>\n",
              "      <td>4</td>\n",
              "      <td>https://news.naver.com/main/read.nhn?mode=LS2D...</td>\n",
              "      <td>2019.09.14. 오후 4:36</td>\n",
              "    </tr>\n",
              "    <tr>\n",
              "      <th>45674</th>\n",
              "      <td>ynat-v1_train_45674</td>\n",
              "      <td>박기원 감독 눈치 보지 말고…비예나 눈치 본 건 아닌데</td>\n",
              "      <td>5</td>\n",
              "      <td>https://sports.news.naver.com/news.nhn?oid=001...</td>\n",
              "      <td>2019.11.03 17:06</td>\n",
              "    </tr>\n",
              "    <tr>\n",
              "      <th>45675</th>\n",
              "      <td>ynat-v1_train_45675</td>\n",
              "      <td>아시안게임 첫 경기 앞둔 라건아 인도네시아 팬이라도 ...</td>\n",
              "      <td>5</td>\n",
              "      <td>https://sports.news.naver.com/news.nhn?oid=001...</td>\n",
              "      <td>2018.08.13 17:54</td>\n",
              "    </tr>\n",
              "    <tr>\n",
              "      <th>45676</th>\n",
              "      <td>ynat-v1_train_45676</td>\n",
              "      <td>트럼프 미중 무역협상 1단계 합의 서명식 가질 것종합</td>\n",
              "      <td>4</td>\n",
              "      <td>https://news.naver.com/main/read.nhn?mode=LS2D...</td>\n",
              "      <td>2019.12.25. 오후 4:36</td>\n",
              "    </tr>\n",
              "    <tr>\n",
              "      <th>45677</th>\n",
              "      <td>ynat-v1_train_45677</td>\n",
              "      <td>극적 역전승 도로공사 GS칼텍스 꺾고 2년 연속 챔프...</td>\n",
              "      <td>5</td>\n",
              "      <td>https://sports.news.naver.com/news.nhn?oid=001...</td>\n",
              "      <td>2019.03.19 21:32</td>\n",
              "    </tr>\n",
              "  </tbody>\n",
              "</table>\n",
              "<p>45678 rows × 5 columns</p>\n",
              "</div>\n",
              "    <div class=\"colab-df-buttons\">\n",
              "\n",
              "  <div class=\"colab-df-container\">\n",
              "    <button class=\"colab-df-convert\" onclick=\"convertToInteractive('df-b082c1e3-0188-4462-b86b-b1c6f34050b1')\"\n",
              "            title=\"Convert this dataframe to an interactive table.\"\n",
              "            style=\"display:none;\">\n",
              "\n",
              "  <svg xmlns=\"http://www.w3.org/2000/svg\" height=\"24px\" viewBox=\"0 -960 960 960\">\n",
              "    <path d=\"M120-120v-720h720v720H120Zm60-500h600v-160H180v160Zm220 220h160v-160H400v160Zm0 220h160v-160H400v160ZM180-400h160v-160H180v160Zm440 0h160v-160H620v160ZM180-180h160v-160H180v160Zm440 0h160v-160H620v160Z\"/>\n",
              "  </svg>\n",
              "    </button>\n",
              "\n",
              "  <style>\n",
              "    .colab-df-container {\n",
              "      display:flex;\n",
              "      gap: 12px;\n",
              "    }\n",
              "\n",
              "    .colab-df-convert {\n",
              "      background-color: #E8F0FE;\n",
              "      border: none;\n",
              "      border-radius: 50%;\n",
              "      cursor: pointer;\n",
              "      display: none;\n",
              "      fill: #1967D2;\n",
              "      height: 32px;\n",
              "      padding: 0 0 0 0;\n",
              "      width: 32px;\n",
              "    }\n",
              "\n",
              "    .colab-df-convert:hover {\n",
              "      background-color: #E2EBFA;\n",
              "      box-shadow: 0px 1px 2px rgba(60, 64, 67, 0.3), 0px 1px 3px 1px rgba(60, 64, 67, 0.15);\n",
              "      fill: #174EA6;\n",
              "    }\n",
              "\n",
              "    .colab-df-buttons div {\n",
              "      margin-bottom: 4px;\n",
              "    }\n",
              "\n",
              "    [theme=dark] .colab-df-convert {\n",
              "      background-color: #3B4455;\n",
              "      fill: #D2E3FC;\n",
              "    }\n",
              "\n",
              "    [theme=dark] .colab-df-convert:hover {\n",
              "      background-color: #434B5C;\n",
              "      box-shadow: 0px 1px 3px 1px rgba(0, 0, 0, 0.15);\n",
              "      filter: drop-shadow(0px 1px 2px rgba(0, 0, 0, 0.3));\n",
              "      fill: #FFFFFF;\n",
              "    }\n",
              "  </style>\n",
              "\n",
              "    <script>\n",
              "      const buttonEl =\n",
              "        document.querySelector('#df-b082c1e3-0188-4462-b86b-b1c6f34050b1 button.colab-df-convert');\n",
              "      buttonEl.style.display =\n",
              "        google.colab.kernel.accessAllowed ? 'block' : 'none';\n",
              "\n",
              "      async function convertToInteractive(key) {\n",
              "        const element = document.querySelector('#df-b082c1e3-0188-4462-b86b-b1c6f34050b1');\n",
              "        const dataTable =\n",
              "          await google.colab.kernel.invokeFunction('convertToInteractive',\n",
              "                                                    [key], {});\n",
              "        if (!dataTable) return;\n",
              "\n",
              "        const docLinkHtml = 'Like what you see? Visit the ' +\n",
              "          '<a target=\"_blank\" href=https://colab.research.google.com/notebooks/data_table.ipynb>data table notebook</a>'\n",
              "          + ' to learn more about interactive tables.';\n",
              "        element.innerHTML = '';\n",
              "        dataTable['output_type'] = 'display_data';\n",
              "        await google.colab.output.renderOutput(dataTable, element);\n",
              "        const docLink = document.createElement('div');\n",
              "        docLink.innerHTML = docLinkHtml;\n",
              "        element.appendChild(docLink);\n",
              "      }\n",
              "    </script>\n",
              "  </div>\n",
              "\n",
              "\n",
              "    <div id=\"df-d4c4aad6-82e6-451a-b077-aaf109c8f0cd\">\n",
              "      <button class=\"colab-df-quickchart\" onclick=\"quickchart('df-d4c4aad6-82e6-451a-b077-aaf109c8f0cd')\"\n",
              "                title=\"Suggest charts\"\n",
              "                style=\"display:none;\">\n",
              "\n",
              "<svg xmlns=\"http://www.w3.org/2000/svg\" height=\"24px\"viewBox=\"0 0 24 24\"\n",
              "     width=\"24px\">\n",
              "    <g>\n",
              "        <path d=\"M19 3H5c-1.1 0-2 .9-2 2v14c0 1.1.9 2 2 2h14c1.1 0 2-.9 2-2V5c0-1.1-.9-2-2-2zM9 17H7v-7h2v7zm4 0h-2V7h2v10zm4 0h-2v-4h2v4z\"/>\n",
              "    </g>\n",
              "</svg>\n",
              "      </button>\n",
              "\n",
              "<style>\n",
              "  .colab-df-quickchart {\n",
              "      --bg-color: #E8F0FE;\n",
              "      --fill-color: #1967D2;\n",
              "      --hover-bg-color: #E2EBFA;\n",
              "      --hover-fill-color: #174EA6;\n",
              "      --disabled-fill-color: #AAA;\n",
              "      --disabled-bg-color: #DDD;\n",
              "  }\n",
              "\n",
              "  [theme=dark] .colab-df-quickchart {\n",
              "      --bg-color: #3B4455;\n",
              "      --fill-color: #D2E3FC;\n",
              "      --hover-bg-color: #434B5C;\n",
              "      --hover-fill-color: #FFFFFF;\n",
              "      --disabled-bg-color: #3B4455;\n",
              "      --disabled-fill-color: #666;\n",
              "  }\n",
              "\n",
              "  .colab-df-quickchart {\n",
              "    background-color: var(--bg-color);\n",
              "    border: none;\n",
              "    border-radius: 50%;\n",
              "    cursor: pointer;\n",
              "    display: none;\n",
              "    fill: var(--fill-color);\n",
              "    height: 32px;\n",
              "    padding: 0;\n",
              "    width: 32px;\n",
              "  }\n",
              "\n",
              "  .colab-df-quickchart:hover {\n",
              "    background-color: var(--hover-bg-color);\n",
              "    box-shadow: 0 1px 2px rgba(60, 64, 67, 0.3), 0 1px 3px 1px rgba(60, 64, 67, 0.15);\n",
              "    fill: var(--button-hover-fill-color);\n",
              "  }\n",
              "\n",
              "  .colab-df-quickchart-complete:disabled,\n",
              "  .colab-df-quickchart-complete:disabled:hover {\n",
              "    background-color: var(--disabled-bg-color);\n",
              "    fill: var(--disabled-fill-color);\n",
              "    box-shadow: none;\n",
              "  }\n",
              "\n",
              "  .colab-df-spinner {\n",
              "    border: 2px solid var(--fill-color);\n",
              "    border-color: transparent;\n",
              "    border-bottom-color: var(--fill-color);\n",
              "    animation:\n",
              "      spin 1s steps(1) infinite;\n",
              "  }\n",
              "\n",
              "  @keyframes spin {\n",
              "    0% {\n",
              "      border-color: transparent;\n",
              "      border-bottom-color: var(--fill-color);\n",
              "      border-left-color: var(--fill-color);\n",
              "    }\n",
              "    20% {\n",
              "      border-color: transparent;\n",
              "      border-left-color: var(--fill-color);\n",
              "      border-top-color: var(--fill-color);\n",
              "    }\n",
              "    30% {\n",
              "      border-color: transparent;\n",
              "      border-left-color: var(--fill-color);\n",
              "      border-top-color: var(--fill-color);\n",
              "      border-right-color: var(--fill-color);\n",
              "    }\n",
              "    40% {\n",
              "      border-color: transparent;\n",
              "      border-right-color: var(--fill-color);\n",
              "      border-top-color: var(--fill-color);\n",
              "    }\n",
              "    60% {\n",
              "      border-color: transparent;\n",
              "      border-right-color: var(--fill-color);\n",
              "    }\n",
              "    80% {\n",
              "      border-color: transparent;\n",
              "      border-right-color: var(--fill-color);\n",
              "      border-bottom-color: var(--fill-color);\n",
              "    }\n",
              "    90% {\n",
              "      border-color: transparent;\n",
              "      border-bottom-color: var(--fill-color);\n",
              "    }\n",
              "  }\n",
              "</style>\n",
              "\n",
              "      <script>\n",
              "        async function quickchart(key) {\n",
              "          const quickchartButtonEl =\n",
              "            document.querySelector('#' + key + ' button');\n",
              "          quickchartButtonEl.disabled = true;  // To prevent multiple clicks.\n",
              "          quickchartButtonEl.classList.add('colab-df-spinner');\n",
              "          try {\n",
              "            const charts = await google.colab.kernel.invokeFunction(\n",
              "                'suggestCharts', [key], {});\n",
              "          } catch (error) {\n",
              "            console.error('Error during call to suggestCharts:', error);\n",
              "          }\n",
              "          quickchartButtonEl.classList.remove('colab-df-spinner');\n",
              "          quickchartButtonEl.classList.add('colab-df-quickchart-complete');\n",
              "        }\n",
              "        (() => {\n",
              "          let quickchartButtonEl =\n",
              "            document.querySelector('#df-d4c4aad6-82e6-451a-b077-aaf109c8f0cd button');\n",
              "          quickchartButtonEl.style.display =\n",
              "            google.colab.kernel.accessAllowed ? 'block' : 'none';\n",
              "        })();\n",
              "      </script>\n",
              "    </div>\n",
              "\n",
              "    </div>\n",
              "  </div>\n"
            ],
            "application/vnd.google.colaboratory.intrinsic+json": {
              "type": "dataframe",
              "summary": "{\n  \"name\": \"raw_datasets['train']\",\n  \"rows\": 45678,\n  \"fields\": [\n    {\n      \"column\": \"guid\",\n      \"properties\": {\n        \"dtype\": \"string\",\n        \"num_unique_values\": 45678,\n        \"samples\": [\n          \"ynat-v1_train_28594\",\n          \"ynat-v1_train_24007\",\n          \"ynat-v1_train_05139\"\n        ],\n        \"semantic_type\": \"\",\n        \"description\": \"\"\n      }\n    },\n    {\n      \"column\": \"title\",\n      \"properties\": {\n        \"dtype\": \"string\",\n        \"num_unique_values\": 45678,\n        \"samples\": [\n          \"\\ud55c\\ubbf8 \\uc5f0\\uad6c\\uc9c4 \\uc2a4\\uc2a4\\ub85c \\uad11\\ud569\\uc131\\ud558\\ub294 \\uc778\\uacf5\\uc138\\ud3ec \\uc81c\\uc791 \\uc131\\uacf5\",\n          \"\\ud130\\ud0a4 IS \\uac00\\ub2f4 \\ud6c4 \\uc870\\uc9c1\\uc6d0 \\ubaa8\\uc9d1 \\uc678\\uad6d\\uc778 4\\uba85 \\uccb4\\ud3ec\",\n          \"\\uc0ac\\uc6b0\\ub514 \\ud64d\\ud574\\uc0c1 \\ud3ed\\ubc1c \\uc774\\ub780 \\uc720\\uc870\\uc120 \\uc870\\ub825 \\uc2dc\\ub3c4\\u2026\\uc774\\ub780\\uc740 \\ubd80\\uc778\\uc885\\ud569\"\n        ],\n        \"semantic_type\": \"\",\n        \"description\": \"\"\n      }\n    },\n    {\n      \"column\": \"label\",\n      \"properties\": {\n        \"dtype\": \"number\",\n        \"std\": 1,\n        \"min\": 0,\n        \"max\": 6,\n        \"num_unique_values\": 7,\n        \"samples\": [\n          3,\n          2,\n          6\n        ],\n        \"semantic_type\": \"\",\n        \"description\": \"\"\n      }\n    },\n    {\n      \"column\": \"url\",\n      \"properties\": {\n        \"dtype\": \"string\",\n        \"num_unique_values\": 45678,\n        \"samples\": [\n          \"https://news.naver.com/main/read.nhn?mode=LS2D&mid=shm&sid1=105&sid2=228&oid=001&aid=0010113491\",\n          \"https://news.naver.com/main/read.nhn?mode=LS2D&mid=shm&sid1=104&sid2=234&oid=001&aid=0011094222\",\n          \"https://news.naver.com/main/read.nhn?mode=LS2D&mid=shm&sid1=104&sid2=234&oid=001&aid=0011138627\"\n        ],\n        \"semantic_type\": \"\",\n        \"description\": \"\"\n      }\n    },\n    {\n      \"column\": \"date\",\n      \"properties\": {\n        \"dtype\": \"string\",\n        \"num_unique_values\": 43164,\n        \"samples\": [\n          \"2016.08.25. \\uc624\\uc804 9:07\",\n          \"2016.03.23. \\uc624\\uc804 11:08\",\n          \"2016.09.19. \\uc624\\ud6c4 3:47\"\n        ],\n        \"semantic_type\": \"\",\n        \"description\": \"\"\n      }\n    }\n  ]\n}"
            }
          },
          "metadata": {},
          "execution_count": 12
        }
      ]
    },
    {
      "cell_type": "markdown",
      "source": [
        "- 필드 정보\n",
        "\n",
        "| 필드명     | 필드 설명                                                                                               |\n",
        "| ------- | --------------------------------------------------------------------------------------------------- |\n",
        "| `guid`  | 데이터 고유 ID (예: `ynat-v1_train_00000`)                                                                |\n",
        "| `title` | 기사 제목 (연합뉴스 헤드라인 텍스트)                                                                               |\n",
        "| `label` | 토픽 분류 레이블 (정수형):<br>- 0: IT·과학<br>- 1: 경제<br>- 2: 사회<br>- 3: 생활문화<br>- 4: 세계<br>- 5: 스포츠<br>- 6: 정치 |\n",
        "| `url`   | 원문 기사 링크 (네이버 뉴스 URL)                                                                               |\n",
        "| `date`  | 기사 게시 일시 (예: `2016.06.30. 오전 10:36`)                                                                |"
      ],
      "metadata": {
        "id": "ag9CevoOtxDS"
      }
    },
    {
      "cell_type": "markdown",
      "source": [
        "## 허깅페이스 워크플로우\n",
        "- **업스트림(UpStream)** : 모델이 일반적인 언어 패턴을 배우는 **<U>사전학습 과정**</U>\n",
        "- **다운스트림(Downstream)** : 사전 학습 된 모델을 특정 작업에 맞게 조정하는 **<U>Fine-Tuning 과정**</U>\n",
        "\n",
        "### 구성요소\n",
        "\n",
        "> #### 1. **Trainer**\n",
        "> - **<U>데이터 전처리부터 학습·평가·저장**</U>까지 모든 과정을 한 번에 수행해 주는 고수준 API\n",
        "> - 아래 4가지 주요 구성 요소를 조합해 Fine-tuning 워크플로우를 완성시켜야 함\n",
        "\n",
        "> #### 2. **DataCollator**\n",
        "> - 데이터를 **<U>배치 단위로 묶어주는 클래스**</U>\n",
        "> - 각 배치의 입력 데이터를 일정한 크기로 맞추기 위해 패딩 처리 등을 수행함\n",
        "\n",
        "> #### 3. **Tokenizer**\n",
        "> - 사전 학습 된 모델에 맞는 **<U>토큰화 도구**</U>\n",
        "> - 업스트림 시 동일한 토크나이저를 사용해 입력 데이터를 처리함\n",
        "\n",
        "> #### 4. **Downstream Task Classes**\n",
        "> - **<U>Fine-tuning 대상 모델**</U>\n",
        "> - 사전학습된 모델을 다양한 NLP 작업에 맞게 활용할 수 있음\n",
        "```\n",
        "예시)\n",
        "    AutoModelForSequenceClassification (분류)\n",
        "    AutoModelForQuestionAnswering (QA)\n",
        "    AutoModelForTokenClassification (개체명 인식)\n",
        "```\n",
        "\n",
        "> #### 5. **Training Arguments**\n",
        "> - 학습 과정에서 필요한 **하이퍼파라미터**들을 설정하는 클래스\n",
        "> - **<U>학습률(learning rate), 배치 크기, 에포크 수(epochs) 등**</U> 학습 관련 설정값을 관리함"
      ],
      "metadata": {
        "id": "QsWHBapIuCwu"
      }
    },
    {
      "cell_type": "markdown",
      "source": [
        "![image.png](data:image/png;base64,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)"
      ],
      "metadata": {
        "id": "nb70e_Utuc8g"
      }
    },
    {
      "cell_type": "markdown",
      "source": [
        "## 2. 토크나이저 로딩\n",
        "- KoELECTRA 모델로 실습 진행:"
      ],
      "metadata": {
        "id": "a2rn4heYujnp"
      }
    },
    {
      "cell_type": "markdown",
      "source": [
        "#### monologg/koelectra 주요 버전 및 종류\n",
        "\n",
        "- GitHub : https://github.com/monologg/KoELECTRA/blob/master/README.md\n",
        "\n",
        "| 모델 이름                                       | 크기    | 역할            | 설명                                                         |\n",
        "| ------------------------------------------- | ----- | ------------- | ---------------------------------------------------------- |\n",
        "| `monologg/koelectra-base-generator`         | Base  | Generator     | 토큰 생성기(generator) 역할 · v3 이전 버전         |\n",
        "| `monologg/koelectra-base-discriminator`     | Base  | Discriminator | 토큰 판별기(discriminator) 역할 · v1/v2 기본 버전  |\n",
        "| `monologg/koelectra-base-v3-generator`      | Base  | Generator     | v3 버전 · generator                       |\n",
        "| `monologg/koelectra-base-v3-discriminator`  | Base  | Discriminator | v3 버전 · discriminator                   |\n",
        "| `monologg/koelectra-small-generator`        | Small | Generator     | 소형 모델 · generator                       |\n",
        "| `monologg/koelectra-small-discriminator`    | Small | Discriminator | 소형 모델 · discriminator                   |\n",
        "| `monologg/koelectra-small-v3-generator`     | Small | Generator     | v3 소형 버전 · generator (NSMC 감성분석 등에 활용 가능)                  |\n",
        "| `monologg/koelectra-small-v3-discriminator` | Small | Discriminator | v3 소형 버전 · discriminator (감정분석, 문장분류 등)                    |\n",
        "| `monologg/koelectra-small-v3-goemotions`    | Small | Discriminator | v3 소형 버전 · GoEmotions 감정분류용 (영문 감정 레이블 매핑)                 |\n",
        "| `monologg/koelectra-base-v3-naver-ner`      | Base  | Discriminator | v3 버전 · Naver NER(개체명 인식)용 fine-tuned 모델                   |\n",
        "| `monologg/koelectra-base-v3-gender-bias`    | Base  | Discriminator | v3 버전 · 성별 편향 분석용 (gender-bias) 모델                         |"
      ],
      "metadata": {
        "id": "RfENZxCJyjFi"
      }
    },
    {
      "cell_type": "code",
      "source": [
        "# 사전학습 모델 monologg/koelectra-base-v3-discriminator\n",
        "from transformers import AutoTokenizer\n",
        "# - 사전 학습된 모델에 맞는 토크나이저를 자동으로 불러오는 기능"
      ],
      "metadata": {
        "id": "ZgB1mYOKymnf"
      },
      "execution_count": 13,
      "outputs": []
    },
    {
      "cell_type": "code",
      "source": [
        "model_name = 'monologg/koelectra-base-v3-discriminator'"
      ],
      "metadata": {
        "id": "37xzEth6za74"
      },
      "execution_count": 14,
      "outputs": []
    },
    {
      "cell_type": "code",
      "source": [
        "# 직접 모델 호출\n",
        "# 토크나이저 다운 받기\n",
        "tokenizer = AutoTokenizer.from_pretrained(\n",
        "    model_name,\n",
        "    clean_up_tokenization_spaces = True # 토큰화 후에 공백 문자 등을 정리하는 전처리 옵션 (기본값 True)\n",
        ")"
      ],
      "metadata": {
        "colab": {
          "base_uri": "https://localhost:8080/",
          "height": 113,
          "referenced_widgets": [
            "af7c1dac8a2a444f84f75e75cada6de1",
            "981a0122ea1b4954b3d841ab17a246dc",
            "8d0042564a894d6cb5b55d496df92d99",
            "f81037738576497aa3a68ee6a4eb84a8",
            "2e8fed2c1c454ca7af56ff29bece0bae",
            "619c67b1a41540a18e060ecde49de381",
            "517478a17da04088be70330f52e9d9b5",
            "25b7d22e6d654cbdbae7819f30ed8b72",
            "df98d7c4a29f4be3baa86bcc8425a189",
            "8de300de294940c4b36be3610a4caf4a",
            "17376bea65544895a24118563596ae2d",
            "3476b4f2926441ccb9eb0633baf31691",
            "71f094b6c99548fd9a7d8227985fdeda",
            "facef253bd174616a713c0beeaab7a8a",
            "90396223057d4783a710489917e7f0b2",
            "f54d02b95f964265bba3d978c61964fd",
            "714b9e0a1a854ccd89258dcc15c2bedb",
            "ab09c8c874a54fa28a0530465d7d120c",
            "c26684a61fe84a3a834dbdcd8e6cedb1",
            "ae91cba623a347aeac18282f17ec0df8",
            "f20a97a713a1406291ca3048cd59caa6",
            "58be9231e4754dda9a22df7a02c12ccc",
            "b3dc1eebbd9044e5830eab8f6894a501",
            "e7a066b6e6344503bef7062cde854a05",
            "c033c85cdd9b4eb2b9cef11d16e2f075",
            "54e5bd71a250401cb292131ceaccb994",
            "72eb0a58d8a14e428b684503fa8a368d",
            "bf84ab7638d14813b0cbdbab932d5f91",
            "ab05244b21234a28a016e19e9c25fbc1",
            "e04ef152324b4461a77c10d7c4b5fd17",
            "03f2639818f24622855ab8b79718d256",
            "69fb9c82f5e24415a367036ffc81f716",
            "c7a0c5fbd87a47c3aaa058cae71b6c94"
          ]
        },
        "id": "6pjjm5V-zjVj",
        "outputId": "9ac02caf-fbf2-440c-b4bc-7e5c26bda520"
      },
      "execution_count": 15,
      "outputs": [
        {
          "output_type": "display_data",
          "data": {
            "text/plain": [
              "tokenizer_config.json:   0%|          | 0.00/61.0 [00:00<?, ?B/s]"
            ],
            "application/vnd.jupyter.widget-view+json": {
              "version_major": 2,
              "version_minor": 0,
              "model_id": "af7c1dac8a2a444f84f75e75cada6de1"
            }
          },
          "metadata": {}
        },
        {
          "output_type": "display_data",
          "data": {
            "text/plain": [
              "config.json:   0%|          | 0.00/467 [00:00<?, ?B/s]"
            ],
            "application/vnd.jupyter.widget-view+json": {
              "version_major": 2,
              "version_minor": 0,
              "model_id": "3476b4f2926441ccb9eb0633baf31691"
            }
          },
          "metadata": {}
        },
        {
          "output_type": "display_data",
          "data": {
            "text/plain": [
              "vocab.txt: 0.00B [00:00, ?B/s]"
            ],
            "application/vnd.jupyter.widget-view+json": {
              "version_major": 2,
              "version_minor": 0,
              "model_id": "b3dc1eebbd9044e5830eab8f6894a501"
            }
          },
          "metadata": {}
        }
      ]
    },
    {
      "cell_type": "code",
      "source": [
        "# 1개 문장을 설정으로 토큰화 테스트해보기\n",
        "# - 한 개 문장(뉴스제목) 접근\n",
        "raw_datasets['train'][0]['title']\n",
        "\n",
        "# tokenizer 기능실행\n",
        "temp_result = tokenizer(\n",
        "    raw_datasets['train'][0]['title'],\n",
        "    truncation = True,\n",
        "    max_length = 128,\n",
        "    # return_tensors = 'pt' # 추후에 map()로 토크나이저 호출 시 tensor를 미리 변환하지 않음(error발생)\n",
        "                            # 보통 Trainer나 DataCollator 사용 시에 배치 텐서형으로 변환하도록 위임할 수 있음\n",
        ")\n",
        "\n",
        "temp_result\n",
        "\n",
        "# input_ids : 토큰 ID 리스트 (정수 시퀀스)\n",
        "# token_type_ids : 세그먼트 구분ID 리스트 (단일 문장일 경우 모두 0)\n",
        "# attention_mask : 어텐션 마스크 리스트( 1: 실제 문장 내 토큰 사용, 0: 패딩 )"
      ],
      "metadata": {
        "colab": {
          "base_uri": "https://localhost:8080/"
        },
        "id": "cpvG_9Rc0Vmw",
        "outputId": "d55e2e35-7297-4682-ace8-385dbd2504e5"
      },
      "execution_count": 16,
      "outputs": [
        {
          "output_type": "execute_result",
          "data": {
            "text/plain": [
              "{'input_ids': [2, 11468, 11642, 22, 4366, 4149, 4200, 32462, 6310, 6800, 6411, 3], 'token_type_ids': [0, 0, 0, 0, 0, 0, 0, 0, 0, 0, 0, 0], 'attention_mask': [1, 1, 1, 1, 1, 1, 1, 1, 1, 1, 1, 1]}"
            ]
          },
          "metadata": {},
          "execution_count": 16
        }
      ]
    },
    {
      "cell_type": "code",
      "source": [
        "# 토큰 목록 확인\n",
        "# 토큰 ID -> 토큰(문자값) : 디코딩\n",
        "tokenizer.convert_ids_to_tokens(temp_result['input_ids'])\n",
        "\n",
        "# id: 2, '[CLS]' 문장의 시작점\n",
        "# id: 3, '[SEP]' 문장의 끝점\n",
        "# 대부분의 토크나이저는 내부적으로 WordPiece 기반 모델\n",
        "# 모델이 이해할 수 있도록 문장 -> 서브워드 조각 -> 정수 시퀀스로 변환해줌"
      ],
      "metadata": {
        "colab": {
          "base_uri": "https://localhost:8080/"
        },
        "id": "qIVq-Qfl191F",
        "outputId": "37f2d9c8-da29-475c-b951-b1981595bd66"
      },
      "execution_count": 17,
      "outputs": [
        {
          "output_type": "execute_result",
          "data": {
            "text/plain": [
              "['[CLS]',\n",
              " '유튜브',\n",
              " '내달',\n",
              " '2',\n",
              " '##일',\n",
              " '##까',\n",
              " '##지',\n",
              " '크리에이터',\n",
              " '지원',\n",
              " '공간',\n",
              " '운영',\n",
              " '[SEP]']"
            ]
          },
          "metadata": {},
          "execution_count": 17
        }
      ]
    },
    {
      "cell_type": "code",
      "source": [
        "# 토크나이저 함수 정의\n",
        "def tokenizer_function(example):\n",
        "  # example : 각 뉴스 기사 제목을 가리키는 변수\n",
        "  return tokenizer(example['title'], truncation = True, max_length = 128)"
      ],
      "metadata": {
        "id": "t5AkNSwQ27Am"
      },
      "execution_count": 18,
      "outputs": []
    },
    {
      "cell_type": "markdown",
      "source": [
        "- 데이터에 토크나이저를 적용하기 위한 함수 종류\n",
        "\n",
        "> #### **map()**\n",
        "> - **<U>변환을 즉시 적용**</U>하며, 변환된 결과는 새로운 데이터셋으로 반환됨\n",
        "> - 토큰화, 라벨 변환 등 데이터 전처리 작업에서 자주 사용\n",
        "\n",
        "> #### **with_transform()**\n",
        "> - 변환을 등록해 두고, 실제 **<U>데이터 접근 시 변환을 적용**</U>함 (스트림형)\n",
        "> - 학습을 수행할 때 호출하여 변형이 이루어짐\n",
        "> - 메모리 절약을 위해, 또는 데이터셋을 한 번에 모두 변형할 필요가 없을 때 유용"
      ],
      "metadata": {
        "id": "UG9ncBf44AjE"
      }
    },
    {
      "cell_type": "code",
      "source": [
        "# 데이터셋에 토크나이저 적용 (학습/검증셋 모두 적용)\n",
        "# DatasetDict - map\n",
        "tokenized_datasets = raw_datasets.map(\n",
        "    tokenizer_function, # 데이터셋의 각 예시(또는 배치(문장 여러개))에 적용할 전처리 함수\n",
        "    batched = True     # True: 예시 하나씩이 아닌, 여러개(배치)씩 모아서 tokenize_func에 전달\n",
        "                       # 속도 향상(벡터화된 연산), 'padding'+'truncation' 옵션 적용시 일괄 처리에 적합\n",
        ")\n",
        "tokenized_datasets\n",
        "\n",
        "# 'input_ids', 'token_type_ids', 'attention_mask' 새로운 필드(속성)가 추가됨을 확인"
      ],
      "metadata": {
        "colab": {
          "base_uri": "https://localhost:8080/",
          "height": 312,
          "referenced_widgets": [
            "f3268ba94bdd468bb30007a32a769368",
            "dff4b6a3f5f043df812548c94b5dbfad",
            "5c95d8be8bfb47e691029cccc003c49c",
            "dcdf1098c44b43e69b49cba270bae8a9",
            "18ce26c86e5d463ea191ff001994173f",
            "dbc59746dfa549dabab388bbf1e2388c",
            "09b9b389dac84b0496739794716899f4",
            "5bcd432651bf4b9ca3a7b48a5fb3aa1e",
            "2c58dcedcced4a8998195bc3b7245da9",
            "25146a754cd64dd88a333d5b09a560fd",
            "d9fde5fc1fde4ed3836f953cb82a42f7",
            "de4e38917be041218ea905b790e09f7d",
            "8ab88148b6734dcf8790f26ca2c1ac71",
            "dc6fa2b67e1a4318a19ce9c163c4527a",
            "d0eecb0f7abb41d3bc6770eee2786429",
            "d3e9bb44b6084dda8f59a244ff0306d1",
            "4de7764a5faf4c1b9a4c1e99e58e324d",
            "7512e026190e46aa98a85eeb94c696fb",
            "ee0a8c63eefe4d8e9ab507655c1f2120",
            "dc3b1438fffb41d5b1c274d37a8741b3",
            "0bc1653680ff4cacb93c53ae70d588c1",
            "7daee19d55e147d8a92813edebc80e6e"
          ]
        },
        "id": "j3cqlS464Jqa",
        "outputId": "88e52082-9c7f-49b2-94df-adf4f7a89601"
      },
      "execution_count": 19,
      "outputs": [
        {
          "output_type": "display_data",
          "data": {
            "text/plain": [
              "Map:   0%|          | 0/45678 [00:00<?, ? examples/s]"
            ],
            "application/vnd.jupyter.widget-view+json": {
              "version_major": 2,
              "version_minor": 0,
              "model_id": "f3268ba94bdd468bb30007a32a769368"
            }
          },
          "metadata": {}
        },
        {
          "output_type": "display_data",
          "data": {
            "text/plain": [
              "Map:   0%|          | 0/9107 [00:00<?, ? examples/s]"
            ],
            "application/vnd.jupyter.widget-view+json": {
              "version_major": 2,
              "version_minor": 0,
              "model_id": "de4e38917be041218ea905b790e09f7d"
            }
          },
          "metadata": {}
        },
        {
          "output_type": "execute_result",
          "data": {
            "text/plain": [
              "DatasetDict({\n",
              "    train: Dataset({\n",
              "        features: ['guid', 'title', 'label', 'url', 'date', 'input_ids', 'token_type_ids', 'attention_mask'],\n",
              "        num_rows: 45678\n",
              "    })\n",
              "    validation: Dataset({\n",
              "        features: ['guid', 'title', 'label', 'url', 'date', 'input_ids', 'token_type_ids', 'attention_mask'],\n",
              "        num_rows: 9107\n",
              "    })\n",
              "})"
            ]
          },
          "metadata": {},
          "execution_count": 19
        }
      ]
    },
    {
      "cell_type": "code",
      "source": [
        "# features 확인\n",
        "print(tokenized_datasets['train'].features)\n",
        "print(tokenized_datasets['train'])"
      ],
      "metadata": {
        "colab": {
          "base_uri": "https://localhost:8080/"
        },
        "id": "zX5ISF3U4nvQ",
        "outputId": "4f2a24ba-61b8-4bc9-dcd4-fb4040b1ac2d"
      },
      "execution_count": 20,
      "outputs": [
        {
          "output_type": "stream",
          "name": "stdout",
          "text": [
            "{'guid': Value('string'), 'title': Value('string'), 'label': ClassLabel(names=['IT과학', '경제', '사회', '생활문화', '세계', '스포츠', '정치']), 'url': Value('string'), 'date': Value('string'), 'input_ids': List(Value('int32')), 'token_type_ids': List(Value('int8')), 'attention_mask': List(Value('int8'))}\n",
            "Dataset({\n",
            "    features: ['guid', 'title', 'label', 'url', 'date', 'input_ids', 'token_type_ids', 'attention_mask'],\n",
            "    num_rows: 45678\n",
            "})\n"
          ]
        }
      ]
    },
    {
      "cell_type": "code",
      "source": [
        "# 원본에서 불필요한 삭제용 컬럼명 추출\n",
        "# label은 학습 시에 필요하므로 제외\n",
        "remove_columns = [key for key in raw_datasets['train'].features.keys() if key != 'label']\n",
        "remove_columns\n",
        "\n",
        "# 전처리 데이터가 아닌, 원본 feature 값에서 label을 제외한 나머지 컬럼명만 선택 -> 삭제 예정"
      ],
      "metadata": {
        "colab": {
          "base_uri": "https://localhost:8080/"
        },
        "id": "GE3Z28f56lLt",
        "outputId": "669a6594-6115-483d-b3b5-91b4d2657296"
      },
      "execution_count": 21,
      "outputs": [
        {
          "output_type": "execute_result",
          "data": {
            "text/plain": [
              "['guid', 'title', 'url', 'date']"
            ]
          },
          "metadata": {},
          "execution_count": 21
        }
      ]
    },
    {
      "cell_type": "code",
      "source": [
        "# 훈련에 필요하지 않은 컬럼(feature, 필드) 제거 및 업데이트\n",
        "# DatasetDict 내장된 삭제 함수 활용 : remove_columns()\n",
        "tokenized_datasets = tokenized_datasets.remove_columns(remove_columns) # 전처리 데이터셋 초기화"
      ],
      "metadata": {
        "id": "qrVDi51774eY"
      },
      "execution_count": 22,
      "outputs": []
    },
    {
      "cell_type": "code",
      "source": [
        "tokenized_datasets\n",
        "\n",
        "# ['input_ids', 'token_type_ids', 'attention_mask'] 훈련에 필요한 입력과 'label'만 남은 상황"
      ],
      "metadata": {
        "colab": {
          "base_uri": "https://localhost:8080/"
        },
        "id": "z_oE7bqN8L6r",
        "outputId": "b6296016-44d4-483c-f862-7bf4a11afbda"
      },
      "execution_count": 23,
      "outputs": [
        {
          "output_type": "execute_result",
          "data": {
            "text/plain": [
              "DatasetDict({\n",
              "    train: Dataset({\n",
              "        features: ['label', 'input_ids', 'token_type_ids', 'attention_mask'],\n",
              "        num_rows: 45678\n",
              "    })\n",
              "    validation: Dataset({\n",
              "        features: ['label', 'input_ids', 'token_type_ids', 'attention_mask'],\n",
              "        num_rows: 9107\n",
              "    })\n",
              "})"
            ]
          },
          "metadata": {},
          "execution_count": 23
        }
      ]
    },
    {
      "cell_type": "markdown",
      "source": [
        "### 3. 모델 불러오기\n",
        "- 다운스트림 task class 로드 (사전학습 모델 불러오기)\n",
        "- 해석하기 쉽게 모델 설정에서 레이블 이름도 등록해주자."
      ],
      "metadata": {
        "id": "15-q86R_84Yl"
      }
    },
    {
      "cell_type": "code",
      "source": [
        "# 이미 label 컬럼의 메타 정보로 클래스 이름이 들어있는 상황\n",
        "# 레이블명 추출 (인덱스 순서대로 레이블 이름 리스트 반환)\n",
        "label_names = tokenized_datasets['train'].features['label'].names"
      ],
      "metadata": {
        "id": "KdNralHUAQmg"
      },
      "execution_count": 24,
      "outputs": []
    },
    {
      "cell_type": "code",
      "source": [
        "label_names"
      ],
      "metadata": {
        "colab": {
          "base_uri": "https://localhost:8080/"
        },
        "id": "qV17iX62ApDN",
        "outputId": "8f18e204-682f-4af3-aa83-a37395cebdde"
      },
      "execution_count": 25,
      "outputs": [
        {
          "output_type": "execute_result",
          "data": {
            "text/plain": [
              "['IT과학', '경제', '사회', '생활문화', '세계', '스포츠', '정치']"
            ]
          },
          "metadata": {},
          "execution_count": 25
        }
      ]
    },
    {
      "cell_type": "code",
      "source": [
        "# id2label = {0:IT과학', 1:'경제', ...}\n",
        "# label2id = {IT과학','경제', ...}\n",
        "# 예측값에 대해 해석하기 쉽게 모델에 반영하기 위함\n",
        "\n",
        "id2label = {i:name for i, name in enumerate(label_names)}\n",
        "id2label\n",
        "label2id = {name:i for i, name in enumerate(label_names)}\n",
        "print(id2label)\n",
        "print(label2id)"
      ],
      "metadata": {
        "colab": {
          "base_uri": "https://localhost:8080/"
        },
        "id": "6NWVM1O-AwOW",
        "outputId": "bfae8d4f-4d37-4dcf-aa7c-9ef41dc2a899"
      },
      "execution_count": 26,
      "outputs": [
        {
          "output_type": "stream",
          "name": "stdout",
          "text": [
            "{0: 'IT과학', 1: '경제', 2: '사회', 3: '생활문화', 4: '세계', 5: '스포츠', 6: '정치'}\n",
            "{'IT과학': 0, '경제': 1, '사회': 2, '생활문화': 3, '세계': 4, '스포츠': 5, '정치': 6}\n"
          ]
        }
      ]
    },
    {
      "cell_type": "code",
      "source": [
        "# 모델 불러오는 클래스 연결\n",
        "from transformers import AutoModelForSequenceClassification # 분류"
      ],
      "metadata": {
        "id": "LdhyPJFqBn_0"
      },
      "execution_count": 27,
      "outputs": []
    },
    {
      "cell_type": "code",
      "source": [
        "# 사전 학습 모델 로드\n",
        "model = AutoModelForSequenceClassification.from_pretrained(\n",
        "    model_name, # monologg/koelectra-base-v3-discriminator\n",
        "    num_labels = len(label_names) # 분류할 라벨의 클래스 수(7개) 설정\n",
        ")\n",
        "\n",
        "# 안내문이 출력됨\n",
        "# fine-tuning 과정을 거쳐야 하는 분류 헤드가 제대로 학습되어 예측, 추론이 가능하다는 안내"
      ],
      "metadata": {
        "colab": {
          "base_uri": "https://localhost:8080/",
          "height": 115,
          "referenced_widgets": [
            "887ad90d09d4455ba9ccf8502c3b780f",
            "208f3cfe96954e37a7e271d5ac7262ee",
            "79e270015f884476bf8e939e653e9c30",
            "90816cbdcadb4c009ea4538c51949af7",
            "7a60e4ff50f2436a80f727effe37a013",
            "51963fe5da5240a6af7ce277a55330dd",
            "87374c671b664a069e0ef0b710e7e271",
            "7bd80218d0fb45a9a3ecbe4070c84a48",
            "1d3171e146f94cfb9ff08b074889d876",
            "595cda118965459dba943fad7bfd3dd9",
            "a2f6171434774c31bebc5e5c6057d405"
          ]
        },
        "id": "tRBr0pdQCDFR",
        "outputId": "6872c3f7-1630-406d-ed9c-f81756b771a4"
      },
      "execution_count": 28,
      "outputs": [
        {
          "output_type": "display_data",
          "data": {
            "text/plain": [
              "pytorch_model.bin:   0%|          | 0.00/452M [00:00<?, ?B/s]"
            ],
            "application/vnd.jupyter.widget-view+json": {
              "version_major": 2,
              "version_minor": 0,
              "model_id": "887ad90d09d4455ba9ccf8502c3b780f"
            }
          },
          "metadata": {}
        },
        {
          "output_type": "stream",
          "name": "stderr",
          "text": [
            "Some weights of ElectraForSequenceClassification were not initialized from the model checkpoint at monologg/koelectra-base-v3-discriminator and are newly initialized: ['classifier.dense.bias', 'classifier.dense.weight', 'classifier.out_proj.bias', 'classifier.out_proj.weight']\n",
            "You should probably TRAIN this model on a down-stream task to be able to use it for predictions and inference.\n"
          ]
        }
      ]
    },
    {
      "cell_type": "code",
      "source": [
        "# 모델 설정 - 라벨 이름 확인\n",
        "print(label_names)\n",
        "print(model.config.id2label)\n",
        "print(model.config.label2id)\n",
        "\n",
        "# 직접 생성해둔 dict 아이디 관련 정보 연결\n",
        "print(id2label)\n",
        "print(label2id)\n",
        "# 모델 설정에 라벨 이름 매핑하여 업데이트.\n",
        "model.config.id2label = id2label\n",
        "model.config.label2id = label2id"
      ],
      "metadata": {
        "colab": {
          "base_uri": "https://localhost:8080/"
        },
        "id": "yjZubdsIDKac",
        "outputId": "a7256cad-903e-4344-e6ff-1780d490faff"
      },
      "execution_count": 29,
      "outputs": [
        {
          "output_type": "stream",
          "name": "stdout",
          "text": [
            "['IT과학', '경제', '사회', '생활문화', '세계', '스포츠', '정치']\n",
            "{0: 'LABEL_0', 1: 'LABEL_1', 2: 'LABEL_2', 3: 'LABEL_3', 4: 'LABEL_4', 5: 'LABEL_5', 6: 'LABEL_6'}\n",
            "{'LABEL_0': 0, 'LABEL_1': 1, 'LABEL_2': 2, 'LABEL_3': 3, 'LABEL_4': 4, 'LABEL_5': 5, 'LABEL_6': 6}\n",
            "{0: 'IT과학', 1: '경제', 2: '사회', 3: '생활문화', 4: '세계', 5: '스포츠', 6: '정치'}\n",
            "{'IT과학': 0, '경제': 1, '사회': 2, '생활문화': 3, '세계': 4, '스포츠': 5, '정치': 6}\n"
          ]
        }
      ]
    },
    {
      "cell_type": "code",
      "source": [
        "# 업데이트 확인\n",
        "print(model.config.id2label)\n",
        "print(model.config.label2id)"
      ],
      "metadata": {
        "colab": {
          "base_uri": "https://localhost:8080/"
        },
        "id": "NNvbGaWfDLjX",
        "outputId": "7af37fba-598a-40e7-ee71-ff1bfc62d581"
      },
      "execution_count": 30,
      "outputs": [
        {
          "output_type": "stream",
          "name": "stdout",
          "text": [
            "{0: 'IT과학', 1: '경제', 2: '사회', 3: '생활문화', 4: '세계', 5: '스포츠', 6: '정치'}\n",
            "{'IT과학': 0, '경제': 1, '사회': 2, '생활문화': 3, '세계': 4, '스포츠': 5, '정치': 6}\n"
          ]
        }
      ]
    },
    {
      "cell_type": "markdown",
      "source": [
        "## 4. Data Collator & 평가지표 함수 정의\n",
        "> Collator\n",
        "> - Trainer에게 데이터를 전달해주는 클래스\n",
        "> - 이때, 트랜스포머 모델 입력은 길이가 다를 수 있는 시퀀스므로, 한 배치 내 최대 길이에 맞추어 패딩이 필요\n",
        "\n",
        "> 평가지표 함수\n",
        "> - 학습 중 검증 단계에서 계산할 평가지표 함수 정의\n",
        "> - 정확도, 정밀도, 재현율, F1스코어 활용해보기"
      ],
      "metadata": {
        "id": "He9ihI53Eskq"
      }
    },
    {
      "cell_type": "code",
      "source": [
        "from transformers import DataCollatorWithPadding\n",
        "# 동적 배치 기능(유틸리티), 문장 내 최대 길이(128)에 맞춰 패딩하여 Trainer에게 전달해주는 클래스"
      ],
      "metadata": {
        "id": "vaA9rVF7F_bh"
      },
      "execution_count": 31,
      "outputs": []
    },
    {
      "cell_type": "code",
      "source": [
        "# tokenizer 인식 하도록 설정\n",
        "data_collator = DataCollatorWithPadding(tokenizer = tokenizer)\n",
        "# 토큰화하는데 사용된 토크나이저 지정"
      ],
      "metadata": {
        "id": "JeYBiETiGGrB"
      },
      "execution_count": 32,
      "outputs": []
    },
    {
      "cell_type": "code",
      "source": [
        "# tokenizer 지정 이융\n",
        "# - 해당 도구가 가지고 있는\n",
        "# - pad_token_id (패딩 토큰 번호)\n",
        "# - padding_side(패딩을 어느쪽에 채우는지)\n",
        "# - model_max_length(최대 입력 길이) 등\n",
        "# 패딩 기준 정보 제공하기 위함"
      ],
      "metadata": {
        "id": "bvcy5_c0Gm9x"
      },
      "execution_count": 33,
      "outputs": []
    },
    {
      "cell_type": "markdown",
      "source": [
        "#### 평가지표 함수 정의\n",
        "- 실제 훈련에 적용하기 전에 validation set을 활용하여 test\n",
        "\n",
        "- 1. 예측에 사용할 모델 입력 만들기"
      ],
      "metadata": {
        "id": "_sgqe6txHGhR"
      }
    },
    {
      "cell_type": "code",
      "source": [
        "model = model.to(device)"
      ],
      "metadata": {
        "id": "DgjE4ucjHU29"
      },
      "execution_count": 34,
      "outputs": []
    },
    {
      "cell_type": "code",
      "source": [
        "# 검증셋에서 샘플 가져오기\n",
        "sample = tokenized_datasets['validation'][0]\n",
        "print(sample)"
      ],
      "metadata": {
        "colab": {
          "base_uri": "https://localhost:8080/"
        },
        "id": "icuPczFFHgTg",
        "outputId": "8ddd962d-abd0-4445-ba9d-9e9c190fe7e9"
      },
      "execution_count": 35,
      "outputs": [
        {
          "output_type": "stream",
          "name": "stdout",
          "text": [
            "{'label': 2, 'input_ids': [2, 25, 4639, 4005, 23362, 18075, 4034, 2411, 4219, 27, 4156, 4172, 4005, 6874, 4164, 4034, 3081, 4880, 4176, 3], 'token_type_ids': [0, 0, 0, 0, 0, 0, 0, 0, 0, 0, 0, 0, 0, 0, 0, 0, 0, 0, 0, 0], 'attention_mask': [1, 1, 1, 1, 1, 1, 1, 1, 1, 1, 1, 1, 1, 1, 1, 1, 1, 1, 1, 1]}\n"
          ]
        }
      ]
    },
    {
      "cell_type": "code",
      "source": [
        "# 모델에 입력으로 전달하기 위해 변환 작업 필요\n",
        "# 사용할 필드(label 제외)만 뽑아서 Tensor변환 후 gpu로 이동할 예정\n",
        "\n",
        "# use_columns = [key for key in tokenized_datasets['validation'].features.keys()]\n",
        "# use_columns = use_columns[1:]\n",
        "# use_columns\n",
        "\n",
        "# 조건문\n",
        "use_columns = [key for key in tokenized_datasets['validation'].features.keys() if key != 'label']\n",
        "use_columns"
      ],
      "metadata": {
        "colab": {
          "base_uri": "https://localhost:8080/"
        },
        "id": "zulRcsEnHwdc",
        "outputId": "a543a7fd-f9e5-4331-d537-2025bb4e71ed"
      },
      "execution_count": 36,
      "outputs": [
        {
          "output_type": "execute_result",
          "data": {
            "text/plain": [
              "['input_ids', 'token_type_ids', 'attention_mask']"
            ]
          },
          "metadata": {},
          "execution_count": 36
        }
      ]
    },
    {
      "cell_type": "code",
      "source": [
        "# 1. 처리된 모델 입력값 담아둘 딕셔너리 초기화\n",
        "inputs = {}\n",
        "\n",
        "# 2. sample 순회\n",
        "for key, value in sample.items():\n",
        "  # 3. 사용할 필드 (use_columns) 확인\n",
        "  if key in use_columns:\n",
        "    tensor = torch.tensor(value) # 파이토치 텐서로 변환 -> transformer 모델 입력은 tensor 처리 가능\n",
        "    tensor = tensor.unsqueeze(0) # 차원추가 (예시: [seq_len]-> [1, seq_len] ) -> 모델 배치 단위 입력에 맞춰 변환\n",
        "    tensor = tensor.to(device) # 앞서 확인한 device(gpu)로 이동 -> tensor를 gpu로 이동시켜,\n",
        "                               # gpu의 가속을 활용하여 추론 속도를 높임\n",
        "                               # + 모델 자체도 현재 gpu에 있는 상황\n",
        "\n",
        "    # 딕셔너리 추가\n",
        "    inputs[key] = tensor\n",
        "\n",
        "inputs"
      ],
      "metadata": {
        "colab": {
          "base_uri": "https://localhost:8080/"
        },
        "id": "ny8KmrmoIxC8",
        "outputId": "8ec08125-5946-4c1e-b6a4-f33f98a0dad5"
      },
      "execution_count": 37,
      "outputs": [
        {
          "output_type": "execute_result",
          "data": {
            "text/plain": [
              "{'input_ids': tensor([[    2,    25,  4639,  4005, 23362, 18075,  4034,  2411,  4219,    27,\n",
              "           4156,  4172,  4005,  6874,  4164,  4034,  3081,  4880,  4176,     3]],\n",
              "        device='cuda:0'),\n",
              " 'token_type_ids': tensor([[0, 0, 0, 0, 0, 0, 0, 0, 0, 0, 0, 0, 0, 0, 0, 0, 0, 0, 0, 0]],\n",
              "        device='cuda:0'),\n",
              " 'attention_mask': tensor([[1, 1, 1, 1, 1, 1, 1, 1, 1, 1, 1, 1, 1, 1, 1, 1, 1, 1, 1, 1]],\n",
              "        device='cuda:0')}"
            ]
          },
          "metadata": {},
          "execution_count": 37
        }
      ]
    },
    {
      "cell_type": "code",
      "source": [
        "# 정답레이블 같은 방식으로 Tensor형태로 변환 후 gpu 이동\n",
        "labels = sample['label']\n",
        "labels_tensor = torch.tensor([labels]) # [2] 모양의 tensor 생성\n",
        "labels_tensor = labels_tensor.to(device)\n",
        "labels_tensor"
      ],
      "metadata": {
        "id": "qoBvbJg7Ke0P",
        "colab": {
          "base_uri": "https://localhost:8080/"
        },
        "outputId": "38d3561d-fb0a-409e-fbe8-75fa36ebabf1"
      },
      "execution_count": 38,
      "outputs": [
        {
          "output_type": "execute_result",
          "data": {
            "text/plain": [
              "tensor([2], device='cuda:0')"
            ]
          },
          "metadata": {},
          "execution_count": 38
        }
      ]
    },
    {
      "cell_type": "code",
      "source": [
        "# 학습 직접x\n",
        "# sample 기준으로 추론(예측) -> 평가지표 활용 확인\n",
        "# 학습과정을 중단(gradient 기울 계산중단)\n",
        "\n",
        "with torch.no_grad(): # 기울기 계산 끄기\n",
        "  # 예측\n",
        "  outputs = model(**inputs) # 모델의 입력값을 dict 변환하여 예측 모델에 연결"
      ],
      "metadata": {
        "id": "MksaF0ILtvt1"
      },
      "execution_count": 39,
      "outputs": []
    },
    {
      "cell_type": "code",
      "source": [
        "# 예측 결과인 logits값을 cpu로 가지고 온 후 넘파이 배열로 변환함\n",
        "\n",
        "logits = outputs.logits.cpu().numpy()\n",
        "logits"
      ],
      "metadata": {
        "colab": {
          "base_uri": "https://localhost:8080/"
        },
        "id": "2S0kdM6DvLno",
        "outputId": "842c0d02-aba2-46ae-ad05-eb9f8d7a7c15"
      },
      "execution_count": 43,
      "outputs": [
        {
          "output_type": "execute_result",
          "data": {
            "text/plain": [
              "array([[ 0.08067246,  0.00446174, -0.02823162, -0.08290139, -0.01220636,\n",
              "        -0.00769626,  0.06321328]], dtype=float32)"
            ]
          },
          "metadata": {},
          "execution_count": 43
        }
      ]
    },
    {
      "cell_type": "markdown",
      "source": [
        "- 2. 평가지표 활용"
      ],
      "metadata": {
        "id": "d7_QBWtHvNFu"
      }
    },
    {
      "cell_type": "code",
      "source": [
        "# 평가지표로는 sklearn 활용\n",
        "# sklearn metrics는 cpu 메모리 사용 및 numpy 배열 선호\n",
        "import numpy as np"
      ],
      "metadata": {
        "id": "5YkTyVw0wJ42"
      },
      "execution_count": 41,
      "outputs": []
    },
    {
      "cell_type": "code",
      "source": [
        "# 예측 vs 실제 비교\n",
        "pred = np.argmax(logits) # 최대값 인덱스(=예측 라벨) 추측\n",
        "pred\n",
        "print(\"pred\", pred, \"->\", model.config.id2label[pred])\n",
        "print('actual:', labels, \"->\", model.config.id2label[labels])"
      ],
      "metadata": {
        "colab": {
          "base_uri": "https://localhost:8080/"
        },
        "id": "ug_ZTZ_cwTI5",
        "outputId": "a78a6b30-e743-4075-99f6-89e569ffd274"
      },
      "execution_count": 48,
      "outputs": [
        {
          "output_type": "stream",
          "name": "stdout",
          "text": [
            "pred 0 -> IT과학\n",
            "actual: 2 -> 사회\n"
          ]
        }
      ]
    },
    {
      "cell_type": "code",
      "source": [
        "# 평가지표 불러오기\n",
        "from sklearn.metrics import accuracy_score, precision_recall_fscore_support\n",
        "\n",
        "# precision_recall_fscore_support: 정밀도/재현율/f1-score/샘플개수를 한번에 표현해주는 기능"
      ],
      "metadata": {
        "id": "SIasN-G-xdHx"
      },
      "execution_count": 49,
      "outputs": []
    },
    {
      "cell_type": "code",
      "source": [
        "# logits -> cpu, numpy\n",
        "labels = labels_tensor.cpu().numpy()\n",
        "labels"
      ],
      "metadata": {
        "colab": {
          "base_uri": "https://localhost:8080/"
        },
        "id": "GVUBa2mXyRGX",
        "outputId": "fd02d67a-7ae7-4f89-84f6-2481eb88132d"
      },
      "execution_count": 50,
      "outputs": [
        {
          "output_type": "execute_result",
          "data": {
            "text/plain": [
              "array([2])"
            ]
          },
          "metadata": {},
          "execution_count": 50
        }
      ]
    },
    {
      "cell_type": "code",
      "source": [
        "# 단일 예측값 1차원 array 배열로 변환\n",
        "preds = np.array([pred])\n",
        "preds"
      ],
      "metadata": {
        "colab": {
          "base_uri": "https://localhost:8080/"
        },
        "id": "GXw1b9rJydsv",
        "outputId": "d8f20784-db7e-4bee-f6dc-25de34f5d1c7"
      },
      "execution_count": 51,
      "outputs": [
        {
          "output_type": "execute_result",
          "data": {
            "text/plain": [
              "array([0])"
            ]
          },
          "metadata": {},
          "execution_count": 51
        }
      ]
    },
    {
      "cell_type": "code",
      "source": [
        "# 정확도를 측정해보자\n",
        "acc = accuracy_score(labels, preds)\n",
        "acc"
      ],
      "metadata": {
        "colab": {
          "base_uri": "https://localhost:8080/"
        },
        "id": "ll4HVbsVy3NK",
        "outputId": "1af6693f-34a6-49f5-8750-76344347e6c0"
      },
      "execution_count": 52,
      "outputs": [
        {
          "output_type": "execute_result",
          "data": {
            "text/plain": [
              "0.0"
            ]
          },
          "metadata": {},
          "execution_count": 52
        }
      ]
    },
    {
      "cell_type": "code",
      "source": [
        "# 정밀도, 재현율, f1-score 계산\n",
        "# -- 0\n",
        "prec, rec, f1, _ = precision_recall_fscore_support(\n",
        "    # _: 의미 없는 값을 담을 변수, support(각 클래스별 표본 수)\n",
        "    labels,\n",
        "    preds,\n",
        "    average = 'macro', # 각 클래스별 결과를 계산한 뒤, 모든 클래스를 동일한 비중으로 평균을 내도록\n",
        "    zero_division = 0  # 분모가 0이 되는 경우 결과를 0으로 처리\n",
        ")\n",
        "\n",
        "prec, rec, f1, _"
      ],
      "metadata": {
        "colab": {
          "base_uri": "https://localhost:8080/"
        },
        "id": "0JyRcfXdzE_l",
        "outputId": "7363cac7-0e7c-4a52-f53f-bc90c9bd4c1d"
      },
      "execution_count": 53,
      "outputs": [
        {
          "output_type": "execute_result",
          "data": {
            "text/plain": [
              "(0.0, 0.0, 0.0, None)"
            ]
          },
          "metadata": {},
          "execution_count": 53
        }
      ]
    },
    {
      "cell_type": "markdown",
      "source": [
        "### Trainer에게 전달할 평가지표 함수 정의"
      ],
      "metadata": {
        "id": "nFL2yARGz_N6"
      }
    },
    {
      "cell_type": "code",
      "source": [
        "def compute_metrics(eval_pred):\n",
        "  \"\"\"\n",
        "  Trainer가 사용하는 평가지표 함수\n",
        "  - eval_pred: (logits, labels) 튜플\n",
        "  \"\"\"\n",
        "\n",
        "  logits, labels = eval_pred # unpacking: 튜플로 묶인 2개요소를 각각 하나의 변수로 대입\n",
        "  preds = np.argmax(logits, axis = 1) # axis = 1, 열방향으로 데이터를 비교하면서 최대값이 있는 인덱스 반환\n",
        "\n",
        "  # 정확도\n",
        "  acc = accuracy_score(labels, preds)\n",
        "\n",
        "  # 정밀도, 재현율, f1(macro average)\n",
        "  prec, rec, f1, _ = precision_recall_fscore_support(labels, preds, average = 'macro')\n",
        "  return {\"accuracy\":acc, \"precision\":prec, \"recall\":rec, \"f1\": f1}"
      ],
      "metadata": {
        "id": "kVsVQohy0VoC"
      },
      "execution_count": 54,
      "outputs": []
    },
    {
      "cell_type": "code",
      "source": [
        "# 모델이 한번의 학습(훈련) 과정에서 처리할 데이터 수 정의\n",
        "batch_size = 64\n",
        "\n",
        "# 배치 크기가 크면, 더 많은 데이터를 한번에 처리할 수 있으므로 업데이트 회수는 줄지만, 메모리 사용량 증가\n",
        "# 배치 크기가 작으면, 더 자주 업데이트함, 하나의 배치에서 계산된 손실이 불안정할 수 있음, 메모리 사용량 감소"
      ],
      "metadata": {
        "id": "YYgnrVsH4k6F"
      },
      "execution_count": 55,
      "outputs": []
    },
    {
      "cell_type": "markdown",
      "source": [
        "## 5.Training Arguments 설정"
      ],
      "metadata": {
        "id": "qZAZbV8W5sA2"
      }
    },
    {
      "cell_type": "code",
      "source": [
        "from transformers import TrainingArguments"
      ],
      "metadata": {
        "id": "WcahTpug5y0j"
      },
      "execution_count": 56,
      "outputs": []
    },
    {
      "cell_type": "code",
      "source": [
        "# 학습에 필요한 하이퍼파라미터 및 설정\n",
        "training_args = TrainingArguments(\n",
        "    output_dir = './data/ynay-model',     # 학습 결과(모델 가중치, 체크포인트 등)을 저장할 디렉토리\n",
        "    num_train_epochs = 3,                   # 학습할 에포크(Epoch) 수, 전체 데이터셋을 몇 번 반복하여 학습할지를 설정함\n",
        "    per_device_train_batch_size = batch_size, # 학습 시 사용될 배치 크기\n",
        "    per_device_eval_batch_size = batch_size,  # 검증 시 배치 크기\n",
        "    learning_rate = 5e-5,                    # 학습률 (5e-5=0.00005 : BERT계열 모델에 흔히 쓰이는 값)\n",
        "    eval_strategy = 'epoch',                 # 이벨류에이션 스트레이트지(검증 전략), \"epoch\"로 하면 각 epoch 끝날 때 검증\n",
        "    logging_steps = 50,                       # 학습 중간에 로그를 찍는 간격 (스텝 수)\n",
        "    save_strategy = 'epoch',                  # 모델 저장 전략 (여기서는 epoch마다 저장)\n",
        "    load_best_model_at_end = True,          # True : 검증 성능이 최고인 체크포인트를 마지막에 불러옴\n",
        "    metric_for_best_model = \"accuracy\",      # 최고 모델 판단에 사용할 메트릭 (\"accuracy\"으로 지정)\n",
        "    push_to_hub = False,                    # 학습 후 수동으로 push 예정\n",
        "    report_to = 'none'                   # W&B 비활성화 (W&B 연동 시, 로그를 남기기 위해 API 키 인증을 요구하므로 none 설정)\n",
        "                                              # 24년 10월 경부터 Trainer에 기본값으로 W&B(Weights & Biases)에 실험(run)을 기록하도록 설정되어 있음\n",
        ")"
      ],
      "metadata": {
        "id": "jvbe_JLD6BYJ"
      },
      "execution_count": 57,
      "outputs": []
    },
    {
      "cell_type": "markdown",
      "source": [
        "## 6. Trainer 초기화 & Fine-Tuning(미세조정)\n",
        "- Trainer 클래스: 모델 훈련을 간소화해주는 고수준 API\n",
        "- Training Arguments, 모델, 데이터셋, 데이터 콜레터, 평가함수 등을 인자로 받아 내부에서 학습 루프를 관리하는 유틸리티"
      ],
      "metadata": {
        "id": "k4YepJ0Y8FSq"
      }
    },
    {
      "cell_type": "code",
      "source": [
        "from transformers import Trainer"
      ],
      "metadata": {
        "id": "wSruR5eX8ns2"
      },
      "execution_count": 58,
      "outputs": []
    },
    {
      "cell_type": "code",
      "source": [
        "# 학습 객체 생성\n",
        "trainer = Trainer(\n",
        "    model = model,\n",
        "    args = training_args,\n",
        "    train_dataset = tokenized_datasets['train'],\n",
        "    eval_dataset = tokenized_datasets['validation'],\n",
        "    data_collator = data_collator,\n",
        "    processing_class = tokenizer,\n",
        "    compute_metrics = compute_metrics # 평가지표\n",
        ")"
      ],
      "metadata": {
        "id": "wZ2UCIh-8rRm"
      },
      "execution_count": 59,
      "outputs": []
    },
    {
      "cell_type": "code",
      "source": [
        "# 학습 - 미세조정하며 학습 진행\n",
        "# t4 gpu -\n",
        "trainer.train()"
      ],
      "metadata": {
        "colab": {
          "base_uri": "https://localhost:8080/",
          "height": 255
        },
        "id": "bauE5YNr9YVk",
        "outputId": "2ff47cde-621e-43c7-9a9e-b82f9805b9fc"
      },
      "execution_count": 60,
      "outputs": [
        {
          "output_type": "display_data",
          "data": {
            "text/plain": [
              "<IPython.core.display.HTML object>"
            ],
            "text/html": [
              "\n",
              "    <div>\n",
              "      \n",
              "      <progress value='2142' max='2142' style='width:300px; height:20px; vertical-align: middle;'></progress>\n",
              "      [2142/2142 02:55, Epoch 3/3]\n",
              "    </div>\n",
              "    <table border=\"1\" class=\"dataframe\">\n",
              "  <thead>\n",
              " <tr style=\"text-align: left;\">\n",
              "      <th>Epoch</th>\n",
              "      <th>Training Loss</th>\n",
              "      <th>Validation Loss</th>\n",
              "      <th>Accuracy</th>\n",
              "      <th>Precision</th>\n",
              "      <th>Recall</th>\n",
              "      <th>F1</th>\n",
              "    </tr>\n",
              "  </thead>\n",
              "  <tbody>\n",
              "    <tr>\n",
              "      <td>1</td>\n",
              "      <td>0.390200</td>\n",
              "      <td>0.477671</td>\n",
              "      <td>0.833974</td>\n",
              "      <td>0.809195</td>\n",
              "      <td>0.872512</td>\n",
              "      <td>0.836402</td>\n",
              "    </tr>\n",
              "    <tr>\n",
              "      <td>2</td>\n",
              "      <td>0.297400</td>\n",
              "      <td>0.396020</td>\n",
              "      <td>0.856594</td>\n",
              "      <td>0.847529</td>\n",
              "      <td>0.869116</td>\n",
              "      <td>0.857145</td>\n",
              "    </tr>\n",
              "    <tr>\n",
              "      <td>3</td>\n",
              "      <td>0.215900</td>\n",
              "      <td>0.410736</td>\n",
              "      <td>0.861755</td>\n",
              "      <td>0.852777</td>\n",
              "      <td>0.873568</td>\n",
              "      <td>0.862704</td>\n",
              "    </tr>\n",
              "  </tbody>\n",
              "</table><p>"
            ]
          },
          "metadata": {}
        },
        {
          "output_type": "execute_result",
          "data": {
            "text/plain": [
              "TrainOutput(global_step=2142, training_loss=0.36423377518782984, metrics={'train_runtime': 175.6898, 'train_samples_per_second': 779.977, 'train_steps_per_second': 12.192, 'total_flos': 1616745095802300.0, 'train_loss': 0.36423377518782984, 'epoch': 3.0})"
            ]
          },
          "metadata": {},
          "execution_count": 60
        }
      ]
    },
    {
      "cell_type": "markdown",
      "source": [
        "## 7.모델평가 및 성능 분석\n",
        "- 검증 데이터에 대한 최종 성능을 확인과 함께 혼돈행렬표 관측\n",
        "- trainer.predict로 개별 예측도 진행"
      ],
      "metadata": {
        "id": "6SAGKca09mJK"
      }
    },
    {
      "cell_type": "code",
      "source": [
        "# 검증 셋에 대한 최종 평가\n",
        "metrics = trainer.evaluate()\n",
        "metrics"
      ],
      "metadata": {
        "colab": {
          "base_uri": "https://localhost:8080/",
          "height": 246
        },
        "id": "L6mGyCTqFjlR",
        "outputId": "a255eab8-3aed-4c56-a632-6f7c71f8729a"
      },
      "execution_count": 61,
      "outputs": [
        {
          "output_type": "display_data",
          "data": {
            "text/plain": [
              "<IPython.core.display.HTML object>"
            ],
            "text/html": [
              "\n",
              "    <div>\n",
              "      \n",
              "      <progress value='143' max='143' style='width:300px; height:20px; vertical-align: middle;'></progress>\n",
              "      [143/143 00:03]\n",
              "    </div>\n",
              "    "
            ]
          },
          "metadata": {}
        },
        {
          "output_type": "execute_result",
          "data": {
            "text/plain": [
              "{'eval_loss': 0.4107363522052765,\n",
              " 'eval_accuracy': 0.8617546941912815,\n",
              " 'eval_precision': 0.8527771045397683,\n",
              " 'eval_recall': 0.8735683471729799,\n",
              " 'eval_f1': 0.8627038858868571,\n",
              " 'eval_runtime': 3.7973,\n",
              " 'eval_samples_per_second': 2398.306,\n",
              " 'eval_steps_per_second': 37.659,\n",
              " 'epoch': 3.0}"
            ]
          },
          "metadata": {},
          "execution_count": 61
        }
      ]
    },
    {
      "cell_type": "markdown",
      "source": [
        "- 혼동행렬표를 통해 어떤 주제에서 오분류가 발생하는지 관측"
      ],
      "metadata": {
        "id": "x2PllvsaFptf"
      }
    },
    {
      "cell_type": "code",
      "source": [
        "# 혼동행렬표\n",
        "from sklearn.metrics import confusion_matrix"
      ],
      "metadata": {
        "id": "tMx_pAW2GQLe"
      },
      "execution_count": 62,
      "outputs": []
    },
    {
      "cell_type": "code",
      "source": [
        "# 검증셋으로 예측값 확인\n",
        "pred_results = trainer.predict(tokenized_datasets['validation'])\n",
        "pred_results\n",
        "\n",
        "# PredictionOutput 객체\n",
        "# - predictions: 모델의 raw logits 배열 (샘플의 개수 x 라벨의 수) --> 예측\n",
        "# - label_ids: 실제 레이블 배열 --> 실제\n",
        "# - metrics : 평가 지표 포함"
      ],
      "metadata": {
        "colab": {
          "base_uri": "https://localhost:8080/",
          "height": 386
        },
        "id": "2MGdDLPOGXKi",
        "outputId": "c915684f-c97a-47bc-c1f8-b1a3c9e00945"
      },
      "execution_count": 63,
      "outputs": [
        {
          "output_type": "display_data",
          "data": {
            "text/plain": [
              "<IPython.core.display.HTML object>"
            ],
            "text/html": []
          },
          "metadata": {}
        },
        {
          "output_type": "execute_result",
          "data": {
            "text/plain": [
              "PredictionOutput(predictions=array([[-0.7715609 ,  5.3841767 ,  1.8035575 , ..., -2.8630373 ,\n",
              "        -1.7829418 , -1.877169  ],\n",
              "       [ 1.6628416 , -0.24003378,  4.6036716 , ..., -2.853071  ,\n",
              "        -3.1170726 , -0.685634  ],\n",
              "       [ 5.39956   , -0.03892947, -0.09687607, ..., -1.3114855 ,\n",
              "        -2.0351763 , -2.8670163 ],\n",
              "       ...,\n",
              "       [-1.2217255 ,  5.821796  ,  1.7212732 , ..., -2.4545848 ,\n",
              "        -1.9767869 , -2.0046198 ],\n",
              "       [-1.9337186 , -1.8211256 ,  4.94402   , ..., -2.9507608 ,\n",
              "        -1.8608712 ,  0.5489576 ],\n",
              "       [-0.19380936, -1.1219031 ,  5.1004705 , ..., -2.9671438 ,\n",
              "        -2.443972  , -1.4204676 ]], dtype=float32), label_ids=array([2, 2, 0, ..., 1, 2, 2]), metrics={'test_loss': 0.4107363522052765, 'test_accuracy': 0.8617546941912815, 'test_precision': 0.8527771045397683, 'test_recall': 0.8735683471729799, 'test_f1': 0.8627038858868571, 'test_runtime': 3.9519, 'test_samples_per_second': 2304.461, 'test_steps_per_second': 36.185})"
            ]
          },
          "metadata": {},
          "execution_count": 63
        }
      ]
    },
    {
      "cell_type": "code",
      "source": [
        "# y_true, y_pred\n",
        "y_true = pred_results.label_ids\n",
        "y_true\n",
        "\n",
        "y_pred = np.argmax(pred_results.predictions, axis = 1) # 각 행의 값에서 가장 큰 값의 위치를 반환하도록 설정\n",
        "y_pred"
      ],
      "metadata": {
        "colab": {
          "base_uri": "https://localhost:8080/"
        },
        "id": "0_7zxczAGnVk",
        "outputId": "6e9ac14f-e06d-4ed0-e269-8a62a2bc5e8a"
      },
      "execution_count": 64,
      "outputs": [
        {
          "output_type": "execute_result",
          "data": {
            "text/plain": [
              "array([1, 2, 0, ..., 1, 2, 2])"
            ]
          },
          "metadata": {},
          "execution_count": 64
        }
      ]
    },
    {
      "cell_type": "code",
      "source": [
        "# 혼동행렬표\n",
        "cm = confusion_matrix(y_true, y_pred)\n",
        "cm"
      ],
      "metadata": {
        "colab": {
          "base_uri": "https://localhost:8080/"
        },
        "id": "79nLrDC6HsvI",
        "outputId": "cc23dc54-7e24-4cff-a202-abfc047c2c17"
      },
      "execution_count": 65,
      "outputs": [
        {
          "output_type": "execute_result",
          "data": {
            "text/plain": [
              "array([[ 452,   22,   59,    9,    8,    4,    0],\n",
              "       [  31, 1172,  118,    9,   13,    4,    1],\n",
              "       [  75,  217, 3105,  143,   40,   14,  107],\n",
              "       [  16,   18,  108, 1197,   16,   10,    4],\n",
              "       [   7,   12,   18,   24,  745,   18,   11],\n",
              "       [   0,    1,    8,    3,    4,  562,    0],\n",
              "       [   0,    3,   80,    4,   16,    4,  615]])"
            ]
          },
          "metadata": {},
          "execution_count": 65
        }
      ]
    },
    {
      "cell_type": "code",
      "source": [
        "import matplotlib.pyplot as plt\n",
        "\n",
        "# plt.rc('font', family = \"./data/GULIM.TTC\")      # 기본 폰트로 Gulim 지정\n",
        "# plt.rc('axes', unicode_minus = False) # 마이너스 기호가 깨지지 않도록 설정\n",
        "# 레이블 이름 리스트 생성\n",
        "label_names = ['IT & Science', 'Economy', 'Society', 'Lifestyle & Culture', 'World', 'Sports', 'Politics']\n",
        "label_names\n",
        "# Figure & Axes(그래프 그릴 영역) 생성\n",
        "fig, ax = plt.subplots(figsize=(10, 10)) # 전체 그림 크기를 10×10인치로 지정\n",
        "\n",
        "# 혼동행렬 시각화\n",
        "# ax.imshow: 2D 배열(혼돈행렬)을 컬러맵으로 시각화\n",
        "im = ax.imshow(cm, cmap='Blues') # 파란색 계열 색상표 사용\n",
        "\n",
        "# 컬러바 추가\n",
        "cbar = fig.colorbar(\n",
        "    im,               # 시각화된 이미지 객체\n",
        "    ax = ax,          # 컬러바를 붙일 Axes 지정\n",
        "    fraction = 0.046, # 컬러바 너비 조절\n",
        "    pad = 0.04        # 컬러바 간격 조절\n",
        ")\n",
        "\n",
        "# 컬러바 축의 레이블 설정\n",
        "cbar.ax.set_ylabel(\n",
        "    'Count',        # 레이블 텍스트\n",
        "    rotation = -90, # 레이블 세로 방향으로 회전\n",
        "    va = \"bottom\",  # 수직 정렬을 아래쪽으로\n",
        "    fontsize = 12   # 글자 크기\n",
        ")\n",
        "\n",
        "# 눈금 위치 및 레이블 설정\n",
        "n = len(label_names)                # 레이블 개수\n",
        "ax.set_xticks(np.arange(n)) # 눈금(tick) 위치를 0..n-1로 지정\n",
        "ax.set_yticks(np.arange(n)) # 눈금(tick) 위치를 0..n-1로 지정\n",
        "\n",
        "# 눈금에 표시할 텍스트 지정\n",
        "ax.set_xticklabels(label_names, rotation = 45, ha = \"right\", fontsize = 12) # X축 레이블 45도 회전, 수평 정렬을 오른쪽으로, 글자 크기 12\n",
        "ax.set_yticklabels(label_names, fontsize = 12)\n",
        "\n",
        "# 축 제목 및 메인 타이틀\n",
        "ax.set_xlabel(\"Predicted Label\", fontsize=14)\n",
        "ax.set_ylabel(\"True Label\", fontsize=14)\n",
        "ax.set_title(\"Confusion Matrix (YNAT topic classification)\", fontsize = 16, pad = 20) # 전체 그래프 제목 설정\n",
        "                                                                                      # pad : 제목과 그래프 사이 여백(px)\n",
        "\n",
        "# 각 셀에 값 표시\n",
        "threshold = cm.max() / 2                                     # 셀 색 대비가 어두운지 밝은지 판단 기준\n",
        "for i in range(n):\n",
        "    for j in range(n):\n",
        "        color = \"white\" if cm[i, j] > threshold else \"black\" # 셀 값이 threshold 이상이면 흰색 텍스트, 아니면 검정색\n",
        "        ax.text(j, i, cm[i, j], ha = \"center\", va = \"center\", color = color, fontsize = 11) # ha, va: 수평·수직 정렬 방식\n",
        "\n",
        "# 레이아웃 자동 조정 & 출력\n",
        "plt.tight_layout() # 여백을 자동으로 조절해 레이블 겹침 방지\n",
        "plt.show()"
      ],
      "metadata": {
        "colab": {
          "base_uri": "https://localhost:8080/",
          "height": 1000
        },
        "id": "pVCqoDb-H8oF",
        "outputId": "3f69230b-4180-4cd5-8df7-6ab000601a8d"
      },
      "execution_count": 69,
      "outputs": [
        {
          "output_type": "stream",
          "name": "stderr",
          "text": [
            "WARNING:matplotlib.font_manager:findfont: Font family './data/GULIM.TTC' not found.\n",
            "WARNING:matplotlib.font_manager:findfont: Font family './data/GULIM.TTC' not found.\n",
            "WARNING:matplotlib.font_manager:findfont: Font family './data/GULIM.TTC' not found.\n",
            "WARNING:matplotlib.font_manager:findfont: Font family './data/GULIM.TTC' not found.\n",
            "WARNING:matplotlib.font_manager:findfont: Font family './data/GULIM.TTC' not found.\n",
            "WARNING:matplotlib.font_manager:findfont: Font family './data/GULIM.TTC' not found.\n",
            "WARNING:matplotlib.font_manager:findfont: Font family './data/GULIM.TTC' not found.\n",
            "WARNING:matplotlib.font_manager:findfont: Font family './data/GULIM.TTC' not found.\n",
            "WARNING:matplotlib.font_manager:findfont: Font family './data/GULIM.TTC' not found.\n",
            "WARNING:matplotlib.font_manager:findfont: Font family './data/GULIM.TTC' not found.\n",
            "WARNING:matplotlib.font_manager:findfont: Font family './data/GULIM.TTC' not found.\n",
            "WARNING:matplotlib.font_manager:findfont: Font family './data/GULIM.TTC' not found.\n",
            "WARNING:matplotlib.font_manager:findfont: Font family './data/GULIM.TTC' not found.\n",
            "WARNING:matplotlib.font_manager:findfont: Font family './data/GULIM.TTC' not found.\n",
            "WARNING:matplotlib.font_manager:findfont: Font family './data/GULIM.TTC' not found.\n",
            "WARNING:matplotlib.font_manager:findfont: Font family './data/GULIM.TTC' not found.\n",
            "WARNING:matplotlib.font_manager:findfont: Font family './data/GULIM.TTC' not found.\n",
            "WARNING:matplotlib.font_manager:findfont: Font family './data/GULIM.TTC' not found.\n",
            "WARNING:matplotlib.font_manager:findfont: Font family './data/GULIM.TTC' not found.\n",
            "WARNING:matplotlib.font_manager:findfont: Font family './data/GULIM.TTC' not found.\n",
            "WARNING:matplotlib.font_manager:findfont: Font family './data/GULIM.TTC' not found.\n",
            "WARNING:matplotlib.font_manager:findfont: Font family './data/GULIM.TTC' not found.\n",
            "WARNING:matplotlib.font_manager:findfont: Font family './data/GULIM.TTC' not found.\n",
            "WARNING:matplotlib.font_manager:findfont: Font family './data/GULIM.TTC' not found.\n",
            "WARNING:matplotlib.font_manager:findfont: Font family './data/GULIM.TTC' not found.\n",
            "WARNING:matplotlib.font_manager:findfont: Font family './data/GULIM.TTC' not found.\n",
            "WARNING:matplotlib.font_manager:findfont: Font family './data/GULIM.TTC' not found.\n",
            "WARNING:matplotlib.font_manager:findfont: Font family './data/GULIM.TTC' not found.\n",
            "WARNING:matplotlib.font_manager:findfont: Font family './data/GULIM.TTC' not found.\n",
            "WARNING:matplotlib.font_manager:findfont: Font family './data/GULIM.TTC' not found.\n",
            "WARNING:matplotlib.font_manager:findfont: Font family './data/GULIM.TTC' not found.\n",
            "WARNING:matplotlib.font_manager:findfont: Font family './data/GULIM.TTC' not found.\n",
            "WARNING:matplotlib.font_manager:findfont: Font family './data/GULIM.TTC' not found.\n",
            "WARNING:matplotlib.font_manager:findfont: Font family './data/GULIM.TTC' not found.\n",
            "WARNING:matplotlib.font_manager:findfont: Font family './data/GULIM.TTC' not found.\n",
            "WARNING:matplotlib.font_manager:findfont: Font family './data/GULIM.TTC' not found.\n",
            "WARNING:matplotlib.font_manager:findfont: Font family './data/GULIM.TTC' not found.\n",
            "WARNING:matplotlib.font_manager:findfont: Font family './data/GULIM.TTC' not found.\n",
            "WARNING:matplotlib.font_manager:findfont: Font family './data/GULIM.TTC' not found.\n",
            "WARNING:matplotlib.font_manager:findfont: Font family './data/GULIM.TTC' not found.\n",
            "WARNING:matplotlib.font_manager:findfont: Font family './data/GULIM.TTC' not found.\n",
            "WARNING:matplotlib.font_manager:findfont: Font family './data/GULIM.TTC' not found.\n",
            "WARNING:matplotlib.font_manager:findfont: Font family './data/GULIM.TTC' not found.\n",
            "WARNING:matplotlib.font_manager:findfont: Font family './data/GULIM.TTC' not found.\n",
            "WARNING:matplotlib.font_manager:findfont: Font family './data/GULIM.TTC' not found.\n",
            "WARNING:matplotlib.font_manager:findfont: Font family './data/GULIM.TTC' not found.\n",
            "WARNING:matplotlib.font_manager:findfont: Font family './data/GULIM.TTC' not found.\n",
            "WARNING:matplotlib.font_manager:findfont: Font family './data/GULIM.TTC' not found.\n",
            "WARNING:matplotlib.font_manager:findfont: Font family './data/GULIM.TTC' not found.\n",
            "WARNING:matplotlib.font_manager:findfont: Font family './data/GULIM.TTC' not found.\n",
            "WARNING:matplotlib.font_manager:findfont: Font family './data/GULIM.TTC' not found.\n",
            "WARNING:matplotlib.font_manager:findfont: Font family './data/GULIM.TTC' not found.\n",
            "WARNING:matplotlib.font_manager:findfont: Font family './data/GULIM.TTC' not found.\n",
            "WARNING:matplotlib.font_manager:findfont: Font family './data/GULIM.TTC' not found.\n",
            "WARNING:matplotlib.font_manager:findfont: Font family './data/GULIM.TTC' not found.\n",
            "WARNING:matplotlib.font_manager:findfont: Font family './data/GULIM.TTC' not found.\n",
            "WARNING:matplotlib.font_manager:findfont: Font family './data/GULIM.TTC' not found.\n",
            "WARNING:matplotlib.font_manager:findfont: Font family './data/GULIM.TTC' not found.\n",
            "WARNING:matplotlib.font_manager:findfont: Font family './data/GULIM.TTC' not found.\n",
            "WARNING:matplotlib.font_manager:findfont: Font family './data/GULIM.TTC' not found.\n",
            "WARNING:matplotlib.font_manager:findfont: Font family './data/GULIM.TTC' not found.\n",
            "WARNING:matplotlib.font_manager:findfont: Font family './data/GULIM.TTC' not found.\n",
            "WARNING:matplotlib.font_manager:findfont: Font family './data/GULIM.TTC' not found.\n",
            "WARNING:matplotlib.font_manager:findfont: Font family './data/GULIM.TTC' not found.\n",
            "WARNING:matplotlib.font_manager:findfont: Font family './data/GULIM.TTC' not found.\n",
            "WARNING:matplotlib.font_manager:findfont: Font family './data/GULIM.TTC' not found.\n",
            "WARNING:matplotlib.font_manager:findfont: Font family './data/GULIM.TTC' not found.\n",
            "WARNING:matplotlib.font_manager:findfont: Font family './data/GULIM.TTC' not found.\n",
            "WARNING:matplotlib.font_manager:findfont: Font family './data/GULIM.TTC' not found.\n",
            "WARNING:matplotlib.font_manager:findfont: Font family './data/GULIM.TTC' not found.\n",
            "WARNING:matplotlib.font_manager:findfont: Font family './data/GULIM.TTC' not found.\n",
            "WARNING:matplotlib.font_manager:findfont: Font family './data/GULIM.TTC' not found.\n",
            "WARNING:matplotlib.font_manager:findfont: Font family './data/GULIM.TTC' not found.\n",
            "WARNING:matplotlib.font_manager:findfont: Font family './data/GULIM.TTC' not found.\n",
            "WARNING:matplotlib.font_manager:findfont: Font family './data/GULIM.TTC' not found.\n",
            "WARNING:matplotlib.font_manager:findfont: Font family './data/GULIM.TTC' not found.\n",
            "WARNING:matplotlib.font_manager:findfont: Font family './data/GULIM.TTC' not found.\n",
            "WARNING:matplotlib.font_manager:findfont: Font family './data/GULIM.TTC' not found.\n",
            "WARNING:matplotlib.font_manager:findfont: Font family './data/GULIM.TTC' not found.\n",
            "WARNING:matplotlib.font_manager:findfont: Font family './data/GULIM.TTC' not found.\n",
            "WARNING:matplotlib.font_manager:findfont: Font family './data/GULIM.TTC' not found.\n",
            "WARNING:matplotlib.font_manager:findfont: Font family './data/GULIM.TTC' not found.\n",
            "WARNING:matplotlib.font_manager:findfont: Font family './data/GULIM.TTC' not found.\n",
            "WARNING:matplotlib.font_manager:findfont: Font family './data/GULIM.TTC' not found.\n",
            "WARNING:matplotlib.font_manager:findfont: Font family './data/GULIM.TTC' not found.\n",
            "WARNING:matplotlib.font_manager:findfont: Font family './data/GULIM.TTC' not found.\n",
            "WARNING:matplotlib.font_manager:findfont: Font family './data/GULIM.TTC' not found.\n",
            "WARNING:matplotlib.font_manager:findfont: Font family './data/GULIM.TTC' not found.\n",
            "WARNING:matplotlib.font_manager:findfont: Font family './data/GULIM.TTC' not found.\n",
            "WARNING:matplotlib.font_manager:findfont: Font family './data/GULIM.TTC' not found.\n",
            "WARNING:matplotlib.font_manager:findfont: Font family './data/GULIM.TTC' not found.\n",
            "WARNING:matplotlib.font_manager:findfont: Font family './data/GULIM.TTC' not found.\n",
            "WARNING:matplotlib.font_manager:findfont: Font family './data/GULIM.TTC' not found.\n",
            "WARNING:matplotlib.font_manager:findfont: Font family './data/GULIM.TTC' not found.\n",
            "WARNING:matplotlib.font_manager:findfont: Font family './data/GULIM.TTC' not found.\n",
            "WARNING:matplotlib.font_manager:findfont: Font family './data/GULIM.TTC' not found.\n",
            "WARNING:matplotlib.font_manager:findfont: Font family './data/GULIM.TTC' not found.\n",
            "WARNING:matplotlib.font_manager:findfont: Font family './data/GULIM.TTC' not found.\n",
            "WARNING:matplotlib.font_manager:findfont: Font family './data/GULIM.TTC' not found.\n",
            "WARNING:matplotlib.font_manager:findfont: Font family './data/GULIM.TTC' not found.\n",
            "WARNING:matplotlib.font_manager:findfont: Font family './data/GULIM.TTC' not found.\n",
            "WARNING:matplotlib.font_manager:findfont: Font family './data/GULIM.TTC' not found.\n",
            "WARNING:matplotlib.font_manager:findfont: Font family './data/GULIM.TTC' not found.\n",
            "WARNING:matplotlib.font_manager:findfont: Font family './data/GULIM.TTC' not found.\n",
            "WARNING:matplotlib.font_manager:findfont: Font family './data/GULIM.TTC' not found.\n",
            "WARNING:matplotlib.font_manager:findfont: Font family './data/GULIM.TTC' not found.\n",
            "WARNING:matplotlib.font_manager:findfont: Font family './data/GULIM.TTC' not found.\n",
            "WARNING:matplotlib.font_manager:findfont: Font family './data/GULIM.TTC' not found.\n",
            "WARNING:matplotlib.font_manager:findfont: Font family './data/GULIM.TTC' not found.\n",
            "WARNING:matplotlib.font_manager:findfont: Font family './data/GULIM.TTC' not found.\n",
            "WARNING:matplotlib.font_manager:findfont: Font family './data/GULIM.TTC' not found.\n",
            "WARNING:matplotlib.font_manager:findfont: Font family './data/GULIM.TTC' not found.\n",
            "WARNING:matplotlib.font_manager:findfont: Font family './data/GULIM.TTC' not found.\n",
            "WARNING:matplotlib.font_manager:findfont: Font family './data/GULIM.TTC' not found.\n",
            "WARNING:matplotlib.font_manager:findfont: Font family './data/GULIM.TTC' not found.\n",
            "WARNING:matplotlib.font_manager:findfont: Font family './data/GULIM.TTC' not found.\n",
            "WARNING:matplotlib.font_manager:findfont: Font family './data/GULIM.TTC' not found.\n",
            "WARNING:matplotlib.font_manager:findfont: Font family './data/GULIM.TTC' not found.\n",
            "WARNING:matplotlib.font_manager:findfont: Font family './data/GULIM.TTC' not found.\n",
            "WARNING:matplotlib.font_manager:findfont: Font family './data/GULIM.TTC' not found.\n",
            "WARNING:matplotlib.font_manager:findfont: Font family './data/GULIM.TTC' not found.\n",
            "WARNING:matplotlib.font_manager:findfont: Font family './data/GULIM.TTC' not found.\n",
            "WARNING:matplotlib.font_manager:findfont: Font family './data/GULIM.TTC' not found.\n",
            "WARNING:matplotlib.font_manager:findfont: Font family './data/GULIM.TTC' not found.\n",
            "WARNING:matplotlib.font_manager:findfont: Font family './data/GULIM.TTC' not found.\n",
            "WARNING:matplotlib.font_manager:findfont: Font family './data/GULIM.TTC' not found.\n",
            "WARNING:matplotlib.font_manager:findfont: Font family './data/GULIM.TTC' not found.\n",
            "WARNING:matplotlib.font_manager:findfont: Font family './data/GULIM.TTC' not found.\n",
            "WARNING:matplotlib.font_manager:findfont: Font family './data/GULIM.TTC' not found.\n",
            "WARNING:matplotlib.font_manager:findfont: Font family './data/GULIM.TTC' not found.\n",
            "WARNING:matplotlib.font_manager:findfont: Font family './data/GULIM.TTC' not found.\n",
            "WARNING:matplotlib.font_manager:findfont: Font family './data/GULIM.TTC' not found.\n",
            "WARNING:matplotlib.font_manager:findfont: Font family './data/GULIM.TTC' not found.\n",
            "WARNING:matplotlib.font_manager:findfont: Font family './data/GULIM.TTC' not found.\n",
            "WARNING:matplotlib.font_manager:findfont: Font family './data/GULIM.TTC' not found.\n",
            "WARNING:matplotlib.font_manager:findfont: Font family './data/GULIM.TTC' not found.\n",
            "WARNING:matplotlib.font_manager:findfont: Font family './data/GULIM.TTC' not found.\n",
            "WARNING:matplotlib.font_manager:findfont: Font family './data/GULIM.TTC' not found.\n",
            "WARNING:matplotlib.font_manager:findfont: Font family './data/GULIM.TTC' not found.\n",
            "WARNING:matplotlib.font_manager:findfont: Font family './data/GULIM.TTC' not found.\n",
            "WARNING:matplotlib.font_manager:findfont: Font family './data/GULIM.TTC' not found.\n",
            "WARNING:matplotlib.font_manager:findfont: Font family './data/GULIM.TTC' not found.\n",
            "WARNING:matplotlib.font_manager:findfont: Font family './data/GULIM.TTC' not found.\n",
            "WARNING:matplotlib.font_manager:findfont: Font family './data/GULIM.TTC' not found.\n",
            "WARNING:matplotlib.font_manager:findfont: Font family './data/GULIM.TTC' not found.\n",
            "WARNING:matplotlib.font_manager:findfont: Font family './data/GULIM.TTC' not found.\n",
            "WARNING:matplotlib.font_manager:findfont: Font family './data/GULIM.TTC' not found.\n",
            "WARNING:matplotlib.font_manager:findfont: Font family './data/GULIM.TTC' not found.\n",
            "WARNING:matplotlib.font_manager:findfont: Font family './data/GULIM.TTC' not found.\n",
            "WARNING:matplotlib.font_manager:findfont: Font family './data/GULIM.TTC' not found.\n",
            "WARNING:matplotlib.font_manager:findfont: Font family './data/GULIM.TTC' not found.\n",
            "WARNING:matplotlib.font_manager:findfont: Font family './data/GULIM.TTC' not found.\n",
            "WARNING:matplotlib.font_manager:findfont: Font family './data/GULIM.TTC' not found.\n",
            "WARNING:matplotlib.font_manager:findfont: Font family './data/GULIM.TTC' not found.\n",
            "WARNING:matplotlib.font_manager:findfont: Font family './data/GULIM.TTC' not found.\n",
            "WARNING:matplotlib.font_manager:findfont: Font family './data/GULIM.TTC' not found.\n",
            "WARNING:matplotlib.font_manager:findfont: Font family './data/GULIM.TTC' not found.\n",
            "WARNING:matplotlib.font_manager:findfont: Font family './data/GULIM.TTC' not found.\n",
            "WARNING:matplotlib.font_manager:findfont: Font family './data/GULIM.TTC' not found.\n",
            "WARNING:matplotlib.font_manager:findfont: Font family './data/GULIM.TTC' not found.\n",
            "WARNING:matplotlib.font_manager:findfont: Font family './data/GULIM.TTC' not found.\n",
            "WARNING:matplotlib.font_manager:findfont: Font family './data/GULIM.TTC' not found.\n",
            "WARNING:matplotlib.font_manager:findfont: Font family './data/GULIM.TTC' not found.\n",
            "WARNING:matplotlib.font_manager:findfont: Font family './data/GULIM.TTC' not found.\n",
            "WARNING:matplotlib.font_manager:findfont: Font family './data/GULIM.TTC' not found.\n",
            "WARNING:matplotlib.font_manager:findfont: Font family './data/GULIM.TTC' not found.\n",
            "WARNING:matplotlib.font_manager:findfont: Font family './data/GULIM.TTC' not found.\n",
            "WARNING:matplotlib.font_manager:findfont: Font family './data/GULIM.TTC' not found.\n",
            "WARNING:matplotlib.font_manager:findfont: Font family './data/GULIM.TTC' not found.\n",
            "WARNING:matplotlib.font_manager:findfont: Font family './data/GULIM.TTC' not found.\n",
            "WARNING:matplotlib.font_manager:findfont: Font family './data/GULIM.TTC' not found.\n",
            "WARNING:matplotlib.font_manager:findfont: Font family './data/GULIM.TTC' not found.\n",
            "WARNING:matplotlib.font_manager:findfont: Font family './data/GULIM.TTC' not found.\n",
            "WARNING:matplotlib.font_manager:findfont: Font family './data/GULIM.TTC' not found.\n",
            "WARNING:matplotlib.font_manager:findfont: Font family './data/GULIM.TTC' not found.\n",
            "WARNING:matplotlib.font_manager:findfont: Font family './data/GULIM.TTC' not found.\n",
            "WARNING:matplotlib.font_manager:findfont: Font family './data/GULIM.TTC' not found.\n",
            "WARNING:matplotlib.font_manager:findfont: Font family './data/GULIM.TTC' not found.\n",
            "WARNING:matplotlib.font_manager:findfont: Font family './data/GULIM.TTC' not found.\n",
            "WARNING:matplotlib.font_manager:findfont: Font family './data/GULIM.TTC' not found.\n",
            "WARNING:matplotlib.font_manager:findfont: Font family './data/GULIM.TTC' not found.\n",
            "WARNING:matplotlib.font_manager:findfont: Font family './data/GULIM.TTC' not found.\n",
            "WARNING:matplotlib.font_manager:findfont: Font family './data/GULIM.TTC' not found.\n",
            "WARNING:matplotlib.font_manager:findfont: Font family './data/GULIM.TTC' not found.\n",
            "WARNING:matplotlib.font_manager:findfont: Font family './data/GULIM.TTC' not found.\n",
            "WARNING:matplotlib.font_manager:findfont: Font family './data/GULIM.TTC' not found.\n"
          ]
        },
        {
          "output_type": "display_data",
          "data": {
            "text/plain": [
              "<Figure size 1000x1000 with 2 Axes>"
            ],
            "image/png": "[encoded data removed]"
          },
          "metadata": {}
        }
      ]
    },
    {
      "cell_type": "code",
      "source": [
        "# 전반적성능\n",
        "# - eval_accuracy : 90%, 전체 샘플 중 약 90%를 올바르게 분류\n",
        "# 히트맵 그래프 확인\n",
        "# - 클래스별 정확도 (대각선의 샘플)\n",
        "# - 대부분 대각선에 분포가 된 것을 확인\n",
        "# - 다만, 경제와 사회 분야 헤드라인(뉴스제목)은 구분 모호한 경우도 있는 편\n",
        "# - 생활/문화 헤드라인은 대체적으로 폭넓은 내용을 담고 있어서, 다양한 분류로 오분류가 된 상황\n",
        "# - 각각의 카테고리를 구분할 수 있는 핵심 주제어와 맥락을 연결하여서 좋은 데이터셋으로 학습 해봐도 좋을 듯함"
      ],
      "metadata": {
        "id": "r7gTjqaEIYWN"
      },
      "execution_count": 70,
      "outputs": []
    },
    {
      "cell_type": "markdown",
      "source": [
        "## 8. HuggingFace 허브에 모델 업로드하기\n",
        "- 생성된 모델을 각자의 profile 업로드를 해볼 예정\n",
        "- huggingface 로그인이 필요"
      ],
      "metadata": {
        "id": "SpOCcXicLFnX"
      }
    },
    {
      "cell_type": "code",
      "source": [
        "# Command Line을 통해 로그인 명령 실행\n",
        "!huggingface-cli login"
      ],
      "metadata": {
        "colab": {
          "base_uri": "https://localhost:8080/"
        },
        "id": "IlQrnZycLY83",
        "outputId": "1e213cb2-1913-43e1-cf4d-f28ed0a0845c"
      },
      "execution_count": 71,
      "outputs": [
        {
          "output_type": "stream",
          "name": "stdout",
          "text": [
            "\u001b[33m⚠️  Warning: 'huggingface-cli login' is deprecated. Use 'hf auth login' instead.\u001b[0m\n",
            "\n",
            "    _|    _|  _|    _|    _|_|_|    _|_|_|  _|_|_|  _|      _|    _|_|_|      _|_|_|_|    _|_|      _|_|_|  _|_|_|_|\n",
            "    _|    _|  _|    _|  _|        _|          _|    _|_|    _|  _|            _|        _|    _|  _|        _|\n",
            "    _|_|_|_|  _|    _|  _|  _|_|  _|  _|_|    _|    _|  _|  _|  _|  _|_|      _|_|_|    _|_|_|_|  _|        _|_|_|\n",
            "    _|    _|  _|    _|  _|    _|  _|    _|    _|    _|    _|_|  _|    _|      _|        _|    _|  _|        _|\n",
            "    _|    _|    _|_|      _|_|_|    _|_|_|  _|_|_|  _|      _|    _|_|_|      _|        _|    _|    _|_|_|  _|_|_|_|\n",
            "\n",
            "    To log in, `huggingface_hub` requires a token generated from https://huggingface.co/settings/tokens .\n",
            "Enter your token (input will not be visible): \n",
            "Add token as git credential? (Y/n) y\n",
            "Token is valid (permission: write).\n",
            "The token `ESTCampAI` has been saved to /root/.cache/huggingface/stored_tokens\n",
            "\u001b[1m\u001b[31mCannot authenticate through git-credential as no helper is defined on your machine.\n",
            "You might have to re-authenticate when pushing to the Hugging Face Hub.\n",
            "Run the following command in your terminal in case you want to set the 'store' credential helper as default.\n",
            "\n",
            "git config --global credential.helper store\n",
            "\n",
            "Read https://git-scm.com/book/en/v2/Git-Tools-Credential-Storage for more details.\u001b[0m\n",
            "Token has not been saved to git credential helper.\n",
            "Your token has been saved to /root/.cache/huggingface/token\n",
            "Login successful.\n",
            "The current active token is: `ESTCampAI`\n"
          ]
        }
      ]
    },
    {
      "cell_type": "code",
      "source": [
        "# Hugging Face Hub에 업로드할 때 함께 전달할 메타데이터 정보\n",
        "kwargs = {\n",
        "    \"finetuned_from\": model.config._name_or_path, # 이번에 파인튜닝에 활용한 사전학습 모델 이름/경로\n",
        "    \"tasks\": [\"text-classification\"],             # 이 모델이 수행하는 태스크 종류(여러 개일 경우 리스트로)\n",
        "    \"dataset\": [\"klue-ynat\"],                     # 학습·평가에 사용된 데이터셋 이름\n",
        "    \"tags\": [                                     # 모델을 설명하는 태그들 (모델 검색 시 키워드 역할)\n",
        "        \"text-classification\",\n",
        "        \"KoELECTRA\",\n",
        "        \"Korean-NLP\",\n",
        "        \"topic-classification\",\n",
        "        \"news-classification\"\n",
        "    ],\n",
        "    \"language\": [\"ko\"],                           # 모델이 지원하는 언어 (ISO 코드)\n",
        "}"
      ],
      "metadata": {
        "id": "xfW7pfQBLg_0"
      },
      "execution_count": 72,
      "outputs": []
    },
    {
      "cell_type": "code",
      "source": [
        "# 수동으로 trainer.push_to_hub()을 호출하여 업로드할 수 있음\n",
        "trainer.push_to_hub('ESTCampAI/news-classifier', **kwargs)"
      ],
      "metadata": {
        "colab": {
          "base_uri": "https://localhost:8080/",
          "height": 288,
          "referenced_widgets": [
            "ee55ef32880e497590db94ae231f1afb",
            "56c8427dbffb478da00a6a937c5ed057",
            "eb9ce5d885e14331ae09489350186f43",
            "a608cf830e964ddcb184c214e25e87b7",
            "f8f22ecf2af14966804928fbf97a7fbc",
            "152a9dbaed9c4cfc8edd9585e9360b8c",
            "5f0ae39739034cfead0aef2261cdd0e7",
            "6528a80fe71c4baebebaea07c6d0047e",
            "dd0c720aa21843bfb375f27b852e6b2b",
            "bb9d8dd4c8eb4a73855b24671dad6ed5",
            "964389b2d8bd4acf952b08b8bee92b08",
            "5b845610dfed4bdebecbd8d1785190cc",
            "9c2392ecd876473f923ba6720a880145",
            "0b6057d38d004078b0a4050bad3b1f6b",
            "ec48085713684f3083f8469025495181",
            "c7189db840e1473b89780c2602136f05",
            "537e3b5bed81408b81736f99098517aa",
            "918a1c45f26540c9ae7287327541fab3",
            "e0b1af76c4004746afd466c328b1cebd",
            "82daf104802d41a698e1eddb83b53c94",
            "bf0ede25f0cf4329842f43402e2d6b7f",
            "b52112b9b9a24f1d87c39de62574210b",
            "c524a2f8e633478ab1c80ad2279633f0",
            "c2aa42a6a6ae4996b253b65bada97de8",
            "0727de9ae19641f4afd132b8fd023f07",
            "3ec747803b864ea6835c429b84892a87",
            "6a891842351f4e30b3adcb77428e2356",
            "63a69cc3c61f4300b819d191e3cd43bf",
            "f8c4d50c041c40839ae99c7fc8d62364",
            "0fc5da01dbc144a5b5f5f1d385ec920e",
            "784a41eb054e43058c5c55311ff994fa",
            "00f3b6f0e50046618fb46b35d5355a5b",
            "cc43328f7f1d48c8ad496b37711e9cdc",
            "d72092fe0d7a49209fd2d733266af0ec",
            "cf7308a6658f40cc8ad0e398c1f4692a",
            "7f086ebba29f4cc6ab3831dac49e3bca",
            "08a74e76cf4346adbaad9e4d09321389",
            "ae4d847a9d174d089b52135135716430",
            "46069a6665e64e83ae138bafe45808e2",
            "c1420875b13b4554be9215102d2accd8",
            "5e1dcc0c2d994dacad2ed569a3321583",
            "e387290b382b4909bc0915e0189f53e3",
            "a9c2fe49ee8744a4af79b2a0937d1398",
            "d8f5e6778e1c471a98c6b3950f8b1a7f"
          ]
        },
        "id": "K9_xcj-2O4c9",
        "outputId": "349fb5bc-1f9e-4b14-9653-0a43f45670a5"
      },
      "execution_count": 73,
      "outputs": [
        {
          "output_type": "display_data",
          "data": {
            "text/plain": [
              "Processing Files (0 / 0)      : |          |  0.00B /  0.00B            "
            ],
            "application/vnd.jupyter.widget-view+json": {
              "version_major": 2,
              "version_minor": 0,
              "model_id": "ee55ef32880e497590db94ae231f1afb"
            }
          },
          "metadata": {}
        },
        {
          "output_type": "display_data",
          "data": {
            "text/plain": [
              "New Data Upload               : |          |  0.00B /  0.00B            "
            ],
            "application/vnd.jupyter.widget-view+json": {
              "version_major": 2,
              "version_minor": 0,
              "model_id": "5b845610dfed4bdebecbd8d1785190cc"
            }
          },
          "metadata": {}
        },
        {
          "output_type": "display_data",
          "data": {
            "text/plain": [
              "  ...y-model/model.safetensors:   0%|          |  570kB /  452MB            "
            ],
            "application/vnd.jupyter.widget-view+json": {
              "version_major": 2,
              "version_minor": 0,
              "model_id": "c524a2f8e633478ab1c80ad2279633f0"
            }
          },
          "metadata": {}
        },
        {
          "output_type": "display_data",
          "data": {
            "text/plain": [
              "  ...y-model/training_args.bin:   1%|1         |  65.0B / 5.84kB            "
            ],
            "application/vnd.jupyter.widget-view+json": {
              "version_major": 2,
              "version_minor": 0,
              "model_id": "d72092fe0d7a49209fd2d733266af0ec"
            }
          },
          "metadata": {}
        },
        {
          "output_type": "execute_result",
          "data": {
            "text/plain": [
              "CommitInfo(commit_url='https://huggingface.co/good0neighbour/ynay-model/commit/7e07b0a86c79798386d5b7a01f3299ddf4281448', commit_message='ESTCampAI/news-classifier', commit_description='', oid='7e07b0a86c79798386d5b7a01f3299ddf4281448', pr_url=None, repo_url=RepoUrl('https://huggingface.co/good0neighbour/ynay-model', endpoint='https://huggingface.co', repo_type='model', repo_id='good0neighbour/ynay-model'), pr_revision=None, pr_num=None)"
            ],
            "application/vnd.google.colaboratory.intrinsic+json": {
              "type": "string"
            }
          },
          "metadata": {},
          "execution_count": 73
        }
      ]
    }
  ]
}