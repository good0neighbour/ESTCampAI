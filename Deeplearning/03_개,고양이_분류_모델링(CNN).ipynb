{
  "nbformat": 4,
  "nbformat_minor": 0,
  "metadata": {
    "colab": {
      "provenance": [],
      "authorship_tag": "ABX9TyO83Iblr76KNkfWNnZGW+me",
      "include_colab_link": true
    },
    "kernelspec": {
      "name": "python3",
      "display_name": "Python 3"
    },
    "language_info": {
      "name": "python"
    }
  },
  "cells": [
    {
      "cell_type": "markdown",
      "metadata": {
        "id": "view-in-github",
        "colab_type": "text"
      },
      "source": [
        "<a href=\"https://colab.research.google.com/github/good0neighbour/ESTCampAI/blob/main/Deeplearning/03_%EA%B0%9C%2C%EA%B3%A0%EC%96%91%EC%9D%B4_%EB%B6%84%EB%A5%98_%EB%AA%A8%EB%8D%B8%EB%A7%81(CNN).ipynb\" target=\"_parent\"><img src=\"https://colab.research.google.com/assets/colab-badge.svg\" alt=\"Open In Colab\"/></a>"
      ]
    },
    {
      "cell_type": "code",
      "execution_count": 1,
      "metadata": {
        "id": "cYTPeWMhiy7y",
        "colab": {
          "base_uri": "https://localhost:8080/"
        },
        "outputId": "1b250809-a7b4-40d2-d66f-e1a50c74aaab"
      },
      "outputs": [
        {
          "output_type": "stream",
          "name": "stdout",
          "text": [
            "Mounted at /content/drive\n"
          ]
        }
      ],
      "source": [
        "from google.colab import drive\n",
        "drive.mount(\"/content/drive\")"
      ]
    },
    {
      "cell_type": "code",
      "source": [
        "%cd /content/drive/MyDrive/ESTCampAI/Deeplearning"
      ],
      "metadata": {
        "colab": {
          "base_uri": "https://localhost:8080/"
        },
        "id": "Y3HM6XlM8pyA",
        "outputId": "ad2c682b-23cb-4f37-86bc-4b1a18718f45"
      },
      "execution_count": 2,
      "outputs": [
        {
          "output_type": "stream",
          "name": "stdout",
          "text": [
            "/content/drive/MyDrive/ESTCampAI/Deeplearning\n"
          ]
        }
      ]
    },
    {
      "cell_type": "markdown",
      "source": [
        "### MLP\n",
        "이미지 위치에 민감 → 모든 픽셀을 연산\n",
        "숫자 인식을 하려면 크기, 위치를 비슷하게 해야 가능\n",
        "2. 2차원 이미지를 1차원화하면서(Flatten 사용) 위치 관계에 대한 정보도 잃었음\n",
        "\n",
        "### CNN(Convolutional Neural NetWork)\n",
        "- 특징 부분을 추출\n",
        "- MLP 기반으로 만들어진 모델"
      ],
      "metadata": {
        "id": "gDUpexMU8v0B"
      }
    },
    {
      "cell_type": "markdown",
      "source": [
        "### 목표\n",
        "-MLP, CNN 모델을 활용해서 이미지 분류 모델링 실습\n",
        "  -> 두 모델 성능 비교\n",
        "- 딥러닝 성능을 올릴 수 있는 방법도 배워보자"
      ],
      "metadata": {
        "id": "qUJGAhDb-FxK"
      }
    },
    {
      "cell_type": "code",
      "source": [
        "import numpy as np\n",
        "import pandas as pd\n",
        "import matplotlib.pyplot as plt"
      ],
      "metadata": {
        "id": "tc2nUUdN-Su4"
      },
      "execution_count": 3,
      "outputs": []
    },
    {
      "cell_type": "code",
      "source": [
        "# npz 파일 불러오기\n",
        "data = np.load('./data/np_cat_vs_dogs.npz')"
      ],
      "metadata": {
        "id": "rCaNmph0-Yq1"
      },
      "execution_count": 8,
      "outputs": []
    },
    {
      "cell_type": "code",
      "source": [
        "X_train = data['X_train']\n",
        "X_test = data['X_test']\n",
        "y_train = data['y_train']\n",
        "y_test = data['y_test']"
      ],
      "metadata": {
        "id": "ogcfahX0_SaO"
      },
      "execution_count": 9,
      "outputs": []
    },
    {
      "cell_type": "code",
      "source": [
        "# 모양 확인\n",
        "X_train.shape, X_test.shape, y_train.shape, y_test.shape"
      ],
      "metadata": {
        "colab": {
          "base_uri": "https://localhost:8080/"
        },
        "id": "KaBB2sxT_pNH",
        "outputId": "ff424ac5-67b0-4833-a480-b81c2e9dd4c5"
      },
      "execution_count": 10,
      "outputs": [
        {
          "output_type": "execute_result",
          "data": {
            "text/plain": [
              "((2000, 224, 224, 3), (1000, 224, 224, 3), (2000,), (1000,))"
            ]
          },
          "metadata": {},
          "execution_count": 10
        }
      ]
    },
    {
      "cell_type": "markdown",
      "source": [
        "### MLP 모델링 수행\n",
        "1. 신경망 구조 설계\n",
        "- Flatten 넣어주기\n",
        "- 중간층 : 3개 layer, units = [256, 128, 64], 활성화함수 = 'relu'\n",
        "2. 학습 방법 설정\n",
        "- adam, accuracy\n",
        "- 조기 학습 중단 : val set 5회\n",
        "3. 학습\n",
        "- epochs = 40, validation_split = 30%\n",
        "4. 시각화 train_acc, val_acc"
      ],
      "metadata": {
        "id": "--_j4D0mAJ6N"
      }
    },
    {
      "cell_type": "code",
      "source": [
        "from tensorflow.keras.models import Sequential\n",
        "from tensorflow.keras.layers import InputLayer, Dense, Flatten\n",
        "from tensorflow.keras.callbacks import EarlyStopping\n",
        "\n",
        "model = Sequential()\n",
        "\n",
        "model.add(InputLayer(shape = X_train[0].shape))\n",
        "\n",
        "model.add(Flatten())\n",
        "model.add(Dense(units = 256, activation = 'relu'))\n",
        "model.add(Dense(units = 128, activation = 'relu'))\n",
        "model.add(Dense(units = 64, activation = 'relu'))\n",
        "\n",
        "model.add(Dense(1, activation = \"sigmoid\"))\n",
        "\n",
        "earlyStopping = EarlyStopping(monitor = \"val_accuracy\", patience = 5)\n",
        "\n",
        "model.compile(\n",
        "    optimizer = \"Adam\",\n",
        "    metrics = [\"accuracy\"],\n",
        "    loss = 'binary_crossentropy'\n",
        ")\n",
        "\n",
        "h = model.fit(X_train, y_train, validation_split = 0.3, epochs = 40, callbacks = [earlyStopping])\n",
        "\n",
        "plt.figure(figsize = (10, 3))\n",
        "plt.plot(h.history['accuracy'], label = 'train_acc')\n",
        "plt.plot(h.history['val_accuracy'], label = 'val_acc')\n",
        "plt.legend()\n",
        "plt.show()"
      ],
      "metadata": {
        "colab": {
          "base_uri": "https://localhost:8080/",
          "height": 720
        },
        "id": "wvo0sCxMBNXD",
        "outputId": "ff7c077f-3bff-41b3-a2d4-c89c2bec0c7a"
      },
      "execution_count": 17,
      "outputs": [
        {
          "output_type": "stream",
          "name": "stdout",
          "text": [
            "Epoch 1/40\n",
            "\u001b[1m44/44\u001b[0m \u001b[32m━━━━━━━━━━━━━━━━━━━━\u001b[0m\u001b[37m\u001b[0m \u001b[1m37s\u001b[0m 785ms/step - accuracy: 0.5456 - loss: 2635.8984 - val_accuracy: 0.0100 - val_loss: 2258.4060\n",
            "Epoch 2/40\n",
            "\u001b[1m44/44\u001b[0m \u001b[32m━━━━━━━━━━━━━━━━━━━━\u001b[0m\u001b[37m\u001b[0m \u001b[1m35s\u001b[0m 795ms/step - accuracy: 0.6465 - loss: 651.2771 - val_accuracy: 0.0017 - val_loss: 1828.8263\n",
            "Epoch 3/40\n",
            "\u001b[1m44/44\u001b[0m \u001b[32m━━━━━━━━━━━━━━━━━━━━\u001b[0m\u001b[37m\u001b[0m \u001b[1m35s\u001b[0m 796ms/step - accuracy: 0.6109 - loss: 730.1478 - val_accuracy: 0.0050 - val_loss: 1174.7902\n",
            "Epoch 4/40\n",
            "\u001b[1m44/44\u001b[0m \u001b[32m━━━━━━━━━━━━━━━━━━━━\u001b[0m\u001b[37m\u001b[0m \u001b[1m34s\u001b[0m 782ms/step - accuracy: 0.6077 - loss: 676.4941 - val_accuracy: 0.0000e+00 - val_loss: 6079.1519\n",
            "Epoch 5/40\n",
            "\u001b[1m44/44\u001b[0m \u001b[32m━━━━━━━━━━━━━━━━━━━━\u001b[0m\u001b[37m\u001b[0m \u001b[1m41s\u001b[0m 785ms/step - accuracy: 0.6760 - loss: 572.6281 - val_accuracy: 0.1067 - val_loss: 526.2207\n",
            "Epoch 6/40\n",
            "\u001b[1m44/44\u001b[0m \u001b[32m━━━━━━━━━━━━━━━━━━━━\u001b[0m\u001b[37m\u001b[0m \u001b[1m43s\u001b[0m 830ms/step - accuracy: 0.6802 - loss: 242.7681 - val_accuracy: 0.2750 - val_loss: 322.6151\n",
            "Epoch 7/40\n",
            "\u001b[1m44/44\u001b[0m \u001b[32m━━━━━━━━━━━━━━━━━━━━\u001b[0m\u001b[37m\u001b[0m \u001b[1m42s\u001b[0m 873ms/step - accuracy: 0.6689 - loss: 191.3058 - val_accuracy: 0.0750 - val_loss: 506.4670\n",
            "Epoch 8/40\n",
            "\u001b[1m44/44\u001b[0m \u001b[32m━━━━━━━━━━━━━━━━━━━━\u001b[0m\u001b[37m\u001b[0m \u001b[1m35s\u001b[0m 792ms/step - accuracy: 0.6493 - loss: 239.4389 - val_accuracy: 0.0183 - val_loss: 815.3126\n",
            "Epoch 9/40\n",
            "\u001b[1m44/44\u001b[0m \u001b[32m━━━━━━━━━━━━━━━━━━━━\u001b[0m\u001b[37m\u001b[0m \u001b[1m41s\u001b[0m 795ms/step - accuracy: 0.6900 - loss: 128.3233 - val_accuracy: 0.0117 - val_loss: 711.0142\n",
            "Epoch 10/40\n",
            "\u001b[1m44/44\u001b[0m \u001b[32m━━━━━━━━━━━━━━━━━━━━\u001b[0m\u001b[37m\u001b[0m \u001b[1m35s\u001b[0m 790ms/step - accuracy: 0.6518 - loss: 202.8886 - val_accuracy: 0.2750 - val_loss: 212.7520\n",
            "Epoch 11/40\n",
            "\u001b[1m44/44\u001b[0m \u001b[32m━━━━━━━━━━━━━━━━━━━━\u001b[0m\u001b[37m\u001b[0m \u001b[1m39s\u001b[0m 899ms/step - accuracy: 0.7446 - loss: 70.1777 - val_accuracy: 0.0400 - val_loss: 402.2432\n"
          ]
        },
        {
          "output_type": "display_data",
          "data": {
            "text/plain": [
              "<Figure size 1000x300 with 1 Axes>"
            ],
            "image/png": "[encoded data removed]"
          },
          "metadata": {}
        }
      ]
    },
    {
      "cell_type": "code",
      "source": [],
      "metadata": {
        "id": "w5EDsIZiDclL"
      },
      "execution_count": null,
      "outputs": []
    }
  ]
}